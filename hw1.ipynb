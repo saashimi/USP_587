{
 "cells": [
  {
   "cell_type": "markdown",
   "metadata": {},
   "source": [
    "## Homework 1\n",
    "#### Kevin Saavedra\n",
    "kms22@pdx.edu\n",
    "\n",
    "This assignment was completed using the Python with the Pandas data analysis libary. It was produced in a Jupyter notebook environment running on Anaconda 5.1, which is encouraged at Metro for data sharing and reproducibility purposes, as well as 'realtime' code inputs and outputs.\n",
    "\n",
    "The complete notebook file can be found at: https://github.com/saashimi/USP_587/blob/master/hw1.ipynb.\n",
    "\n",
    "###### Summary Findings\n",
    "The unweighted mean of 1.94 vehicle per households is consistent with personal observations.  There is a notable jump (57%, see Fig 5) in vehicle trips from 1 vehicle households to 2 vehicle households. There appears to be a slight decrease in vehicle trips from 0 vehicle households to 1 vehicle households (Fig 5). A hypothesis is that 0 vehicle households tend to have lower incomes (see .508 correlation in Code block 20 output) and may see an increased number of work trips due to multiple jobs. There is a slight difference in weighted vehicle averages and non-weighted averages, suggesting that collected data is fairly accurate but may be slightly overreported.  In contrast, the weighted transit ridership is slightly higher at 28 percent, compared with the unweighted average of 27 percent. Generally, higher incomes translate to more trips (Fig 6).\n",
    "\n",
    "###### Summary of Issues\n",
    "In the future, I would like to complete this assignment using R instead of a Python/Pandas workflow, as this is more consistent with Metro's practices. However, for the sake of expediency and fluency with the language, I opted to use Python. Nonetheless, when coding for a dataset like this, it's easy to overlook errors without a second set of eyes for QA/QC. I'd like to be more proactive with comparing results going forward.\n",
    "\n",
    "I would like to know more about the built-in functions (e.g. CORR for calculating correlations between data) as I'm not quite sure what is going on under the hood. \n",
    "\n",
    "I am a bit suspicious of the weighted and unweighted RIBUS percentages I calculated (28 percent), as this seems a bit high.  12% is the figure I think is accurate for the Metro Region, but for daily work commuters."
   ]
  },
  {
   "cell_type": "markdown",
   "metadata": {},
   "source": [
    "### 1. Examine the characteristics of the household data set\n",
    "__a) Using appropriate descriptive statistics (mean, median, min and max, standard deviation, frequency/percentage, etc) and visualization techniques (e.g., histogram, bar chart) to describe type of residence(RESTY), income (INCOME), number of vehicles (HHVEH), and number of trips (HTRIPS) in the household data. Pay attention to which descriptive statistics and visualization are appropriate for each variable and think about how best to handle the missing value category (for example, 99 in INCOME).__"
   ]
  },
  {
   "cell_type": "code",
   "execution_count": 57,
   "metadata": {},
   "outputs": [
    {
     "name": "stdout",
     "output_type": "stream",
     "text": [
      "There are 6449 rows and 4 columns in thedataset.\n"
     ]
    },
    {
     "data": {
      "text/html": [
       "<style  type=\"text/css\" >\n",
       "</style>  \n",
       "<table id=\"T_8be53794_496b_11e8_9326_107b4449cbef\" ><caption>Table 1. Summary Statistics of Column `resty`</caption> \n",
       "<thead>    <tr> \n",
       "        <th class=\"blank level0\" ></th> \n",
       "        <th class=\"col_heading level0 col0\" >resty</th> \n",
       "    </tr></thead> \n",
       "<tbody>    <tr> \n",
       "        <th id=\"T_8be53794_496b_11e8_9326_107b4449cbeflevel0_row0\" class=\"row_heading level0 row0\" >count</th> \n",
       "        <td id=\"T_8be53794_496b_11e8_9326_107b4449cbefrow0_col0\" class=\"data row0 col0\" >6449</td> \n",
       "    </tr>    <tr> \n",
       "        <th id=\"T_8be53794_496b_11e8_9326_107b4449cbeflevel0_row1\" class=\"row_heading level0 row1\" >mean</th> \n",
       "        <td id=\"T_8be53794_496b_11e8_9326_107b4449cbefrow1_col0\" class=\"data row1 col0\" >1.40177</td> \n",
       "    </tr>    <tr> \n",
       "        <th id=\"T_8be53794_496b_11e8_9326_107b4449cbeflevel0_row2\" class=\"row_heading level0 row2\" >std</th> \n",
       "        <td id=\"T_8be53794_496b_11e8_9326_107b4449cbefrow2_col0\" class=\"data row2 col0\" >0.852127</td> \n",
       "    </tr>    <tr> \n",
       "        <th id=\"T_8be53794_496b_11e8_9326_107b4449cbeflevel0_row3\" class=\"row_heading level0 row3\" >min</th> \n",
       "        <td id=\"T_8be53794_496b_11e8_9326_107b4449cbefrow3_col0\" class=\"data row3 col0\" >1</td> \n",
       "    </tr>    <tr> \n",
       "        <th id=\"T_8be53794_496b_11e8_9326_107b4449cbeflevel0_row4\" class=\"row_heading level0 row4\" >25%</th> \n",
       "        <td id=\"T_8be53794_496b_11e8_9326_107b4449cbefrow4_col0\" class=\"data row4 col0\" >1</td> \n",
       "    </tr>    <tr> \n",
       "        <th id=\"T_8be53794_496b_11e8_9326_107b4449cbeflevel0_row5\" class=\"row_heading level0 row5\" >50%</th> \n",
       "        <td id=\"T_8be53794_496b_11e8_9326_107b4449cbefrow5_col0\" class=\"data row5 col0\" >1</td> \n",
       "    </tr>    <tr> \n",
       "        <th id=\"T_8be53794_496b_11e8_9326_107b4449cbeflevel0_row6\" class=\"row_heading level0 row6\" >75%</th> \n",
       "        <td id=\"T_8be53794_496b_11e8_9326_107b4449cbefrow6_col0\" class=\"data row6 col0\" >1</td> \n",
       "    </tr>    <tr> \n",
       "        <th id=\"T_8be53794_496b_11e8_9326_107b4449cbeflevel0_row7\" class=\"row_heading level0 row7\" >max</th> \n",
       "        <td id=\"T_8be53794_496b_11e8_9326_107b4449cbefrow7_col0\" class=\"data row7 col0\" >9</td> \n",
       "    </tr></tbody> \n",
       "</table> "
      ],
      "text/plain": [
       "<pandas.io.formats.style.Styler at 0x22ea3381940>"
      ]
     },
     "execution_count": 57,
     "metadata": {},
     "output_type": "execute_result"
    }
   ],
   "source": [
    "# Code block 1\n",
    "import os\n",
    "import pandas as pd\n",
    "import numpy as np\n",
    "import matplotlib.pyplot as plt\n",
    "import warnings\n",
    "warnings.filterwarnings('ignore')\n",
    "\n",
    "#wd = '/Users/kevin/Desktop/USP_587_data/OHAS_v2/'\n",
    "wd = 'C:/Users/saavedrak/Desktop/USP_587_data/OHAS_v2/'\n",
    "#wd = 'C:/Users/kevin/Desktop/USP_587_data/OHAS_v2/'\n",
    "\n",
    "df = pd.read_csv(os.path.join(\n",
    "    os.path.dirname(\"__file__\"), \n",
    "    wd + 'household.csv'), usecols=['resty', 'income', 'hhveh', 'htrips'])\n",
    "\n",
    "# Count number of rows/columns in dataset:\n",
    "print(\"There are {} rows and {} columns in the\" \\\n",
    "      \"dataset.\".format(df.shape[0], df.shape[1]))\n",
    "\n",
    "df_resty = df\n",
    "df_resty['resty'].describe().to_frame().style.set_caption(\n",
    "    'Table 1. Summary Statistics of Column `resty`')"
   ]
  },
  {
   "cell_type": "code",
   "execution_count": 58,
   "metadata": {},
   "outputs": [
    {
     "data": {
      "image/png": "[encoded data removed]",
      "text/plain": [
       "<Figure size 432x288 with 1 Axes>"
      ]
     },
     "metadata": {},
     "output_type": "display_data"
    }
   ],
   "source": [
    "# Code block 2\n",
    "grouped = df_resty.groupby(['resty'])['resty'].count().to_frame()\n",
    "grouped.plot.bar();\n",
    "plt.title('Fig 1. Frequency of `resty` Data');\n",
    "plt.ylabel('Frequency');\n",
    "plt.xlabel('Residence Codes');"
   ]
  },
  {
   "cell_type": "code",
   "execution_count": 59,
   "metadata": {},
   "outputs": [
    {
     "data": {
      "text/html": [
       "<style  type=\"text/css\" >\n",
       "</style>  \n",
       "<table id=\"T_8bf43180_496b_11e8_be0a_107b4449cbef\" ><caption>Table 2. Summary Statistics of Column `income`</caption> \n",
       "<thead>    <tr> \n",
       "        <th class=\"blank level0\" ></th> \n",
       "        <th class=\"col_heading level0 col0\" >income</th> \n",
       "    </tr></thead> \n",
       "<tbody>    <tr> \n",
       "        <th id=\"T_8bf43180_496b_11e8_be0a_107b4449cbeflevel0_row0\" class=\"row_heading level0 row0\" >count</th> \n",
       "        <td id=\"T_8bf43180_496b_11e8_be0a_107b4449cbefrow0_col0\" class=\"data row0 col0\" >6019</td> \n",
       "    </tr>    <tr> \n",
       "        <th id=\"T_8bf43180_496b_11e8_be0a_107b4449cbeflevel0_row1\" class=\"row_heading level0 row1\" >mean</th> \n",
       "        <td id=\"T_8bf43180_496b_11e8_be0a_107b4449cbefrow1_col0\" class=\"data row1 col0\" >5.05616</td> \n",
       "    </tr>    <tr> \n",
       "        <th id=\"T_8bf43180_496b_11e8_be0a_107b4449cbeflevel0_row2\" class=\"row_heading level0 row2\" >std</th> \n",
       "        <td id=\"T_8bf43180_496b_11e8_be0a_107b4449cbefrow2_col0\" class=\"data row2 col0\" >1.91134</td> \n",
       "    </tr>    <tr> \n",
       "        <th id=\"T_8bf43180_496b_11e8_be0a_107b4449cbeflevel0_row3\" class=\"row_heading level0 row3\" >min</th> \n",
       "        <td id=\"T_8bf43180_496b_11e8_be0a_107b4449cbefrow3_col0\" class=\"data row3 col0\" >1</td> \n",
       "    </tr>    <tr> \n",
       "        <th id=\"T_8bf43180_496b_11e8_be0a_107b4449cbeflevel0_row4\" class=\"row_heading level0 row4\" >25%</th> \n",
       "        <td id=\"T_8bf43180_496b_11e8_be0a_107b4449cbefrow4_col0\" class=\"data row4 col0\" >4</td> \n",
       "    </tr>    <tr> \n",
       "        <th id=\"T_8bf43180_496b_11e8_be0a_107b4449cbeflevel0_row5\" class=\"row_heading level0 row5\" >50%</th> \n",
       "        <td id=\"T_8bf43180_496b_11e8_be0a_107b4449cbefrow5_col0\" class=\"data row5 col0\" >5</td> \n",
       "    </tr>    <tr> \n",
       "        <th id=\"T_8bf43180_496b_11e8_be0a_107b4449cbeflevel0_row6\" class=\"row_heading level0 row6\" >75%</th> \n",
       "        <td id=\"T_8bf43180_496b_11e8_be0a_107b4449cbefrow6_col0\" class=\"data row6 col0\" >7</td> \n",
       "    </tr>    <tr> \n",
       "        <th id=\"T_8bf43180_496b_11e8_be0a_107b4449cbeflevel0_row7\" class=\"row_heading level0 row7\" >max</th> \n",
       "        <td id=\"T_8bf43180_496b_11e8_be0a_107b4449cbefrow7_col0\" class=\"data row7 col0\" >8</td> \n",
       "    </tr></tbody> \n",
       "</table> "
      ],
      "text/plain": [
       "<pandas.io.formats.style.Styler at 0x22ea37aec18>"
      ]
     },
     "execution_count": 59,
     "metadata": {},
     "output_type": "execute_result"
    }
   ],
   "source": [
    "# Code block 3\n",
    "# Exclude responses of 99 'REFUSED'\n",
    "df_inc = df.loc[df['income'] != 99]\n",
    "df_inc['income'].describe().to_frame().style.set_caption(\n",
    "    'Table 2. Summary Statistics of Column `income`')"
   ]
  },
  {
   "cell_type": "code",
   "execution_count": 60,
   "metadata": {},
   "outputs": [
    {
     "data": {
      "image/png": "[encoded data removed]",
      "text/plain": [
       "<Figure size 432x288 with 1 Axes>"
      ]
     },
     "metadata": {},
     "output_type": "display_data"
    }
   ],
   "source": [
    "# Code block 4\n",
    "grouped = df_inc.groupby(['income'])['income'].count().to_frame()\n",
    "grouped.plot.bar();\n",
    "plt.title('Fig 2. Income Categories by Number of Respondents')\n",
    "plt.ylabel('Counts');\n",
    "plt.xlabel('Income Category');"
   ]
  },
  {
   "cell_type": "code",
   "execution_count": 61,
   "metadata": {},
   "outputs": [
    {
     "data": {
      "text/html": [
       "<style  type=\"text/css\" >\n",
       "</style>  \n",
       "<table id=\"T_8c04d486_496b_11e8_83ca_107b4449cbef\" ><caption>Table 3. Summary Statistics of Column `hhveh`</caption> \n",
       "<thead>    <tr> \n",
       "        <th class=\"blank level0\" ></th> \n",
       "        <th class=\"col_heading level0 col0\" >hhveh</th> \n",
       "    </tr></thead> \n",
       "<tbody>    <tr> \n",
       "        <th id=\"T_8c04d486_496b_11e8_83ca_107b4449cbeflevel0_row0\" class=\"row_heading level0 row0\" >count</th> \n",
       "        <td id=\"T_8c04d486_496b_11e8_83ca_107b4449cbefrow0_col0\" class=\"data row0 col0\" >6449</td> \n",
       "    </tr>    <tr> \n",
       "        <th id=\"T_8c04d486_496b_11e8_83ca_107b4449cbeflevel0_row1\" class=\"row_heading level0 row1\" >mean</th> \n",
       "        <td id=\"T_8c04d486_496b_11e8_83ca_107b4449cbefrow1_col0\" class=\"data row1 col0\" >1.94821</td> \n",
       "    </tr>    <tr> \n",
       "        <th id=\"T_8c04d486_496b_11e8_83ca_107b4449cbeflevel0_row2\" class=\"row_heading level0 row2\" >std</th> \n",
       "        <td id=\"T_8c04d486_496b_11e8_83ca_107b4449cbefrow2_col0\" class=\"data row2 col0\" >1.12417</td> \n",
       "    </tr>    <tr> \n",
       "        <th id=\"T_8c04d486_496b_11e8_83ca_107b4449cbeflevel0_row3\" class=\"row_heading level0 row3\" >min</th> \n",
       "        <td id=\"T_8c04d486_496b_11e8_83ca_107b4449cbefrow3_col0\" class=\"data row3 col0\" >0</td> \n",
       "    </tr>    <tr> \n",
       "        <th id=\"T_8c04d486_496b_11e8_83ca_107b4449cbeflevel0_row4\" class=\"row_heading level0 row4\" >25%</th> \n",
       "        <td id=\"T_8c04d486_496b_11e8_83ca_107b4449cbefrow4_col0\" class=\"data row4 col0\" >1</td> \n",
       "    </tr>    <tr> \n",
       "        <th id=\"T_8c04d486_496b_11e8_83ca_107b4449cbeflevel0_row5\" class=\"row_heading level0 row5\" >50%</th> \n",
       "        <td id=\"T_8c04d486_496b_11e8_83ca_107b4449cbefrow5_col0\" class=\"data row5 col0\" >2</td> \n",
       "    </tr>    <tr> \n",
       "        <th id=\"T_8c04d486_496b_11e8_83ca_107b4449cbeflevel0_row6\" class=\"row_heading level0 row6\" >75%</th> \n",
       "        <td id=\"T_8c04d486_496b_11e8_83ca_107b4449cbefrow6_col0\" class=\"data row6 col0\" >2</td> \n",
       "    </tr>    <tr> \n",
       "        <th id=\"T_8c04d486_496b_11e8_83ca_107b4449cbeflevel0_row7\" class=\"row_heading level0 row7\" >max</th> \n",
       "        <td id=\"T_8c04d486_496b_11e8_83ca_107b4449cbefrow7_col0\" class=\"data row7 col0\" >8</td> \n",
       "    </tr></tbody> \n",
       "</table> "
      ],
      "text/plain": [
       "<pandas.io.formats.style.Styler at 0x22ea359a9e8>"
      ]
     },
     "execution_count": 61,
     "metadata": {},
     "output_type": "execute_result"
    }
   ],
   "source": [
    "# Code block 5\n",
    "df_veh = df.loc[df['hhveh'] != 99]\n",
    "df_veh['hhveh'].describe().to_frame().style.set_caption(\n",
    "    'Table 3. Summary Statistics of Column `hhveh`')"
   ]
  },
  {
   "cell_type": "code",
   "execution_count": 62,
   "metadata": {},
   "outputs": [
    {
     "data": {
      "image/png": "[encoded data removed]",
      "text/plain": [
       "<Figure size 432x288 with 1 Axes>"
      ]
     },
     "metadata": {},
     "output_type": "display_data"
    }
   ],
   "source": [
    "# Code block 6\n",
    "grouped = df_veh.groupby(['hhveh'])['hhveh'].count().to_frame()\n",
    "grouped.plot.bar();\n",
    "plt.title('Fig 3. Counts of Households per Household Vehicles')\n",
    "plt.ylabel('Counts of Households');\n",
    "plt.xlabel('Number of Vehicles per Household');"
   ]
  },
  {
   "cell_type": "code",
   "execution_count": 63,
   "metadata": {},
   "outputs": [
    {
     "data": {
      "text/html": [
       "<style  type=\"text/css\" >\n",
       "</style>  \n",
       "<table id=\"T_8c157cb8_496b_11e8_a2ac_107b4449cbef\" ><caption>Table 4. Summary Statistics of Column `htrips`</caption> \n",
       "<thead>    <tr> \n",
       "        <th class=\"blank level0\" ></th> \n",
       "        <th class=\"col_heading level0 col0\" >htrips</th> \n",
       "    </tr></thead> \n",
       "<tbody>    <tr> \n",
       "        <th id=\"T_8c157cb8_496b_11e8_a2ac_107b4449cbeflevel0_row0\" class=\"row_heading level0 row0\" >count</th> \n",
       "        <td id=\"T_8c157cb8_496b_11e8_a2ac_107b4449cbefrow0_col0\" class=\"data row0 col0\" >6449</td> \n",
       "    </tr>    <tr> \n",
       "        <th id=\"T_8c157cb8_496b_11e8_a2ac_107b4449cbeflevel0_row1\" class=\"row_heading level0 row1\" >mean</th> \n",
       "        <td id=\"T_8c157cb8_496b_11e8_a2ac_107b4449cbefrow1_col0\" class=\"data row1 col0\" >9.81517</td> \n",
       "    </tr>    <tr> \n",
       "        <th id=\"T_8c157cb8_496b_11e8_a2ac_107b4449cbeflevel0_row2\" class=\"row_heading level0 row2\" >std</th> \n",
       "        <td id=\"T_8c157cb8_496b_11e8_a2ac_107b4449cbefrow2_col0\" class=\"data row2 col0\" >7.81912</td> \n",
       "    </tr>    <tr> \n",
       "        <th id=\"T_8c157cb8_496b_11e8_a2ac_107b4449cbeflevel0_row3\" class=\"row_heading level0 row3\" >min</th> \n",
       "        <td id=\"T_8c157cb8_496b_11e8_a2ac_107b4449cbefrow3_col0\" class=\"data row3 col0\" >0</td> \n",
       "    </tr>    <tr> \n",
       "        <th id=\"T_8c157cb8_496b_11e8_a2ac_107b4449cbeflevel0_row4\" class=\"row_heading level0 row4\" >25%</th> \n",
       "        <td id=\"T_8c157cb8_496b_11e8_a2ac_107b4449cbefrow4_col0\" class=\"data row4 col0\" >4</td> \n",
       "    </tr>    <tr> \n",
       "        <th id=\"T_8c157cb8_496b_11e8_a2ac_107b4449cbeflevel0_row5\" class=\"row_heading level0 row5\" >50%</th> \n",
       "        <td id=\"T_8c157cb8_496b_11e8_a2ac_107b4449cbefrow5_col0\" class=\"data row5 col0\" >8</td> \n",
       "    </tr>    <tr> \n",
       "        <th id=\"T_8c157cb8_496b_11e8_a2ac_107b4449cbeflevel0_row6\" class=\"row_heading level0 row6\" >75%</th> \n",
       "        <td id=\"T_8c157cb8_496b_11e8_a2ac_107b4449cbefrow6_col0\" class=\"data row6 col0\" >14</td> \n",
       "    </tr>    <tr> \n",
       "        <th id=\"T_8c157cb8_496b_11e8_a2ac_107b4449cbeflevel0_row7\" class=\"row_heading level0 row7\" >max</th> \n",
       "        <td id=\"T_8c157cb8_496b_11e8_a2ac_107b4449cbefrow7_col0\" class=\"data row7 col0\" >81</td> \n",
       "    </tr></tbody> \n",
       "</table> "
      ],
      "text/plain": [
       "<pandas.io.formats.style.Styler at 0x22ea2ed4f98>"
      ]
     },
     "execution_count": 63,
     "metadata": {},
     "output_type": "execute_result"
    }
   ],
   "source": [
    "df['htrips'].describe().to_frame().style.set_caption(\n",
    "    'Table 4. Summary Statistics of Column `htrips`')"
   ]
  },
  {
   "cell_type": "markdown",
   "metadata": {},
   "source": [
    "__b) Calculate average number of trips, first by number of vehicles and then by Income. Based on your calculation, how do you describe the relationship between number of vehicles and number of trips? Income and number of trips?__"
   ]
  },
  {
   "cell_type": "code",
   "execution_count": 64,
   "metadata": {},
   "outputs": [
    {
     "data": {
      "image/png": "[encoded data removed]",
      "text/plain": [
       "<Figure size 1440x720 with 1 Axes>"
      ]
     },
     "metadata": {},
     "output_type": "display_data"
    }
   ],
   "source": [
    "# Code block 7\n",
    "grouped = df_veh.groupby(['htrips'])['htrips'].count().to_frame()\n",
    "grouped.plot.bar(figsize=(20,10));\n",
    "plt.title('Fig 4. Frequency of Number of Household Trips')\n",
    "plt.ylabel('Frequency');\n",
    "plt.xlabel('Number of Household Trips');"
   ]
  },
  {
   "cell_type": "markdown",
   "metadata": {},
   "source": [
    "__b) Calculate average number of trips, first by number of vehicles...__"
   ]
  },
  {
   "cell_type": "code",
   "execution_count": 65,
   "metadata": {},
   "outputs": [
    {
     "data": {
      "text/html": [
       "<style  type=\"text/css\" >\n",
       "</style>  \n",
       "<table id=\"T_8c5473c6_496b_11e8_ba96_107b4449cbef\" ><caption>Table 5. Average Trips by Total Number of Household Vehicles</caption> \n",
       "<thead>    <tr> \n",
       "        <th class=\"blank level0\" ></th> \n",
       "        <th class=\"col_heading level0 col0\" >htrips_avg</th> \n",
       "    </tr>    <tr> \n",
       "        <th class=\"index_name level0\" >hhveh</th> \n",
       "        <th class=\"blank\" ></th> \n",
       "    </tr></thead> \n",
       "<tbody>    <tr> \n",
       "        <th id=\"T_8c5473c6_496b_11e8_ba96_107b4449cbeflevel0_row0\" class=\"row_heading level0 row0\" >0</th> \n",
       "        <td id=\"T_8c5473c6_496b_11e8_ba96_107b4449cbefrow0_col0\" class=\"data row0 col0\" >7.92507</td> \n",
       "    </tr>    <tr> \n",
       "        <th id=\"T_8c5473c6_496b_11e8_ba96_107b4449cbeflevel0_row1\" class=\"row_heading level0 row1\" >1</th> \n",
       "        <td id=\"T_8c5473c6_496b_11e8_ba96_107b4449cbefrow1_col0\" class=\"data row1 col0\" >6.98894</td> \n",
       "    </tr>    <tr> \n",
       "        <th id=\"T_8c5473c6_496b_11e8_ba96_107b4449cbeflevel0_row2\" class=\"row_heading level0 row2\" >2</th> \n",
       "        <td id=\"T_8c5473c6_496b_11e8_ba96_107b4449cbefrow2_col0\" class=\"data row2 col0\" >11.0666</td> \n",
       "    </tr>    <tr> \n",
       "        <th id=\"T_8c5473c6_496b_11e8_ba96_107b4449cbeflevel0_row3\" class=\"row_heading level0 row3\" >3</th> \n",
       "        <td id=\"T_8c5473c6_496b_11e8_ba96_107b4449cbefrow3_col0\" class=\"data row3 col0\" >11.666</td> \n",
       "    </tr>    <tr> \n",
       "        <th id=\"T_8c5473c6_496b_11e8_ba96_107b4449cbeflevel0_row4\" class=\"row_heading level0 row4\" >4</th> \n",
       "        <td id=\"T_8c5473c6_496b_11e8_ba96_107b4449cbefrow4_col0\" class=\"data row4 col0\" >12.1603</td> \n",
       "    </tr>    <tr> \n",
       "        <th id=\"T_8c5473c6_496b_11e8_ba96_107b4449cbeflevel0_row5\" class=\"row_heading level0 row5\" >5</th> \n",
       "        <td id=\"T_8c5473c6_496b_11e8_ba96_107b4449cbefrow5_col0\" class=\"data row5 col0\" >12.3774</td> \n",
       "    </tr>    <tr> \n",
       "        <th id=\"T_8c5473c6_496b_11e8_ba96_107b4449cbeflevel0_row6\" class=\"row_heading level0 row6\" >6</th> \n",
       "        <td id=\"T_8c5473c6_496b_11e8_ba96_107b4449cbefrow6_col0\" class=\"data row6 col0\" >10.907</td> \n",
       "    </tr>    <tr> \n",
       "        <th id=\"T_8c5473c6_496b_11e8_ba96_107b4449cbeflevel0_row7\" class=\"row_heading level0 row7\" >7</th> \n",
       "        <td id=\"T_8c5473c6_496b_11e8_ba96_107b4449cbefrow7_col0\" class=\"data row7 col0\" >13.4167</td> \n",
       "    </tr>    <tr> \n",
       "        <th id=\"T_8c5473c6_496b_11e8_ba96_107b4449cbeflevel0_row8\" class=\"row_heading level0 row8\" >8</th> \n",
       "        <td id=\"T_8c5473c6_496b_11e8_ba96_107b4449cbefrow8_col0\" class=\"data row8 col0\" >8.91667</td> \n",
       "    </tr></tbody> \n",
       "</table> "
      ],
      "text/plain": [
       "<pandas.io.formats.style.Styler at 0x22ea33cdf98>"
      ]
     },
     "execution_count": 65,
     "metadata": {},
     "output_type": "execute_result"
    }
   ],
   "source": [
    "# Code block 8\n",
    "df_veh1 = df.groupby(['hhveh'])['htrips'].mean().to_frame(\n",
    "    'htrips_avg')\n",
    "df_veh1.style.set_caption(\n",
    "    'Table 5. Average Trips by Total Number of Household Vehicles')"
   ]
  },
  {
   "cell_type": "code",
   "execution_count": 66,
   "metadata": {},
   "outputs": [
    {
     "data": {
      "image/png": "[encoded data removed]",
      "text/plain": [
       "<Figure size 432x288 with 1 Axes>"
      ]
     },
     "metadata": {},
     "output_type": "display_data"
    }
   ],
   "source": [
    "# Code block 9\n",
    "df_veh1.plot.bar();\n",
    "plt.title('Fig 5. Average Trips by Total Number of Household Vehicles');\n",
    "plt.xlabel('Total Household Vehicles');\n",
    "plt.ylabel('Average Number of Trips');"
   ]
  },
  {
   "cell_type": "markdown",
   "metadata": {},
   "source": [
    "__...and then by Income.__"
   ]
  },
  {
   "cell_type": "code",
   "execution_count": 67,
   "metadata": {},
   "outputs": [
    {
     "data": {
      "text/html": [
       "<style  type=\"text/css\" >\n",
       "</style>  \n",
       "<table id=\"T_8c65b758_496b_11e8_ad65_107b4449cbef\" ><caption>Table 6. Average Number of Trips per Household by Income Category (Excludes refusals)</caption> \n",
       "<thead>    <tr> \n",
       "        <th class=\"blank level0\" ></th> \n",
       "        <th class=\"col_heading level0 col0\" >htrips_avg</th> \n",
       "    </tr>    <tr> \n",
       "        <th class=\"index_name level0\" >income</th> \n",
       "        <th class=\"blank\" ></th> \n",
       "    </tr></thead> \n",
       "<tbody>    <tr> \n",
       "        <th id=\"T_8c65b758_496b_11e8_ad65_107b4449cbeflevel0_row0\" class=\"row_heading level0 row0\" >1</th> \n",
       "        <td id=\"T_8c65b758_496b_11e8_ad65_107b4449cbefrow0_col0\" class=\"data row0 col0\" >6.35987</td> \n",
       "    </tr>    <tr> \n",
       "        <th id=\"T_8c65b758_496b_11e8_ad65_107b4449cbeflevel0_row1\" class=\"row_heading level0 row1\" >2</th> \n",
       "        <td id=\"T_8c65b758_496b_11e8_ad65_107b4449cbefrow1_col0\" class=\"data row1 col0\" >6.83711</td> \n",
       "    </tr>    <tr> \n",
       "        <th id=\"T_8c65b758_496b_11e8_ad65_107b4449cbeflevel0_row2\" class=\"row_heading level0 row2\" >3</th> \n",
       "        <td id=\"T_8c65b758_496b_11e8_ad65_107b4449cbefrow2_col0\" class=\"data row2 col0\" >6.82881</td> \n",
       "    </tr>    <tr> \n",
       "        <th id=\"T_8c65b758_496b_11e8_ad65_107b4449cbeflevel0_row3\" class=\"row_heading level0 row3\" >4</th> \n",
       "        <td id=\"T_8c65b758_496b_11e8_ad65_107b4449cbefrow3_col0\" class=\"data row3 col0\" >8.07941</td> \n",
       "    </tr>    <tr> \n",
       "        <th id=\"T_8c65b758_496b_11e8_ad65_107b4449cbeflevel0_row4\" class=\"row_heading level0 row4\" >5</th> \n",
       "        <td id=\"T_8c65b758_496b_11e8_ad65_107b4449cbefrow4_col0\" class=\"data row4 col0\" >9.67752</td> \n",
       "    </tr>    <tr> \n",
       "        <th id=\"T_8c65b758_496b_11e8_ad65_107b4449cbeflevel0_row5\" class=\"row_heading level0 row5\" >6</th> \n",
       "        <td id=\"T_8c65b758_496b_11e8_ad65_107b4449cbefrow5_col0\" class=\"data row5 col0\" >11.2416</td> \n",
       "    </tr>    <tr> \n",
       "        <th id=\"T_8c65b758_496b_11e8_ad65_107b4449cbeflevel0_row6\" class=\"row_heading level0 row6\" >7</th> \n",
       "        <td id=\"T_8c65b758_496b_11e8_ad65_107b4449cbefrow6_col0\" class=\"data row6 col0\" >12.2448</td> \n",
       "    </tr>    <tr> \n",
       "        <th id=\"T_8c65b758_496b_11e8_ad65_107b4449cbeflevel0_row7\" class=\"row_heading level0 row7\" >8</th> \n",
       "        <td id=\"T_8c65b758_496b_11e8_ad65_107b4449cbefrow7_col0\" class=\"data row7 col0\" >12.6226</td> \n",
       "    </tr></tbody> \n",
       "</table> "
      ],
      "text/plain": [
       "<pandas.io.formats.style.Styler at 0x22ea3510f98>"
      ]
     },
     "execution_count": 67,
     "metadata": {},
     "output_type": "execute_result"
    }
   ],
   "source": [
    "# Code block 10\n",
    "df_vi = df_inc.groupby(['income'])['htrips'].mean().to_frame('htrips_avg')\n",
    "df_vi.style.set_caption(\n",
    "    'Table 6. Average Number of Trips per Household by Income Category'\\\n",
    "    ' (Excludes refusals)' )"
   ]
  },
  {
   "cell_type": "code",
   "execution_count": 68,
   "metadata": {},
   "outputs": [
    {
     "data": {
      "image/png": "[encoded data removed]",
      "text/plain": [
       "<Figure size 432x288 with 1 Axes>"
      ]
     },
     "metadata": {},
     "output_type": "display_data"
    }
   ],
   "source": [
    "# Code block 11\n",
    "df_vi.plot.bar();\n",
    "plt.title('Fig 6. Average Number of Trips by Income Category');\n",
    "plt.xlabel('Income Category');\n",
    "plt.ylabel('Average Number of Trips');"
   ]
  },
  {
   "cell_type": "markdown",
   "metadata": {},
   "source": [
    "__Based on your calculation, how do you describe the relationship between number of vehicles and number of trips? Income and number of trips?__\n",
    "\n",
    "Having two or more vehicles generally sees an increase in number of trips compared to zero or single-car households. The largest jump is from 1 to 2 cars per household, a 57% increase in trips. However, there is little difference between having 2-7 cars per household in terms of trips. The highest number of cars owned per household (8) actually sees fewer trips than the next highest categories.\n",
    "\n",
    "__Income?__\n",
    "\n",
    "Lowest income levels have similar numbers of trips, but generally speaking, the number of trips increase with income. "
   ]
  },
  {
   "cell_type": "markdown",
   "metadata": {},
   "source": [
    "__c) Create a new variable INC_CAT that collapses the 8 income categories in the raw INCOME column into 3 categories (e.g. \\$0 - \\$24,999, \\$25,000 - \\$49,999, \\$50,000 and above).__"
   ]
  },
  {
   "cell_type": "code",
   "execution_count": 69,
   "metadata": {},
   "outputs": [],
   "source": [
    "# Code block 12\n",
    "def income_categorizer(df_inc):\n",
    "    for index, row in df_inc.iterrows():\n",
    "        if row.income <= 2:\n",
    "            df_inc.set_value(index, 'inc_cat', 1)\n",
    "        elif row.income >= 3 and row.income <= 4:\n",
    "            df_inc.set_value(index, 'inc_cat', 2)\n",
    "        elif row.income >= 5:\n",
    "            df_inc.set_value(index, 'inc_cat', 3)\n",
    "    return df_inc\n",
    "        \n",
    "df_new_inc_cat = income_categorizer(df)"
   ]
  },
  {
   "cell_type": "markdown",
   "metadata": {},
   "source": [
    "__Count number of households within each INC_CAT...__"
   ]
  },
  {
   "cell_type": "code",
   "execution_count": 70,
   "metadata": {},
   "outputs": [
    {
     "data": {
      "text/html": [
       "<style  type=\"text/css\" >\n",
       "</style>  \n",
       "<table id=\"T_8cb1f774_496b_11e8_8a2e_107b4449cbef\" ><caption>Table 7. Number of households by inc_cat</caption> \n",
       "<thead>    <tr> \n",
       "        <th class=\"blank level0\" ></th> \n",
       "        <th class=\"col_heading level0 col0\" >num_households</th> \n",
       "    </tr>    <tr> \n",
       "        <th class=\"index_name level0\" >inc_cat</th> \n",
       "        <th class=\"blank\" ></th> \n",
       "    </tr></thead> \n",
       "<tbody>    <tr> \n",
       "        <th id=\"T_8cb1f774_496b_11e8_8a2e_107b4449cbeflevel0_row0\" class=\"row_heading level0 row0\" >1.0</th> \n",
       "        <td id=\"T_8cb1f774_496b_11e8_8a2e_107b4449cbefrow0_col0\" class=\"data row0 col0\" >799</td> \n",
       "    </tr>    <tr> \n",
       "        <th id=\"T_8cb1f774_496b_11e8_8a2e_107b4449cbeflevel0_row1\" class=\"row_heading level0 row1\" >2.0</th> \n",
       "        <td id=\"T_8cb1f774_496b_11e8_8a2e_107b4449cbefrow1_col0\" class=\"data row1 col0\" >1222</td> \n",
       "    </tr>    <tr> \n",
       "        <th id=\"T_8cb1f774_496b_11e8_8a2e_107b4449cbeflevel0_row2\" class=\"row_heading level0 row2\" >3.0</th> \n",
       "        <td id=\"T_8cb1f774_496b_11e8_8a2e_107b4449cbefrow2_col0\" class=\"data row2 col0\" >4428</td> \n",
       "    </tr></tbody> \n",
       "</table> "
      ],
      "text/plain": [
       "<pandas.io.formats.style.Styler at 0x22ea3407ef0>"
      ]
     },
     "execution_count": 70,
     "metadata": {},
     "output_type": "execute_result"
    }
   ],
   "source": [
    "# Code block 13\n",
    "df_new_inc_cat.groupby(['inc_cat']).size().to_frame(\n",
    "    'num_households').style.set_caption(\n",
    "    \"Table 7. Number of households by inc_cat\")"
   ]
  },
  {
   "cell_type": "markdown",
   "metadata": {},
   "source": [
    "__...and then calculate average number of trips by INC_CAT.__"
   ]
  },
  {
   "cell_type": "code",
   "execution_count": 71,
   "metadata": {},
   "outputs": [
    {
     "data": {
      "text/html": [
       "<style  type=\"text/css\" >\n",
       "</style>  \n",
       "<table id=\"T_8cb3a5c0_496b_11e8_9e3c_107b4449cbef\" ><caption>Table 8. Average Number of Trips by Income Category</caption> \n",
       "<thead>    <tr> \n",
       "        <th class=\"blank level0\" ></th> \n",
       "        <th class=\"col_heading level0 col0\" >htrips_avg</th> \n",
       "    </tr>    <tr> \n",
       "        <th class=\"index_name level0\" >inc_cat</th> \n",
       "        <th class=\"blank\" ></th> \n",
       "    </tr></thead> \n",
       "<tbody>    <tr> \n",
       "        <th id=\"T_8cb3a5c0_496b_11e8_9e3c_107b4449cbeflevel0_row0\" class=\"row_heading level0 row0\" >1.0</th> \n",
       "        <td id=\"T_8cb3a5c0_496b_11e8_9e3c_107b4449cbefrow0_col0\" class=\"data row0 col0\" >6.64956</td> \n",
       "    </tr>    <tr> \n",
       "        <th id=\"T_8cb3a5c0_496b_11e8_9e3c_107b4449cbeflevel0_row1\" class=\"row_heading level0 row1\" >2.0</th> \n",
       "        <td id=\"T_8cb3a5c0_496b_11e8_9e3c_107b4449cbefrow1_col0\" class=\"data row1 col0\" >7.5892</td> \n",
       "    </tr>    <tr> \n",
       "        <th id=\"T_8cb3a5c0_496b_11e8_9e3c_107b4449cbeflevel0_row2\" class=\"row_heading level0 row2\" >3.0</th> \n",
       "        <td id=\"T_8cb3a5c0_496b_11e8_9e3c_107b4449cbefrow2_col0\" class=\"data row2 col0\" >11.0007</td> \n",
       "    </tr></tbody> \n",
       "</table> "
      ],
      "text/plain": [
       "<pandas.io.formats.style.Styler at 0x22ea33e22e8>"
      ]
     },
     "execution_count": 71,
     "metadata": {},
     "output_type": "execute_result"
    }
   ],
   "source": [
    "# Code block 14\n",
    "df_new_inc_cat.groupby(['inc_cat'])['htrips'].mean().to_frame(\n",
    "    'htrips_avg').style.set_caption(\n",
    "    'Table 8. Average Number of Trips by Income Category')"
   ]
  },
  {
   "cell_type": "markdown",
   "metadata": {},
   "source": [
    "__Create a new variable INCVAL that is equal to the mid-point of the range for categories 1 through 7 and $250,000 for category 8 (Set missing values for category 99). Run frequencies and summary to compute the mean and standard deviation for this new variable. Calculate the correlation between INCVAL and number of trips (HTRIPS).__"
   ]
  },
  {
   "cell_type": "code",
   "execution_count": 72,
   "metadata": {},
   "outputs": [
    {
     "data": {
      "text/html": [
       "<style  type=\"text/css\" >\n",
       "</style>  \n",
       "<table id=\"T_8cef810a_496b_11e8_a8d0_107b4449cbef\" ><caption>Table 9. Summary Statistics of Selected Columns</caption> \n",
       "<thead>    <tr> \n",
       "        <th class=\"blank level0\" ></th> \n",
       "        <th class=\"col_heading level0 col0\" >hhveh</th> \n",
       "        <th class=\"col_heading level0 col1\" >resty</th> \n",
       "        <th class=\"col_heading level0 col2\" >income</th> \n",
       "        <th class=\"col_heading level0 col3\" >htrips</th> \n",
       "        <th class=\"col_heading level0 col4\" >inc_cat</th> \n",
       "        <th class=\"col_heading level0 col5\" >incval</th> \n",
       "    </tr></thead> \n",
       "<tbody>    <tr> \n",
       "        <th id=\"T_8cef810a_496b_11e8_a8d0_107b4449cbeflevel0_row0\" class=\"row_heading level0 row0\" >count</th> \n",
       "        <td id=\"T_8cef810a_496b_11e8_a8d0_107b4449cbefrow0_col0\" class=\"data row0 col0\" >6449</td> \n",
       "        <td id=\"T_8cef810a_496b_11e8_a8d0_107b4449cbefrow0_col1\" class=\"data row0 col1\" >6449</td> \n",
       "        <td id=\"T_8cef810a_496b_11e8_a8d0_107b4449cbefrow0_col2\" class=\"data row0 col2\" >6449</td> \n",
       "        <td id=\"T_8cef810a_496b_11e8_a8d0_107b4449cbefrow0_col3\" class=\"data row0 col3\" >6449</td> \n",
       "        <td id=\"T_8cef810a_496b_11e8_a8d0_107b4449cbefrow0_col4\" class=\"data row0 col4\" >6449</td> \n",
       "        <td id=\"T_8cef810a_496b_11e8_a8d0_107b4449cbefrow0_col5\" class=\"data row0 col5\" >6019</td> \n",
       "    </tr>    <tr> \n",
       "        <th id=\"T_8cef810a_496b_11e8_a8d0_107b4449cbeflevel0_row1\" class=\"row_heading level0 row1\" >mean</th> \n",
       "        <td id=\"T_8cef810a_496b_11e8_a8d0_107b4449cbefrow1_col0\" class=\"data row1 col0\" >1.94821</td> \n",
       "        <td id=\"T_8cef810a_496b_11e8_a8d0_107b4449cbefrow1_col1\" class=\"data row1 col1\" >1.40177</td> \n",
       "        <td id=\"T_8cef810a_496b_11e8_a8d0_107b4449cbefrow1_col2\" class=\"data row1 col2\" >11.32</td> \n",
       "        <td id=\"T_8cef810a_496b_11e8_a8d0_107b4449cbefrow1_col3\" class=\"data row1 col3\" >9.81517</td> \n",
       "        <td id=\"T_8cef810a_496b_11e8_a8d0_107b4449cbefrow1_col4\" class=\"data row1 col4\" >2.56272</td> \n",
       "        <td id=\"T_8cef810a_496b_11e8_a8d0_107b4449cbefrow1_col5\" class=\"data row1 col5\" >82889.6</td> \n",
       "    </tr>    <tr> \n",
       "        <th id=\"T_8cef810a_496b_11e8_a8d0_107b4449cbeflevel0_row2\" class=\"row_heading level0 row2\" >std</th> \n",
       "        <td id=\"T_8cef810a_496b_11e8_a8d0_107b4449cbefrow2_col0\" class=\"data row2 col0\" >1.12417</td> \n",
       "        <td id=\"T_8cef810a_496b_11e8_a8d0_107b4449cbefrow2_col1\" class=\"data row2 col1\" >0.852127</td> \n",
       "        <td id=\"T_8cef810a_496b_11e8_a8d0_107b4449cbefrow2_col2\" class=\"data row2 col2\" >23.5098</td> \n",
       "        <td id=\"T_8cef810a_496b_11e8_a8d0_107b4449cbefrow2_col3\" class=\"data row2 col3\" >7.81912</td> \n",
       "        <td id=\"T_8cef810a_496b_11e8_a8d0_107b4449cbefrow2_col4\" class=\"data row2 col4\" >0.702804</td> \n",
       "        <td id=\"T_8cef810a_496b_11e8_a8d0_107b4449cbefrow2_col5\" class=\"data row2 col5\" >62390.2</td> \n",
       "    </tr>    <tr> \n",
       "        <th id=\"T_8cef810a_496b_11e8_a8d0_107b4449cbeflevel0_row3\" class=\"row_heading level0 row3\" >min</th> \n",
       "        <td id=\"T_8cef810a_496b_11e8_a8d0_107b4449cbefrow3_col0\" class=\"data row3 col0\" >0</td> \n",
       "        <td id=\"T_8cef810a_496b_11e8_a8d0_107b4449cbefrow3_col1\" class=\"data row3 col1\" >1</td> \n",
       "        <td id=\"T_8cef810a_496b_11e8_a8d0_107b4449cbefrow3_col2\" class=\"data row3 col2\" >1</td> \n",
       "        <td id=\"T_8cef810a_496b_11e8_a8d0_107b4449cbefrow3_col3\" class=\"data row3 col3\" >0</td> \n",
       "        <td id=\"T_8cef810a_496b_11e8_a8d0_107b4449cbefrow3_col4\" class=\"data row3 col4\" >1</td> \n",
       "        <td id=\"T_8cef810a_496b_11e8_a8d0_107b4449cbefrow3_col5\" class=\"data row3 col5\" >7499.5</td> \n",
       "    </tr>    <tr> \n",
       "        <th id=\"T_8cef810a_496b_11e8_a8d0_107b4449cbeflevel0_row4\" class=\"row_heading level0 row4\" >25%</th> \n",
       "        <td id=\"T_8cef810a_496b_11e8_a8d0_107b4449cbefrow4_col0\" class=\"data row4 col0\" >1</td> \n",
       "        <td id=\"T_8cef810a_496b_11e8_a8d0_107b4449cbefrow4_col1\" class=\"data row4 col1\" >1</td> \n",
       "        <td id=\"T_8cef810a_496b_11e8_a8d0_107b4449cbefrow4_col2\" class=\"data row4 col2\" >4</td> \n",
       "        <td id=\"T_8cef810a_496b_11e8_a8d0_107b4449cbefrow4_col3\" class=\"data row4 col3\" >4</td> \n",
       "        <td id=\"T_8cef810a_496b_11e8_a8d0_107b4449cbefrow4_col4\" class=\"data row4 col4\" >2</td> \n",
       "        <td id=\"T_8cef810a_496b_11e8_a8d0_107b4449cbefrow4_col5\" class=\"data row4 col5\" >42499.5</td> \n",
       "    </tr>    <tr> \n",
       "        <th id=\"T_8cef810a_496b_11e8_a8d0_107b4449cbeflevel0_row5\" class=\"row_heading level0 row5\" >50%</th> \n",
       "        <td id=\"T_8cef810a_496b_11e8_a8d0_107b4449cbefrow5_col0\" class=\"data row5 col0\" >2</td> \n",
       "        <td id=\"T_8cef810a_496b_11e8_a8d0_107b4449cbefrow5_col1\" class=\"data row5 col1\" >1</td> \n",
       "        <td id=\"T_8cef810a_496b_11e8_a8d0_107b4449cbefrow5_col2\" class=\"data row5 col2\" >5</td> \n",
       "        <td id=\"T_8cef810a_496b_11e8_a8d0_107b4449cbefrow5_col3\" class=\"data row5 col3\" >8</td> \n",
       "        <td id=\"T_8cef810a_496b_11e8_a8d0_107b4449cbefrow5_col4\" class=\"data row5 col4\" >3</td> \n",
       "        <td id=\"T_8cef810a_496b_11e8_a8d0_107b4449cbefrow5_col5\" class=\"data row5 col5\" >62499.5</td> \n",
       "    </tr>    <tr> \n",
       "        <th id=\"T_8cef810a_496b_11e8_a8d0_107b4449cbeflevel0_row6\" class=\"row_heading level0 row6\" >75%</th> \n",
       "        <td id=\"T_8cef810a_496b_11e8_a8d0_107b4449cbefrow6_col0\" class=\"data row6 col0\" >2</td> \n",
       "        <td id=\"T_8cef810a_496b_11e8_a8d0_107b4449cbefrow6_col1\" class=\"data row6 col1\" >1</td> \n",
       "        <td id=\"T_8cef810a_496b_11e8_a8d0_107b4449cbefrow6_col2\" class=\"data row6 col2\" >7</td> \n",
       "        <td id=\"T_8cef810a_496b_11e8_a8d0_107b4449cbefrow6_col3\" class=\"data row6 col3\" >14</td> \n",
       "        <td id=\"T_8cef810a_496b_11e8_a8d0_107b4449cbefrow6_col4\" class=\"data row6 col4\" >3</td> \n",
       "        <td id=\"T_8cef810a_496b_11e8_a8d0_107b4449cbefrow6_col5\" class=\"data row6 col5\" >125000</td> \n",
       "    </tr>    <tr> \n",
       "        <th id=\"T_8cef810a_496b_11e8_a8d0_107b4449cbeflevel0_row7\" class=\"row_heading level0 row7\" >max</th> \n",
       "        <td id=\"T_8cef810a_496b_11e8_a8d0_107b4449cbefrow7_col0\" class=\"data row7 col0\" >8</td> \n",
       "        <td id=\"T_8cef810a_496b_11e8_a8d0_107b4449cbefrow7_col1\" class=\"data row7 col1\" >9</td> \n",
       "        <td id=\"T_8cef810a_496b_11e8_a8d0_107b4449cbefrow7_col2\" class=\"data row7 col2\" >99</td> \n",
       "        <td id=\"T_8cef810a_496b_11e8_a8d0_107b4449cbefrow7_col3\" class=\"data row7 col3\" >81</td> \n",
       "        <td id=\"T_8cef810a_496b_11e8_a8d0_107b4449cbefrow7_col4\" class=\"data row7 col4\" >3</td> \n",
       "        <td id=\"T_8cef810a_496b_11e8_a8d0_107b4449cbefrow7_col5\" class=\"data row7 col5\" >250000</td> \n",
       "    </tr></tbody> \n",
       "</table> "
      ],
      "text/plain": [
       "<pandas.io.formats.style.Styler at 0x22ea392bb38>"
      ]
     },
     "execution_count": 72,
     "metadata": {},
     "output_type": "execute_result"
    }
   ],
   "source": [
    "# Code block 16\n",
    "def set_incval(df_incval):\n",
    "    \"\"\"\n",
    "    Creates new variable `incval` that is equal to the midpoint of indicated \n",
    "    salary ranges.\n",
    "    \"\"\"\n",
    "    for index, row in df_incval.iterrows():\n",
    "        if row.income == 1:\n",
    "            df_incval.set_value(index, 'incval', ((14999-0)/2 + 0))\n",
    "        elif row.income == 2:\n",
    "            df_incval.set_value(index, 'incval', ((15000-24999)/2 + 24999))\n",
    "        elif row.income == 3:\n",
    "            df_incval.set_value(index, 'incval', ((34999-25000)/2 + 25000))\n",
    "        elif row.income == 4:\n",
    "            df_incval.set_value(index, 'incval', ((49999-35000)/2 + 35000))\n",
    "        elif row.income == 5:\n",
    "            df_incval.set_value(index, 'incval', ((74999-50000)/2 + 50000))\n",
    "        elif row.income == 6:\n",
    "            df_incval.set_value(index, 'incval', ((99999-75000)/2 + 75000)) \n",
    "        elif row.income == 7:\n",
    "            df_incval.set_value(index, 'incval', ((149999-100000)/2 + 100000))\n",
    "        elif row.income == 8:\n",
    "            df_incval.set_value(index, 'incval', 250000)\n",
    "        elif row.income == 99:\n",
    "            df_incval.set_value(index, 'incval', None) \n",
    "            # Setting 99 as NA, so it won't be counted.         \n",
    "    return df_incval\n",
    "\n",
    "df_incval_new = set_incval(df_new_inc_cat)\n",
    "df_incval_new.describe().style.set_caption(\n",
    "    'Table 9. Summary Statistics of Selected Columns')"
   ]
  },
  {
   "cell_type": "markdown",
   "metadata": {},
   "source": [
    "__Explain why the mean and standard deviation from the original income category (INCOME) variable would not be useful.__\n",
    "\n",
    "Original INCOME variables are not useful since they are coded values and do accurately convey the actual dollar amounts needed for useful analysis."
   ]
  },
  {
   "cell_type": "markdown",
   "metadata": {},
   "source": [
    "__Calculate the correlation between INCVAL and number of trips__"
   ]
  },
  {
   "cell_type": "code",
   "execution_count": 73,
   "metadata": {},
   "outputs": [
    {
     "name": "stdout",
     "output_type": "stream",
     "text": [
      "Correlation between incval and htrips:\n",
      "0.22775753948597108\n"
     ]
    }
   ],
   "source": [
    "# Code block 17\n",
    "print('Correlation between incval and htrips:')\n",
    "print(df_incval_new['incval'].corr(df_incval_new['htrips']))"
   ]
  },
  {
   "cell_type": "markdown",
   "metadata": {},
   "source": [
    "__Recode HHVEH into a new variable HHVEH_CAT to reduce the size of the table (this will make interpretation easier). Use judgment about which groups to combine (review your frequency analysis in Question a) in making these judgments). You can accomplish the regrouping by using the RECODE command in SPSS (or cut function in R and if function in Excel). When grouping variables, you should create a new variable and modify the variable name value labels appropriately. Calculate average number of trips by HHVEH_CAT.__ "
   ]
  },
  {
   "cell_type": "code",
   "execution_count": 74,
   "metadata": {},
   "outputs": [
    {
     "data": {
      "text/html": [
       "<style  type=\"text/css\" >\n",
       "</style>  \n",
       "<table id=\"T_8d270214_496b_11e8_84c3_107b4449cbef\" ><caption>Table 10. Average Number of Trips by hhveh_cat</caption> \n",
       "<thead>    <tr> \n",
       "        <th class=\"blank level0\" ></th> \n",
       "        <th class=\"col_heading level0 col0\" >htrips</th> \n",
       "    </tr>    <tr> \n",
       "        <th class=\"index_name level0\" >hhveh_cat</th> \n",
       "        <th class=\"blank\" ></th> \n",
       "    </tr></thead> \n",
       "<tbody>    <tr> \n",
       "        <th id=\"T_8d270214_496b_11e8_84c3_107b4449cbeflevel0_row0\" class=\"row_heading level0 row0\" >0.0</th> \n",
       "        <td id=\"T_8d270214_496b_11e8_84c3_107b4449cbefrow0_col0\" class=\"data row0 col0\" >7.97313</td> \n",
       "    </tr>    <tr> \n",
       "        <th id=\"T_8d270214_496b_11e8_84c3_107b4449cbeflevel0_row1\" class=\"row_heading level0 row1\" >1.0</th> \n",
       "        <td id=\"T_8d270214_496b_11e8_84c3_107b4449cbefrow1_col0\" class=\"data row1 col0\" >6.99945</td> \n",
       "    </tr>    <tr> \n",
       "        <th id=\"T_8d270214_496b_11e8_84c3_107b4449cbeflevel0_row2\" class=\"row_heading level0 row2\" >2.0</th> \n",
       "        <td id=\"T_8d270214_496b_11e8_84c3_107b4449cbefrow2_col0\" class=\"data row2 col0\" >11.1258</td> \n",
       "    </tr>    <tr> \n",
       "        <th id=\"T_8d270214_496b_11e8_84c3_107b4449cbeflevel0_row3\" class=\"row_heading level0 row3\" >3.0</th> \n",
       "        <td id=\"T_8d270214_496b_11e8_84c3_107b4449cbefrow3_col0\" class=\"data row3 col0\" >11.7132</td> \n",
       "    </tr></tbody> \n",
       "</table> "
      ],
      "text/plain": [
       "<pandas.io.formats.style.Styler at 0x22ea39454a8>"
      ]
     },
     "execution_count": 74,
     "metadata": {},
     "output_type": "execute_result"
    }
   ],
   "source": [
    "# Code block 18\n",
    "def vehicle_categorizer(df_veh):\n",
    "    for index, row in df_inc.iterrows():\n",
    "        if row.hhveh == 0:\n",
    "            df_veh.set_value(index, 'hhveh_cat', 0)\n",
    "        elif row.hhveh == 1:\n",
    "            df_veh.set_value(index, 'hhveh_cat', 1)\n",
    "        elif row.hhveh == 2:\n",
    "            df_veh.set_value(index, 'hhveh_cat', 2)\n",
    "        elif row.hhveh >= 3:\n",
    "            df_veh.set_value(index, 'hhveh_cat', 3)\n",
    "    return df_veh\n",
    "\n",
    "\n",
    "df_veh_cat_new = vehicle_categorizer(df)\n",
    "df_veh_cat_new.groupby([\n",
    "    'hhveh_cat'])['htrips'].mean().to_frame().style.set_caption(\n",
    "    'Table 10. Average Number of Trips by hhveh_cat')"
   ]
  },
  {
   "cell_type": "markdown",
   "metadata": {},
   "source": [
    "__What is the advantage of this calculation comparing with the average number of trips by number of vehicles in question b)?__\n",
    "\n",
    "Regrouping the hhveh number allows us to better match average vehicle ownership rates per household in the U.S. "
   ]
  },
  {
   "cell_type": "code",
   "execution_count": 75,
   "metadata": {},
   "outputs": [
    {
     "name": "stdout",
     "output_type": "stream",
     "text": [
      "Correlation between income and htrips:\n",
      "0.009354924462337915\n",
      "Correlation between incval and htrips:\n",
      "0.22775753948597108\n",
      "Correlation between inc_cat and htrips:\n",
      "0.21953006181990783\n",
      "Correlation between hhveh and htrips:\n",
      "0.20514602823433548\n",
      "Correlation between hhveh_cat and htrips:\n",
      "0.22888844496188693\n"
     ]
    }
   ],
   "source": [
    "# Code block 19\n",
    "print('Correlation between income and htrips:')\n",
    "print(df_veh_cat_new['income'].corr(df_veh_cat_new['htrips']))\n",
    "print('Correlation between incval and htrips:')\n",
    "print(df_veh_cat_new['incval'].corr(df_veh_cat_new['htrips']))\n",
    "print('Correlation between inc_cat and htrips:')\n",
    "print(df_veh_cat_new['inc_cat'].corr(df_veh_cat_new['htrips']))\n",
    "print('Correlation between hhveh and htrips:')\n",
    "print(df_veh_cat_new['hhveh'].corr(df_veh_cat_new['htrips']))\n",
    "print('Correlation between hhveh_cat and htrips:')\n",
    "print(df_veh_cat_new['hhveh_cat'].corr(df_veh_cat_new['htrips']))"
   ]
  },
  {
   "cell_type": "code",
   "execution_count": 76,
   "metadata": {},
   "outputs": [
    {
     "name": "stdout",
     "output_type": "stream",
     "text": [
      "Correlation between income and resty:\n",
      "-0.0162821497354745\n",
      "Correlation between incval and resty:\n",
      "-0.2803100704706675\n",
      "Correlation between inc_cat and resty:\n",
      "-0.3519339774256669\n",
      "Correlation between hhveh and resty:\n",
      "-0.3621330617193173\n",
      "Correlation between hhveh_cat and resty:\n",
      "-0.41460350230683385\n",
      "Correlation between hhveh_cat and income:\n",
      "0.5082438241423205\n"
     ]
    }
   ],
   "source": [
    "# Code block 20\n",
    "print('Correlation between income and resty:')\n",
    "print(df_veh_cat_new['income'].corr(df_veh_cat_new['resty']))\n",
    "print('Correlation between incval and resty:')\n",
    "print(df_veh_cat_new['incval'].corr(df_veh_cat_new['resty']))\n",
    "print('Correlation between inc_cat and resty:')\n",
    "print(df_veh_cat_new['inc_cat'].corr(df_veh_cat_new['resty']))\n",
    "print('Correlation between hhveh and resty:')\n",
    "print(df_veh_cat_new['hhveh'].corr(df_veh_cat_new['resty']))\n",
    "print('Correlation between hhveh_cat and resty:')\n",
    "print(df_veh_cat_new['hhveh_cat'].corr(df_veh_cat_new['resty']))\n",
    "print('Correlation between hhveh_cat and income:')\n",
    "print(df_veh_cat_new['hhveh_cat'].corr(df_veh_cat_new['income']))"
   ]
  },
  {
   "cell_type": "code",
   "execution_count": 77,
   "metadata": {},
   "outputs": [
    {
     "name": "stdout",
     "output_type": "stream",
     "text": [
      "y=0.02304354093977337x+0.037371754637596795\n"
     ]
    },
    {
     "data": {
      "image/png": "[encoded data removed]",
      "text/plain": [
       "<Figure size 432x288 with 1 Axes>"
      ]
     },
     "metadata": {},
     "output_type": "display_data"
    }
   ],
   "source": [
    "# Code block 21\n",
    "df_resty_new = df_veh_cat_new.loc[df_veh_cat_new['resty'] != 9]\n",
    "x = df_resty_new['resty']\n",
    "y = df_resty_new['hhveh_cat']\n",
    "\n",
    "plt.scatter(x, y);\n",
    "# Fit trend line\n",
    "z = np.polyfit(x, y, 1)\n",
    "p = np.poly1d(z)\n",
    "plt.plot(x,p(x),\"r--\")\n",
    "# the line equation:\n",
    "print (\"y={}x+{}\".format(z[0],z[1]))\n",
    "plt.title('Fig 7. Number of Household Vehicles by Residence Type');\n",
    "plt.xlabel('Residence Type');\n",
    "plt.ylabel('Number of Household Vehicles');\n",
    "plt.yticks(np.arange(0, 4,step=1));"
   ]
  },
  {
   "cell_type": "markdown",
   "metadata": {},
   "source": [
    "## 2. Understand weights in survey data\n",
    "\n",
    "__Explain what the weight column (hhwgt and exphhwgt) is (or does)?__\n",
    "\n",
    "They assign weights to households to give more or less emphasis to certain responses, possibly as calibration for a full population's size."
   ]
  },
  {
   "cell_type": "markdown",
   "metadata": {},
   "source": [
    "__Create a new variable by multiplying the number of trips with the household weighting factor (exphhwgt), for example, for the first household in the household table in OHAS data set, 3 vehicles &ast; weighting factor of 217.05 = 651.15 weighted vehicles__"
   ]
  },
  {
   "cell_type": "code",
   "execution_count": 78,
   "metadata": {},
   "outputs": [
    {
     "data": {
      "text/html": [
       "<style  type=\"text/css\" >\n",
       "</style>  \n",
       "<table id=\"T_8d4312e4_496b_11e8_9507_107b4449cbef\" ><caption>Table 11. Output of first line in data (row 0) to check work</caption> \n",
       "<thead>    <tr> \n",
       "        <th class=\"blank level0\" ></th> \n",
       "        <th class=\"col_heading level0 col0\" >0</th> \n",
       "    </tr></thead> \n",
       "<tbody>    <tr> \n",
       "        <th id=\"T_8d4312e4_496b_11e8_9507_107b4449cbeflevel0_row0\" class=\"row_heading level0 row0\" >hhveh</th> \n",
       "        <td id=\"T_8d4312e4_496b_11e8_9507_107b4449cbefrow0_col0\" class=\"data row0 col0\" >3</td> \n",
       "    </tr>    <tr> \n",
       "        <th id=\"T_8d4312e4_496b_11e8_9507_107b4449cbeflevel0_row1\" class=\"row_heading level0 row1\" >resty</th> \n",
       "        <td id=\"T_8d4312e4_496b_11e8_9507_107b4449cbefrow1_col0\" class=\"data row1 col0\" >1</td> \n",
       "    </tr>    <tr> \n",
       "        <th id=\"T_8d4312e4_496b_11e8_9507_107b4449cbeflevel0_row2\" class=\"row_heading level0 row2\" >income</th> \n",
       "        <td id=\"T_8d4312e4_496b_11e8_9507_107b4449cbefrow2_col0\" class=\"data row2 col0\" >5</td> \n",
       "    </tr>    <tr> \n",
       "        <th id=\"T_8d4312e4_496b_11e8_9507_107b4449cbeflevel0_row3\" class=\"row_heading level0 row3\" >htrips</th> \n",
       "        <td id=\"T_8d4312e4_496b_11e8_9507_107b4449cbefrow3_col0\" class=\"data row3 col0\" >6</td> \n",
       "    </tr>    <tr> \n",
       "        <th id=\"T_8d4312e4_496b_11e8_9507_107b4449cbeflevel0_row4\" class=\"row_heading level0 row4\" >hhwgt</th> \n",
       "        <td id=\"T_8d4312e4_496b_11e8_9507_107b4449cbefrow4_col0\" class=\"data row4 col0\" >1.5912</td> \n",
       "    </tr>    <tr> \n",
       "        <th id=\"T_8d4312e4_496b_11e8_9507_107b4449cbeflevel0_row5\" class=\"row_heading level0 row5\" >exphhwgt</th> \n",
       "        <td id=\"T_8d4312e4_496b_11e8_9507_107b4449cbefrow5_col0\" class=\"data row5 col0\" >217.054</td> \n",
       "    </tr>    <tr> \n",
       "        <th id=\"T_8d4312e4_496b_11e8_9507_107b4449cbeflevel0_row6\" class=\"row_heading level0 row6\" >hhvehwgt</th> \n",
       "        <td id=\"T_8d4312e4_496b_11e8_9507_107b4449cbefrow6_col0\" class=\"data row6 col0\" >651.163</td> \n",
       "    </tr></tbody> \n",
       "</table> "
      ],
      "text/plain": [
       "<pandas.io.formats.style.Styler at 0x22ea3948160>"
      ]
     },
     "execution_count": 78,
     "metadata": {},
     "output_type": "execute_result"
    }
   ],
   "source": [
    "# Code block 22\n",
    "df = pd.read_csv(os.path.join(\n",
    "    os.path.dirname(\"__file__\"), \n",
    "    wd + 'household.csv'), usecols=['resty', 'income', 'hhveh', \n",
    "                                    'hhwgt', 'htrips', 'exphhwgt'])\n",
    "df['hhvehwgt'] = df['exphhwgt'] * df['hhveh']\n",
    "df.iloc[0].to_frame().style.set_caption(\n",
    "    'Table 11. Output of first line in data (row 0) to check work')"
   ]
  },
  {
   "cell_type": "markdown",
   "metadata": {},
   "source": [
    "__Sum the new variable created in step 1 over all samples (households) and sum the entire weighting factor (exphhwgt) over all samples (households);__"
   ]
  },
  {
   "cell_type": "code",
   "execution_count": 79,
   "metadata": {},
   "outputs": [
    {
     "name": "stdout",
     "output_type": "stream",
     "text": [
      "hhvehwgt sum = 1487688.81285771\n",
      "exphhwgt sum = 807567.000001436\n"
     ]
    }
   ],
   "source": [
    "# Code block 23\n",
    "sum_hhvehwgt = df['hhvehwgt'].sum()\n",
    "sum_exphhwgt = df['exphhwgt'].sum()\n",
    "print(\"hhvehwgt sum =\", sum_hhvehwgt)\n",
    "print(\"exphhwgt sum =\", sum_exphhwgt)"
   ]
  },
  {
   "cell_type": "markdown",
   "metadata": {},
   "source": [
    "__Divide the sum of weighted variable by the sum of weighting factors and you get the weighted average (mean)__"
   ]
  },
  {
   "cell_type": "code",
   "execution_count": 80,
   "metadata": {},
   "outputs": [
    {
     "name": "stdout",
     "output_type": "stream",
     "text": [
      "Weighted average = 1.842186236999611\n"
     ]
    }
   ],
   "source": [
    "# Code block 24\n",
    "print(\"Weighted average =\", sum_hhvehwgt / sum_exphhwgt)"
   ]
  },
  {
   "cell_type": "code",
   "execution_count": 81,
   "metadata": {},
   "outputs": [
    {
     "name": "stdout",
     "output_type": "stream",
     "text": [
      "1.9482090246549852\n"
     ]
    }
   ],
   "source": [
    "hhveh_avg = df['hhveh'].mean()\n",
    "print(hhveh_avg)"
   ]
  },
  {
   "cell_type": "markdown",
   "metadata": {},
   "source": [
    "__Is there a difference between the average number of vehicles and the weighted average number of vehicles? If so, what does the difference tell you?__\n",
    "\n",
    "Yes, there is a very slight difference between the weighted average and the vehicular average, which means that the survey response may be recording slightly higher vehicle numbers than is accurate."
   ]
  },
  {
   "cell_type": "markdown",
   "metadata": {},
   "source": [
    "__Following the same steps above, compute the percent of households that use transit at least once a week (the RIBUS column) without and with the household weighting factor.__"
   ]
  },
  {
   "cell_type": "code",
   "execution_count": 82,
   "metadata": {
    "scrolled": false
   },
   "outputs": [
    {
     "name": "stdout",
     "output_type": "stream",
     "text": [
      "ribus unweighted = 27.72522871763064 percent\n",
      "ribus weighted = 28.599366847117246 percent\n"
     ]
    }
   ],
   "source": [
    "# Code block 25\n",
    "def calc_ribus(df_ribus):\n",
    "    for index, row in df_ribus.iterrows():\n",
    "        if row.ribus == 1:\n",
    "            df_ribus.set_value(index, 'ribus_count', 1)\n",
    "    return df_ribus\n",
    "\n",
    "\n",
    "# Load CSV\n",
    "df = pd.read_csv(os.path.join(\n",
    "    os.path.dirname(\"__file__\"), \n",
    "    wd + 'household.csv'), usecols=['resty', 'income', 'hhveh', \n",
    "                                    'ribus', 'htrips', 'hhwgt', 'exphhwgt'])\n",
    "\n",
    "# Apply ribus calculation function and computed weighted number\n",
    "df = calc_ribus(df)\n",
    "ribus_pct = (df['ribus_count'].sum() / 6449) * 100 # where 6449 \n",
    "                                                   # is the sample size\n",
    "df['ribuswgt'] = df['exphhwgt'] * df['ribus_count']\n",
    "\n",
    "# Compute unweighted number\n",
    "ribuswgt_pct = (df['ribuswgt'].sum() / df['exphhwgt'].sum()) * 100\n",
    "\n",
    "# Output result\n",
    "print(\"ribus unweighted =\", ribus_pct, 'percent')\n",
    "print(\"ribus weighted =\", ribuswgt_pct, 'percent')"
   ]
  }
 ],
 "metadata": {
  "kernelspec": {
   "display_name": "Python 3",
   "language": "python",
   "name": "python3"
  },
  "language_info": {
   "codemirror_mode": {
    "name": "ipython",
    "version": 3
   },
   "file_extension": ".py",
   "mimetype": "text/x-python",
   "name": "python",
   "nbconvert_exporter": "python",
   "pygments_lexer": "ipython3",
   "version": "3.6.4"
  }
 },
 "nbformat": 4,
 "nbformat_minor": 2
}
