{
 "cells": [
  {
   "cell_type": "code",
   "execution_count": 99,
   "metadata": {},
   "outputs": [],
   "source": [
    "import os\n",
    "import pandas as pd\n",
    "\n",
    "wd = '/Users/kevin/Desktop/USP_587_data/OHAS_v2/'\n",
    "\n",
    "df = pd.read_csv(os.path.join(\n",
    "    os.path.dirname(\"__file__\"), \n",
    "    wd + 'household.csv'), usecols=['resty', 'income', 'hhveh', 'htrips'])"
   ]
  },
  {
   "cell_type": "code",
   "execution_count": 100,
   "metadata": {},
   "outputs": [
    {
     "data": {
      "text/plain": [
       "count    6449.000000\n",
       "mean        1.401768\n",
       "std         0.852127\n",
       "min         1.000000\n",
       "25%         1.000000\n",
       "50%         1.000000\n",
       "75%         1.000000\n",
       "max         9.000000\n",
       "Name: resty, dtype: float64"
      ]
     },
     "execution_count": 100,
     "metadata": {},
     "output_type": "execute_result"
    }
   ],
   "source": [
    "df['resty'].describe()"
   ]
  },
  {
   "cell_type": "code",
   "execution_count": 101,
   "metadata": {},
   "outputs": [
    {
     "data": {
      "text/plain": [
       "count    6019.000000\n",
       "mean        5.056156\n",
       "std         1.911337\n",
       "min         1.000000\n",
       "25%         4.000000\n",
       "50%         5.000000\n",
       "75%         7.000000\n",
       "max         8.000000\n",
       "Name: income, dtype: float64"
      ]
     },
     "execution_count": 101,
     "metadata": {},
     "output_type": "execute_result"
    }
   ],
   "source": [
    "# Exclude responses of 99 'REFUSED'\n",
    "df_inc = df.loc[df['income'] != 99]\n",
    "df_inc['income'].describe()"
   ]
  },
  {
   "cell_type": "code",
   "execution_count": 102,
   "metadata": {},
   "outputs": [
    {
     "data": {
      "text/plain": [
       "count    6449.000000\n",
       "mean        1.948209\n",
       "std         1.124169\n",
       "min         0.000000\n",
       "25%         1.000000\n",
       "50%         2.000000\n",
       "75%         2.000000\n",
       "max         8.000000\n",
       "Name: hhveh, dtype: float64"
      ]
     },
     "execution_count": 102,
     "metadata": {},
     "output_type": "execute_result"
    }
   ],
   "source": [
    "df['hhveh'].describe()"
   ]
  },
  {
   "cell_type": "code",
   "execution_count": 103,
   "metadata": {},
   "outputs": [
    {
     "data": {
      "text/plain": [
       "count    6449.000000\n",
       "mean        9.815165\n",
       "std         7.819117\n",
       "min         0.000000\n",
       "25%         4.000000\n",
       "50%         8.000000\n",
       "75%        14.000000\n",
       "max        81.000000\n",
       "Name: htrips, dtype: float64"
      ]
     },
     "execution_count": 103,
     "metadata": {},
     "output_type": "execute_result"
    }
   ],
   "source": [
    "df['htrips'].describe()"
   ]
  },
  {
   "cell_type": "code",
   "execution_count": 104,
   "metadata": {},
   "outputs": [
    {
     "name": "stdout",
     "output_type": "stream",
     "text": [
      "hhveh\n",
      "0     7.925072\n",
      "1     6.988945\n",
      "2    11.066562\n",
      "3    11.666027\n",
      "4    12.160350\n",
      "5    12.377358\n",
      "6    10.906977\n",
      "7    13.416667\n",
      "8     8.916667\n",
      "Name: htrips, dtype: float64\n"
     ]
    }
   ],
   "source": [
    "#B Calculate average number of trips by number of vehicles\n",
    "df_v1 = df.groupby(['hhveh'])['htrips'].mean()\n",
    "print(df_v1)"
   ]
  },
  {
   "cell_type": "code",
   "execution_count": 105,
   "metadata": {},
   "outputs": [
    {
     "name": "stdout",
     "output_type": "stream",
     "text": [
      "income\n",
      "1      6.359873\n",
      "2      6.837113\n",
      "3      6.828810\n",
      "4      8.079408\n",
      "5      9.677517\n",
      "6     11.241623\n",
      "7     12.244817\n",
      "8     12.622642\n",
      "99     9.500000\n",
      "Name: htrips, dtype: float64\n"
     ]
    }
   ],
   "source": [
    "#B Calculate average number of trips by Income\n",
    "df_vi = df.groupby(['income'])['htrips'].mean()\n",
    "print(df_vi)"
   ]
  },
  {
   "cell_type": "markdown",
   "metadata": {},
   "source": [
    "#### Based on your calculation, how do you describe the relationship between number of vehicles and number of trips?\n",
    "\n",
    "Having two or more vehicles generally sees an increase in number of trips compared to zero or single-car households. The largest jump is from 1 to 2 cars per household, a 57% increase in trips. However, there is little difference between having 2-7 cars per household in terms of trips. The highest number of cars owned per household actually sees fewer trips than the next highest categories.\n",
    "\n",
    "##### Income?\n",
    "Lowest income levels have similar numbers of trips, but generally speaking, the number of trips increase with income. Again, the highest income group drops off in terms of trips."
   ]
  },
  {
   "cell_type": "markdown",
   "metadata": {},
   "source": [
    "##### Count the number of households within each INC_CAT and then calculate average number of trips."
   ]
  },
  {
   "cell_type": "code",
   "execution_count": 117,
   "metadata": {},
   "outputs": [
    {
     "name": "stdout",
     "output_type": "stream",
     "text": [
      "Total numbers of households per INC_CAT:\n",
      "inc_cat\n",
      "1.0     799\n",
      "2.0    1652\n",
      "3.0    3998\n",
      "dtype: int64\n",
      "\n",
      "\n",
      "Average number of trips by INC_CAT:\n",
      "inc_cat\n",
      "1.0     6.649562\n",
      "2.0     8.086562\n",
      "3.0    11.162081\n",
      "Name: htrips, dtype: float64\n"
     ]
    }
   ],
   "source": [
    "def income_categorizer(df_inc):\n",
    "    for index, row in df_inc.iterrows():\n",
    "        if row.income <= 2:\n",
    "            df_inc.set_value(index, 'inc_cat', 1)\n",
    "        elif row.income >= 3 and row.income <= 4:\n",
    "            df_inc.set_value(index, 'inc_cat', 2)\n",
    "        elif row.income >= 5 and row.income < 99:\n",
    "            df_inc.set_value(index, 'inc_cat', 3)\n",
    "    return df_inc\n",
    "        \n",
    "df_new_inc_cat = income_categorizer(df)\n",
    "print(\"Total numbers of households per INC_CAT:\")\n",
    "print(df_new_inc_cat.groupby(['inc_cat']).size())\n",
    "print(\"\\n\")\n",
    "print(\"Average number of trips by INC_CAT:\")\n",
    "print(df_new_inc_cat.groupby(['inc_cat'])['htrips'].mean())"
   ]
  }
 ],
 "metadata": {
  "kernelspec": {
   "display_name": "Python 3",
   "language": "python",
   "name": "python3"
  },
  "language_info": {
   "codemirror_mode": {
    "name": "ipython",
    "version": 3
   },
   "file_extension": ".py",
   "mimetype": "text/x-python",
   "name": "python",
   "nbconvert_exporter": "python",
   "pygments_lexer": "ipython3",
   "version": "3.6.1"
  }
 },
 "nbformat": 4,
 "nbformat_minor": 2
}
