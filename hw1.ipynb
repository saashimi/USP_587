{
 "cells": [
  {
   "cell_type": "markdown",
   "metadata": {},
   "source": [
    "## Homework 1\n",
    "#### Kevin Saavedra\n",
    "\n",
    "This assignment was completed using the Python with the Pandas data analysis libary. It was run using Jupyter notebooks, which is being encouraged at Metro for data sharing and reproducibility purposes."
   ]
  },
  {
   "cell_type": "code",
   "execution_count": 182,
   "metadata": {},
   "outputs": [
    {
     "name": "stdout",
     "output_type": "stream",
     "text": [
      "There are 6449 rows and 4 columns in the dataset.\n"
     ]
    }
   ],
   "source": [
    "import os\n",
    "import pandas as pd\n",
    "import matplotlib.pyplot as plt\n",
    "import warnings\n",
    "warnings.filterwarnings('ignore')\n",
    "\n",
    "#wd = '/Users/kevin/Desktop/USP_587_data/OHAS_v2/'\n",
    "wd = 'C:/Users/saavedrak/Desktop/USP_587_data/OHAS_v2/'\n",
    "\n",
    "df = pd.read_csv(os.path.join(\n",
    "    os.path.dirname(\"__file__\"), \n",
    "    wd + 'household.csv'), usecols=['resty', 'income', 'hhveh', 'htrips'])\n",
    "\n",
    "# Count number of rows/columns in dataset:\n",
    "print(\"There are {} rows and {} columns in the dataset.\".format(df.shape[0], df.shape[1]))"
   ]
  },
  {
   "cell_type": "code",
   "execution_count": 140,
   "metadata": {},
   "outputs": [
    {
     "data": {
      "text/html": [
       "<div>\n",
       "<style scoped>\n",
       "    .dataframe tbody tr th:only-of-type {\n",
       "        vertical-align: middle;\n",
       "    }\n",
       "\n",
       "    .dataframe tbody tr th {\n",
       "        vertical-align: top;\n",
       "    }\n",
       "\n",
       "    .dataframe thead th {\n",
       "        text-align: right;\n",
       "    }\n",
       "</style>\n",
       "<table border=\"1\" class=\"dataframe\">\n",
       "  <thead>\n",
       "    <tr style=\"text-align: right;\">\n",
       "      <th></th>\n",
       "      <th>resty</th>\n",
       "    </tr>\n",
       "  </thead>\n",
       "  <tbody>\n",
       "    <tr>\n",
       "      <th>count</th>\n",
       "      <td>6449.000000</td>\n",
       "    </tr>\n",
       "    <tr>\n",
       "      <th>mean</th>\n",
       "      <td>1.401768</td>\n",
       "    </tr>\n",
       "    <tr>\n",
       "      <th>std</th>\n",
       "      <td>0.852127</td>\n",
       "    </tr>\n",
       "    <tr>\n",
       "      <th>min</th>\n",
       "      <td>1.000000</td>\n",
       "    </tr>\n",
       "    <tr>\n",
       "      <th>25%</th>\n",
       "      <td>1.000000</td>\n",
       "    </tr>\n",
       "    <tr>\n",
       "      <th>50%</th>\n",
       "      <td>1.000000</td>\n",
       "    </tr>\n",
       "    <tr>\n",
       "      <th>75%</th>\n",
       "      <td>1.000000</td>\n",
       "    </tr>\n",
       "    <tr>\n",
       "      <th>max</th>\n",
       "      <td>9.000000</td>\n",
       "    </tr>\n",
       "  </tbody>\n",
       "</table>\n",
       "</div>"
      ],
      "text/plain": [
       "             resty\n",
       "count  6449.000000\n",
       "mean      1.401768\n",
       "std       0.852127\n",
       "min       1.000000\n",
       "25%       1.000000\n",
       "50%       1.000000\n",
       "75%       1.000000\n",
       "max       9.000000"
      ]
     },
     "execution_count": 140,
     "metadata": {},
     "output_type": "execute_result"
    }
   ],
   "source": [
    "df_resty = df\n",
    "df_resty.name = 'Summary Statistics'\n",
    "df_resty['resty'].describe().to_frame()"
   ]
  },
  {
   "cell_type": "code",
   "execution_count": 177,
   "metadata": {},
   "outputs": [
    {
     "data": {
      "image/png": "[encoded data removed]",
      "text/plain": [
       "<Figure size 432x288 with 1 Axes>"
      ]
     },
     "metadata": {},
     "output_type": "display_data"
    }
   ],
   "source": [
    "grouped = df_resty.groupby(['resty'])['resty'].count().to_frame()\n",
    "grouped.plot.bar();\n",
    "plt.title('Counts of \"RESTY\" Data');\n",
    "plt.ylabel('Counts');\n",
    "plt.xlabel('Residence Codes');"
   ]
  },
  {
   "cell_type": "code",
   "execution_count": 128,
   "metadata": {},
   "outputs": [
    {
     "data": {
      "text/html": [
       "<div>\n",
       "<style scoped>\n",
       "    .dataframe tbody tr th:only-of-type {\n",
       "        vertical-align: middle;\n",
       "    }\n",
       "\n",
       "    .dataframe tbody tr th {\n",
       "        vertical-align: top;\n",
       "    }\n",
       "\n",
       "    .dataframe thead th {\n",
       "        text-align: right;\n",
       "    }\n",
       "</style>\n",
       "<table border=\"1\" class=\"dataframe\">\n",
       "  <thead>\n",
       "    <tr style=\"text-align: right;\">\n",
       "      <th></th>\n",
       "      <th>income</th>\n",
       "    </tr>\n",
       "  </thead>\n",
       "  <tbody>\n",
       "    <tr>\n",
       "      <th>count</th>\n",
       "      <td>6019.000000</td>\n",
       "    </tr>\n",
       "    <tr>\n",
       "      <th>mean</th>\n",
       "      <td>5.056156</td>\n",
       "    </tr>\n",
       "    <tr>\n",
       "      <th>std</th>\n",
       "      <td>1.911337</td>\n",
       "    </tr>\n",
       "    <tr>\n",
       "      <th>min</th>\n",
       "      <td>1.000000</td>\n",
       "    </tr>\n",
       "    <tr>\n",
       "      <th>25%</th>\n",
       "      <td>4.000000</td>\n",
       "    </tr>\n",
       "    <tr>\n",
       "      <th>50%</th>\n",
       "      <td>5.000000</td>\n",
       "    </tr>\n",
       "    <tr>\n",
       "      <th>75%</th>\n",
       "      <td>7.000000</td>\n",
       "    </tr>\n",
       "    <tr>\n",
       "      <th>max</th>\n",
       "      <td>8.000000</td>\n",
       "    </tr>\n",
       "  </tbody>\n",
       "</table>\n",
       "</div>"
      ],
      "text/plain": [
       "            income\n",
       "count  6019.000000\n",
       "mean      5.056156\n",
       "std       1.911337\n",
       "min       1.000000\n",
       "25%       4.000000\n",
       "50%       5.000000\n",
       "75%       7.000000\n",
       "max       8.000000"
      ]
     },
     "execution_count": 128,
     "metadata": {},
     "output_type": "execute_result"
    }
   ],
   "source": [
    "# Exclude responses of 99 'REFUSED'\n",
    "df_inc = df.loc[df['income'] != 99]\n",
    "df_inc['income'].describe().to_frame()"
   ]
  },
  {
   "cell_type": "code",
   "execution_count": 169,
   "metadata": {},
   "outputs": [
    {
     "data": {
      "image/png": "[encoded data removed]",
      "text/plain": [
       "<Figure size 432x288 with 1 Axes>"
      ]
     },
     "metadata": {},
     "output_type": "display_data"
    }
   ],
   "source": [
    "grouped = df_inc.groupby(['income'])['income'].count().to_frame()\n",
    "grouped.plot.bar();\n",
    "plt.title('Income Categories by Number of Respondents')\n",
    "plt.ylabel('Counts');\n",
    "plt.xlabel('Income Category');"
   ]
  },
  {
   "cell_type": "code",
   "execution_count": 133,
   "metadata": {},
   "outputs": [
    {
     "data": {
      "text/html": [
       "<div>\n",
       "<style scoped>\n",
       "    .dataframe tbody tr th:only-of-type {\n",
       "        vertical-align: middle;\n",
       "    }\n",
       "\n",
       "    .dataframe tbody tr th {\n",
       "        vertical-align: top;\n",
       "    }\n",
       "\n",
       "    .dataframe thead th {\n",
       "        text-align: right;\n",
       "    }\n",
       "</style>\n",
       "<table border=\"1\" class=\"dataframe\">\n",
       "  <thead>\n",
       "    <tr style=\"text-align: right;\">\n",
       "      <th></th>\n",
       "      <th>hhveh</th>\n",
       "    </tr>\n",
       "  </thead>\n",
       "  <tbody>\n",
       "    <tr>\n",
       "      <th>count</th>\n",
       "      <td>6449.000000</td>\n",
       "    </tr>\n",
       "    <tr>\n",
       "      <th>mean</th>\n",
       "      <td>1.948209</td>\n",
       "    </tr>\n",
       "    <tr>\n",
       "      <th>std</th>\n",
       "      <td>1.124169</td>\n",
       "    </tr>\n",
       "    <tr>\n",
       "      <th>min</th>\n",
       "      <td>0.000000</td>\n",
       "    </tr>\n",
       "    <tr>\n",
       "      <th>25%</th>\n",
       "      <td>1.000000</td>\n",
       "    </tr>\n",
       "    <tr>\n",
       "      <th>50%</th>\n",
       "      <td>2.000000</td>\n",
       "    </tr>\n",
       "    <tr>\n",
       "      <th>75%</th>\n",
       "      <td>2.000000</td>\n",
       "    </tr>\n",
       "    <tr>\n",
       "      <th>max</th>\n",
       "      <td>8.000000</td>\n",
       "    </tr>\n",
       "  </tbody>\n",
       "</table>\n",
       "</div>"
      ],
      "text/plain": [
       "             hhveh\n",
       "count  6449.000000\n",
       "mean      1.948209\n",
       "std       1.124169\n",
       "min       0.000000\n",
       "25%       1.000000\n",
       "50%       2.000000\n",
       "75%       2.000000\n",
       "max       8.000000"
      ]
     },
     "execution_count": 133,
     "metadata": {},
     "output_type": "execute_result"
    }
   ],
   "source": [
    "df_veh = df.loc[df['hhveh'] != 99]\n",
    "df_veh['hhveh'].describe().to_frame()"
   ]
  },
  {
   "cell_type": "code",
   "execution_count": 180,
   "metadata": {},
   "outputs": [
    {
     "data": {
      "image/png": "[encoded data removed]",
      "text/plain": [
       "<Figure size 432x288 with 1 Axes>"
      ]
     },
     "metadata": {},
     "output_type": "display_data"
    }
   ],
   "source": [
    "grouped = df_veh.groupby(['hhveh'])['hhveh'].count().to_frame()\n",
    "grouped.plot.bar();\n",
    "plt.title('Counts of Households per Household Vehicles')\n",
    "plt.ylabel('Counts of Households');\n",
    "plt.xlabel('Number of Vehicles per Household');"
   ]
  },
  {
   "cell_type": "code",
   "execution_count": 135,
   "metadata": {},
   "outputs": [
    {
     "data": {
      "text/html": [
       "<div>\n",
       "<style scoped>\n",
       "    .dataframe tbody tr th:only-of-type {\n",
       "        vertical-align: middle;\n",
       "    }\n",
       "\n",
       "    .dataframe tbody tr th {\n",
       "        vertical-align: top;\n",
       "    }\n",
       "\n",
       "    .dataframe thead th {\n",
       "        text-align: right;\n",
       "    }\n",
       "</style>\n",
       "<table border=\"1\" class=\"dataframe\">\n",
       "  <thead>\n",
       "    <tr style=\"text-align: right;\">\n",
       "      <th></th>\n",
       "      <th>htrips</th>\n",
       "    </tr>\n",
       "  </thead>\n",
       "  <tbody>\n",
       "    <tr>\n",
       "      <th>count</th>\n",
       "      <td>6449.000000</td>\n",
       "    </tr>\n",
       "    <tr>\n",
       "      <th>mean</th>\n",
       "      <td>9.815165</td>\n",
       "    </tr>\n",
       "    <tr>\n",
       "      <th>std</th>\n",
       "      <td>7.819117</td>\n",
       "    </tr>\n",
       "    <tr>\n",
       "      <th>min</th>\n",
       "      <td>0.000000</td>\n",
       "    </tr>\n",
       "    <tr>\n",
       "      <th>25%</th>\n",
       "      <td>4.000000</td>\n",
       "    </tr>\n",
       "    <tr>\n",
       "      <th>50%</th>\n",
       "      <td>8.000000</td>\n",
       "    </tr>\n",
       "    <tr>\n",
       "      <th>75%</th>\n",
       "      <td>14.000000</td>\n",
       "    </tr>\n",
       "    <tr>\n",
       "      <th>max</th>\n",
       "      <td>81.000000</td>\n",
       "    </tr>\n",
       "  </tbody>\n",
       "</table>\n",
       "</div>"
      ],
      "text/plain": [
       "            htrips\n",
       "count  6449.000000\n",
       "mean      9.815165\n",
       "std       7.819117\n",
       "min       0.000000\n",
       "25%       4.000000\n",
       "50%       8.000000\n",
       "75%      14.000000\n",
       "max      81.000000"
      ]
     },
     "execution_count": 135,
     "metadata": {},
     "output_type": "execute_result"
    }
   ],
   "source": [
    "df['htrips'].describe().to_frame()"
   ]
  },
  {
   "cell_type": "code",
   "execution_count": 187,
   "metadata": {},
   "outputs": [
    {
     "data": {
      "image/png": "[encoded data removed]",
      "text/plain": [
       "<Figure size 1440x720 with 1 Axes>"
      ]
     },
     "metadata": {},
     "output_type": "display_data"
    }
   ],
   "source": [
    "grouped = df_veh.groupby(['htrips'])['htrips'].count().to_frame()\n",
    "grouped.plot.bar(figsize=(20,10));\n",
    "plt.title('Frequency of Number of Household Trips')\n",
    "plt.ylabel('Frequency');\n",
    "plt.xlabel('Number of Household Trips');"
   ]
  },
  {
   "cell_type": "markdown",
   "metadata": {},
   "source": [
    "*Calculate average number of trips by vehicle:*"
   ]
  },
  {
   "cell_type": "code",
   "execution_count": 99,
   "metadata": {},
   "outputs": [
    {
     "data": {
      "text/html": [
       "<div>\n",
       "<style scoped>\n",
       "    .dataframe tbody tr th:only-of-type {\n",
       "        vertical-align: middle;\n",
       "    }\n",
       "\n",
       "    .dataframe tbody tr th {\n",
       "        vertical-align: top;\n",
       "    }\n",
       "\n",
       "    .dataframe thead th {\n",
       "        text-align: right;\n",
       "    }\n",
       "</style>\n",
       "<table border=\"1\" class=\"dataframe\">\n",
       "  <thead>\n",
       "    <tr style=\"text-align: right;\">\n",
       "      <th></th>\n",
       "      <th>htrips_avg</th>\n",
       "    </tr>\n",
       "    <tr>\n",
       "      <th>hhveh</th>\n",
       "      <th></th>\n",
       "    </tr>\n",
       "  </thead>\n",
       "  <tbody>\n",
       "    <tr>\n",
       "      <th>0</th>\n",
       "      <td>7.925072</td>\n",
       "    </tr>\n",
       "    <tr>\n",
       "      <th>1</th>\n",
       "      <td>6.988945</td>\n",
       "    </tr>\n",
       "    <tr>\n",
       "      <th>2</th>\n",
       "      <td>11.066562</td>\n",
       "    </tr>\n",
       "    <tr>\n",
       "      <th>3</th>\n",
       "      <td>11.666027</td>\n",
       "    </tr>\n",
       "    <tr>\n",
       "      <th>4</th>\n",
       "      <td>12.160350</td>\n",
       "    </tr>\n",
       "    <tr>\n",
       "      <th>5</th>\n",
       "      <td>12.377358</td>\n",
       "    </tr>\n",
       "    <tr>\n",
       "      <th>6</th>\n",
       "      <td>10.906977</td>\n",
       "    </tr>\n",
       "    <tr>\n",
       "      <th>7</th>\n",
       "      <td>13.416667</td>\n",
       "    </tr>\n",
       "    <tr>\n",
       "      <th>8</th>\n",
       "      <td>8.916667</td>\n",
       "    </tr>\n",
       "  </tbody>\n",
       "</table>\n",
       "</div>"
      ],
      "text/plain": [
       "       htrips_avg\n",
       "hhveh            \n",
       "0        7.925072\n",
       "1        6.988945\n",
       "2       11.066562\n",
       "3       11.666027\n",
       "4       12.160350\n",
       "5       12.377358\n",
       "6       10.906977\n",
       "7       13.416667\n",
       "8        8.916667"
      ]
     },
     "execution_count": 99,
     "metadata": {},
     "output_type": "execute_result"
    }
   ],
   "source": [
    "df_v1 = df.groupby(['hhveh'])['htrips'].mean().to_frame('htrips_avg')\n",
    "df_v1"
   ]
  },
  {
   "cell_type": "code",
   "execution_count": 188,
   "metadata": {},
   "outputs": [
    {
     "data": {
      "image/png": "[encoded data removed]",
      "text/plain": [
       "<Figure size 432x288 with 1 Axes>"
      ]
     },
     "metadata": {},
     "output_type": "display_data"
    }
   ],
   "source": [
    "df_v1.plot.bar();\n",
    "plt.title('Average Trips by Total Number of Household Vehicles');\n",
    "plt.xlabel('Total Household Vehicles');\n",
    "plt.ylabel('Average Number of Trips');"
   ]
  },
  {
   "cell_type": "markdown",
   "metadata": {},
   "source": [
    "*Calculate average number of trips by income:*"
   ]
  },
  {
   "cell_type": "code",
   "execution_count": 196,
   "metadata": {},
   "outputs": [
    {
     "data": {
      "text/html": [
       "<div>\n",
       "<style scoped>\n",
       "    .dataframe tbody tr th:only-of-type {\n",
       "        vertical-align: middle;\n",
       "    }\n",
       "\n",
       "    .dataframe tbody tr th {\n",
       "        vertical-align: top;\n",
       "    }\n",
       "\n",
       "    .dataframe thead th {\n",
       "        text-align: right;\n",
       "    }\n",
       "</style>\n",
       "<table border=\"1\" class=\"dataframe\">\n",
       "  <thead>\n",
       "    <tr style=\"text-align: right;\">\n",
       "      <th></th>\n",
       "      <th>htrips_avg</th>\n",
       "    </tr>\n",
       "    <tr>\n",
       "      <th>income</th>\n",
       "      <th></th>\n",
       "    </tr>\n",
       "  </thead>\n",
       "  <tbody>\n",
       "    <tr>\n",
       "      <th>1</th>\n",
       "      <td>6.359873</td>\n",
       "    </tr>\n",
       "    <tr>\n",
       "      <th>2</th>\n",
       "      <td>6.837113</td>\n",
       "    </tr>\n",
       "    <tr>\n",
       "      <th>3</th>\n",
       "      <td>6.828810</td>\n",
       "    </tr>\n",
       "    <tr>\n",
       "      <th>4</th>\n",
       "      <td>8.079408</td>\n",
       "    </tr>\n",
       "    <tr>\n",
       "      <th>5</th>\n",
       "      <td>9.677517</td>\n",
       "    </tr>\n",
       "    <tr>\n",
       "      <th>6</th>\n",
       "      <td>11.241623</td>\n",
       "    </tr>\n",
       "    <tr>\n",
       "      <th>7</th>\n",
       "      <td>12.244817</td>\n",
       "    </tr>\n",
       "    <tr>\n",
       "      <th>8</th>\n",
       "      <td>12.622642</td>\n",
       "    </tr>\n",
       "  </tbody>\n",
       "</table>\n",
       "</div>"
      ],
      "text/plain": [
       "        htrips_avg\n",
       "income            \n",
       "1         6.359873\n",
       "2         6.837113\n",
       "3         6.828810\n",
       "4         8.079408\n",
       "5         9.677517\n",
       "6        11.241623\n",
       "7        12.244817\n",
       "8        12.622642"
      ]
     },
     "execution_count": 196,
     "metadata": {},
     "output_type": "execute_result"
    }
   ],
   "source": [
    "df_vi = df_inc.groupby(['income'])['htrips'].mean().to_frame('htrips_avg')\n",
    "df_vi"
   ]
  },
  {
   "cell_type": "code",
   "execution_count": 197,
   "metadata": {},
   "outputs": [
    {
     "data": {
      "image/png": "[encoded data removed]",
      "text/plain": [
       "<Figure size 432x288 with 1 Axes>"
      ]
     },
     "metadata": {},
     "output_type": "display_data"
    }
   ],
   "source": [
    "df_vi.plot.bar();\n",
    "plt.title('Average Number of Trips by Income Category');\n",
    "plt.xlabel('Income Category');\n",
    "plt.ylabel('Average Number of Trips');"
   ]
  },
  {
   "cell_type": "markdown",
   "metadata": {},
   "source": [
    "*Based on your calculation, how do you describe the relationship between number of vehicles and number of trips?*\n",
    "\n",
    "Having two or more vehicles generally sees an increase in number of trips compared to zero or single-car households. The largest jump is from 1 to 2 cars per household, a 57% increase in trips. However, there is little difference between having 2-7 cars per household in terms of trips. The highest number of cars owned per household (8) actually sees fewer trips than the next highest categories.\n",
    "\n",
    "*Income?*\n",
    "\n",
    "Lowest income levels have similar numbers of trips, but generally speaking, the number of trips increase with income. "
   ]
  },
  {
   "cell_type": "markdown",
   "metadata": {},
   "source": [
    "*Create a new variable INC_CAT that collapses the 8 income categories in the raw INCOME column into 3 categories (e.g. \\$0 - \\$24,999, \\$25,000 - \\$49,999, \\$50,000 and above).*"
   ]
  },
  {
   "cell_type": "code",
   "execution_count": 198,
   "metadata": {},
   "outputs": [],
   "source": [
    "def income_categorizer(df_inc):\n",
    "    for index, row in df_inc.iterrows():\n",
    "        if row.income <= 2:\n",
    "            df_inc.set_value(index, 'inc_cat', 1)\n",
    "        elif row.income >= 3 and row.income <= 4:\n",
    "            df_inc.set_value(index, 'inc_cat', 2)\n",
    "        elif row.income >= 5:\n",
    "            df_inc.set_value(index, 'inc_cat', 3)\n",
    "    return df_inc\n",
    "        \n",
    "df_new_inc_cat = income_categorizer(df)\n"
   ]
  },
  {
   "cell_type": "markdown",
   "metadata": {},
   "source": [
    "*Count number of households within each INC_CAT* "
   ]
  },
  {
   "cell_type": "code",
   "execution_count": 120,
   "metadata": {},
   "outputs": [
    {
     "data": {
      "text/html": [
       "<div>\n",
       "<style scoped>\n",
       "    .dataframe tbody tr th:only-of-type {\n",
       "        vertical-align: middle;\n",
       "    }\n",
       "\n",
       "    .dataframe tbody tr th {\n",
       "        vertical-align: top;\n",
       "    }\n",
       "\n",
       "    .dataframe thead th {\n",
       "        text-align: right;\n",
       "    }\n",
       "</style>\n",
       "<table border=\"1\" class=\"dataframe\">\n",
       "  <thead>\n",
       "    <tr style=\"text-align: right;\">\n",
       "      <th></th>\n",
       "      <th>Number_of_households</th>\n",
       "    </tr>\n",
       "    <tr>\n",
       "      <th>inc_cat</th>\n",
       "      <th></th>\n",
       "    </tr>\n",
       "  </thead>\n",
       "  <tbody>\n",
       "    <tr>\n",
       "      <th>1.0</th>\n",
       "      <td>799</td>\n",
       "    </tr>\n",
       "    <tr>\n",
       "      <th>2.0</th>\n",
       "      <td>1222</td>\n",
       "    </tr>\n",
       "    <tr>\n",
       "      <th>3.0</th>\n",
       "      <td>4428</td>\n",
       "    </tr>\n",
       "  </tbody>\n",
       "</table>\n",
       "</div>"
      ],
      "text/plain": [
       "         Number_of_households\n",
       "inc_cat                      \n",
       "1.0                       799\n",
       "2.0                      1222\n",
       "3.0                      4428"
      ]
     },
     "execution_count": 120,
     "metadata": {},
     "output_type": "execute_result"
    }
   ],
   "source": [
    "df_new_inc_cat.groupby(['inc_cat']).size().to_frame('Number_of_households')"
   ]
  },
  {
   "cell_type": "markdown",
   "metadata": {},
   "source": [
    "*Calculate average number of trips by INC_CAT*"
   ]
  },
  {
   "cell_type": "code",
   "execution_count": 123,
   "metadata": {},
   "outputs": [
    {
     "data": {
      "text/html": [
       "<div>\n",
       "<style scoped>\n",
       "    .dataframe tbody tr th:only-of-type {\n",
       "        vertical-align: middle;\n",
       "    }\n",
       "\n",
       "    .dataframe tbody tr th {\n",
       "        vertical-align: top;\n",
       "    }\n",
       "\n",
       "    .dataframe thead th {\n",
       "        text-align: right;\n",
       "    }\n",
       "</style>\n",
       "<table border=\"1\" class=\"dataframe\">\n",
       "  <thead>\n",
       "    <tr style=\"text-align: right;\">\n",
       "      <th></th>\n",
       "      <th>htrips_avg</th>\n",
       "    </tr>\n",
       "    <tr>\n",
       "      <th>inc_cat</th>\n",
       "      <th></th>\n",
       "    </tr>\n",
       "  </thead>\n",
       "  <tbody>\n",
       "    <tr>\n",
       "      <th>1.0</th>\n",
       "      <td>6.649562</td>\n",
       "    </tr>\n",
       "    <tr>\n",
       "      <th>2.0</th>\n",
       "      <td>7.589198</td>\n",
       "    </tr>\n",
       "    <tr>\n",
       "      <th>3.0</th>\n",
       "      <td>11.000678</td>\n",
       "    </tr>\n",
       "  </tbody>\n",
       "</table>\n",
       "</div>"
      ],
      "text/plain": [
       "         htrips_avg\n",
       "inc_cat            \n",
       "1.0        6.649562\n",
       "2.0        7.589198\n",
       "3.0       11.000678"
      ]
     },
     "execution_count": 123,
     "metadata": {},
     "output_type": "execute_result"
    }
   ],
   "source": [
    "df_new_inc_cat.groupby(['inc_cat'])['htrips'].mean().to_frame('htrips_avg')"
   ]
  },
  {
   "cell_type": "markdown",
   "metadata": {},
   "source": [
    "*Create a new variable INCVAL that is equal to the mid-point of the range for categories 1 through 7 and $250,000 for category 8 (Set missing values for category 99). Run frequencies and summary to compute the mean and standard deviation for this new variable. Calculate the correlation between INCVAL and number of trips (HTRIPS).*"
   ]
  },
  {
   "cell_type": "code",
   "execution_count": 103,
   "metadata": {},
   "outputs": [
    {
     "data": {
      "text/html": [
       "<style  type=\"text/css\" >\n",
       "</style>  \n",
       "<table id=\"T_916440c6_48b3_11e8_8ca7_107b4449cbef\" > \n",
       "<thead>    <tr> \n",
       "        <th class=\"blank level0\" ></th> \n",
       "        <th class=\"col_heading level0 col0\" >hhveh</th> \n",
       "        <th class=\"col_heading level0 col1\" >resty</th> \n",
       "        <th class=\"col_heading level0 col2\" >income</th> \n",
       "        <th class=\"col_heading level0 col3\" >htrips</th> \n",
       "        <th class=\"col_heading level0 col4\" >inc_cat</th> \n",
       "        <th class=\"col_heading level0 col5\" >incval</th> \n",
       "    </tr></thead> \n",
       "<tbody>    <tr> \n",
       "        <th id=\"T_916440c6_48b3_11e8_8ca7_107b4449cbeflevel0_row0\" class=\"row_heading level0 row0\" >count</th> \n",
       "        <td id=\"T_916440c6_48b3_11e8_8ca7_107b4449cbefrow0_col0\" class=\"data row0 col0\" >6449</td> \n",
       "        <td id=\"T_916440c6_48b3_11e8_8ca7_107b4449cbefrow0_col1\" class=\"data row0 col1\" >6449</td> \n",
       "        <td id=\"T_916440c6_48b3_11e8_8ca7_107b4449cbefrow0_col2\" class=\"data row0 col2\" >6449</td> \n",
       "        <td id=\"T_916440c6_48b3_11e8_8ca7_107b4449cbefrow0_col3\" class=\"data row0 col3\" >6449</td> \n",
       "        <td id=\"T_916440c6_48b3_11e8_8ca7_107b4449cbefrow0_col4\" class=\"data row0 col4\" >6449</td> \n",
       "        <td id=\"T_916440c6_48b3_11e8_8ca7_107b4449cbefrow0_col5\" class=\"data row0 col5\" >6019</td> \n",
       "    </tr>    <tr> \n",
       "        <th id=\"T_916440c6_48b3_11e8_8ca7_107b4449cbeflevel0_row1\" class=\"row_heading level0 row1\" >mean</th> \n",
       "        <td id=\"T_916440c6_48b3_11e8_8ca7_107b4449cbefrow1_col0\" class=\"data row1 col0\" >1.94821</td> \n",
       "        <td id=\"T_916440c6_48b3_11e8_8ca7_107b4449cbefrow1_col1\" class=\"data row1 col1\" >1.40177</td> \n",
       "        <td id=\"T_916440c6_48b3_11e8_8ca7_107b4449cbefrow1_col2\" class=\"data row1 col2\" >11.32</td> \n",
       "        <td id=\"T_916440c6_48b3_11e8_8ca7_107b4449cbefrow1_col3\" class=\"data row1 col3\" >9.81517</td> \n",
       "        <td id=\"T_916440c6_48b3_11e8_8ca7_107b4449cbefrow1_col4\" class=\"data row1 col4\" >2.56272</td> \n",
       "        <td id=\"T_916440c6_48b3_11e8_8ca7_107b4449cbefrow1_col5\" class=\"data row1 col5\" >82889.6</td> \n",
       "    </tr>    <tr> \n",
       "        <th id=\"T_916440c6_48b3_11e8_8ca7_107b4449cbeflevel0_row2\" class=\"row_heading level0 row2\" >std</th> \n",
       "        <td id=\"T_916440c6_48b3_11e8_8ca7_107b4449cbefrow2_col0\" class=\"data row2 col0\" >1.12417</td> \n",
       "        <td id=\"T_916440c6_48b3_11e8_8ca7_107b4449cbefrow2_col1\" class=\"data row2 col1\" >0.852127</td> \n",
       "        <td id=\"T_916440c6_48b3_11e8_8ca7_107b4449cbefrow2_col2\" class=\"data row2 col2\" >23.5098</td> \n",
       "        <td id=\"T_916440c6_48b3_11e8_8ca7_107b4449cbefrow2_col3\" class=\"data row2 col3\" >7.81912</td> \n",
       "        <td id=\"T_916440c6_48b3_11e8_8ca7_107b4449cbefrow2_col4\" class=\"data row2 col4\" >0.702804</td> \n",
       "        <td id=\"T_916440c6_48b3_11e8_8ca7_107b4449cbefrow2_col5\" class=\"data row2 col5\" >62390.2</td> \n",
       "    </tr>    <tr> \n",
       "        <th id=\"T_916440c6_48b3_11e8_8ca7_107b4449cbeflevel0_row3\" class=\"row_heading level0 row3\" >min</th> \n",
       "        <td id=\"T_916440c6_48b3_11e8_8ca7_107b4449cbefrow3_col0\" class=\"data row3 col0\" >0</td> \n",
       "        <td id=\"T_916440c6_48b3_11e8_8ca7_107b4449cbefrow3_col1\" class=\"data row3 col1\" >1</td> \n",
       "        <td id=\"T_916440c6_48b3_11e8_8ca7_107b4449cbefrow3_col2\" class=\"data row3 col2\" >1</td> \n",
       "        <td id=\"T_916440c6_48b3_11e8_8ca7_107b4449cbefrow3_col3\" class=\"data row3 col3\" >0</td> \n",
       "        <td id=\"T_916440c6_48b3_11e8_8ca7_107b4449cbefrow3_col4\" class=\"data row3 col4\" >1</td> \n",
       "        <td id=\"T_916440c6_48b3_11e8_8ca7_107b4449cbefrow3_col5\" class=\"data row3 col5\" >7499.5</td> \n",
       "    </tr>    <tr> \n",
       "        <th id=\"T_916440c6_48b3_11e8_8ca7_107b4449cbeflevel0_row4\" class=\"row_heading level0 row4\" >25%</th> \n",
       "        <td id=\"T_916440c6_48b3_11e8_8ca7_107b4449cbefrow4_col0\" class=\"data row4 col0\" >1</td> \n",
       "        <td id=\"T_916440c6_48b3_11e8_8ca7_107b4449cbefrow4_col1\" class=\"data row4 col1\" >1</td> \n",
       "        <td id=\"T_916440c6_48b3_11e8_8ca7_107b4449cbefrow4_col2\" class=\"data row4 col2\" >4</td> \n",
       "        <td id=\"T_916440c6_48b3_11e8_8ca7_107b4449cbefrow4_col3\" class=\"data row4 col3\" >4</td> \n",
       "        <td id=\"T_916440c6_48b3_11e8_8ca7_107b4449cbefrow4_col4\" class=\"data row4 col4\" >2</td> \n",
       "        <td id=\"T_916440c6_48b3_11e8_8ca7_107b4449cbefrow4_col5\" class=\"data row4 col5\" >42499.5</td> \n",
       "    </tr>    <tr> \n",
       "        <th id=\"T_916440c6_48b3_11e8_8ca7_107b4449cbeflevel0_row5\" class=\"row_heading level0 row5\" >50%</th> \n",
       "        <td id=\"T_916440c6_48b3_11e8_8ca7_107b4449cbefrow5_col0\" class=\"data row5 col0\" >2</td> \n",
       "        <td id=\"T_916440c6_48b3_11e8_8ca7_107b4449cbefrow5_col1\" class=\"data row5 col1\" >1</td> \n",
       "        <td id=\"T_916440c6_48b3_11e8_8ca7_107b4449cbefrow5_col2\" class=\"data row5 col2\" >5</td> \n",
       "        <td id=\"T_916440c6_48b3_11e8_8ca7_107b4449cbefrow5_col3\" class=\"data row5 col3\" >8</td> \n",
       "        <td id=\"T_916440c6_48b3_11e8_8ca7_107b4449cbefrow5_col4\" class=\"data row5 col4\" >3</td> \n",
       "        <td id=\"T_916440c6_48b3_11e8_8ca7_107b4449cbefrow5_col5\" class=\"data row5 col5\" >62499.5</td> \n",
       "    </tr>    <tr> \n",
       "        <th id=\"T_916440c6_48b3_11e8_8ca7_107b4449cbeflevel0_row6\" class=\"row_heading level0 row6\" >75%</th> \n",
       "        <td id=\"T_916440c6_48b3_11e8_8ca7_107b4449cbefrow6_col0\" class=\"data row6 col0\" >2</td> \n",
       "        <td id=\"T_916440c6_48b3_11e8_8ca7_107b4449cbefrow6_col1\" class=\"data row6 col1\" >1</td> \n",
       "        <td id=\"T_916440c6_48b3_11e8_8ca7_107b4449cbefrow6_col2\" class=\"data row6 col2\" >7</td> \n",
       "        <td id=\"T_916440c6_48b3_11e8_8ca7_107b4449cbefrow6_col3\" class=\"data row6 col3\" >14</td> \n",
       "        <td id=\"T_916440c6_48b3_11e8_8ca7_107b4449cbefrow6_col4\" class=\"data row6 col4\" >3</td> \n",
       "        <td id=\"T_916440c6_48b3_11e8_8ca7_107b4449cbefrow6_col5\" class=\"data row6 col5\" >125000</td> \n",
       "    </tr>    <tr> \n",
       "        <th id=\"T_916440c6_48b3_11e8_8ca7_107b4449cbeflevel0_row7\" class=\"row_heading level0 row7\" >max</th> \n",
       "        <td id=\"T_916440c6_48b3_11e8_8ca7_107b4449cbefrow7_col0\" class=\"data row7 col0\" >8</td> \n",
       "        <td id=\"T_916440c6_48b3_11e8_8ca7_107b4449cbefrow7_col1\" class=\"data row7 col1\" >9</td> \n",
       "        <td id=\"T_916440c6_48b3_11e8_8ca7_107b4449cbefrow7_col2\" class=\"data row7 col2\" >99</td> \n",
       "        <td id=\"T_916440c6_48b3_11e8_8ca7_107b4449cbefrow7_col3\" class=\"data row7 col3\" >81</td> \n",
       "        <td id=\"T_916440c6_48b3_11e8_8ca7_107b4449cbefrow7_col4\" class=\"data row7 col4\" >3</td> \n",
       "        <td id=\"T_916440c6_48b3_11e8_8ca7_107b4449cbefrow7_col5\" class=\"data row7 col5\" >250000</td> \n",
       "    </tr></tbody> \n",
       "</table> "
      ],
      "text/plain": [
       "<pandas.io.formats.style.Styler at 0x1a886b9fe80>"
      ]
     },
     "execution_count": 103,
     "metadata": {},
     "output_type": "execute_result"
    }
   ],
   "source": [
    "def set_incval(df_incval):\n",
    "    \"\"\"\n",
    "    Creates new variable `incval` that is equal to the midpoint of indicated salary ranges.\n",
    "    \"\"\"\n",
    "    for index, row in df_incval.iterrows():\n",
    "        if row.income == 1:\n",
    "            df_incval.set_value(index, 'incval', ((14999-0)/2 + 0))\n",
    "        elif row.income == 2:\n",
    "            df_incval.set_value(index, 'incval', ((15000-24999)/2 + 24999))\n",
    "        elif row.income == 3:\n",
    "            df_incval.set_value(index, 'incval', ((34999-25000)/2 + 25000))\n",
    "        elif row.income == 4:\n",
    "            df_incval.set_value(index, 'incval', ((49999-35000)/2 + 35000))\n",
    "        elif row.income == 5:\n",
    "            df_incval.set_value(index, 'incval', ((74999-50000)/2 + 50000))\n",
    "        elif row.income == 6:\n",
    "            df_incval.set_value(index, 'incval', ((99999-75000)/2 + 75000)) \n",
    "        elif row.income == 7:\n",
    "            df_incval.set_value(index, 'incval', ((149999-100000)/2 + 100000))\n",
    "        elif row.income == 8:\n",
    "            df_incval.set_value(index, 'incval', 250000)\n",
    "        elif row.income == 99:\n",
    "            df_incval.set_value(index, 'incval', None)          \n",
    "    return df_incval\n",
    "\n",
    "df_incval_new = set_incval(df_new_inc_cat)\n",
    "df_incval_new.describe().style"
   ]
  },
  {
   "cell_type": "markdown",
   "metadata": {},
   "source": [
    "*Explain why the mean and standard deviation from the original income category (INCOME) variable would not be useful.*\n",
    "\n",
    "Original INCOME variables are not useful since they are coded values and do accurately convey the actual dollar amounts needed for useful analysis."
   ]
  },
  {
   "cell_type": "markdown",
   "metadata": {},
   "source": [
    "*Calculate the correlation between INCVAL and number of trips*"
   ]
  },
  {
   "cell_type": "code",
   "execution_count": 104,
   "metadata": {},
   "outputs": [
    {
     "name": "stdout",
     "output_type": "stream",
     "text": [
      "Correlation between incval and htrips:\n",
      "0.22775753948597108\n"
     ]
    }
   ],
   "source": [
    "print('Correlation between incval and htrips:')\n",
    "print(df_incval_new['incval'].corr(df_incval_new['htrips']))"
   ]
  },
  {
   "cell_type": "markdown",
   "metadata": {},
   "source": [
    "*Recode HHVEH into a new variable HHVEH_CAT to reduce the size of the table (this will make interpretation easier). Use judgment about which groups to combine (review your frequency analysis in Question a) in making these judgments). You can accomplish the regrouping by using the RECODE command in SPSS (or cut function in R and if function in Excel). When grouping variables, you should create a new variable and modify the variable name value labels appropriately. Calculate average number of trips by HHVEH_CAT. What is the advantage of this calculation comparing with the average number of trips by number of vehicles in question b)?*"
   ]
  },
  {
   "cell_type": "code",
   "execution_count": 105,
   "metadata": {},
   "outputs": [
    {
     "data": {
      "text/html": [
       "<div>\n",
       "<style scoped>\n",
       "    .dataframe tbody tr th:only-of-type {\n",
       "        vertical-align: middle;\n",
       "    }\n",
       "\n",
       "    .dataframe tbody tr th {\n",
       "        vertical-align: top;\n",
       "    }\n",
       "\n",
       "    .dataframe thead th {\n",
       "        text-align: right;\n",
       "    }\n",
       "</style>\n",
       "<table border=\"1\" class=\"dataframe\">\n",
       "  <thead>\n",
       "    <tr style=\"text-align: right;\">\n",
       "      <th></th>\n",
       "      <th>htrips</th>\n",
       "    </tr>\n",
       "    <tr>\n",
       "      <th>hhveh_cat</th>\n",
       "      <th></th>\n",
       "    </tr>\n",
       "  </thead>\n",
       "  <tbody>\n",
       "    <tr>\n",
       "      <th>0.0</th>\n",
       "      <td>7.973134</td>\n",
       "    </tr>\n",
       "    <tr>\n",
       "      <th>1.0</th>\n",
       "      <td>6.999454</td>\n",
       "    </tr>\n",
       "    <tr>\n",
       "      <th>2.0</th>\n",
       "      <td>11.125842</td>\n",
       "    </tr>\n",
       "    <tr>\n",
       "      <th>3.0</th>\n",
       "      <td>11.713220</td>\n",
       "    </tr>\n",
       "  </tbody>\n",
       "</table>\n",
       "</div>"
      ],
      "text/plain": [
       "              htrips\n",
       "hhveh_cat           \n",
       "0.0         7.973134\n",
       "1.0         6.999454\n",
       "2.0        11.125842\n",
       "3.0        11.713220"
      ]
     },
     "execution_count": 105,
     "metadata": {},
     "output_type": "execute_result"
    }
   ],
   "source": [
    "def vehicle_categorizer(df_veh):\n",
    "    for index, row in df_inc.iterrows():\n",
    "        if row.hhveh == 0:\n",
    "            df_veh.set_value(index, 'hhveh_cat', 0)\n",
    "        elif row.hhveh == 1:\n",
    "            df_veh.set_value(index, 'hhveh_cat', 1)\n",
    "        elif row.hhveh == 2:\n",
    "            df_veh.set_value(index, 'hhveh_cat', 2)\n",
    "        elif row.hhveh >= 3:\n",
    "            df_veh.set_value(index, 'hhveh_cat', 3)\n",
    "    return df_veh\n",
    "\n",
    "\n",
    "df_veh_cat_new = vehicle_categorizer(df)\n",
    "df_veh_cat_new.groupby(['hhveh_cat'])['htrips'].mean().to_frame()"
   ]
  },
  {
   "cell_type": "markdown",
   "metadata": {},
   "source": [
    "*What is the advantage of this calculation comparing with the average number of trips by number of vehicles in question b)?*\n",
    "\n",
    "Regrouping the hhveh number allows us to better match average vehicle ownership rates per household in the U.S. "
   ]
  },
  {
   "cell_type": "code",
   "execution_count": 106,
   "metadata": {},
   "outputs": [
    {
     "name": "stdout",
     "output_type": "stream",
     "text": [
      "Correlation between income and htrips:\n",
      "0.009354924462337915\n",
      "Correlation between incval and htrips:\n",
      "0.22775753948597108\n",
      "Correlation between inc_cat and htrips:\n",
      "0.21953006181990783\n",
      "Correlation between hhveh and htrips:\n",
      "0.20514602823433548\n",
      "Correlation between hhveh_cat and htrips:\n",
      "0.22888844496188693\n"
     ]
    }
   ],
   "source": [
    "print('Correlation between income and htrips:')\n",
    "print(df_veh_cat_new['income'].corr(df_veh_cat_new['htrips']))\n",
    "print('Correlation between incval and htrips:')\n",
    "print(df_veh_cat_new['incval'].corr(df_veh_cat_new['htrips']))\n",
    "print('Correlation between inc_cat and htrips:')\n",
    "print(df_veh_cat_new['inc_cat'].corr(df_veh_cat_new['htrips']))\n",
    "print('Correlation between hhveh and htrips:')\n",
    "print(df_veh_cat_new['hhveh'].corr(df_veh_cat_new['htrips']))\n",
    "print('Correlation between hhveh_cat and htrips:')\n",
    "print(df_veh_cat_new['hhveh_cat'].corr(df_veh_cat_new['htrips']))"
   ]
  },
  {
   "cell_type": "code",
   "execution_count": 107,
   "metadata": {},
   "outputs": [
    {
     "name": "stdout",
     "output_type": "stream",
     "text": [
      "Correlation between income and resty:\n",
      "-0.0162821497354745\n",
      "Correlation between incval and resty:\n",
      "-0.2803100704706675\n",
      "Correlation between inc_cat and resty:\n",
      "-0.3519339774256669\n",
      "Correlation between hhveh and resty:\n",
      "-0.3621330617193173\n",
      "Correlation between hhveh_cat and resty:\n",
      "-0.41460350230683385\n"
     ]
    }
   ],
   "source": [
    "print('Correlation between income and resty:')\n",
    "print(df_veh_cat_new['income'].corr(df_veh_cat_new['resty']))\n",
    "print('Correlation between incval and resty:')\n",
    "print(df_veh_cat_new['incval'].corr(df_veh_cat_new['resty']))\n",
    "print('Correlation between inc_cat and resty:')\n",
    "print(df_veh_cat_new['inc_cat'].corr(df_veh_cat_new['resty']))\n",
    "print('Correlation between hhveh and resty:')\n",
    "print(df_veh_cat_new['hhveh'].corr(df_veh_cat_new['resty']))\n",
    "print('Correlation between hhveh_cat and resty:')\n",
    "print(df_veh_cat_new['hhveh_cat'].corr(df_veh_cat_new['resty']))"
   ]
  },
  {
   "cell_type": "code",
   "execution_count": null,
   "metadata": {},
   "outputs": [],
   "source": []
  },
  {
   "cell_type": "markdown",
   "metadata": {},
   "source": [
    "*Explain what the weight column (hhwgt and exphhwgt) is (or does)?*\n",
    "\n",
    "Weights households to give more or less emphasis to certain responses, possibly as calibration for a full population's size."
   ]
  },
  {
   "cell_type": "markdown",
   "metadata": {},
   "source": [
    "*Create a new variable by multiplying the number of trips with the household weighting factor (exphhwgt), for example, for the first household in the household table in OHAS data set, 3 vehicles &ast; weighting factor of 217.05 = 651.15 weighted vehicles*"
   ]
  },
  {
   "cell_type": "code",
   "execution_count": 108,
   "metadata": {},
   "outputs": [
    {
     "data": {
      "text/html": [
       "<style  type=\"text/css\" >\n",
       "</style>  \n",
       "<table id=\"T_91a2c818_48b3_11e8_aad6_107b4449cbef\" > \n",
       "<thead>    <tr> \n",
       "        <th class=\"blank level0\" ></th> \n",
       "        <th class=\"col_heading level0 col0\" >0</th> \n",
       "    </tr></thead> \n",
       "<tbody>    <tr> \n",
       "        <th id=\"T_91a2c818_48b3_11e8_aad6_107b4449cbeflevel0_row0\" class=\"row_heading level0 row0\" >hhveh</th> \n",
       "        <td id=\"T_91a2c818_48b3_11e8_aad6_107b4449cbefrow0_col0\" class=\"data row0 col0\" >3</td> \n",
       "    </tr>    <tr> \n",
       "        <th id=\"T_91a2c818_48b3_11e8_aad6_107b4449cbeflevel0_row1\" class=\"row_heading level0 row1\" >resty</th> \n",
       "        <td id=\"T_91a2c818_48b3_11e8_aad6_107b4449cbefrow1_col0\" class=\"data row1 col0\" >1</td> \n",
       "    </tr>    <tr> \n",
       "        <th id=\"T_91a2c818_48b3_11e8_aad6_107b4449cbeflevel0_row2\" class=\"row_heading level0 row2\" >income</th> \n",
       "        <td id=\"T_91a2c818_48b3_11e8_aad6_107b4449cbefrow2_col0\" class=\"data row2 col0\" >5</td> \n",
       "    </tr>    <tr> \n",
       "        <th id=\"T_91a2c818_48b3_11e8_aad6_107b4449cbeflevel0_row3\" class=\"row_heading level0 row3\" >htrips</th> \n",
       "        <td id=\"T_91a2c818_48b3_11e8_aad6_107b4449cbefrow3_col0\" class=\"data row3 col0\" >6</td> \n",
       "    </tr>    <tr> \n",
       "        <th id=\"T_91a2c818_48b3_11e8_aad6_107b4449cbeflevel0_row4\" class=\"row_heading level0 row4\" >hhwgt</th> \n",
       "        <td id=\"T_91a2c818_48b3_11e8_aad6_107b4449cbefrow4_col0\" class=\"data row4 col0\" >1.5912</td> \n",
       "    </tr>    <tr> \n",
       "        <th id=\"T_91a2c818_48b3_11e8_aad6_107b4449cbeflevel0_row5\" class=\"row_heading level0 row5\" >exphhwgt</th> \n",
       "        <td id=\"T_91a2c818_48b3_11e8_aad6_107b4449cbefrow5_col0\" class=\"data row5 col0\" >217.054</td> \n",
       "    </tr>    <tr> \n",
       "        <th id=\"T_91a2c818_48b3_11e8_aad6_107b4449cbeflevel0_row6\" class=\"row_heading level0 row6\" >hhvehwgt</th> \n",
       "        <td id=\"T_91a2c818_48b3_11e8_aad6_107b4449cbefrow6_col0\" class=\"data row6 col0\" >651.163</td> \n",
       "    </tr></tbody> \n",
       "</table> "
      ],
      "text/plain": [
       "<pandas.io.formats.style.Styler at 0x1a886b9b160>"
      ]
     },
     "execution_count": 108,
     "metadata": {},
     "output_type": "execute_result"
    }
   ],
   "source": [
    "df = pd.read_csv(os.path.join(\n",
    "    os.path.dirname(\"__file__\"), \n",
    "    wd + 'household.csv'), usecols=['resty', 'income', 'hhveh', \n",
    "                                    'hhwgt', 'htrips', 'exphhwgt'])\n",
    "df['hhvehwgt'] = df['exphhwgt'] * df['hhveh']\n",
    "df.iloc[0].to_frame().style"
   ]
  },
  {
   "cell_type": "markdown",
   "metadata": {},
   "source": [
    "*Sum the new variable created in step 1 over all samples (households) and sum the entire weighting factor (exphhwgt) over all samples (households);*"
   ]
  },
  {
   "cell_type": "code",
   "execution_count": 109,
   "metadata": {},
   "outputs": [
    {
     "name": "stdout",
     "output_type": "stream",
     "text": [
      "hhvehwgt sum = 1487688.81285771\n",
      "exphhwgt sum = 807567.000001436\n"
     ]
    }
   ],
   "source": [
    "sum_hhvehwgt = df['hhvehwgt'].sum()\n",
    "sum_exphhwgt = df['exphhwgt'].sum()\n",
    "print(\"hhvehwgt sum =\", sum_hhvehwgt)\n",
    "print(\"exphhwgt sum =\", sum_exphhwgt)"
   ]
  },
  {
   "cell_type": "markdown",
   "metadata": {},
   "source": [
    "*Divide the sum of weighted variable by the sum of weighting factors and you get the weighted average (mean)*"
   ]
  },
  {
   "cell_type": "code",
   "execution_count": 110,
   "metadata": {},
   "outputs": [
    {
     "name": "stdout",
     "output_type": "stream",
     "text": [
      "Weighted average = 1.842186236999611\n"
     ]
    }
   ],
   "source": [
    "print(\"Weighted average =\", sum_hhvehwgt / sum_exphhwgt)"
   ]
  },
  {
   "cell_type": "code",
   "execution_count": 111,
   "metadata": {},
   "outputs": [
    {
     "name": "stdout",
     "output_type": "stream",
     "text": [
      "1.9482090246549852\n"
     ]
    }
   ],
   "source": [
    "hhveh_avg = df['hhveh'].mean()\n",
    "print(hhveh_avg)"
   ]
  },
  {
   "cell_type": "markdown",
   "metadata": {},
   "source": [
    "*Is there a difference between the average number of vehicles and the weighted average number of vehicles? If so, what does the difference tell you?*\n",
    "\n",
    "Yes, there is a very slight difference between the weighted average and the vehicular average, which means that the survey response may be recording slightly higher vehicle numbers than is accurate."
   ]
  },
  {
   "cell_type": "markdown",
   "metadata": {},
   "source": [
    "*Following the same steps above, compute the percent of households that use transit at least once a week (the RIBUS column) without and with the household weighting factor.*"
   ]
  },
  {
   "cell_type": "code",
   "execution_count": 199,
   "metadata": {
    "scrolled": false
   },
   "outputs": [
    {
     "name": "stdout",
     "output_type": "stream",
     "text": [
      "ribus unweighted = 1.3809380521963095 percent\n",
      "ribus weighted = 28.599366847117246 percent\n"
     ]
    }
   ],
   "source": [
    "def calc_ribus(df_ribus):\n",
    "    for index, row in df_ribus.iterrows():\n",
    "        if row.ribus == 1:\n",
    "            df_ribus.set_value(index, 'ribus_count', 1)\n",
    "    return df_ribus\n",
    "\n",
    "\n",
    "# Load CSV\n",
    "df = pd.read_csv(os.path.join(\n",
    "    os.path.dirname(\"__file__\"), \n",
    "    wd + 'household.csv'), usecols=['resty', 'income', 'hhveh', \n",
    "                                    'ribus', 'htrips', 'hhwgt', 'exphhwgt'])\n",
    "# Apply ribus calculation function\n",
    "df = calc_ribus(df)\n",
    "\n",
    "df['ribuswgt'] = df['exphhwgt'] * df['ribus_count']\n",
    "ribus_pct = (df['ribus'].sum() / df['exphhwgt'].sum()) * 100\n",
    "ribuswgt_pct = (df['ribuswgt'].sum() / df['exphhwgt'].sum()) * 100\n",
    "print(\"ribus unweighted =\", ribus_pct, 'percent')\n",
    "print(\"ribus weighted =\", ribuswgt_pct, 'percent')"
   ]
  }
 ],
 "metadata": {
  "kernelspec": {
   "display_name": "Python 3",
   "language": "python",
   "name": "python3"
  },
  "language_info": {
   "codemirror_mode": {
    "name": "ipython",
    "version": 3
   },
   "file_extension": ".py",
   "mimetype": "text/x-python",
   "name": "python",
   "nbconvert_exporter": "python",
   "pygments_lexer": "ipython3",
   "version": "3.6.4"
  }
 },
 "nbformat": 4,
 "nbformat_minor": 2
}
