{
 "cells": [
  {
   "cell_type": "code",
   "execution_count": 189,
   "metadata": {},
   "outputs": [],
   "source": [
    "library(dplyr)\n",
    "library(ggplot2)\n",
    "\n",
    "df <- read.csv(paste(\"C:/Users/saavedrak/Desktop/\",\n",
    "                     \"USP_587_data/HW2/household_hbw.csv\", sep=\"\"))"
   ]
  },
  {
   "cell_type": "code",
   "execution_count": 190,
   "metadata": {},
   "outputs": [
    {
     "name": "stdout",
     "output_type": "stream",
     "text": [
      "[1] 6437\n"
     ]
    },
    {
     "data": {
      "text/html": [
       "<table>\n",
       "<thead><tr><th scope=col>resty</th><th scope=col>hhveh</th><th scope=col>count</th><th scope=col>avg_trips</th></tr></thead>\n",
       "<tbody>\n",
       "\t<tr><td>1        </td><td>0        </td><td>  90     </td><td> 8.222222</td></tr>\n",
       "\t<tr><td>1        </td><td>1        </td><td>1203     </td><td> 7.142145</td></tr>\n",
       "\t<tr><td>1        </td><td>2        </td><td>2351     </td><td>11.220757</td></tr>\n",
       "\t<tr><td>1        </td><td>3        </td><td>1498     </td><td>11.864486</td></tr>\n",
       "\t<tr><td>2        </td><td>0        </td><td>  26     </td><td>10.576923</td></tr>\n",
       "\t<tr><td>2        </td><td>1        </td><td> 110     </td><td> 6.881818</td></tr>\n",
       "\t<tr><td>2        </td><td>2        </td><td>  39     </td><td>11.153846</td></tr>\n",
       "\t<tr><td>2        </td><td>3        </td><td>  13     </td><td>15.461538</td></tr>\n",
       "\t<tr><td>3        </td><td>0        </td><td> 219     </td><td> 7.716895</td></tr>\n",
       "\t<tr><td>3        </td><td>1        </td><td> 613     </td><td> 6.905383</td></tr>\n",
       "\t<tr><td>3        </td><td>2        </td><td> 141     </td><td> 9.241135</td></tr>\n",
       "\t<tr><td>3        </td><td>3        </td><td>  27     </td><td> 9.555556</td></tr>\n",
       "\t<tr><td>4        </td><td>0        </td><td>  10     </td><td> 4.200000</td></tr>\n",
       "\t<tr><td>4        </td><td>1        </td><td>  61     </td><td> 5.213115</td></tr>\n",
       "\t<tr><td>4        </td><td>2        </td><td>  21     </td><td> 6.428571</td></tr>\n",
       "\t<tr><td>4        </td><td>3        </td><td>  15     </td><td> 7.333333</td></tr>\n",
       "</tbody>\n",
       "</table>\n"
      ],
      "text/latex": [
       "\\begin{tabular}{r|llll}\n",
       " resty & hhveh & count & avg\\_trips\\\\\n",
       "\\hline\n",
       "\t 1         & 0         &   90      &  8.222222\\\\\n",
       "\t 1         & 1         & 1203      &  7.142145\\\\\n",
       "\t 1         & 2         & 2351      & 11.220757\\\\\n",
       "\t 1         & 3         & 1498      & 11.864486\\\\\n",
       "\t 2         & 0         &   26      & 10.576923\\\\\n",
       "\t 2         & 1         &  110      &  6.881818\\\\\n",
       "\t 2         & 2         &   39      & 11.153846\\\\\n",
       "\t 2         & 3         &   13      & 15.461538\\\\\n",
       "\t 3         & 0         &  219      &  7.716895\\\\\n",
       "\t 3         & 1         &  613      &  6.905383\\\\\n",
       "\t 3         & 2         &  141      &  9.241135\\\\\n",
       "\t 3         & 3         &   27      &  9.555556\\\\\n",
       "\t 4         & 0         &   10      &  4.200000\\\\\n",
       "\t 4         & 1         &   61      &  5.213115\\\\\n",
       "\t 4         & 2         &   21      &  6.428571\\\\\n",
       "\t 4         & 3         &   15      &  7.333333\\\\\n",
       "\\end{tabular}\n"
      ],
      "text/markdown": [
       "\n",
       "resty | hhveh | count | avg_trips | \n",
       "|---|---|---|---|---|---|---|---|---|---|---|---|---|---|---|---|\n",
       "| 1         | 0         |   90      |  8.222222 | \n",
       "| 1         | 1         | 1203      |  7.142145 | \n",
       "| 1         | 2         | 2351      | 11.220757 | \n",
       "| 1         | 3         | 1498      | 11.864486 | \n",
       "| 2         | 0         |   26      | 10.576923 | \n",
       "| 2         | 1         |  110      |  6.881818 | \n",
       "| 2         | 2         |   39      | 11.153846 | \n",
       "| 2         | 3         |   13      | 15.461538 | \n",
       "| 3         | 0         |  219      |  7.716895 | \n",
       "| 3         | 1         |  613      |  6.905383 | \n",
       "| 3         | 2         |  141      |  9.241135 | \n",
       "| 3         | 3         |   27      |  9.555556 | \n",
       "| 4         | 0         |   10      |  4.200000 | \n",
       "| 4         | 1         |   61      |  5.213115 | \n",
       "| 4         | 2         |   21      |  6.428571 | \n",
       "| 4         | 3         |   15      |  7.333333 | \n",
       "\n",
       "\n"
      ],
      "text/plain": [
       "   resty hhveh count avg_trips\n",
       "1  1     0       90   8.222222\n",
       "2  1     1     1203   7.142145\n",
       "3  1     2     2351  11.220757\n",
       "4  1     3     1498  11.864486\n",
       "5  2     0       26  10.576923\n",
       "6  2     1      110   6.881818\n",
       "7  2     2       39  11.153846\n",
       "8  2     3       13  15.461538\n",
       "9  3     0      219   7.716895\n",
       "10 3     1      613   6.905383\n",
       "11 3     2      141   9.241135\n",
       "12 3     3       27   9.555556\n",
       "13 4     0       10   4.200000\n",
       "14 4     1       61   5.213115\n",
       "15 4     2       21   6.428571\n",
       "16 4     3       15   7.333333"
      ]
     },
     "metadata": {},
     "output_type": "display_data"
    }
   ],
   "source": [
    "df.resveh <- df.hbw %>%\n",
    "    select(resty, hhveh, htrips) %>%\n",
    "    filter(resty <7 ) %>%\n",
    "    mutate(hhveh = recode(hhveh, `0`=0, `1`=1, `2`=2, `3`=3, `4`=3, `5`=3, \n",
    "                          `6`=3, `7`=3, `8`=3)) %>%\n",
    "    group_by(resty, hhveh) \n",
    "print(nrow(df.resveh))\n",
    "df.resveh.sum <- summarize(df.resveh, count=n(), avg_trips = mean(htrips))\n",
    "df.resveh.sum"
   ]
  },
  {
   "cell_type": "code",
   "execution_count": 191,
   "metadata": {},
   "outputs": [
    {
     "data": {
      "text/plain": [
       "\n",
       "Call:\n",
       "lm(formula = avg_trips ~ hhveh + resty, data = df.resveh.sum)\n",
       "\n",
       "Residuals:\n",
       "    Min      1Q  Median      3Q     Max \n",
       "-3.0157 -0.8308 -0.4202  0.7225  4.0958 \n",
       "\n",
       "Coefficients:\n",
       "            Estimate Std. Error t value Pr(>|t|)    \n",
       "(Intercept)  10.2598     1.3423   7.644 3.67e-06 ***\n",
       "hhveh         1.3100     0.4299   3.047  0.00935 ** \n",
       "resty        -1.4120     0.4299  -3.285  0.00592 ** \n",
       "---\n",
       "Signif. codes:  0 '***' 0.001 '**' 0.01 '*' 0.05 '.' 0.1 ' ' 1\n",
       "\n",
       "Residual standard error: 1.922 on 13 degrees of freedom\n",
       "Multiple R-squared:  0.607,\tAdjusted R-squared:  0.5465 \n",
       "F-statistic: 10.04 on 2 and 13 DF,  p-value: 0.002311\n"
      ]
     },
     "metadata": {},
     "output_type": "display_data"
    }
   ],
   "source": [
    "ln.resveh.sum <- lm(avg_trips ~ hhveh + resty, data=df.resveh.sum)\n",
    "summary(ln.resveh.sum)"
   ]
  },
  {
   "cell_type": "code",
   "execution_count": 158,
   "metadata": {},
   "outputs": [
    {
     "data": {},
     "metadata": {},
     "output_type": "display_data"
    },
    {
     "data": {
      "image/png": "[encoded data removed]",
      "text/plain": [
       "plot without title"
      ]
     },
     "metadata": {},
     "output_type": "display_data"
    }
   ],
   "source": [
    "df.resveh.sum$ hhveh <- as.factor(df.resveh.sum$hhveh)\n",
    "df.resveh.sum$ resty <- as.factor(df.resveh.sum$resty)\n",
    "\n",
    "df.resveh.sum %>%\n",
    "    ggplot(aes(x=hhveh, y=avg_trips, color=resty, group=resty)) + \n",
    "    theme_minimal() +\n",
    "    geom_point(size=2.5) +\n",
    "    geom_line(aes(x=hhveh, y=avg_trips, color=resty), size=1) +\n",
    "    stat_smooth(method=lm, se=FALSE, linetype=\"dashed\", aes(group=1), \n",
    "                size=2, color=\"gray\") +\n",
    "    labs(title= \"Avg Trips by resty and HH Vehicles\") +\n",
    "    scale_color_brewer(palette=\"Dark2\")"
   ]
  },
  {
   "cell_type": "code",
   "execution_count": 159,
   "metadata": {},
   "outputs": [
    {
     "data": {
      "text/html": [
       "<table>\n",
       "<thead><tr><th></th><th scope=col>fit</th><th scope=col>lwr</th><th scope=col>upr</th></tr></thead>\n",
       "<tbody>\n",
       "\t<tr><th scope=row>1</th><td>7.231879</td><td>2.706039</td><td>11.75772</td></tr>\n",
       "</tbody>\n",
       "</table>\n"
      ],
      "text/latex": [
       "\\begin{tabular}{r|lll}\n",
       "  & fit & lwr & upr\\\\\n",
       "\\hline\n",
       "\t1 & 7.231879 & 2.706039 & 11.75772\\\\\n",
       "\\end{tabular}\n"
      ],
      "text/markdown": [
       "\n",
       "| <!--/--> | fit | lwr | upr | \n",
       "|---|\n",
       "| 1 | 7.231879 | 2.706039 | 11.75772 | \n",
       "\n",
       "\n"
      ],
      "text/plain": [
       "  fit      lwr      upr     \n",
       "1 7.231879 2.706039 11.75772"
      ]
     },
     "metadata": {},
     "output_type": "display_data"
    }
   ],
   "source": [
    "data <- data.frame(resty = 4, hhveh=2)\n",
    "predict(ln.resveh.sum, data, interval=\"predict\")"
   ]
  },
  {
   "cell_type": "code",
   "execution_count": 160,
   "metadata": {},
   "outputs": [
    {
     "name": "stdout",
     "output_type": "stream",
     "text": [
      "[1] 0.07539715\n",
      "[1] 0.07439215\n"
     ]
    }
   ],
   "source": [
    "# Start with fresh data frame\n",
    "# Recode categories\n",
    "df.resveh.new <- df.hbw %>%\n",
    "    select(resty, hhveh, htrips) %>%\n",
    "    mutate(resty1=as.numeric(resty==1)) %>%\n",
    "    mutate(resty2=as.numeric(resty==2)) %>%\n",
    "    mutate(resty3=as.numeric(resty==3)) %>%\n",
    "    mutate(resty4=as.numeric(resty==4)) %>%\n",
    "    mutate(hhveh = recode(hhveh, `0`=0, `1`=1, `2`=2, `3`=3, `4`=3, `5`=3, \n",
    "                          `6`=3, `7`=3, `8`=3)) %>%\n",
    "    group_by(resty1, resty2, resty3, resty4, hhveh) %>%\n",
    "    mutate(avg_trips = mean(htrips))\n",
    "\n",
    "# Manual Error calcs\n",
    "df.resveh.new$ResError <- (df.resveh.new$htrips - \n",
    "                           df.resveh.new$avg_trips)^2\n",
    "df.resveh.new$TotError <- (df.resveh.new$htrips - \n",
    "                           mean(df.resveh.new$htrips))^2\n",
    "SSE <- sum(df.resveh.new$ResError)\n",
    "SST <- sum(df.resveh.new$TotError)\n",
    "R2 <- 1 - (SSE/SST)\n",
    "print(R2)\n",
    "k <- 8\n",
    "n <- nrow(df.resveh.new)\n",
    "adj.R2 <- R2 - ((1 - R2)*(k - 1) / (n - k - 1))\n",
    "print(adj.R2)\n"
   ]
  },
  {
   "cell_type": "code",
   "execution_count": 196,
   "metadata": {},
   "outputs": [
    {
     "data": {
      "text/plain": [
       "\n",
       "Call:\n",
       "lm(formula = htrips ~ factor(hhveh) * factor(resty), data = df.resveh.new)\n",
       "\n",
       "Residuals:\n",
       "    Min      1Q  Median      3Q     Max \n",
       "-11.864  -5.142  -1.577   3.136  69.136 \n",
       "\n",
       "Coefficients: (1 not defined because of singularities)\n",
       "                              Estimate Std. Error t value Pr(>|t|)    \n",
       "(Intercept)                     8.2222     0.7938  10.358  < 2e-16 ***\n",
       "factor(hhveh)1                 -1.0801     0.8230  -1.312 0.189434    \n",
       "factor(hhveh)2                  2.9985     0.8089   3.707 0.000211 ***\n",
       "factor(hhveh)3                  3.6423     0.8173   4.456 8.48e-06 ***\n",
       "factor(resty)2                  2.3547     1.6767   1.404 0.160269    \n",
       "factor(resty)3                 -0.5053     0.9429  -0.536 0.592040    \n",
       "factor(resty)4                 -4.0222     2.5103  -1.602 0.109140    \n",
       "factor(resty)7                 -5.2222     7.5726  -0.690 0.490458    \n",
       "factor(resty)9                 -8.2222     7.5726  -1.086 0.277615    \n",
       "factor(hhveh)1:factor(resty)2  -2.6150     1.8369  -1.424 0.154608    \n",
       "factor(hhveh)2:factor(resty)2  -2.4216     2.0712  -1.169 0.242370    \n",
       "factor(hhveh)3:factor(resty)2   1.2424     2.6855   0.463 0.643657    \n",
       "factor(hhveh)1:factor(resty)3   0.2686     1.0143   0.265 0.791186    \n",
       "factor(hhveh)2:factor(resty)3  -1.4743     1.1469  -1.285 0.198694    \n",
       "factor(hhveh)3:factor(resty)3  -1.8036     1.7400  -1.037 0.299976    \n",
       "factor(hhveh)1:factor(resty)4   2.0932     2.6979   0.776 0.437854    \n",
       "factor(hhveh)2:factor(resty)4  -0.7700     3.0044  -0.256 0.797743    \n",
       "factor(hhveh)3:factor(resty)4  -0.5089     3.1813  -0.160 0.872903    \n",
       "factor(hhveh)1:factor(resty)7   1.0801     9.2601   0.117 0.907150    \n",
       "factor(hhveh)2:factor(resty)7  -0.4985     9.2588  -0.054 0.957061    \n",
       "factor(hhveh)3:factor(resty)7  -3.6423     9.2595  -0.393 0.694072    \n",
       "factor(hhveh)1:factor(resty)9   3.0801    10.6820   0.288 0.773094    \n",
       "factor(hhveh)2:factor(resty)9       NA         NA      NA       NA    \n",
       "factor(hhveh)3:factor(resty)9   5.6911     8.7342   0.652 0.514694    \n",
       "---\n",
       "Signif. codes:  0 '***' 0.001 '**' 0.01 '*' 0.05 '.' 0.1 ' ' 1\n",
       "\n",
       "Residual standard error: 7.531 on 6426 degrees of freedom\n",
       "Multiple R-squared:  0.07553,\tAdjusted R-squared:  0.07237 \n",
       "F-statistic: 23.86 on 22 and 6426 DF,  p-value: < 2.2e-16\n"
      ]
     },
     "metadata": {},
     "output_type": "display_data"
    }
   ],
   "source": [
    "ln.resveh.new <- lm(htrips ~ factor(hhveh) * factor(resty), data=df.resveh.new)\n",
    "summary(ln.resveh.new)"
   ]
  },
  {
   "cell_type": "markdown",
   "metadata": {},
   "source": [
    "##  AVG TRIPS by HHSize and HHVeh"
   ]
  },
  {
   "cell_type": "code",
   "execution_count": 162,
   "metadata": {},
   "outputs": [
    {
     "name": "stdout",
     "output_type": "stream",
     "text": [
      "[1] 0.4167724\n",
      "[1] 0.4161385\n"
     ]
    }
   ],
   "source": [
    "# Start with fresh data frame\n",
    "df.persveh <- df.hbw %>%\n",
    "    select(hhsiz, hhveh, htrips) %>%\n",
    "    mutate(hhsiz = recode(hhsiz, `1`=1, `2`=2, `3`=3, `4`=4, `5`=4, \n",
    "                          `6`=4, `7`=4, `8`=4)) %>%\n",
    "    \n",
    "    mutate(hhveh = recode(hhveh, `0`=0, `1`=1, `2`=2, `3`=3, `4`=3, `5`=3, \n",
    "                          `6`=3, `7`=3, `8`=3)) %>%\n",
    "    group_by(hhsiz, hhveh) %>%\n",
    "    mutate(avg_trips = mean(htrips))\n",
    "\n",
    "# Manual Error calcs\n",
    "df.persveh$ResError <- (df.persveh$htrips - \n",
    "                           df.persveh$avg_trips)^2\n",
    "df.persveh$TotError <- (df.persveh$htrips - \n",
    "                           mean(df.persveh$htrips))^2\n",
    "SSE <- sum(df.persveh$ResError)\n",
    "SST <- sum(df.persveh$TotError)\n",
    "R2 <- 1 - (SSE/SST)\n",
    "print(R2)\n",
    "k <- 8\n",
    "n <- nrow(df.persveh)\n",
    "adj.R2 <- R2 - ((1 - R2)*(k - 1) / (n - k - 1))\n",
    "print(adj.R2)"
   ]
  },
  {
   "cell_type": "code",
   "execution_count": 197,
   "metadata": {},
   "outputs": [
    {
     "data": {
      "text/plain": [
       "\n",
       "Call:\n",
       "lm(formula = htrips ~ factor(hhsiz) * factor(hhveh), data = df.persveh)\n",
       "\n",
       "Residuals:\n",
       "    Min      1Q  Median      3Q     Max \n",
       "-19.667  -3.828  -0.467   2.964  61.964 \n",
       "\n",
       "Coefficients:\n",
       "                              Estimate Std. Error t value Pr(>|t|)    \n",
       "(Intercept)                    6.46718    0.37148  17.409  < 2e-16 ***\n",
       "factor(hhsiz)2                 3.28754    0.90131   3.648 0.000267 ***\n",
       "factor(hhsiz)3                 7.53282    1.30075   5.791 7.32e-09 ***\n",
       "factor(hhsiz)4                13.19949    1.76533   7.477 8.61e-14 ***\n",
       "factor(hhveh)1                -2.10609    0.41032  -5.133 2.94e-07 ***\n",
       "factor(hhveh)2                -2.00388    0.54949  -3.647 0.000268 ***\n",
       "factor(hhveh)3                -1.82432    0.80534  -2.265 0.023529 *  \n",
       "factor(hhsiz)2:factor(hhveh)1  0.65699    0.95491   0.688 0.491471    \n",
       "factor(hhsiz)3:factor(hhveh)1  0.81951    1.39293   0.588 0.556328    \n",
       "factor(hhsiz)4:factor(hhveh)1  0.59094    1.84866   0.320 0.749236    \n",
       "factor(hhsiz)2:factor(hhveh)2  0.07735    1.00230   0.077 0.938490    \n",
       "factor(hhsiz)3:factor(hhveh)2 -0.13617    1.39417  -0.098 0.922196    \n",
       "factor(hhsiz)4:factor(hhveh)2  1.22160    1.82593   0.669 0.503502    \n",
       "factor(hhsiz)2:factor(hhveh)3 -0.26530    1.17436  -0.226 0.821280    \n",
       "factor(hhsiz)3:factor(hhveh)3 -1.10500    1.51529  -0.729 0.465886    \n",
       "factor(hhsiz)4:factor(hhveh)3  1.19383    1.92433   0.620 0.535025    \n",
       "---\n",
       "Signif. codes:  0 '***' 0.001 '**' 0.01 '*' 0.05 '.' 0.1 ' ' 1\n",
       "\n",
       "Residual standard error: 5.978 on 6433 degrees of freedom\n",
       "Multiple R-squared:  0.4168,\tAdjusted R-squared:  0.4154 \n",
       "F-statistic: 306.5 on 15 and 6433 DF,  p-value: < 2.2e-16\n"
      ]
     },
     "metadata": {},
     "output_type": "display_data"
    },
    {
     "data": {
      "text/html": [
       "<table>\n",
       "<thead><tr><th></th><th scope=col>fit</th><th scope=col>lwr</th><th scope=col>upr</th></tr></thead>\n",
       "<tbody>\n",
       "\t<tr><th scope=row>1</th><td>7.828187 </td><td>-3.896039</td><td>19.55241 </td></tr>\n",
       "</tbody>\n",
       "</table>\n"
      ],
      "text/latex": [
       "\\begin{tabular}{r|lll}\n",
       "  & fit & lwr & upr\\\\\n",
       "\\hline\n",
       "\t1 & 7.828187  & -3.896039 & 19.55241 \\\\\n",
       "\\end{tabular}\n"
      ],
      "text/markdown": [
       "\n",
       "| <!--/--> | fit | lwr | upr | \n",
       "|---|\n",
       "| 1 | 7.828187  | -3.896039 | 19.55241  | \n",
       "\n",
       "\n"
      ],
      "text/plain": [
       "  fit      lwr       upr     \n",
       "1 7.828187 -3.896039 19.55241"
      ]
     },
     "metadata": {},
     "output_type": "display_data"
    }
   ],
   "source": [
    "fit <- lm(htrips ~ factor(hhsiz) * factor(hhveh), data=df.persveh, )\n",
    "summary(fit)\n",
    "data <- data.frame(hhsiz=2, hhveh=2)\n",
    "predict(fit, data, interval=\"predict\")"
   ]
  },
  {
   "cell_type": "code",
   "execution_count": 164,
   "metadata": {},
   "outputs": [
    {
     "data": {},
     "metadata": {},
     "output_type": "display_data"
    },
    {
     "data": {
      "image/png": "[encoded data removed]",
      "text/plain": [
       "plot without title"
      ]
     },
     "metadata": {},
     "output_type": "display_data"
    }
   ],
   "source": [
    "df.persveh$hhveh <- as.factor(df.persveh$hhveh)\n",
    "df.persveh$hhsiz <- as.factor(df.persveh$hhsiz)\n",
    "\n",
    "df.persveh%>%\n",
    "    ggplot(aes(x=hhsiz, y=avg_trips, color=hhveh, group=hhveh)) + \n",
    "    theme_minimal() +\n",
    "    geom_point(size=2.5) +\n",
    "    geom_line(aes(x=hhsiz, y=avg_trips, color=hhveh), size=1) +\n",
    "    stat_smooth(method=lm, se=FALSE, linetype=\"dashed\", aes(group=1), \n",
    "                size=2, color=\"gray\") +\n",
    "    labs(title= \"Avg Trips by HH Size and HH Vehicles\") +\n",
    "    scale_color_brewer(palette=\"Dark2\")"
   ]
  },
  {
   "cell_type": "code",
   "execution_count": 165,
   "metadata": {
    "scrolled": true
   },
   "outputs": [
    {
     "name": "stdout",
     "output_type": "stream",
     "text": [
      "\n",
      "Call:\n",
      "lm(formula = htrips ~ factor(hhsiz) + factor(hhveh), data = df.persveh.new)\n",
      "\n",
      "Coefficients:\n",
      "   (Intercept)  factor(hhsiz)2  factor(hhsiz)3  factor(hhsiz)4  factor(hhveh)1  \n",
      "         6.367           3.635           7.483          14.648          -1.911  \n",
      "factor(hhveh)2  factor(hhveh)3  \n",
      "        -2.111          -2.310  \n",
      "\n"
     ]
    },
    {
     "data": {
      "text/plain": [
       "\n",
       "Call:\n",
       "lm(formula = htrips ~ factor(hhsiz) + factor(hhveh), data = df.persveh.new)\n",
       "\n",
       "Residuals:\n",
       "    Min      1Q  Median      3Q     Max \n",
       "-21.015  -3.740  -0.456   2.943  62.295 \n",
       "\n",
       "Coefficients:\n",
       "               Estimate Std. Error t value Pr(>|t|)    \n",
       "(Intercept)      6.3673     0.3254  19.565  < 2e-16 ***\n",
       "factor(hhsiz)2   3.6352     0.2218  16.392  < 2e-16 ***\n",
       "factor(hhsiz)3   7.4831     0.2715  27.566  < 2e-16 ***\n",
       "factor(hhsiz)4  14.6482     0.2621  55.895  < 2e-16 ***\n",
       "factor(hhveh)1  -1.9111     0.3494  -5.469 4.69e-08 ***\n",
       "factor(hhveh)2  -2.1106     0.3696  -5.710 1.18e-08 ***\n",
       "factor(hhveh)3  -2.3103     0.3854  -5.994 2.15e-09 ***\n",
       "---\n",
       "Signif. codes:  0 '***' 0.001 '**' 0.01 '*' 0.05 '.' 0.1 ' ' 1\n",
       "\n",
       "Residual standard error: 5.98 on 6442 degrees of freedom\n",
       "Multiple R-squared:  0.4156,\tAdjusted R-squared:  0.4151 \n",
       "F-statistic: 763.6 on 6 and 6442 DF,  p-value: < 2.2e-16\n"
      ]
     },
     "metadata": {},
     "output_type": "display_data"
    }
   ],
   "source": [
    "persveh.fit <- lm(htrips ~ factor(hhsiz) + factor(hhveh), data=df.persveh.new)\n",
    "print(persveh.fit)\n",
    "summary(persveh.fit)"
   ]
  },
  {
   "cell_type": "markdown",
   "metadata": {},
   "source": [
    "## Avg Trips by HH Size and Income"
   ]
  },
  {
   "cell_type": "code",
   "execution_count": 194,
   "metadata": {},
   "outputs": [
    {
     "name": "stdout",
     "output_type": "stream",
     "text": [
      "[1] 0.4184151\n",
      "[1] 0.4178346\n",
      "\n",
      "Call:\n",
      "lm(formula = htrips ~ factor(hhsiz) * factor(income), data = df.persinc)\n",
      "\n",
      "Coefficients:\n",
      "                   (Intercept)                  factor(hhsiz)2  \n",
      "                       4.73400                         2.69630  \n",
      "                factor(hhsiz)3                  factor(hhsiz)4  \n",
      "                       4.95718                        11.34176  \n",
      "               factor(income)2                 factor(income)3  \n",
      "                      -0.01916                        -0.07656  \n",
      "factor(hhsiz)2:factor(income)2  factor(hhsiz)3:factor(income)2  \n",
      "                      -0.42064                         1.01926  \n",
      "factor(hhsiz)4:factor(income)2  factor(hhsiz)2:factor(income)3  \n",
      "                       1.16897                         0.85861  \n",
      "factor(hhsiz)3:factor(income)3  factor(hhsiz)4:factor(income)3  \n",
      "                       2.59048                         3.09656  \n",
      "\n"
     ]
    },
    {
     "data": {
      "text/plain": [
       "\n",
       "Call:\n",
       "lm(formula = htrips ~ factor(hhsiz) * factor(income), data = df.persinc)\n",
       "\n",
       "Residuals:\n",
       "    Min      1Q  Median      3Q     Max \n",
       "-19.096  -3.226  -0.715   2.904  48.924 \n",
       "\n",
       "Coefficients:\n",
       "                               Estimate Std. Error t value Pr(>|t|)    \n",
       "(Intercept)                     4.73400    0.26500  17.864  < 2e-16 ***\n",
       "factor(hhsiz)2                  2.69630    0.53200   5.068 4.13e-07 ***\n",
       "factor(hhsiz)3                  4.95718    0.76588   6.473 1.04e-10 ***\n",
       "factor(hhsiz)4                 11.34176    0.77603  14.615  < 2e-16 ***\n",
       "factor(income)2                -0.01916    0.37132  -0.052 0.958841    \n",
       "factor(income)3                -0.07656    0.36190  -0.212 0.832463    \n",
       "factor(hhsiz)2:factor(income)2 -0.42064    0.65884  -0.638 0.523203    \n",
       "factor(hhsiz)3:factor(income)2  1.01926    0.94333   1.080 0.279966    \n",
       "factor(hhsiz)4:factor(income)2  1.16897    0.96637   1.210 0.226460    \n",
       "factor(hhsiz)2:factor(income)3  0.85861    0.60367   1.422 0.154988    \n",
       "factor(hhsiz)3:factor(income)3  2.59048    0.83485   3.103 0.001925 ** \n",
       "factor(hhsiz)4:factor(income)3  3.09656    0.83524   3.707 0.000211 ***\n",
       "---\n",
       "Signif. codes:  0 '***' 0.001 '**' 0.01 '*' 0.05 '.' 0.1 ' ' 1\n",
       "\n",
       "Residual standard error: 5.926 on 6007 degrees of freedom\n",
       "Multiple R-squared:  0.4184,\tAdjusted R-squared:  0.4174 \n",
       "F-statistic: 392.9 on 11 and 6007 DF,  p-value: < 2.2e-16\n"
      ]
     },
     "metadata": {},
     "output_type": "display_data"
    }
   ],
   "source": [
    "df.persinc <- df.hbw %>%\n",
    "    select(hhsiz, income, htrips) %>%\n",
    "    filter(income < 99) %>%\n",
    "    mutate(hhsiz = recode(hhsiz, `1`=1, `2`=2, `3`=3, `4`=4, `5`=4, \n",
    "                          `6`=4, `7`=4, `8`=4)) %>%\n",
    "    mutate(income = recode(income, `1`=1, `2`=1, `3`=2, `4`=2, `5`=3, \n",
    "                          `6`=3, `7`=3, `8`=3)) %>%\n",
    "    group_by(hhsiz, income) %>%\n",
    "    mutate(avg_trips = mean(htrips))\n",
    "\n",
    "df.persinc$ResError <- (df.persinc$htrips - \n",
    "                           df.persinc$avg_trips)^2\n",
    "df.persinc$TotError <- (df.persinc$htrips - \n",
    "                           mean(df.persinc$htrips))^2\n",
    "SSE <- sum(df.persinc$ResError)\n",
    "SST <- sum(df.persinc$TotError)\n",
    "R2 <- 1 - (SSE/SST)\n",
    "print(R2)\n",
    "k <- 7\n",
    "n <- nrow(df.persinc)\n",
    "adj.R2 <- R2 - ((1 - R2)*(k - 1) / (n - k - 1))\n",
    "print(adj.R2)\n",
    "\n",
    "persinc.fit <- lm(htrips ~ factor(hhsiz) * factor(income), \n",
    "                  data=df.persinc)\n",
    "print(persinc.fit)\n",
    "summary(persinc.fit)"
   ]
  },
  {
   "cell_type": "code",
   "execution_count": 167,
   "metadata": {},
   "outputs": [
    {
     "data": {},
     "metadata": {},
     "output_type": "display_data"
    },
    {
     "data": {
      "image/png": "[encoded data removed]",
      "text/plain": [
       "plot without title"
      ]
     },
     "metadata": {},
     "output_type": "display_data"
    }
   ],
   "source": [
    "# Graph Avg Trips by income and HH Size\n",
    "df.persinc$income <- as.factor(df.persinc$income)\n",
    "\n",
    "df.persinc %>%\n",
    "    ggplot(aes(x=hhsiz, y=avg_trips, color=income, group=income)) + \n",
    "    theme_minimal() +\n",
    "    geom_point(size=2.5) +\n",
    "    geom_line(aes(x=hhsiz, y=avg_trips, color=income), size=1) +\n",
    "    stat_smooth(method=lm, se=FALSE, linetype=\"dashed\", aes(group=1), \n",
    "                size=2, color=\"gray\") +\n",
    "    labs(title= \"Avg Trips by income and HH Size\") +\n",
    "    scale_color_brewer(palette=\"Dark2\")"
   ]
  },
  {
   "cell_type": "code",
   "execution_count": 171,
   "metadata": {},
   "outputs": [
    {
     "name": "stdout",
     "output_type": "stream",
     "text": [
      "[1] 0.420007\n",
      "[1] 0.4190414\n",
      "\n",
      "Call:\n",
      "lm(formula = htrips ~ factor(hhsiz) + factor(income), data = df.persinc)\n",
      "\n",
      "Coefficients:\n",
      "    (Intercept)   factor(hhsiz)2   factor(hhsiz)3   factor(hhsiz)4  \n",
      "        4.55774          2.77485          6.57532         13.42852  \n",
      "factor(income)2  factor(income)3  factor(income)4  factor(income)5  \n",
      "       -0.24720         -0.46169         -0.01122          0.50752  \n",
      "factor(income)6  factor(income)7  factor(income)8  \n",
      "        0.88626          1.06040          1.29325  \n",
      "\n"
     ]
    },
    {
     "data": {
      "text/plain": [
       "\n",
       "Call:\n",
       "lm(formula = htrips ~ factor(hhsiz) + factor(income), data = df.persinc)\n",
       "\n",
       "Residuals:\n",
       "    Min      1Q  Median      3Q     Max \n",
       "-19.047  -3.622  -0.618   2.909  47.261 \n",
       "\n",
       "Coefficients:\n",
       "                Estimate Std. Error t value Pr(>|t|)    \n",
       "(Intercept)      4.55774    0.33979  13.414  < 2e-16 ***\n",
       "factor(hhsiz)2   2.77485    0.20900  13.277  < 2e-16 ***\n",
       "factor(hhsiz)3   6.57532    0.25913  25.374  < 2e-16 ***\n",
       "factor(hhsiz)4  13.42852    0.24640  54.500  < 2e-16 ***\n",
       "factor(income)2 -0.24720    0.43044  -0.574  0.56579    \n",
       "factor(income)3 -0.46169    0.43270  -1.067  0.28602    \n",
       "factor(income)4 -0.01122    0.40416  -0.028  0.97784    \n",
       "factor(income)5  0.50752    0.38246   1.327  0.18457    \n",
       "factor(income)6  0.88626    0.39395   2.250  0.02451 *  \n",
       "factor(income)7  1.06040    0.40290   2.632  0.00851 ** \n",
       "factor(income)8  1.29325    0.44100   2.933  0.00337 ** \n",
       "---\n",
       "Signif. codes:  0 '***' 0.001 '**' 0.01 '*' 0.05 '.' 0.1 ' ' 1\n",
       "\n",
       "Residual standard error: 5.933 on 6008 degrees of freedom\n",
       "Multiple R-squared:  0.4169,\tAdjusted R-squared:  0.4159 \n",
       "F-statistic: 429.5 on 10 and 6008 DF,  p-value: < 2.2e-16\n"
      ]
     },
     "metadata": {},
     "output_type": "display_data"
    }
   ],
   "source": [
    "# HH Size Income continuous\n",
    "df.persinc <- df.hbw %>%\n",
    "    select(hhsiz, income, htrips) %>%\n",
    "    filter(income < 99) %>%\n",
    "    mutate(hhsiz = recode(hhsiz, `1`=1, `2`=2, `3`=3, `4`=4, `5`=4, \n",
    "                          `6`=4, `7`=4, `8`=4)) %>%\n",
    "    group_by(hhsiz, income) %>%\n",
    "    mutate(avg_trips = mean(htrips))\n",
    "\n",
    "df.persinc$ResError <- (df.persinc$htrips - \n",
    "                           df.persinc$avg_trips)^2\n",
    "df.persinc$TotError <- (df.persinc$htrips - \n",
    "                           mean(df.persinc$htrips))^2\n",
    "SSE <- sum(df.persinc$ResError)\n",
    "SST <- sum(df.persinc$TotError)\n",
    "R2 <- 1 - (SSE/SST)\n",
    "print(R2)\n",
    "k <- 11\n",
    "n <- nrow(df.persinc)\n",
    "adj.R2 <- R2 - ((1 - R2)*(k - 1) / (n - k - 1))\n",
    "print(adj.R2)\n",
    "\n",
    "persinc.fit <- lm(htrips ~ factor(hhsiz) + factor(income), \n",
    "                  data=df.persinc)\n",
    "print(persinc.fit)\n",
    "summary(persinc.fit)"
   ]
  },
  {
   "cell_type": "markdown",
   "metadata": {},
   "source": [
    "## Trips by Income and HHVeh"
   ]
  },
  {
   "cell_type": "code",
   "execution_count": 192,
   "metadata": {},
   "outputs": [
    {
     "name": "stdout",
     "output_type": "stream",
     "text": [
      "[1] 0.09106187\n",
      "[1] 0.09015459\n",
      "\n",
      "Call:\n",
      "lm(formula = htrips ~ factor(hhveh) + factor(income), data = df.vehinc)\n",
      "\n",
      "Coefficients:\n",
      "    (Intercept)   factor(hhveh)1   factor(hhveh)2   factor(hhveh)3  \n",
      "          7.413           -1.852            1.284            1.656  \n",
      "factor(income)2  factor(income)3  \n",
      "          0.473            2.981  \n",
      "\n"
     ]
    },
    {
     "data": {
      "text/plain": [
       "\n",
       "Call:\n",
       "lm(formula = htrips ~ factor(hhveh) + factor(income), data = df.vehinc)\n",
       "\n",
       "Residuals:\n",
       "    Min      1Q  Median      3Q     Max \n",
       "-12.050  -5.170  -1.678   3.322  56.303 \n",
       "\n",
       "Coefficients:\n",
       "                Estimate Std. Error t value Pr(>|t|)    \n",
       "(Intercept)       7.4129     0.4251  17.437  < 2e-16 ***\n",
       "factor(hhveh)1   -1.8525     0.4537  -4.083  4.5e-05 ***\n",
       "factor(hhveh)2    1.2843     0.4708   2.728 0.006391 ** \n",
       "factor(hhveh)3    1.6563     0.4912   3.372 0.000752 ***\n",
       "factor(income)2   0.4730     0.3482   1.359 0.174353    \n",
       "factor(income)3   2.9810     0.3265   9.130  < 2e-16 ***\n",
       "---\n",
       "Signif. codes:  0 '***' 0.001 '**' 0.01 '*' 0.05 '.' 0.1 ' ' 1\n",
       "\n",
       "Residual standard error: 7.408 on 6013 degrees of freedom\n",
       "Multiple R-squared:  0.08999,\tAdjusted R-squared:  0.08923 \n",
       "F-statistic: 118.9 on 5 and 6013 DF,  p-value: < 2.2e-16\n"
      ]
     },
     "metadata": {},
     "output_type": "display_data"
    }
   ],
   "source": [
    "df.vehinc <- df.hbw %>%\n",
    "    select(hhveh, income, htrips) %>%\n",
    "    filter(income < 99) %>%\n",
    "    mutate(hhveh = recode(hhveh, `0`=0, `1`=1, `2`=2, `3`=3, `4`=3, `5`=3, \n",
    "                          `6`=3, `7`=3, `8`=3)) %>%\n",
    "    mutate(income = recode(income, `1`=1, `2`=1, `3`=2, `4`=2, `5`=3, \n",
    "                          `6`=3, `7`=3, `8`=3)) %>%\n",
    "    group_by(hhveh, income) %>%\n",
    "    mutate(avg_trips = mean(htrips))\n",
    "\n",
    "df.vehinc$ResError <- (df.persinc$htrips - \n",
    "                           df.vehinc$avg_trips)^2\n",
    "df.vehinc$TotError <- (df.vehinc$htrips - \n",
    "                           mean(df.vehinc$htrips))^2\n",
    "SSE <- sum(df.vehinc$ResError)\n",
    "SST <- sum(df.vehinc$TotError)\n",
    "R2 <- 1 - (SSE/SST)\n",
    "print(R2)\n",
    "k <- 7\n",
    "n <- nrow(df.vehinc)\n",
    "adj.R2 <- R2 - ((1 - R2)*(k - 1) / (n - k - 1))\n",
    "print(adj.R2)\n",
    "\n",
    "persinc.fit <- lm(htrips ~ factor(hhveh) + factor(income), \n",
    "                  data=df.vehinc)\n",
    "print(persinc.fit)\n",
    "summary(persinc.fit)"
   ]
  },
  {
   "cell_type": "code",
   "execution_count": 170,
   "metadata": {},
   "outputs": [
    {
     "data": {},
     "metadata": {},
     "output_type": "display_data"
    },
    {
     "data": {
      "image/png": "[encoded data removed]",
      "text/plain": [
       "plot without title"
      ]
     },
     "metadata": {},
     "output_type": "display_data"
    }
   ],
   "source": [
    "# Graph Avg Trips by HHVeh and income\n",
    "df.vehinc$income <- as.factor(df.vehinc$income)\n",
    "df.vehinc$hhveh <- as.factor(df.vehinc$hhveh)\n",
    "\n",
    "df.vehinc %>%\n",
    "    ggplot(aes(x=hhveh, y=avg_trips, color=income, group=income)) + \n",
    "    theme_minimal() +\n",
    "    geom_point(size=2.5) +\n",
    "    geom_line(aes(x=hhveh, y=avg_trips, color=income), size=1) +\n",
    "    stat_smooth(method=lm, se=FALSE, linetype=\"dashed\", aes(group=1), \n",
    "                size=2, color=\"gray\") +\n",
    "    labs(title= \"Avg Trips by income and HHVeh\") +\n",
    "    scale_color_brewer(palette=\"Dark2\")"
   ]
  }
 ],
 "metadata": {
  "kernelspec": {
   "display_name": "R",
   "language": "R",
   "name": "ir"
  },
  "language_info": {
   "codemirror_mode": "r",
   "file_extension": ".r",
   "mimetype": "text/x-r-source",
   "name": "R",
   "pygments_lexer": "r",
   "version": "3.4.3"
  }
 },
 "nbformat": 4,
 "nbformat_minor": 2
}
