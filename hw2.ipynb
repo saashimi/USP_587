{
 "cells": [
  {
   "cell_type": "code",
   "execution_count": 8,
   "metadata": {},
   "outputs": [],
   "source": [
    "library(dplyr)\n",
    "library(ggplot2)\n",
    "\n",
    "df.hbw <- read.csv(paste(\"/Users/kevin/Desktop/\",\n",
    "                     \"USP_587_data/HW2/household_hbw.csv\", sep=\"\"))\n",
    "df.hia <- read.csv(paste(\"/Users/kevin/Desktop/\",\n",
    "                     \"USP_587_data/HW2/2010_hia.csv\", sep=\"\"))"
   ]
  },
  {
   "cell_type": "code",
   "execution_count": 48,
   "metadata": {},
   "outputs": [
    {
     "data": {
      "text/plain": [
       "   Min. 1st Qu.  Median    Mean 3rd Qu.    Max. \n",
       "  0.000   1.000   2.000   1.948   2.000   8.000 "
      ]
     },
     "metadata": {},
     "output_type": "display_data"
    }
   ],
   "source": [
    "summary(df.hbw$hhveh)"
   ]
  },
  {
   "cell_type": "code",
   "execution_count": 52,
   "metadata": {},
   "outputs": [
    {
     "name": "stderr",
     "output_type": "stream",
     "text": [
      "Warning message:\n",
      "“Unreplaced values treated as NA as .x is not compatible. Please specify replacements exhaustively or supply .default”"
     ]
    },
    {
     "data": {
      "text/html": [
       "<table>\n",
       "<thead><tr><th scope=col>resty</th><th scope=col>hhveh</th><th scope=col>count</th><th scope=col>avg_trips</th></tr></thead>\n",
       "<tbody>\n",
       "\t<tr><td>1        </td><td>foo      </td><td>1203     </td><td> 7.142145</td></tr>\n",
       "\t<tr><td>1        </td><td>NA       </td><td>3939     </td><td>11.397055</td></tr>\n",
       "\t<tr><td>2        </td><td>foo      </td><td> 110     </td><td> 6.881818</td></tr>\n",
       "\t<tr><td>2        </td><td>NA       </td><td>  78     </td><td>11.679487</td></tr>\n",
       "\t<tr><td>3        </td><td>foo      </td><td> 613     </td><td> 6.905383</td></tr>\n",
       "\t<tr><td>3        </td><td>NA       </td><td> 387     </td><td> 8.400517</td></tr>\n",
       "\t<tr><td>4        </td><td>foo      </td><td>  61     </td><td> 5.213115</td></tr>\n",
       "\t<tr><td>4        </td><td>NA       </td><td>  46     </td><td> 6.239130</td></tr>\n",
       "\t<tr><td>7        </td><td>foo      </td><td>   2     </td><td> 3.000000</td></tr>\n",
       "\t<tr><td>7        </td><td>NA       </td><td>   5     </td><td> 4.000000</td></tr>\n",
       "</tbody>\n",
       "</table>\n"
      ],
      "text/latex": [
       "\\begin{tabular}{r|llll}\n",
       " resty & hhveh & count & avg\\_trips\\\\\n",
       "\\hline\n",
       "\t 1         & foo       & 1203      &  7.142145\\\\\n",
       "\t 1         & NA        & 3939      & 11.397055\\\\\n",
       "\t 2         & foo       &  110      &  6.881818\\\\\n",
       "\t 2         & NA        &   78      & 11.679487\\\\\n",
       "\t 3         & foo       &  613      &  6.905383\\\\\n",
       "\t 3         & NA        &  387      &  8.400517\\\\\n",
       "\t 4         & foo       &   61      &  5.213115\\\\\n",
       "\t 4         & NA        &   46      &  6.239130\\\\\n",
       "\t 7         & foo       &    2      &  3.000000\\\\\n",
       "\t 7         & NA        &    5      &  4.000000\\\\\n",
       "\\end{tabular}\n"
      ],
      "text/markdown": [
       "\n",
       "resty | hhveh | count | avg_trips | \n",
       "|---|---|---|---|---|---|---|---|---|---|\n",
       "| 1         | foo       | 1203      |  7.142145 | \n",
       "| 1         | NA        | 3939      | 11.397055 | \n",
       "| 2         | foo       |  110      |  6.881818 | \n",
       "| 2         | NA        |   78      | 11.679487 | \n",
       "| 3         | foo       |  613      |  6.905383 | \n",
       "| 3         | NA        |  387      |  8.400517 | \n",
       "| 4         | foo       |   61      |  5.213115 | \n",
       "| 4         | NA        |   46      |  6.239130 | \n",
       "| 7         | foo       |    2      |  3.000000 | \n",
       "| 7         | NA        |    5      |  4.000000 | \n",
       "\n",
       "\n"
      ],
      "text/plain": [
       "   resty hhveh count avg_trips\n",
       "1  1     foo   1203   7.142145\n",
       "2  1     NA    3939  11.397055\n",
       "3  2     foo    110   6.881818\n",
       "4  2     NA      78  11.679487\n",
       "5  3     foo    613   6.905383\n",
       "6  3     NA     387   8.400517\n",
       "7  4     foo     61   5.213115\n",
       "8  4     NA      46   6.239130\n",
       "9  7     foo      2   3.000000\n",
       "10 7     NA       5   4.000000"
      ]
     },
     "metadata": {},
     "output_type": "display_data"
    }
   ],
   "source": [
    "df.resveh <- df.hbw %>%\n",
    "    select(resty, hhveh, htrips) %>%\n",
    "    filter(resty != 9)%>%\n",
    "    mutate(hhveh = recode(hhveh, `1` = 'foo')) %>%\n",
    "    group_by(resty, hhveh) %>%\n",
    "    summarize(., count=n(), avg_trips = mean(htrips))\n",
    "    \n",
    "df.resveh"
   ]
  },
  {
   "cell_type": "code",
   "execution_count": null,
   "metadata": {},
   "outputs": [],
   "source": []
  }
 ],
 "metadata": {
  "kernelspec": {
   "display_name": "R",
   "language": "R",
   "name": "ir"
  },
  "language_info": {
   "codemirror_mode": "r",
   "file_extension": ".r",
   "mimetype": "text/x-r-source",
   "name": "R",
   "pygments_lexer": "r",
   "version": "3.4.3"
  }
 },
 "nbformat": 4,
 "nbformat_minor": 2
}
