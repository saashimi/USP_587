{
 "cells": [
  {
   "cell_type": "code",
   "execution_count": 54,
   "metadata": {},
   "outputs": [],
   "source": [
    "library(dplyr)\n",
    "library(ggplot2)\n",
    "\n",
    "df.hbw <- read.csv(paste(\"C:/Users/kevin/Desktop/\",\n",
    "                     \"USP_587_data/HW2/household_hbw.csv\", sep=\"\"))"
   ]
  },
  {
   "cell_type": "code",
   "execution_count": 55,
   "metadata": {},
   "outputs": [
    {
     "name": "stdout",
     "output_type": "stream",
     "text": [
      "[1] 0.07454329\n",
      "[1] 0.07238101\n",
      "[1] 0.07223686\n"
     ]
    },
    {
     "data": {
      "text/plain": [
       "\n",
       "Call:\n",
       "lm(formula = htrips ~ factor(hhveh) * factor(resty), data = df.resveh)\n",
       "\n",
       "Residuals:\n",
       "    Min      1Q  Median      3Q     Max \n",
       "-11.864  -5.142  -1.717   3.136  69.136 \n",
       "\n",
       "Coefficients:\n",
       "                              Estimate Std. Error t value Pr(>|t|)    \n",
       "(Intercept)                     8.2222     0.7940  10.355  < 2e-16 ***\n",
       "factor(hhveh)1                 -1.0801     0.8232  -1.312 0.189555    \n",
       "factor(hhveh)2                  2.9985     0.8091   3.706 0.000212 ***\n",
       "factor(hhveh)3                  3.6423     0.8175   4.455 8.53e-06 ***\n",
       "factor(resty)2                  2.3547     1.6772   1.404 0.160383    \n",
       "factor(resty)3                 -0.5053     0.9432  -0.536 0.592141    \n",
       "factor(resty)4                 -4.0222     2.5110  -1.602 0.109237    \n",
       "factor(hhveh)1:factor(resty)2  -2.6150     1.8374  -1.423 0.154720    \n",
       "factor(hhveh)2:factor(resty)2  -2.4216     2.0717  -1.169 0.242498    \n",
       "factor(hhveh)3:factor(resty)2   1.2424     2.6862   0.462 0.643748    \n",
       "factor(hhveh)1:factor(resty)3   0.2686     1.0146   0.265 0.791242    \n",
       "factor(hhveh)2:factor(resty)3  -1.4743     1.1473  -1.285 0.198817    \n",
       "factor(hhveh)3:factor(resty)3  -1.8036     1.7404  -1.036 0.300107    \n",
       "factor(hhveh)1:factor(resty)4   2.0932     2.6986   0.776 0.437979    \n",
       "factor(hhveh)2:factor(resty)4  -0.7700     3.0052  -0.256 0.797797    \n",
       "factor(hhveh)3:factor(resty)4  -0.5089     3.1821  -0.160 0.872938    \n",
       "---\n",
       "Signif. codes:  0 '***' 0.001 '**' 0.01 '*' 0.05 '.' 0.1 ' ' 1\n",
       "\n",
       "Residual standard error: 7.533 on 6421 degrees of freedom\n",
       "Multiple R-squared:  0.07454,\tAdjusted R-squared:  0.07238 \n",
       "F-statistic: 34.48 on 15 and 6421 DF,  p-value: < 2.2e-16\n"
      ]
     },
     "metadata": {},
     "output_type": "display_data"
    }
   ],
   "source": [
    "df.resveh <- df.hbw %>%\n",
    "    select(resty, hhveh, htrips) %>%\n",
    "    filter(resty <7 ) %>%\n",
    "    mutate(hhveh = recode(hhveh, `0`=0, `1`=1, `2`=2, `3`=3, `4`=3, `5`=3, \n",
    "                          `6`=3, `7`=3, `8`=3)) %>%\n",
    "    group_by(resty, hhveh) %>%\n",
    "    mutate(avg_trips = mean(htrips))\n",
    "\n",
    "# Fit linear regression\n",
    "fit.resveh.sum <- lm(htrips ~ factor(hhveh) * factor(resty),\n",
    "                    data=df.resveh)\n",
    "\n",
    "# Manual Error calcs\n",
    "df.resveh$ResError <- (df.resveh$htrips - \n",
    "                           df.resveh$avg_trips)^2\n",
    "df.resveh$TotError <- (df.resveh$htrips - \n",
    "                           mean(df.resveh$htrips))^2\n",
    "SSE <- sum(df.resveh$ResError)\n",
    "SST <- sum(df.resveh$TotError)\n",
    "R2 <- 1 - (SSE/SST)\n",
    "print(R2)\n",
    "k <- 16\n",
    "n <- nrow(df.resveh)\n",
    "adj.R2 <- R2 - ((1 - R2) * (k - 1) / (n - k - 1))\n",
    "adj.R2_v2 <- 1 - (1 - R2) * ((n - 1)/ (n - k - 1))\n",
    "print(adj.R2)\n",
    "print(adj.R2_v2)\n",
    "summary(fit.resveh.sum)"
   ]
  },
  {
   "cell_type": "code",
   "execution_count": 56,
   "metadata": {},
   "outputs": [
    {
     "data": {},
     "metadata": {},
     "output_type": "display_data"
    },
    {
     "data": {
      "image/png": "[encoded data removed]",
      "text/plain": [
       "plot without title"
      ]
     },
     "metadata": {},
     "output_type": "display_data"
    }
   ],
   "source": [
    "df.resveh$ hhveh <- as.factor(df.resveh$hhveh)\n",
    "df.resveh$ resty <- as.factor(df.resveh$resty)\n",
    "\n",
    "df.resveh %>%\n",
    "    ggplot(aes(x=hhveh, y=avg_trips, color=resty, group=resty)) + \n",
    "    theme_minimal() +\n",
    "    geom_point(size=2.5) +\n",
    "    geom_line(aes(x=hhveh, y=avg_trips, color=resty), size=1) +\n",
    "    stat_smooth(method=lm, se=FALSE, linetype=\"dashed\", aes(group=1), \n",
    "                size=2, color=\"gray\") +\n",
    "    labs(title= \"Avg Trips by resty and HH Vehicles\") +\n",
    "    scale_color_brewer(palette=\"Dark2\")"
   ]
  },
  {
   "cell_type": "code",
   "execution_count": 57,
   "metadata": {},
   "outputs": [
    {
     "data": {
      "text/html": [
       "<table>\n",
       "<thead><tr><th></th><th scope=col>fit</th><th scope=col>lwr</th><th scope=col>upr</th></tr></thead>\n",
       "<tbody>\n",
       "\t<tr><th scope=row>1</th><td>6.428571 </td><td>-8.685994</td><td>21.54314 </td></tr>\n",
       "</tbody>\n",
       "</table>\n"
      ],
      "text/latex": [
       "\\begin{tabular}{r|lll}\n",
       "  & fit & lwr & upr\\\\\n",
       "\\hline\n",
       "\t1 & 6.428571  & -8.685994 & 21.54314 \\\\\n",
       "\\end{tabular}\n"
      ],
      "text/markdown": [
       "\n",
       "| <!--/--> | fit | lwr | upr | \n",
       "|---|\n",
       "| 1 | 6.428571  | -8.685994 | 21.54314  | \n",
       "\n",
       "\n"
      ],
      "text/plain": [
       "  fit      lwr       upr     \n",
       "1 6.428571 -8.685994 21.54314"
      ]
     },
     "metadata": {},
     "output_type": "display_data"
    }
   ],
   "source": [
    "data <- data.frame(resty = 4, hhveh=2)\n",
    "predict(fit.resveh.sum, data, interval=\"predict\")"
   ]
  },
  {
   "cell_type": "code",
   "execution_count": 58,
   "metadata": {},
   "outputs": [],
   "source": [
    "# Start with fresh data frame\n",
    "# Recode categories\n",
    "df.resveh.new <- df.hbw %>%\n",
    "    select(resty, hhveh, htrips) %>%\n",
    "    mutate(resty1=as.numeric(resty==1)) %>%\n",
    "    mutate(resty2=as.numeric(resty==2)) %>%\n",
    "    mutate(resty3=as.numeric(resty==3)) %>%\n",
    "    mutate(resty4=as.numeric(resty==4)) %>%\n",
    "    mutate(hhveh = recode(hhveh, `0`=0, `1`=1, `2`=2, `3`=3, `4`=3, `5`=3, \n",
    "                          `6`=3, `7`=3, `8`=3)) %>%\n",
    "    group_by(resty1, resty2, resty3, resty4, hhveh) %>%\n",
    "    mutate(avg_trips = mean(htrips))\n",
    "\n",
    "\n"
   ]
  },
  {
   "cell_type": "code",
   "execution_count": 59,
   "metadata": {},
   "outputs": [
    {
     "data": {
      "text/plain": [
       "\n",
       "Call:\n",
       "lm(formula = htrips ~ factor(hhveh) * factor(resty), data = df.resveh.new)\n",
       "\n",
       "Residuals:\n",
       "    Min      1Q  Median      3Q     Max \n",
       "-11.864  -5.142  -1.577   3.136  69.136 \n",
       "\n",
       "Coefficients: (1 not defined because of singularities)\n",
       "                              Estimate Std. Error t value Pr(>|t|)    \n",
       "(Intercept)                     8.2222     0.7938  10.358  < 2e-16 ***\n",
       "factor(hhveh)1                 -1.0801     0.8230  -1.312 0.189434    \n",
       "factor(hhveh)2                  2.9985     0.8089   3.707 0.000211 ***\n",
       "factor(hhveh)3                  3.6423     0.8173   4.456 8.48e-06 ***\n",
       "factor(resty)2                  2.3547     1.6767   1.404 0.160269    \n",
       "factor(resty)3                 -0.5053     0.9429  -0.536 0.592040    \n",
       "factor(resty)4                 -4.0222     2.5103  -1.602 0.109140    \n",
       "factor(resty)7                 -5.2222     7.5726  -0.690 0.490458    \n",
       "factor(resty)9                 -8.2222     7.5726  -1.086 0.277615    \n",
       "factor(hhveh)1:factor(resty)2  -2.6150     1.8369  -1.424 0.154608    \n",
       "factor(hhveh)2:factor(resty)2  -2.4216     2.0712  -1.169 0.242370    \n",
       "factor(hhveh)3:factor(resty)2   1.2424     2.6855   0.463 0.643657    \n",
       "factor(hhveh)1:factor(resty)3   0.2686     1.0143   0.265 0.791186    \n",
       "factor(hhveh)2:factor(resty)3  -1.4743     1.1469  -1.285 0.198694    \n",
       "factor(hhveh)3:factor(resty)3  -1.8036     1.7400  -1.037 0.299976    \n",
       "factor(hhveh)1:factor(resty)4   2.0932     2.6979   0.776 0.437854    \n",
       "factor(hhveh)2:factor(resty)4  -0.7700     3.0044  -0.256 0.797743    \n",
       "factor(hhveh)3:factor(resty)4  -0.5089     3.1813  -0.160 0.872903    \n",
       "factor(hhveh)1:factor(resty)7   1.0801     9.2601   0.117 0.907150    \n",
       "factor(hhveh)2:factor(resty)7  -0.4985     9.2588  -0.054 0.957061    \n",
       "factor(hhveh)3:factor(resty)7  -3.6423     9.2595  -0.393 0.694072    \n",
       "factor(hhveh)1:factor(resty)9   3.0801    10.6820   0.288 0.773094    \n",
       "factor(hhveh)2:factor(resty)9       NA         NA      NA       NA    \n",
       "factor(hhveh)3:factor(resty)9   5.6911     8.7342   0.652 0.514694    \n",
       "---\n",
       "Signif. codes:  0 '***' 0.001 '**' 0.01 '*' 0.05 '.' 0.1 ' ' 1\n",
       "\n",
       "Residual standard error: 7.531 on 6426 degrees of freedom\n",
       "Multiple R-squared:  0.07553,\tAdjusted R-squared:  0.07237 \n",
       "F-statistic: 23.86 on 22 and 6426 DF,  p-value: < 2.2e-16\n"
      ]
     },
     "metadata": {},
     "output_type": "display_data"
    }
   ],
   "source": [
    "ln.resveh.new <- lm(htrips ~ factor(hhveh) * factor(resty), data=df.resveh.new)\n",
    "summary(ln.resveh.new)"
   ]
  },
  {
   "cell_type": "markdown",
   "metadata": {},
   "source": [
    "##  AVG TRIPS by HHSize and HHVeh"
   ]
  },
  {
   "cell_type": "code",
   "execution_count": 60,
   "metadata": {},
   "outputs": [
    {
     "name": "stdout",
     "output_type": "stream",
     "text": [
      "[1] 0.4391722\n",
      "[1] 0.4375145\n",
      "[1] 0.4374272\n"
     ]
    }
   ],
   "source": [
    "# Start with fresh data frame\n",
    "df.persveh <- df.hbw %>%\n",
    "    select(hhsiz, hhveh, htrips) %>%\n",
    "    mutate(hhsiz = recode(hhsiz, `1`=1, `2`=2, `3`=3, `4`=4, `5`=5, \n",
    "                          `6`=5, `7`=5, `8`=5)) %>%\n",
    "    \n",
    "    mutate(hhveh = recode(hhveh, `0`=0, `1`=1, `2`=2, `3`=3, `4`=3, `5`=3, \n",
    "                          `6`=3, `7`=3, `8`=3)) %>%\n",
    "    group_by(hhsiz, hhveh) %>%\n",
    "    mutate(avg_trips = mean(htrips))\n",
    "\n",
    "# Manual Error calcs\n",
    "df.persveh$ResError <- (df.persveh$htrips - \n",
    "                           df.persveh$avg_trips)^2\n",
    "df.persveh$TotError <- (df.persveh$htrips - \n",
    "                           mean(df.persveh$htrips))^2\n",
    "SSE <- sum(df.persveh$ResError)\n",
    "SST <- sum(df.persveh$TotError)\n",
    "R2 <- 1 - (SSE/SST)\n",
    "print(R2)\n",
    "k <- 20\n",
    "n <- nrow(df.persveh)\n",
    "adj.R2 <- R2 - ((1 - R2) * (k - 1) / (n - k - 1))\n",
    "adj.R2_v2 <- 1 - (1 - R2) * (n - 1) / (n - k - 1)\n",
    "print(adj.R2)\n",
    "print(adj.R2_v2)"
   ]
  },
  {
   "cell_type": "code",
   "execution_count": 61,
   "metadata": {},
   "outputs": [
    {
     "data": {
      "text/plain": [
       "\n",
       "Call:\n",
       "lm(formula = htrips ~ factor(hhsiz) * factor(hhveh), data = df.persveh)\n",
       "\n",
       "Residuals:\n",
       "    Min      1Q  Median      3Q     Max \n",
       "-22.816  -3.665  -0.463   2.929  58.184 \n",
       "\n",
       "Coefficients:\n",
       "                              Estimate Std. Error t value Pr(>|t|)    \n",
       "(Intercept)                    6.46718    0.36439  17.748  < 2e-16 ***\n",
       "factor(hhsiz)2                 3.28754    0.88410   3.718 0.000202 ***\n",
       "factor(hhsiz)3                 7.53282    1.27592   5.904 3.73e-09 ***\n",
       "factor(hhsiz)4                11.86615    1.98843   5.968 2.54e-09 ***\n",
       "factor(hhsiz)5                17.19949    3.40528   5.051 4.52e-07 ***\n",
       "factor(hhveh)1                -2.10609    0.40249  -5.233 1.72e-07 ***\n",
       "factor(hhveh)2                -2.00388    0.53901  -3.718 0.000203 ***\n",
       "factor(hhveh)3                -1.82432    0.78997  -2.309 0.020956 *  \n",
       "factor(hhsiz)2:factor(hhveh)1  0.65699    0.93668   0.701 0.483081    \n",
       "factor(hhsiz)3:factor(hhveh)1  0.81951    1.36634   0.600 0.548672    \n",
       "factor(hhsiz)4:factor(hhveh)1  1.48430    2.07695   0.715 0.474850    \n",
       "factor(hhsiz)5:factor(hhveh)1 -1.77486    3.58516  -0.495 0.620577    \n",
       "factor(hhsiz)2:factor(hhveh)2  0.07735    0.98317   0.079 0.937295    \n",
       "factor(hhsiz)3:factor(hhveh)2 -0.13617    1.36756  -0.100 0.920687    \n",
       "factor(hhsiz)4:factor(hhveh)2  0.86244    2.04571   0.422 0.673341    \n",
       "factor(hhsiz)5:factor(hhveh)2  1.25092    3.45373   0.362 0.717220    \n",
       "factor(hhsiz)2:factor(hhveh)3 -0.26530    1.15195  -0.230 0.817863    \n",
       "factor(hhsiz)3:factor(hhveh)3 -1.10500    1.48637  -0.743 0.457254    \n",
       "factor(hhsiz)4:factor(hhveh)3  0.20233    2.13619   0.095 0.924543    \n",
       "factor(hhsiz)5:factor(hhveh)3  0.97330    3.50419   0.278 0.781211    \n",
       "---\n",
       "Signif. codes:  0 '***' 0.001 '**' 0.01 '*' 0.05 '.' 0.1 ' ' 1\n",
       "\n",
       "Residual standard error: 5.864 on 6429 degrees of freedom\n",
       "Multiple R-squared:  0.4392,\tAdjusted R-squared:  0.4375 \n",
       "F-statistic:   265 on 19 and 6429 DF,  p-value: < 2.2e-16\n"
      ]
     },
     "metadata": {},
     "output_type": "display_data"
    },
    {
     "data": {
      "text/html": [
       "6429"
      ],
      "text/latex": [
       "6429"
      ],
      "text/markdown": [
       "6429"
      ],
      "text/plain": [
       "[1] 6429"
      ]
     },
     "metadata": {},
     "output_type": "display_data"
    },
    {
     "data": {
      "text/html": [
       "<table>\n",
       "<thead><tr><th></th><th scope=col>fit</th><th scope=col>lwr</th><th scope=col>upr</th></tr></thead>\n",
       "<tbody>\n",
       "\t<tr><th scope=row>1</th><td>7.828187 </td><td>-3.672269</td><td>19.32864 </td></tr>\n",
       "</tbody>\n",
       "</table>\n"
      ],
      "text/latex": [
       "\\begin{tabular}{r|lll}\n",
       "  & fit & lwr & upr\\\\\n",
       "\\hline\n",
       "\t1 & 7.828187  & -3.672269 & 19.32864 \\\\\n",
       "\\end{tabular}\n"
      ],
      "text/markdown": [
       "\n",
       "| <!--/--> | fit | lwr | upr | \n",
       "|---|\n",
       "| 1 | 7.828187  | -3.672269 | 19.32864  | \n",
       "\n",
       "\n"
      ],
      "text/plain": [
       "  fit      lwr       upr     \n",
       "1 7.828187 -3.672269 19.32864"
      ]
     },
     "metadata": {},
     "output_type": "display_data"
    }
   ],
   "source": [
    "fit <- lm(htrips ~ factor(hhsiz) * factor(hhveh), data=df.persveh, )\n",
    "summary(fit)\n",
    "fit$df\n",
    "data <- data.frame(hhsiz=2, hhveh=2)\n",
    "predict(fit, data, interval=\"predict\")"
   ]
  },
  {
   "cell_type": "code",
   "execution_count": 62,
   "metadata": {},
   "outputs": [
    {
     "data": {},
     "metadata": {},
     "output_type": "display_data"
    },
    {
     "data": {
      "image/png": "[encoded data removed]",
      "text/plain": [
       "plot without title"
      ]
     },
     "metadata": {},
     "output_type": "display_data"
    }
   ],
   "source": [
    "df.persveh$hhveh <- as.factor(df.persveh$hhveh)\n",
    "df.persveh$hhsiz <- as.factor(df.persveh$hhsiz)\n",
    "\n",
    "df.persveh%>%\n",
    "    ggplot(aes(x=hhsiz, y=avg_trips, color=hhveh, group=hhveh)) + \n",
    "    theme_minimal() +\n",
    "    geom_point(size=2.5) +\n",
    "    geom_line(aes(x=hhsiz, y=avg_trips, color=hhveh), size=1) +\n",
    "    stat_smooth(method=lm, se=FALSE, linetype=\"dashed\", aes(group=1), \n",
    "                size=2, color=\"gray\") +\n",
    "    labs(title= \"Avg Trips by HH Size and HH Vehicles\") +\n",
    "    scale_color_brewer(palette=\"Dark2\")"
   ]
  },
  {
   "cell_type": "code",
   "execution_count": 63,
   "metadata": {
    "scrolled": true
   },
   "outputs": [
    {
     "name": "stdout",
     "output_type": "stream",
     "text": [
      "\n",
      "Call:\n",
      "lm(formula = htrips ~ factor(hhsiz) + factor(hhveh), data = df.persveh)\n",
      "\n",
      "Coefficients:\n",
      "   (Intercept)  factor(hhsiz)2  factor(hhsiz)3  factor(hhsiz)4  factor(hhsiz)5  \n",
      "         6.365           3.688           7.556          12.937          18.547  \n",
      "factor(hhveh)1  factor(hhveh)2  factor(hhveh)3  \n",
      "        -1.894          -2.133          -2.476  \n",
      "\n"
     ]
    },
    {
     "data": {
      "text/plain": [
       "\n",
       "Call:\n",
       "lm(formula = htrips ~ factor(hhsiz) + factor(hhveh), data = df.persveh)\n",
       "\n",
       "Residuals:\n",
       "    Min      1Q  Median      3Q     Max \n",
       "-23.018  -3.577  -0.471   2.973  58.563 \n",
       "\n",
       "Coefficients:\n",
       "               Estimate Std. Error t value Pr(>|t|)    \n",
       "(Intercept)      6.3651     0.3192  19.938  < 2e-16 ***\n",
       "factor(hhsiz)2   3.6876     0.2176  16.949  < 2e-16 ***\n",
       "factor(hhsiz)3   7.5563     0.2663  28.371  < 2e-16 ***\n",
       "factor(hhsiz)4  12.9368     0.2787  46.422  < 2e-16 ***\n",
       "factor(hhsiz)5  18.5472     0.3552  52.218  < 2e-16 ***\n",
       "factor(hhveh)1  -1.8940     0.3428  -5.525 3.42e-08 ***\n",
       "factor(hhveh)2  -2.1325     0.3626  -5.881 4.28e-09 ***\n",
       "factor(hhveh)3  -2.4758     0.3782  -6.546 6.37e-11 ***\n",
       "---\n",
       "Signif. codes:  0 '***' 0.001 '**' 0.01 '*' 0.05 '.' 0.1 ' ' 1\n",
       "\n",
       "Residual standard error: 5.866 on 6441 degrees of freedom\n",
       "Multiple R-squared:  0.4377,\tAdjusted R-squared:  0.4371 \n",
       "F-statistic: 716.2 on 7 and 6441 DF,  p-value: < 2.2e-16\n"
      ]
     },
     "metadata": {},
     "output_type": "display_data"
    }
   ],
   "source": [
    "persveh.fit <- lm(htrips ~ factor(hhsiz) + factor(hhveh), data=df.persveh)\n",
    "print(persveh.fit)\n",
    "summary(persveh.fit)"
   ]
  },
  {
   "cell_type": "markdown",
   "metadata": {},
   "source": [
    "## Avg Trips by HH Size and Income"
   ]
  },
  {
   "cell_type": "code",
   "execution_count": 64,
   "metadata": {},
   "outputs": [
    {
     "name": "stdout",
     "output_type": "stream",
     "text": [
      "[1] 0.4184151\n",
      "[1] 0.417447\n",
      "\n",
      "Call:\n",
      "lm(formula = htrips ~ factor(hhsiz) * factor(income), data = df.persinc)\n",
      "\n",
      "Coefficients:\n",
      "                   (Intercept)                  factor(hhsiz)2  \n",
      "                       4.73400                         2.69630  \n",
      "                factor(hhsiz)3                  factor(hhsiz)4  \n",
      "                       4.95718                        11.34176  \n",
      "               factor(income)2                 factor(income)3  \n",
      "                      -0.01916                        -0.07656  \n",
      "factor(hhsiz)2:factor(income)2  factor(hhsiz)3:factor(income)2  \n",
      "                      -0.42064                         1.01926  \n",
      "factor(hhsiz)4:factor(income)2  factor(hhsiz)2:factor(income)3  \n",
      "                       1.16897                         0.85861  \n",
      "factor(hhsiz)3:factor(income)3  factor(hhsiz)4:factor(income)3  \n",
      "                       2.59048                         3.09656  \n",
      "\n"
     ]
    },
    {
     "data": {
      "text/plain": [
       "\n",
       "Call:\n",
       "lm(formula = htrips ~ factor(hhsiz) * factor(income), data = df.persinc)\n",
       "\n",
       "Residuals:\n",
       "    Min      1Q  Median      3Q     Max \n",
       "-19.096  -3.226  -0.715   2.904  48.924 \n",
       "\n",
       "Coefficients:\n",
       "                               Estimate Std. Error t value Pr(>|t|)    \n",
       "(Intercept)                     4.73400    0.26500  17.864  < 2e-16 ***\n",
       "factor(hhsiz)2                  2.69630    0.53200   5.068 4.13e-07 ***\n",
       "factor(hhsiz)3                  4.95718    0.76588   6.473 1.04e-10 ***\n",
       "factor(hhsiz)4                 11.34176    0.77603  14.615  < 2e-16 ***\n",
       "factor(income)2                -0.01916    0.37132  -0.052 0.958841    \n",
       "factor(income)3                -0.07656    0.36190  -0.212 0.832463    \n",
       "factor(hhsiz)2:factor(income)2 -0.42064    0.65884  -0.638 0.523203    \n",
       "factor(hhsiz)3:factor(income)2  1.01926    0.94333   1.080 0.279966    \n",
       "factor(hhsiz)4:factor(income)2  1.16897    0.96637   1.210 0.226460    \n",
       "factor(hhsiz)2:factor(income)3  0.85861    0.60367   1.422 0.154988    \n",
       "factor(hhsiz)3:factor(income)3  2.59048    0.83485   3.103 0.001925 ** \n",
       "factor(hhsiz)4:factor(income)3  3.09656    0.83524   3.707 0.000211 ***\n",
       "---\n",
       "Signif. codes:  0 '***' 0.001 '**' 0.01 '*' 0.05 '.' 0.1 ' ' 1\n",
       "\n",
       "Residual standard error: 5.926 on 6007 degrees of freedom\n",
       "Multiple R-squared:  0.4184,\tAdjusted R-squared:  0.4174 \n",
       "F-statistic: 392.9 on 11 and 6007 DF,  p-value: < 2.2e-16\n"
      ]
     },
     "metadata": {},
     "output_type": "display_data"
    }
   ],
   "source": [
    "df.persinc <- df.hbw %>%\n",
    "    select(hhsiz, income, htrips) %>%\n",
    "    filter(income < 99) %>%\n",
    "    mutate(hhsiz = recode(hhsiz, `1`=1, `2`=2, `3`=3, `4`=4, `5`=4, \n",
    "                          `6`=4, `7`=4, `8`=4)) %>%\n",
    "    mutate(income = recode(income, `1`=1, `2`=1, `3`=2, `4`=2, `5`=3, \n",
    "                          `6`=3, `7`=3, `8`=3)) %>%\n",
    "    group_by(hhsiz, income) %>%\n",
    "    mutate(avg_trips = mean(htrips))\n",
    "\n",
    "df.persinc$ResError <- (df.persinc$htrips - \n",
    "                           df.persinc$avg_trips)^2\n",
    "df.persinc$TotError <- (df.persinc$htrips - \n",
    "                           mean(df.persinc$htrips))^2\n",
    "SSE <- sum(df.persinc$ResError)\n",
    "SST <- sum(df.persinc$TotError)\n",
    "R2 <- 1 - (SSE/SST)\n",
    "print(R2)\n",
    "k <- 11\n",
    "n <- nrow(df.persinc)\n",
    "adj.R2 <- R2 - ((1 - R2)*(k - 1) / (n - k - 1))\n",
    "print(adj.R2)\n",
    "\n",
    "persinc.fit <- lm(htrips ~ factor(hhsiz) * factor(income), \n",
    "                  data=df.persinc)\n",
    "print(persinc.fit)\n",
    "summary(persinc.fit)"
   ]
  },
  {
   "cell_type": "code",
   "execution_count": 65,
   "metadata": {},
   "outputs": [
    {
     "data": {},
     "metadata": {},
     "output_type": "display_data"
    },
    {
     "data": {
      "image/png": "[encoded data removed]",
      "text/plain": [
       "plot without title"
      ]
     },
     "metadata": {},
     "output_type": "display_data"
    }
   ],
   "source": [
    "# Graph Avg Trips by income and HH Size\n",
    "df.persinc$income <- as.factor(df.persinc$income)\n",
    "\n",
    "df.persinc %>%\n",
    "    ggplot(aes(x=hhsiz, y=avg_trips, color=income, group=income)) + \n",
    "    theme_minimal() +\n",
    "    geom_point(size=2.5) +\n",
    "    geom_line(aes(x=hhsiz, y=avg_trips, color=income), size=1) +\n",
    "    stat_smooth(method=lm, se=FALSE, linetype=\"dashed\", aes(group=1), \n",
    "                size=2, color=\"gray\") +\n",
    "    labs(title= \"Avg Trips by income and HH Size\") +\n",
    "    scale_color_brewer(palette=\"Dark2\")"
   ]
  },
  {
   "cell_type": "code",
   "execution_count": 66,
   "metadata": {},
   "outputs": [
    {
     "name": "stdout",
     "output_type": "stream",
     "text": [
      "[1] 0.420007\n",
      "[1] 0.4190414\n",
      "\n",
      "Call:\n",
      "lm(formula = htrips ~ factor(hhsiz) + factor(income), data = df.persinc)\n",
      "\n",
      "Coefficients:\n",
      "    (Intercept)   factor(hhsiz)2   factor(hhsiz)3   factor(hhsiz)4  \n",
      "        4.55774          2.77485          6.57532         13.42852  \n",
      "factor(income)2  factor(income)3  factor(income)4  factor(income)5  \n",
      "       -0.24720         -0.46169         -0.01122          0.50752  \n",
      "factor(income)6  factor(income)7  factor(income)8  \n",
      "        0.88626          1.06040          1.29325  \n",
      "\n"
     ]
    },
    {
     "data": {
      "text/plain": [
       "\n",
       "Call:\n",
       "lm(formula = htrips ~ factor(hhsiz) + factor(income), data = df.persinc)\n",
       "\n",
       "Residuals:\n",
       "    Min      1Q  Median      3Q     Max \n",
       "-19.047  -3.622  -0.618   2.909  47.261 \n",
       "\n",
       "Coefficients:\n",
       "                Estimate Std. Error t value Pr(>|t|)    \n",
       "(Intercept)      4.55774    0.33979  13.414  < 2e-16 ***\n",
       "factor(hhsiz)2   2.77485    0.20900  13.277  < 2e-16 ***\n",
       "factor(hhsiz)3   6.57532    0.25913  25.374  < 2e-16 ***\n",
       "factor(hhsiz)4  13.42852    0.24640  54.500  < 2e-16 ***\n",
       "factor(income)2 -0.24720    0.43044  -0.574  0.56579    \n",
       "factor(income)3 -0.46169    0.43270  -1.067  0.28602    \n",
       "factor(income)4 -0.01122    0.40416  -0.028  0.97784    \n",
       "factor(income)5  0.50752    0.38246   1.327  0.18457    \n",
       "factor(income)6  0.88626    0.39395   2.250  0.02451 *  \n",
       "factor(income)7  1.06040    0.40290   2.632  0.00851 ** \n",
       "factor(income)8  1.29325    0.44100   2.933  0.00337 ** \n",
       "---\n",
       "Signif. codes:  0 '***' 0.001 '**' 0.01 '*' 0.05 '.' 0.1 ' ' 1\n",
       "\n",
       "Residual standard error: 5.933 on 6008 degrees of freedom\n",
       "Multiple R-squared:  0.4169,\tAdjusted R-squared:  0.4159 \n",
       "F-statistic: 429.5 on 10 and 6008 DF,  p-value: < 2.2e-16\n"
      ]
     },
     "metadata": {},
     "output_type": "display_data"
    }
   ],
   "source": [
    "# HH Size Income \n",
    "df.persinc <- df.hbw %>%\n",
    "    select(hhsiz, income, htrips) %>%\n",
    "    filter(income < 99) %>%\n",
    "    mutate(hhsiz = recode(hhsiz, `1`=1, `2`=2, `3`=3, `4`=4, `5`=4, \n",
    "                          `6`=4, `7`=4, `8`=4)) %>%\n",
    "    group_by(hhsiz, income) %>%\n",
    "    mutate(avg_trips = mean(htrips))\n",
    "\n",
    "df.persinc$ResError <- (df.persinc$htrips - \n",
    "                           df.persinc$avg_trips)^2\n",
    "df.persinc$TotError <- (df.persinc$htrips - \n",
    "                           mean(df.persinc$htrips))^2\n",
    "SSE <- sum(df.persinc$ResError)\n",
    "SST <- sum(df.persinc$TotError)\n",
    "R2 <- 1 - (SSE/SST)\n",
    "print(R2)\n",
    "k <- 11\n",
    "n <- nrow(df.persinc)\n",
    "adj.R2 <- R2 - ((1 - R2)*(k - 1) / (n - k - 1))\n",
    "print(adj.R2)\n",
    "\n",
    "persinc.fit <- lm(htrips ~ factor(hhsiz) + factor(income), \n",
    "                  data=df.persinc)\n",
    "print(persinc.fit)\n",
    "summary(persinc.fit)"
   ]
  },
  {
   "cell_type": "markdown",
   "metadata": {},
   "source": [
    "## Trips by Income and HHVeh"
   ]
  },
  {
   "cell_type": "code",
   "execution_count": 67,
   "metadata": {},
   "outputs": [
    {
     "name": "stdout",
     "output_type": "stream",
     "text": [
      "[1] 0.09106187\n",
      "[1] 0.08939714\n",
      "\n",
      "Call:\n",
      "lm(formula = htrips ~ factor(hhveh) * factor(income), data = df.vehinc)\n",
      "\n",
      "Coefficients:\n",
      "                   (Intercept)                  factor(hhveh)1  \n",
      "                        6.9242                         -1.1332  \n",
      "                factor(hhveh)2                  factor(hhveh)3  \n",
      "                        1.7283                          2.1284  \n",
      "               factor(income)2                 factor(income)3  \n",
      "                        1.4848                          4.5043  \n",
      "factor(hhveh)1:factor(income)2  factor(hhveh)2:factor(income)2  \n",
      "                       -1.0785                         -1.5186  \n",
      "factor(hhveh)3:factor(income)2  factor(hhveh)1:factor(income)3  \n",
      "                       -0.5571                         -2.0080  \n",
      "factor(hhveh)2:factor(income)3  factor(hhveh)3:factor(income)3  \n",
      "                       -1.3633                         -1.5585  \n",
      "\n"
     ]
    },
    {
     "data": {
      "text/plain": [
       "\n",
       "Call:\n",
       "lm(formula = htrips ~ factor(hhveh) * factor(income), data = df.vehinc)\n",
       "\n",
       "Residuals:\n",
       "    Min      1Q  Median      3Q     Max \n",
       "-11.998  -4.998  -1.794   3.347  56.347 \n",
       "\n",
       "Coefficients:\n",
       "                               Estimate Std. Error t value Pr(>|t|)    \n",
       "(Intercept)                      6.9242     0.5264  13.153  < 2e-16 ***\n",
       "factor(hhveh)1                  -1.1332     0.6328  -1.791  0.07338 .  \n",
       "factor(hhveh)2                   1.7283     0.8615   2.006  0.04489 *  \n",
       "factor(hhveh)3                   2.1284     1.3120   1.622  0.10479    \n",
       "factor(income)2                  1.4848     0.9491   1.565  0.11774    \n",
       "factor(income)3                  4.5043     1.1820   3.811  0.00014 ***\n",
       "factor(hhveh)1:factor(income)2  -1.0785     1.0563  -1.021  0.30728    \n",
       "factor(hhveh)2:factor(income)2  -1.5186     1.2284  -1.236  0.21643    \n",
       "factor(hhveh)3:factor(income)2  -0.5571     1.6442  -0.339  0.73476    \n",
       "factor(hhveh)1:factor(income)3  -2.0080     1.2609  -1.593  0.11132    \n",
       "factor(hhveh)2:factor(income)3  -1.3633     1.3753  -0.991  0.32159    \n",
       "factor(hhveh)3:factor(income)3  -1.5585     1.6982  -0.918  0.35878    \n",
       "---\n",
       "Signif. codes:  0 '***' 0.001 '**' 0.01 '*' 0.05 '.' 0.1 ' ' 1\n",
       "\n",
       "Residual standard error: 7.408 on 6007 degrees of freedom\n",
       "Multiple R-squared:  0.09106,\tAdjusted R-squared:  0.0894 \n",
       "F-statistic: 54.71 on 11 and 6007 DF,  p-value: < 2.2e-16\n"
      ]
     },
     "metadata": {},
     "output_type": "display_data"
    }
   ],
   "source": [
    "df.vehinc <- df.hbw %>%\n",
    "    select(hhveh, income, htrips) %>%\n",
    "    filter(income < 99) %>%\n",
    "    mutate(hhveh = recode(hhveh, `0`=0, `1`=1, `2`=2, `3`=3, `4`=3, `5`=3, \n",
    "                          `6`=3, `7`=3, `8`=3)) %>%\n",
    "    mutate(income = recode(income, `1`=1, `2`=1, `3`=2, `4`=2, `5`=3, \n",
    "                          `6`=3, `7`=3, `8`=3)) %>%\n",
    "    group_by(hhveh, income) %>%\n",
    "    mutate(avg_trips = mean(htrips))\n",
    "\n",
    "df.vehinc$ResError <- (df.persinc$htrips - \n",
    "                           df.vehinc$avg_trips)^2\n",
    "df.vehinc$TotError <- (df.vehinc$htrips - \n",
    "                           mean(df.vehinc$htrips))^2\n",
    "SSE <- sum(df.vehinc$ResError)\n",
    "SST <- sum(df.vehinc$TotError)\n",
    "R2 <- 1 - (SSE/SST)\n",
    "print(R2)\n",
    "k <- 12\n",
    "n <- nrow(df.vehinc)\n",
    "adj.R2 <- R2 - ((1 - R2)*(k - 1) / (n - k - 1))\n",
    "print(adj.R2)\n",
    "\n",
    "vehinc.fit <- lm(htrips ~ factor(hhveh) * factor(income), \n",
    "                  data=df.vehinc)\n",
    "print(vehinc.fit)\n",
    "summary(vehinc.fit)"
   ]
  },
  {
   "cell_type": "code",
   "execution_count": 68,
   "metadata": {},
   "outputs": [
    {
     "data": {},
     "metadata": {},
     "output_type": "display_data"
    },
    {
     "data": {
      "image/png": "[encoded data removed]",
      "text/plain": [
       "plot without title"
      ]
     },
     "metadata": {},
     "output_type": "display_data"
    }
   ],
   "source": [
    "# Graph Avg Trips by HHVeh and income\n",
    "df.vehinc$income <- as.factor(df.vehinc$income)\n",
    "df.vehinc$hhveh <- as.factor(df.vehinc$hhveh)\n",
    "\n",
    "df.vehinc %>%\n",
    "    ggplot(aes(x=hhveh, y=avg_trips, color=income, group=income)) + \n",
    "    theme_minimal() +\n",
    "    geom_point(size=2.5) +\n",
    "    geom_line(aes(x=hhveh, y=avg_trips, color=income), size=1) +\n",
    "    stat_smooth(method=lm, se=FALSE, linetype=\"dashed\", aes(group=1), \n",
    "                size=2, color=\"gray\") +\n",
    "    labs(title= \"Avg Trips by income and HHVeh\") +\n",
    "    scale_color_brewer(palette=\"Dark2\")"
   ]
  },
  {
   "cell_type": "code",
   "execution_count": 69,
   "metadata": {},
   "outputs": [
    {
     "name": "stdout",
     "output_type": "stream",
     "text": [
      "[1] \"SSE = 223155.764668476\"\n",
      "[1] \"SST = 394221.676849124\"\n",
      "[1] \"R2 = 0.433933297498803\"\n",
      "[1] \"n = 6449\"\n"
     ]
    },
    {
     "data": {
      "text/plain": [
       "\n",
       "Call:\n",
       "lm(formula = htrips ~ factor(hhsiz), data = df.pers)\n",
       "\n",
       "Residuals:\n",
       "    Min      1Q  Median      3Q     Max \n",
       "-22.661  -3.745  -0.702   3.072  58.339 \n",
       "\n",
       "Coefficients:\n",
       "               Estimate Std. Error t value Pr(>|t|)    \n",
       "(Intercept)      4.7019     0.1417   33.17   <2e-16 ***\n",
       "factor(hhsiz)2   3.2256     0.1847   17.46   <2e-16 ***\n",
       "factor(hhsiz)3   7.0430     0.2357   29.88   <2e-16 ***\n",
       "factor(hhsiz)4  12.4035     0.2444   50.74   <2e-16 ***\n",
       "factor(hhsiz)5  17.9591     0.3243   55.38   <2e-16 ***\n",
       "---\n",
       "Signif. codes:  0 '***' 0.001 '**' 0.01 '*' 0.05 '.' 0.1 ' ' 1\n",
       "\n",
       "Residual standard error: 5.885 on 6444 degrees of freedom\n",
       "Multiple R-squared:  0.4339,\tAdjusted R-squared:  0.4336 \n",
       "F-statistic:  1235 on 4 and 6444 DF,  p-value: < 2.2e-16\n"
      ]
     },
     "metadata": {},
     "output_type": "display_data"
    }
   ],
   "source": [
    "# HH Size only\n",
    "df.pers <- df.hbw %>%\n",
    "    select(hhsiz, htrips) %>%\n",
    "    mutate(hhsiz = recode(hhsiz, `1`=1, `2`=2, `3`=3, `4`=4, `5`=5, \n",
    "                          `6`=5, `7`=5, `8`=5)) %>%\n",
    "    group_by(hhsiz) %>%\n",
    "    mutate(avg_trips = mean(htrips))\n",
    "\n",
    "df.pers$ResError <- (df.pers$htrips - df.pers$avg_trips)^2\n",
    "df.pers$TotError <- (df.pers$htrips - mean(df.pers$htrips))^2\n",
    "SSE <- sum(df.pers$ResError)\n",
    "SST <- sum(df.pers$TotError)\n",
    "R2 <- 1 - (SSE/SST)\n",
    "print(paste(\"SSE =\", SSE, sep=\" \"))\n",
    "print(paste(\"SST =\", SST, sep=\" \"))\n",
    "print(paste(\"R2 =\", R2, sep=\" \"))\n",
    "k <- 5\n",
    "n <- nrow(df.pers)\n",
    "print(paste(\"n =\", n, sep=\" \"))\n",
    "adj.R2 <- R2 - ((1 - R2)*(k - 1) / (n - k - 1))\n",
    "\n",
    "pers.fit <- lm(htrips ~ factor(hhsiz), data=df.pers)\n",
    "summary(pers.fit)"
   ]
  },
  {
   "cell_type": "code",
   "execution_count": 70,
   "metadata": {},
   "outputs": [
    {
     "data": {},
     "metadata": {},
     "output_type": "display_data"
    },
    {
     "data": {
      "image/png": "[encoded data removed]",
      "text/plain": [
       "plot without title"
      ]
     },
     "metadata": {},
     "output_type": "display_data"
    }
   ],
   "source": [
    "# Graph Avg Trips by HHSiz\n",
    "df.pers$hhsiz <- as.factor(df.pers$hhsiz)\n",
    "\n",
    "df.pers %>%\n",
    "    ggplot(aes(x=hhsiz, y=avg_trips, color=hhsiz)) + \n",
    "    theme_minimal() +\n",
    "    geom_point(size=2.5) +\n",
    "    stat_smooth(method=lm, se=FALSE, linetype=\"dashed\", aes(group=1), \n",
    "                size=2, color=\"gray\") +\n",
    "    labs(title= \"Avg Trips Per HHSiz\") +\n",
    "    scale_color_brewer(palette=\"Dark2\")"
   ]
  },
  {
   "cell_type": "markdown",
   "metadata": {},
   "source": [
    "## HHSiz and Presence of Workers"
   ]
  },
  {
   "cell_type": "code",
   "execution_count": 71,
   "metadata": {},
   "outputs": [
    {
     "name": "stdout",
     "output_type": "stream",
     "text": [
      "[1] 0.4332779\n",
      "[1] 0.4323093\n",
      "\n",
      "Call:\n",
      "lm(formula = htrips ~ factor(hhsiz) * factor(hhwrk), data = df.perswrk)\n",
      "\n",
      "Coefficients:\n",
      "                  (Intercept)                 factor(hhsiz)2  \n",
      "                       3.8561                         2.6356  \n",
      "               factor(hhsiz)3                 factor(hhsiz)4  \n",
      "                       4.4992                         7.2868  \n",
      "               factor(hhsiz)5                 factor(hhwrk)1  \n",
      "                      14.4166                         1.2336  \n",
      "factor(hhsiz)2:factor(hhwrk)1  factor(hhsiz)3:factor(hhwrk)1  \n",
      "                       0.4489                         2.4423  \n",
      "factor(hhsiz)4:factor(hhwrk)1  factor(hhsiz)5:factor(hhwrk)1  \n",
      "                       5.5191                         2.4766  \n",
      "\n"
     ]
    },
    {
     "data": {
      "text/plain": [
       "\n",
       "Call:\n",
       "lm(formula = htrips ~ factor(hhsiz) * factor(hhwrk), data = df.perswrk)\n",
       "\n",
       "Residuals:\n",
       "    Min      1Q  Median      3Q     Max \n",
       "-21.983  -3.492  -0.856   2.910  63.104 \n",
       "\n",
       "Coefficients:\n",
       "                              Estimate Std. Error t value Pr(>|t|)    \n",
       "(Intercept)                     3.8561     0.2530  15.241  < 2e-16 ***\n",
       "factor(hhsiz)2                  2.6356     0.3998   6.592 4.69e-11 ***\n",
       "factor(hhsiz)3                  4.4992     0.7215   6.236 4.78e-10 ***\n",
       "factor(hhsiz)4                  7.2868     1.1416   6.383 1.86e-10 ***\n",
       "factor(hhsiz)5                 14.4166     1.7940   8.036 1.09e-15 ***\n",
       "factor(hhwrk)1                  1.2336     0.3056   4.037 5.48e-05 ***\n",
       "factor(hhsiz)2:factor(hhwrk)1   0.4489     0.4535   0.990  0.32233    \n",
       "factor(hhsiz)3:factor(hhwrk)1   2.4423     0.7671   3.184  0.00146 ** \n",
       "factor(hhsiz)4:factor(hhwrk)1   5.5191     1.1711   4.713 2.50e-06 ***\n",
       "factor(hhsiz)5:factor(hhwrk)1   2.4766     1.8293   1.354  0.17584    \n",
       "---\n",
       "Signif. codes:  0 '***' 0.001 '**' 0.01 '*' 0.05 '.' 0.1 ' ' 1\n",
       "\n",
       "Residual standard error: 5.89 on 6439 degrees of freedom\n",
       "Multiple R-squared:  0.4333,\tAdjusted R-squared:  0.4325 \n",
       "F-statistic:   547 on 9 and 6439 DF,  p-value: < 2.2e-16\n"
      ]
     },
     "metadata": {},
     "output_type": "display_data"
    }
   ],
   "source": [
    "df.perswrk <- df.hbw %>%\n",
    "    select(hhwrk, hhsiz, htrips) %>%\n",
    "    mutate(hhsiz = recode(hhsiz, `1`=1, `2`=2, `3`=3, `4`=4, `5`=5, \n",
    "                          `6`=5, `7`=4, `8`=5)) %>%\n",
    "    mutate(hhwrk = recode(hhwrk, `0`=0,`1`=1, `2`=1, `3`=1, `4`=1, `5`=1)) %>%\n",
    "    group_by(hhsiz, hhwrk) %>%\n",
    "    mutate(avg_trips = mean(htrips))\n",
    "\n",
    "# Manual R2 Calculations\n",
    "df.perswrk$ResError <- (df.perswrk$htrips - df.perswrk$avg_trips)^2\n",
    "df.perswrk$TotError <- (df.perswrk$htrips - mean(df.perswrk$htrips))^2\n",
    "SSE <- sum(df.perswrk$ResError)\n",
    "SST <- sum(df.perswrk$TotError)\n",
    "R2 <- 1 - (SSE/SST)\n",
    "print(R2)\n",
    "k <- 12\n",
    "n <- nrow(df.perswrk)\n",
    "adj.R2 <- R2 - ((1 - R2)*(k - 1) / (n - k - 1))\n",
    "print(adj.R2)\n",
    "\n",
    "perswrk.fit <- lm(htrips ~ factor(hhsiz) * factor(hhwrk), data=df.perswrk)\n",
    "print(perswrk.fit)\n",
    "summary(perswrk.fit)"
   ]
  },
  {
   "cell_type": "code",
   "execution_count": 76,
   "metadata": {},
   "outputs": [
    {
     "name": "stdout",
     "output_type": "stream",
     "text": [
      "[1] 0.4359072\n",
      "[1] 0.4351186\n",
      "[1] 0.435031\n",
      "\n",
      "Call:\n",
      "lm(formula = htrips ~ factor(hhsiz) * factor(hhlic), data = df.perslic)\n",
      "\n",
      "Coefficients:\n",
      "                  (Intercept)                 factor(hhsiz)2  \n",
      "                       5.8400                        -0.3067  \n",
      "               factor(hhsiz)3                 factor(hhsiz)4  \n",
      "                      11.2711                         7.3267  \n",
      "               factor(hhsiz)5                 factor(hhlic)1  \n",
      "                      24.6600                        -1.2466  \n",
      "factor(hhsiz)2:factor(hhlic)1  factor(hhsiz)3:factor(hhlic)1  \n",
      "                       3.6554                        -4.1696  \n",
      "factor(hhsiz)4:factor(hhlic)1  factor(hhsiz)5:factor(hhlic)1  \n",
      "                       5.2126                        -6.6312  \n",
      "\n"
     ]
    },
    {
     "data": {
      "text/plain": [
       "\n",
       "Call:\n",
       "lm(formula = htrips ~ factor(hhsiz) * factor(hhlic), data = df.perslic)\n",
       "\n",
       "Residuals:\n",
       "    Min      1Q  Median      3Q     Max \n",
       "-22.622  -3.695  -0.593   3.058  58.378 \n",
       "\n",
       "Coefficients:\n",
       "                              Estimate Std. Error t value Pr(>|t|)    \n",
       "(Intercept)                     5.8400     0.4798  12.171  < 2e-16 ***\n",
       "factor(hhsiz)2                 -0.3067     1.5914  -0.193  0.84720    \n",
       "factor(hhsiz)3                 11.2711     2.0168   5.589 2.38e-08 ***\n",
       "factor(hhsiz)4                  7.3267     2.4467   2.995  0.00276 ** \n",
       "factor(hhsiz)5                 24.6600     4.1831   5.895 3.93e-09 ***\n",
       "factor(hhlic)1                 -1.2466     0.5022  -2.482  0.01308 *  \n",
       "factor(hhsiz)2:factor(hhlic)1   3.6554     1.6027   2.281  0.02259 *  \n",
       "factor(hhsiz)3:factor(hhlic)1  -4.1696     2.0311  -2.053  0.04012 *  \n",
       "factor(hhsiz)4:factor(hhlic)1   5.2126     2.4593   2.120  0.03408 *  \n",
       "factor(hhsiz)5:factor(hhlic)1  -6.6312     4.1959  -1.580  0.11407    \n",
       "---\n",
       "Signif. codes:  0 '***' 0.001 '**' 0.01 '*' 0.05 '.' 0.1 ' ' 1\n",
       "\n",
       "Residual standard error: 5.877 on 6439 degrees of freedom\n",
       "Multiple R-squared:  0.4359,\tAdjusted R-squared:  0.4351 \n",
       "F-statistic: 552.9 on 9 and 6439 DF,  p-value: < 2.2e-16\n"
      ]
     },
     "metadata": {},
     "output_type": "display_data"
    }
   ],
   "source": [
    "# Start with fresh data frame\n",
    "df.perslic <- df.hbw %>%\n",
    "    select(hhsiz, hhlic, htrips) %>%\n",
    "    mutate(hhsiz = recode(hhsiz, `1`=1, `2`=2, `3`=3, `4`=4, `5`=5, \n",
    "                          `6`=5, `7`=5, `8`=5)) %>%\n",
    "    \n",
    "    mutate(hhlic = recode(hhlic, `0`=0, `1`=1, `2`=1, `3`=1, `4`=1, `5`=1, \n",
    "                          `6`=1, `7`=1)) %>%\n",
    "    group_by(hhsiz, hhlic) %>%\n",
    "    mutate(avg_trips = mean(htrips))\n",
    "\n",
    "# Manual Error calcs\n",
    "df.perslic$ResError <- (df.perslic$htrips - \n",
    "                           df.perslic$avg_trips)^2\n",
    "df.perslic$TotError <- (df.perslic$htrips - \n",
    "                           mean(df.perslic$htrips))^2\n",
    "SSE <- sum(df.perslic$ResError)\n",
    "SST <- sum(df.perslic$TotError)\n",
    "R2 <- 1 - (SSE/SST)\n",
    "print(R2)\n",
    "k <- 10\n",
    "n <- nrow(df.perslic)\n",
    "adj.R2 <- R2 - ((1 - R2) * (k - 1) / (n - k - 1))\n",
    "adj.R2_v2 <- 1 - (1 - R2) * (n - 1) / (n - k - 1)\n",
    "print(adj.R2)\n",
    "print(adj.R2_v2)\n",
    "\n",
    "perslic.fit <- lm(htrips ~ factor(hhsiz) * factor(hhlic), data=df.perslic)\n",
    "print(perslic.fit)\n",
    "summary(perslic.fit)\n"
   ]
  },
  {
   "cell_type": "code",
   "execution_count": 73,
   "metadata": {},
   "outputs": [
    {
     "data": {},
     "metadata": {},
     "output_type": "display_data"
    },
    {
     "data": {
      "image/png": "[encoded data removed]",
      "text/plain": [
       "plot without title"
      ]
     },
     "metadata": {},
     "output_type": "display_data"
    }
   ],
   "source": [
    "# Graph Avg Trips by HHSiz and Presence of Licensed Drivers\n",
    "df.perslic$hhsiz <- as.factor(df.perslic$hhsiz)\n",
    "df.perslic$hhlic <- as.factor(df.perslic$hhlic)\n",
    "\n",
    "df.perslic %>%\n",
    "    ggplot(aes(x=hhsiz, y=avg_trips, color=hhlic, group=hhlic)) + \n",
    "    theme_minimal() +\n",
    "    geom_point(size=2.5) +\n",
    "    geom_line(aes(x=hhsiz, y=avg_trips, color=hhlic), size=1) +\n",
    "    stat_smooth(method=lm, se=FALSE, linetype=\"dashed\", aes(group=1), \n",
    "                size=2, color=\"gray\") +\n",
    "    labs(title= \"Avg Trips Per HHSiz and Presence of Licensed Drivers\") +\n",
    "    scale_color_brewer(palette=\"Dark2\")"
   ]
  },
  {
   "cell_type": "markdown",
   "metadata": {},
   "source": [
    "## HHSiz and Presence of Workers"
   ]
  },
  {
   "cell_type": "code",
   "execution_count": 115,
   "metadata": {},
   "outputs": [
    {
     "name": "stdout",
     "output_type": "stream",
     "text": [
      "[1] \"SSE = 219410.128353974\"\n",
      "[1] \"SST = 394221.676849124\"\n",
      "[1] \"R2 = 0.443434642895231\"\n",
      "[1] \"adj R2 = 0.442656592535811\"\n",
      "\n",
      "Call:\n",
      "lm(formula = htrips ~ factor(hhsiz) * factor(hhwrk), data = df.wrk)\n",
      "\n",
      "Coefficients:\n",
      "                  (Intercept)                 factor(hhsiz)2  \n",
      "                       3.8561                         2.6356  \n",
      "               factor(hhsiz)3                 factor(hhsiz)4  \n",
      "                       4.4992                         7.2208  \n",
      "               factor(hhsiz)5                 factor(hhwrk)1  \n",
      "                      13.4516                         1.2336  \n",
      "factor(hhsiz)2:factor(hhwrk)1  factor(hhsiz)3:factor(hhwrk)1  \n",
      "                       0.4489                         2.4423  \n",
      "factor(hhsiz)4:factor(hhwrk)1  factor(hhsiz)5:factor(hhwrk)1  \n",
      "                       4.9799                         4.2963  \n",
      "\n"
     ]
    },
    {
     "data": {
      "text/plain": [
       "\n",
       "Call:\n",
       "lm(formula = htrips ~ factor(hhsiz) * factor(hhwrk), data = df.wrk)\n",
       "\n",
       "Residuals:\n",
       "    Min      1Q  Median      3Q     Max \n",
       "-22.838  -3.290  -0.856   2.910  58.162 \n",
       "\n",
       "Coefficients:\n",
       "                              Estimate Std. Error t value Pr(>|t|)    \n",
       "(Intercept)                     3.8561     0.2507  15.379  < 2e-16 ***\n",
       "factor(hhsiz)2                  2.6356     0.3962   6.652 3.14e-11 ***\n",
       "factor(hhsiz)3                  4.4992     0.7150   6.293 3.33e-10 ***\n",
       "factor(hhsiz)4                  7.2208     1.1719   6.161 7.65e-10 ***\n",
       "factor(hhsiz)5                 13.4516     1.6383   8.211 2.63e-16 ***\n",
       "factor(hhwrk)1                  1.2336     0.3028   4.074 4.68e-05 ***\n",
       "factor(hhsiz)2:factor(hhwrk)1   0.4489     0.4494   0.999  0.31796    \n",
       "factor(hhsiz)3:factor(hhwrk)1   2.4423     0.7602   3.213  0.00132 ** \n",
       "factor(hhsiz)4:factor(hhwrk)1   4.9799     1.2010   4.146 3.42e-05 ***\n",
       "factor(hhsiz)5:factor(hhwrk)1   4.2963     1.6731   2.568  0.01026 *  \n",
       "---\n",
       "Signif. codes:  0 '***' 0.001 '**' 0.01 '*' 0.05 '.' 0.1 ' ' 1\n",
       "\n",
       "Residual standard error: 5.837 on 6439 degrees of freedom\n",
       "Multiple R-squared:  0.4434,\tAdjusted R-squared:  0.4427 \n",
       "F-statistic:   570 on 9 and 6439 DF,  p-value: < 2.2e-16\n"
      ]
     },
     "metadata": {},
     "output_type": "display_data"
    }
   ],
   "source": [
    "df.wrk <- df.hbw %>%\n",
    "    select(hhwrk, hhsiz, htrips) %>%\n",
    "    mutate(hhsiz = recode(hhsiz, `1`=1, `2`=2, `3`=3, `4`=4, `5`=5, \n",
    "                          `6`=5, `7`=5, `8`=5)) %>%\n",
    "    mutate(hhwrk = recode(hhwrk, `0`=0, `1`=1, `2`=1, `3`=1, `4`=1, `5`=1)) %>%\n",
    "    group_by(hhsiz, hhwrk) %>%\n",
    "    mutate(avg_trips = mean(htrips))\n",
    "\n",
    "# Manual R2 Calculations\n",
    "df.wrk$ResError <- (df.wrk$htrips - df.wrk$avg_trips)^2\n",
    "df.wrk$TotError <- (df.wrk$htrips - mean(df.wrk$htrips))^2\n",
    "SSE <- sum(df.wrk$ResError)\n",
    "SST <- sum(df.wrk$TotError)\n",
    "R2 <- 1 - (SSE/SST)\n",
    "k <- 10\n",
    "n <- nrow(df.wrk)\n",
    "adj.R2 <- R2 - ((1 - R2)*(k - 1) / (n - k - 1))\n",
    "\n",
    "print(paste(\"SSE =\", SSE, sep=\" \"))\n",
    "print(paste(\"SST =\", SST, sep=\" \"))\n",
    "print(paste(\"R2 =\", R2, sep=\" \"))\n",
    "print(paste(\"adj R2 =\", adj.R2, sep=\" \"))\n",
    "\n",
    "\n",
    "wrk.fit <- lm(htrips ~ factor(hhsiz) * factor(hhwrk), data=df.wrk)\n",
    "print(wrk.fit)\n",
    "summary(wrk.fit)"
   ]
  },
  {
   "cell_type": "markdown",
   "metadata": {},
   "source": [
    "## HHSiz and Presence of Licensed Drivers"
   ]
  },
  {
   "cell_type": "code",
   "execution_count": null,
   "metadata": {},
   "outputs": [],
   "source": []
  },
  {
   "cell_type": "code",
   "execution_count": 75,
   "metadata": {},
   "outputs": [
    {
     "data": {
      "text/html": [
       "33.583778616565"
      ],
      "text/latex": [
       "33.583778616565"
      ],
      "text/markdown": [
       "33.583778616565"
      ],
      "text/plain": [
       "[1] 33.58378"
      ]
     },
     "metadata": {},
     "output_type": "display_data"
    }
   ],
   "source": [
    "((223155.8 - 217483.3)/5) / (217483.3/(6449-10-1))"
   ]
  }
 ],
 "metadata": {
  "kernelspec": {
   "display_name": "R",
   "language": "R",
   "name": "ir"
  },
  "language_info": {
   "codemirror_mode": "r",
   "file_extension": ".r",
   "mimetype": "text/x-r-source",
   "name": "R",
   "pygments_lexer": "r",
   "version": "3.4.3"
  }
 },
 "nbformat": 4,
 "nbformat_minor": 2
}
