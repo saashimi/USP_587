{
 "cells": [
  {
   "cell_type": "code",
   "execution_count": 416,
   "metadata": {},
   "outputs": [],
   "source": [
    "library(dplyr)\n",
    "library(ggplot2)\n",
    "\n",
    "df.hbw <- read.csv(paste(\"C:/Users/saavedrak/Desktop/\",\n",
    "                     \"USP_587_data/HW2/household_hbw.csv\", sep=\"\"))\n",
    "df.hia <- read.csv(paste(\"C:/Users/saavedrak/Desktop/\",\n",
    "                     \"USP_587_data/HW2/2010_hia.csv\", sep=\"\"))"
   ]
  },
  {
   "cell_type": "code",
   "execution_count": 427,
   "metadata": {},
   "outputs": [
    {
     "data": {
      "text/html": [
       "<table>\n",
       "<thead><tr><th scope=col>resty</th><th scope=col>hhveh</th><th scope=col>count</th><th scope=col>avg_trips</th></tr></thead>\n",
       "<tbody>\n",
       "\t<tr><td>1        </td><td>0        </td><td>  90     </td><td> 8.222222</td></tr>\n",
       "\t<tr><td>1        </td><td>1        </td><td>1203     </td><td> 7.142145</td></tr>\n",
       "\t<tr><td>1        </td><td>2        </td><td>2351     </td><td>11.220757</td></tr>\n",
       "\t<tr><td>1        </td><td>3        </td><td>1498     </td><td>11.864486</td></tr>\n",
       "\t<tr><td>2        </td><td>0        </td><td>  26     </td><td>10.576923</td></tr>\n",
       "\t<tr><td>2        </td><td>1        </td><td> 110     </td><td> 6.881818</td></tr>\n",
       "\t<tr><td>2        </td><td>2        </td><td>  39     </td><td>11.153846</td></tr>\n",
       "\t<tr><td>2        </td><td>3        </td><td>  13     </td><td>15.461538</td></tr>\n",
       "\t<tr><td>3        </td><td>0        </td><td> 219     </td><td> 7.716895</td></tr>\n",
       "\t<tr><td>3        </td><td>1        </td><td> 613     </td><td> 6.905383</td></tr>\n",
       "\t<tr><td>3        </td><td>2        </td><td> 141     </td><td> 9.241135</td></tr>\n",
       "\t<tr><td>3        </td><td>3        </td><td>  27     </td><td> 9.555556</td></tr>\n",
       "\t<tr><td>4        </td><td>0        </td><td>  10     </td><td> 4.200000</td></tr>\n",
       "\t<tr><td>4        </td><td>1        </td><td>  61     </td><td> 5.213115</td></tr>\n",
       "\t<tr><td>4        </td><td>2        </td><td>  21     </td><td> 6.428571</td></tr>\n",
       "\t<tr><td>4        </td><td>3        </td><td>  15     </td><td> 7.333333</td></tr>\n",
       "</tbody>\n",
       "</table>\n"
      ],
      "text/latex": [
       "\\begin{tabular}{r|llll}\n",
       " resty & hhveh & count & avg\\_trips\\\\\n",
       "\\hline\n",
       "\t 1         & 0         &   90      &  8.222222\\\\\n",
       "\t 1         & 1         & 1203      &  7.142145\\\\\n",
       "\t 1         & 2         & 2351      & 11.220757\\\\\n",
       "\t 1         & 3         & 1498      & 11.864486\\\\\n",
       "\t 2         & 0         &   26      & 10.576923\\\\\n",
       "\t 2         & 1         &  110      &  6.881818\\\\\n",
       "\t 2         & 2         &   39      & 11.153846\\\\\n",
       "\t 2         & 3         &   13      & 15.461538\\\\\n",
       "\t 3         & 0         &  219      &  7.716895\\\\\n",
       "\t 3         & 1         &  613      &  6.905383\\\\\n",
       "\t 3         & 2         &  141      &  9.241135\\\\\n",
       "\t 3         & 3         &   27      &  9.555556\\\\\n",
       "\t 4         & 0         &   10      &  4.200000\\\\\n",
       "\t 4         & 1         &   61      &  5.213115\\\\\n",
       "\t 4         & 2         &   21      &  6.428571\\\\\n",
       "\t 4         & 3         &   15      &  7.333333\\\\\n",
       "\\end{tabular}\n"
      ],
      "text/markdown": [
       "\n",
       "resty | hhveh | count | avg_trips | \n",
       "|---|---|---|---|---|---|---|---|---|---|---|---|---|---|---|---|\n",
       "| 1         | 0         |   90      |  8.222222 | \n",
       "| 1         | 1         | 1203      |  7.142145 | \n",
       "| 1         | 2         | 2351      | 11.220757 | \n",
       "| 1         | 3         | 1498      | 11.864486 | \n",
       "| 2         | 0         |   26      | 10.576923 | \n",
       "| 2         | 1         |  110      |  6.881818 | \n",
       "| 2         | 2         |   39      | 11.153846 | \n",
       "| 2         | 3         |   13      | 15.461538 | \n",
       "| 3         | 0         |  219      |  7.716895 | \n",
       "| 3         | 1         |  613      |  6.905383 | \n",
       "| 3         | 2         |  141      |  9.241135 | \n",
       "| 3         | 3         |   27      |  9.555556 | \n",
       "| 4         | 0         |   10      |  4.200000 | \n",
       "| 4         | 1         |   61      |  5.213115 | \n",
       "| 4         | 2         |   21      |  6.428571 | \n",
       "| 4         | 3         |   15      |  7.333333 | \n",
       "\n",
       "\n"
      ],
      "text/plain": [
       "   resty hhveh count avg_trips\n",
       "1  1     0       90   8.222222\n",
       "2  1     1     1203   7.142145\n",
       "3  1     2     2351  11.220757\n",
       "4  1     3     1498  11.864486\n",
       "5  2     0       26  10.576923\n",
       "6  2     1      110   6.881818\n",
       "7  2     2       39  11.153846\n",
       "8  2     3       13  15.461538\n",
       "9  3     0      219   7.716895\n",
       "10 3     1      613   6.905383\n",
       "11 3     2      141   9.241135\n",
       "12 3     3       27   9.555556\n",
       "13 4     0       10   4.200000\n",
       "14 4     1       61   5.213115\n",
       "15 4     2       21   6.428571\n",
       "16 4     3       15   7.333333"
      ]
     },
     "metadata": {},
     "output_type": "display_data"
    }
   ],
   "source": [
    "df.resveh <- df.hbw %>%\n",
    "    select(resty, hhveh, htrips) %>%\n",
    "    filter(resty <7 ) %>%\n",
    "    mutate(hhveh = recode(hhveh, `0`=0, `1`=1, `2`=2, `3`=3, `4`=3, `5`=3, \n",
    "                          `6`=3, `7`=3, `8`=3)) %>%\n",
    "    group_by(resty, hhveh) \n",
    "\n",
    "df.resveh.sum <- summarize(df.resveh, count=n(), avg_trips = mean(htrips))\n",
    "df.resveh.sum"
   ]
  },
  {
   "cell_type": "code",
   "execution_count": 432,
   "metadata": {},
   "outputs": [
    {
     "data": {
      "text/plain": [
       "\n",
       "Call:\n",
       "lm(formula = htrips ~ hhveh + resty1 + resty2 + resty3, data = df.resveh)\n",
       "\n",
       "Residuals:\n",
       "    Min      1Q  Median      3Q     Max \n",
       "-12.275  -5.359  -1.530   3.641  68.725 \n",
       "\n",
       "Coefficients:\n",
       "            Estimate Std. Error t value Pr(>|t|)    \n",
       "(Intercept)   3.0032     0.7541   3.983 6.89e-05 ***\n",
       "hhveh         1.9166     0.1247  15.374  < 2e-16 ***\n",
       "resty1        3.5223     0.7459   4.722 2.38e-06 ***\n",
       "resty2        3.5549     0.9198   3.865 0.000112 ***\n",
       "resty3        2.6102     0.7740   3.372 0.000750 ***\n",
       "---\n",
       "Signif. codes:  0 '***' 0.001 '**' 0.01 '*' 0.05 '.' 0.1 ' ' 1\n",
       "\n",
       "Residual standard error: 7.593 on 6432 degrees of freedom\n",
       "Multiple R-squared:  0.05804,\tAdjusted R-squared:  0.05745 \n",
       "F-statistic: 99.07 on 4 and 6432 DF,  p-value: < 2.2e-16\n"
      ]
     },
     "metadata": {},
     "output_type": "display_data"
    }
   ],
   "source": [
    "resty1 <- ifelse(df.resveh$resty == 1 , 1, 0)\n",
    "resty2 <- ifelse(df.resveh$resty == 2 , 1, 0)\n",
    "resty3 <- ifelse(df.resveh$resty == 3 , 1, 0)\n",
    "resty4 <- ifelse(df.resveh$resty == 4 , 1, 0)\n",
    "\n",
    "df.resveh$resty1 <- resty1\n",
    "df.resveh$resty2 <- resty2\n",
    "df.resveh$resty3 <- resty3\n",
    "df.resveh$resty4 <- resty4\n",
    "\n",
    "ln.restyveh <- lm(htrips ~ hhveh + resty1 + resty2 + resty3, data=df.resveh)\n",
    "summary(ln.restyveh)"
   ]
  },
  {
   "cell_type": "code",
   "execution_count": 434,
   "metadata": {},
   "outputs": [
    {
     "name": "stderr",
     "output_type": "stream",
     "text": [
      "ERROR while rich displaying an object: Error: Continuous value supplied to discrete scale\n",
      "\n",
      "Traceback:\n",
      "1. FUN(X[[i]], ...)\n",
      "2. tryCatch(withCallingHandlers({\n",
      " .     rpr <- mime2repr[[mime]](obj)\n",
      " .     if (is.null(rpr)) \n",
      " .         return(NULL)\n",
      " .     prepare_content(is.raw(rpr), rpr)\n",
      " . }, error = error_handler), error = outer_handler)\n",
      "3. tryCatchList(expr, classes, parentenv, handlers)\n",
      "4. tryCatchOne(expr, names, parentenv, handlers[[1L]])\n",
      "5. doTryCatch(return(expr), name, parentenv, handler)\n",
      "6. withCallingHandlers({\n",
      " .     rpr <- mime2repr[[mime]](obj)\n",
      " .     if (is.null(rpr)) \n",
      " .         return(NULL)\n",
      " .     prepare_content(is.raw(rpr), rpr)\n",
      " . }, error = error_handler)\n",
      "7. mime2repr[[mime]](obj)\n",
      "8. repr_text.default(obj)\n",
      "9. paste(capture.output(print(obj)), collapse = \"\\n\")\n",
      "10. capture.output(print(obj))\n",
      "11. evalVis(expr)\n",
      "12. withVisible(eval(expr, pf))\n",
      "13. eval(expr, pf)\n",
      "14. eval(expr, pf)\n",
      "15. print(obj)\n",
      "16. print.ggplot(obj)\n",
      "17. ggplot_build(x)\n",
      "18. lapply(data, scales_train_df, scales = npscales)\n",
      "19. FUN(X[[i]], ...)\n",
      "20. lapply(scales$scales, function(scale) scale$train_df(df = df))\n",
      "21. FUN(X[[i]], ...)\n",
      "22. scale$train_df(df = df)\n",
      "23. f(..., self = self)\n",
      "24. self$train(df[[aesthetic]])\n",
      "25. f(..., self = self)\n",
      "26. self$range$train(x, drop = self$drop, na.rm = !self$na.translate)\n",
      "27. f(..., self = self)\n",
      "28. scales::train_discrete(x, self$range, drop = drop, na.rm = na.rm)\n",
      "29. stop(\"Continuous value supplied to discrete scale\", call. = FALSE)\n"
     ]
    },
    {
     "data": {},
     "metadata": {},
     "output_type": "display_data"
    },
    {
     "data": {
      "image/png": "[encoded data removed]",
      "text/plain": [
       "plot without title"
      ]
     },
     "metadata": {},
     "output_type": "display_data"
    }
   ],
   "source": [
    "df.resveh.sum %>%\n",
    "    ggplot(aes(x=hhveh, y=avg_trips, color=resty, group=resty)) + \n",
    "    theme_minimal() +\n",
    "    geom_point(size=2.5) +\n",
    "    geom_line(aes(x=hhveh, y=avg_trips, color=hhveh), size=1) +\n",
    "    stat_smooth(method=lm, se=FALSE, linetype=\"dashed\", aes(group=1), \n",
    "                size=2, color=\"gray\") +\n",
    "    labs(title= \"Avg Trips by HH Size and HH Vehicles\") +\n",
    "    scale_color_brewer(palette=\"Dark2\")"
   ]
  },
  {
   "cell_type": "code",
   "execution_count": null,
   "metadata": {},
   "outputs": [],
   "source": [
    "data <- data.frame(resty = 4, hhveh=2)\n",
    "predict(lnveh, data, interval=\"predict\")"
   ]
  },
  {
   "cell_type": "markdown",
   "metadata": {},
   "source": [
    "##  AVG TRIPS by HHSize"
   ]
  },
  {
   "cell_type": "code",
   "execution_count": 422,
   "metadata": {},
   "outputs": [
    {
     "data": {
      "text/html": [
       "<table>\n",
       "<thead><tr><th scope=col>hhsiz</th><th scope=col>hhveh</th><th scope=col>count</th><th scope=col>avg_trips</th><th scope=col>grouping</th></tr></thead>\n",
       "<tbody>\n",
       "\t<tr><td>1        </td><td>0        </td><td> 259     </td><td> 6.467181</td><td>1-0      </td></tr>\n",
       "\t<tr><td>1        </td><td>1        </td><td>1177     </td><td> 4.361088</td><td>1-1      </td></tr>\n",
       "\t<tr><td>1        </td><td>2        </td><td> 218     </td><td> 4.463303</td><td>1-2      </td></tr>\n",
       "\t<tr><td>1        </td><td>3        </td><td>  70     </td><td> 4.642857</td><td>1-3      </td></tr>\n",
       "\t<tr><td>2        </td><td>0        </td><td>  53     </td><td> 9.754717</td><td>2-0      </td></tr>\n",
       "\t<tr><td>2        </td><td>1        </td><td> 517     </td><td> 8.305609</td><td>2-1      </td></tr>\n",
       "\t<tr><td>2        </td><td>2        </td><td>1263     </td><td> 7.828187</td><td>2-2      </td></tr>\n",
       "\t<tr><td>2        </td><td>3        </td><td> 636     </td><td> 7.665094</td><td>2-3      </td></tr>\n",
       "\t<tr><td>3        </td><td>0        </td><td>  23     </td><td>14.000000</td><td>3-0      </td></tr>\n",
       "\t<tr><td>3        </td><td>1        </td><td> 164     </td><td>12.713415</td><td>3-1      </td></tr>\n",
       "\t<tr><td>3        </td><td>2        </td><td> 407     </td><td>11.859951</td><td>3-2      </td></tr>\n",
       "\t<tr><td>3        </td><td>3        </td><td> 382     </td><td>11.070681</td><td>3-3      </td></tr>\n",
       "\t<tr><td>4        </td><td>0        </td><td>  12     </td><td>19.666667</td><td>4-0      </td></tr>\n",
       "\t<tr><td>4        </td><td>1        </td><td> 132     </td><td>18.151515</td><td>4-1      </td></tr>\n",
       "\t<tr><td>4        </td><td>2        </td><td> 666     </td><td>18.884384</td><td>4-2      </td></tr>\n",
       "\t<tr><td>4        </td><td>3        </td><td> 470     </td><td>19.036170</td><td>4-3      </td></tr>\n",
       "</tbody>\n",
       "</table>\n"
      ],
      "text/latex": [
       "\\begin{tabular}{r|lllll}\n",
       " hhsiz & hhveh & count & avg\\_trips & grouping\\\\\n",
       "\\hline\n",
       "\t 1         & 0         &  259      &  6.467181 & 1-0      \\\\\n",
       "\t 1         & 1         & 1177      &  4.361088 & 1-1      \\\\\n",
       "\t 1         & 2         &  218      &  4.463303 & 1-2      \\\\\n",
       "\t 1         & 3         &   70      &  4.642857 & 1-3      \\\\\n",
       "\t 2         & 0         &   53      &  9.754717 & 2-0      \\\\\n",
       "\t 2         & 1         &  517      &  8.305609 & 2-1      \\\\\n",
       "\t 2         & 2         & 1263      &  7.828187 & 2-2      \\\\\n",
       "\t 2         & 3         &  636      &  7.665094 & 2-3      \\\\\n",
       "\t 3         & 0         &   23      & 14.000000 & 3-0      \\\\\n",
       "\t 3         & 1         &  164      & 12.713415 & 3-1      \\\\\n",
       "\t 3         & 2         &  407      & 11.859951 & 3-2      \\\\\n",
       "\t 3         & 3         &  382      & 11.070681 & 3-3      \\\\\n",
       "\t 4         & 0         &   12      & 19.666667 & 4-0      \\\\\n",
       "\t 4         & 1         &  132      & 18.151515 & 4-1      \\\\\n",
       "\t 4         & 2         &  666      & 18.884384 & 4-2      \\\\\n",
       "\t 4         & 3         &  470      & 19.036170 & 4-3      \\\\\n",
       "\\end{tabular}\n"
      ],
      "text/markdown": [
       "\n",
       "hhsiz | hhveh | count | avg_trips | grouping | \n",
       "|---|---|---|---|---|---|---|---|---|---|---|---|---|---|---|---|\n",
       "| 1         | 0         |  259      |  6.467181 | 1-0       | \n",
       "| 1         | 1         | 1177      |  4.361088 | 1-1       | \n",
       "| 1         | 2         |  218      |  4.463303 | 1-2       | \n",
       "| 1         | 3         |   70      |  4.642857 | 1-3       | \n",
       "| 2         | 0         |   53      |  9.754717 | 2-0       | \n",
       "| 2         | 1         |  517      |  8.305609 | 2-1       | \n",
       "| 2         | 2         | 1263      |  7.828187 | 2-2       | \n",
       "| 2         | 3         |  636      |  7.665094 | 2-3       | \n",
       "| 3         | 0         |   23      | 14.000000 | 3-0       | \n",
       "| 3         | 1         |  164      | 12.713415 | 3-1       | \n",
       "| 3         | 2         |  407      | 11.859951 | 3-2       | \n",
       "| 3         | 3         |  382      | 11.070681 | 3-3       | \n",
       "| 4         | 0         |   12      | 19.666667 | 4-0       | \n",
       "| 4         | 1         |  132      | 18.151515 | 4-1       | \n",
       "| 4         | 2         |  666      | 18.884384 | 4-2       | \n",
       "| 4         | 3         |  470      | 19.036170 | 4-3       | \n",
       "\n",
       "\n"
      ],
      "text/plain": [
       "   hhsiz hhveh count avg_trips grouping\n",
       "1  1     0      259   6.467181 1-0     \n",
       "2  1     1     1177   4.361088 1-1     \n",
       "3  1     2      218   4.463303 1-2     \n",
       "4  1     3       70   4.642857 1-3     \n",
       "5  2     0       53   9.754717 2-0     \n",
       "6  2     1      517   8.305609 2-1     \n",
       "7  2     2     1263   7.828187 2-2     \n",
       "8  2     3      636   7.665094 2-3     \n",
       "9  3     0       23  14.000000 3-0     \n",
       "10 3     1      164  12.713415 3-1     \n",
       "11 3     2      407  11.859951 3-2     \n",
       "12 3     3      382  11.070681 3-3     \n",
       "13 4     0       12  19.666667 4-0     \n",
       "14 4     1      132  18.151515 4-1     \n",
       "15 4     2      666  18.884384 4-2     \n",
       "16 4     3      470  19.036170 4-3     "
      ]
     },
     "metadata": {},
     "output_type": "display_data"
    }
   ],
   "source": [
    "df.persveh <- df.hbw %>%\n",
    "    select(hhsiz, hhveh, htrips) %>%\n",
    "    mutate(hhsiz = recode(hhsiz, `1`=1, `2`=2, `3`=3, `4`=4, `5`=4, \n",
    "                          `6`=4, `7`=4, `8`=4)) %>%\n",
    "    \n",
    "    mutate(hhveh = recode(hhveh, `0`=0, `1`=1, `2`=2, `3`=3, `4`=3, `5`=3, \n",
    "                          `6`=3, `7`=3, `8`=3)) %>%\n",
    "    group_by(hhsiz, hhveh) \n",
    "\n",
    "df.persveh.sum <- summarize(df.persveh, count=n(), \n",
    "                            avg_trips = mean(htrips)) %>%\n",
    "    transform(grouping = interaction(hhsiz, hhveh, sep='-'))\n",
    "df.persveh.sum"
   ]
  },
  {
   "cell_type": "code",
   "execution_count": 423,
   "metadata": {},
   "outputs": [
    {
     "name": "stdout",
     "output_type": "stream",
     "text": [
      "\n",
      "Call:\n",
      "lm(formula = avg_trips ~ hhsiz + hhveh, data = df.persveh.sum)\n",
      "\n",
      "Coefficients:\n",
      "(Intercept)        hhsiz        hhveh  \n",
      "     0.5699       4.5876      -0.5729  \n",
      "\n"
     ]
    },
    {
     "data": {
      "text/plain": [
       "\n",
       "Call:\n",
       "lm(formula = avg_trips ~ hhsiz + hhveh, data = df.persveh.sum)\n",
       "\n",
       "Residuals:\n",
       "    Min      1Q  Median      3Q     Max \n",
       "-1.5432 -0.7949 -0.2096  0.8374  1.8348 \n",
       "\n",
       "Coefficients:\n",
       "            Estimate Std. Error t value Pr(>|t|)    \n",
       "(Intercept)   0.5699     0.7608   0.749   0.4672    \n",
       "hhsiz         4.5876     0.2437  18.828 8.13e-11 ***\n",
       "hhveh        -0.5729     0.2437  -2.351   0.0351 *  \n",
       "---\n",
       "Signif. codes:  0 '***' 0.001 '**' 0.01 '*' 0.05 '.' 0.1 ' ' 1\n",
       "\n",
       "Residual standard error: 1.09 on 13 degrees of freedom\n",
       "Multiple R-squared:  0.9651,\tAdjusted R-squared:  0.9598 \n",
       "F-statistic:   180 on 2 and 13 DF,  p-value: 3.345e-10\n"
      ]
     },
     "metadata": {},
     "output_type": "display_data"
    },
    {
     "data": {
      "text/html": [
       "<table>\n",
       "<thead><tr><th></th><th scope=col>fit</th><th scope=col>lwr</th><th scope=col>upr</th></tr></thead>\n",
       "<tbody>\n",
       "\t<tr><th scope=row>1</th><td>4.584514</td><td>2.019174</td><td>7.149853</td></tr>\n",
       "</tbody>\n",
       "</table>\n"
      ],
      "text/latex": [
       "\\begin{tabular}{r|lll}\n",
       "  & fit & lwr & upr\\\\\n",
       "\\hline\n",
       "\t1 & 4.584514 & 2.019174 & 7.149853\\\\\n",
       "\\end{tabular}\n"
      ],
      "text/markdown": [
       "\n",
       "| <!--/--> | fit | lwr | upr | \n",
       "|---|\n",
       "| 1 | 4.584514 | 2.019174 | 7.149853 | \n",
       "\n",
       "\n"
      ],
      "text/plain": [
       "  fit      lwr      upr     \n",
       "1 4.584514 2.019174 7.149853"
      ]
     },
     "metadata": {},
     "output_type": "display_data"
    }
   ],
   "source": [
    "fit <- lm(avg_trips ~ hhsiz + hhveh, data=df.persveh.sum)\n",
    "print(fit)\n",
    "summary(fit)\n",
    "data <- data.frame(hhsiz=1, hhveh=1)\n",
    "predict(fit, data, interval=\"predict\")"
   ]
  },
  {
   "cell_type": "code",
   "execution_count": 424,
   "metadata": {},
   "outputs": [
    {
     "data": {},
     "metadata": {},
     "output_type": "display_data"
    },
    {
     "data": {
      "image/png": "[encoded data removed]",
      "text/plain": [
       "plot without title"
      ]
     },
     "metadata": {},
     "output_type": "display_data"
    }
   ],
   "source": [
    "df.persveh.sum$ hhveh <- as.factor(df.persveh.sum$hhveh)\n",
    "\n",
    "df.persveh.sum %>%\n",
    "    ggplot(aes(x=hhsiz, y=avg_trips, color=hhveh, group=hhveh)) + \n",
    "    theme_minimal() +\n",
    "    geom_point(size=2.5) +\n",
    "    geom_line(aes(x=hhsiz, y=avg_trips, color=hhveh), size=1) +\n",
    "    stat_smooth(method=lm, se=FALSE, linetype=\"dashed\", aes(group=1), \n",
    "                size=2, color=\"gray\") +\n",
    "    labs(title= \"Avg Trips by HH Size and HH Vehicles\") +\n",
    "    scale_color_brewer(palette=\"Dark2\")"
   ]
  }
 ],
 "metadata": {
  "kernelspec": {
   "display_name": "R",
   "language": "R",
   "name": "ir"
  },
  "language_info": {
   "codemirror_mode": "r",
   "file_extension": ".r",
   "mimetype": "text/x-r-source",
   "name": "R",
   "pygments_lexer": "r",
   "version": "3.4.3"
  }
 },
 "nbformat": 4,
 "nbformat_minor": 2
}
