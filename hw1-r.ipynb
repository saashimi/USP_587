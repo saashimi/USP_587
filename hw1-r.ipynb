{
 "cells": [
  {
   "cell_type": "code",
   "execution_count": 95,
   "metadata": {},
   "outputs": [],
   "source": [
    "library(dplyr)\n",
    "library(ggplot2)\n",
    "\n",
    "df <- read.csv(paste(\"C:/Users/saavedrak/Desktop/\",\n",
    "                     \"USP_587_data/OHAS_v2/household.csv\", sep=\"\"))"
   ]
  },
  {
   "cell_type": "code",
   "execution_count": 96,
   "metadata": {},
   "outputs": [
    {
     "name": "stdout",
     "output_type": "stream",
     "text": [
      "[1] \"Table 1. Summary Statistics of Selected Columns\"\n"
     ]
    },
    {
     "data": {
      "text/plain": [
       "     resty           income          hhveh           htrips      \n",
       " Min.   :1.000   Min.   : 1.00   Min.   :0.000   Min.   : 0.000  \n",
       " 1st Qu.:1.000   1st Qu.: 4.00   1st Qu.:1.000   1st Qu.: 4.000  \n",
       " Median :1.000   Median : 5.00   Median :2.000   Median : 8.000  \n",
       " Mean   :1.402   Mean   :11.32   Mean   :1.948   Mean   : 9.815  \n",
       " 3rd Qu.:1.000   3rd Qu.: 7.00   3rd Qu.:2.000   3rd Qu.:14.000  \n",
       " Max.   :9.000   Max.   :99.00   Max.   :8.000   Max.   :81.000  "
      ]
     },
     "metadata": {},
     "output_type": "display_data"
    }
   ],
   "source": [
    "print(\"Table 1. Summary Statistics of Selected Columns\")\n",
    "\n",
    "df %>%\n",
    "    select(resty, income, hhveh, htrips) %>%\n",
    "    summary()"
   ]
  },
  {
   "cell_type": "code",
   "execution_count": 97,
   "metadata": {},
   "outputs": [
    {
     "name": "stdout",
     "output_type": "stream",
     "text": [
      "[1] \"Table 2. Frequency of Income Groups\"\n"
     ]
    },
    {
     "data": {
      "text/html": [
       "<table>\n",
       "<thead><tr><th scope=col>income</th><th scope=col>count</th></tr></thead>\n",
       "<tbody>\n",
       "\t<tr><td>1   </td><td> 314</td></tr>\n",
       "\t<tr><td>2   </td><td> 485</td></tr>\n",
       "\t<tr><td>3   </td><td> 479</td></tr>\n",
       "\t<tr><td>4   </td><td> 743</td></tr>\n",
       "\t<tr><td>5   </td><td>1321</td></tr>\n",
       "\t<tr><td>6   </td><td>1134</td></tr>\n",
       "\t<tr><td>7   </td><td>1013</td></tr>\n",
       "\t<tr><td>8   </td><td> 530</td></tr>\n",
       "</tbody>\n",
       "</table>\n"
      ],
      "text/latex": [
       "\\begin{tabular}{r|ll}\n",
       " income & count\\\\\n",
       "\\hline\n",
       "\t 1    &  314\\\\\n",
       "\t 2    &  485\\\\\n",
       "\t 3    &  479\\\\\n",
       "\t 4    &  743\\\\\n",
       "\t 5    & 1321\\\\\n",
       "\t 6    & 1134\\\\\n",
       "\t 7    & 1013\\\\\n",
       "\t 8    &  530\\\\\n",
       "\\end{tabular}\n"
      ],
      "text/markdown": [
       "\n",
       "income | count | \n",
       "|---|---|---|---|---|---|---|---|\n",
       "| 1    |  314 | \n",
       "| 2    |  485 | \n",
       "| 3    |  479 | \n",
       "| 4    |  743 | \n",
       "| 5    | 1321 | \n",
       "| 6    | 1134 | \n",
       "| 7    | 1013 | \n",
       "| 8    |  530 | \n",
       "\n",
       "\n"
      ],
      "text/plain": [
       "  income count\n",
       "1 1       314 \n",
       "2 2       485 \n",
       "3 3       479 \n",
       "4 4       743 \n",
       "5 5      1321 \n",
       "6 6      1134 \n",
       "7 7      1013 \n",
       "8 8       530 "
      ]
     },
     "metadata": {},
     "output_type": "display_data"
    }
   ],
   "source": [
    "print(\"Table 2. Frequency of Income Groups\")\n",
    "inc.group <- group_by(df, income)  %>%\n",
    "    filter(income != 99)\n",
    "inc.group.summary <- summarize(inc.group, count=n())\n",
    "inc.group.summary"
   ]
  },
  {
   "cell_type": "code",
   "execution_count": 98,
   "metadata": {},
   "outputs": [
    {
     "data": {},
     "metadata": {},
     "output_type": "display_data"
    },
    {
     "data": {
      "image/png": "[encoded data removed]",
      "text/plain": [
       "plot without title"
      ]
     },
     "metadata": {},
     "output_type": "display_data"
    }
   ],
   "source": [
    "inc.group.summary %>% \n",
    "    ggplot(aes(x=income, y=count)) + \n",
    "    geom_bar(stat=\"identity\", fill=\"steelblue\") +\n",
    "    geom_text(aes(label=count), vjust=1.6, color=\"white\", size=3.5) +\n",
    "    labs(title=\"Fig 1. Frequency of Income Groups\") +\n",
    "    theme_minimal()"
   ]
  },
  {
   "cell_type": "code",
   "execution_count": 99,
   "metadata": {
    "scrolled": true
   },
   "outputs": [
    {
     "name": "stdout",
     "output_type": "stream",
     "text": [
      "[1] \"Table 3. Frequency of Total Household Vehicles\"\n"
     ]
    },
    {
     "data": {
      "text/html": [
       "<table>\n",
       "<thead><tr><th scope=col>hhveh</th><th scope=col>count</th></tr></thead>\n",
       "<tbody>\n",
       "\t<tr><td>0   </td><td> 347</td></tr>\n",
       "\t<tr><td>1   </td><td>1990</td></tr>\n",
       "\t<tr><td>2   </td><td>2554</td></tr>\n",
       "\t<tr><td>3   </td><td>1042</td></tr>\n",
       "\t<tr><td>4   </td><td> 343</td></tr>\n",
       "\t<tr><td>5   </td><td> 106</td></tr>\n",
       "\t<tr><td>6   </td><td>  43</td></tr>\n",
       "\t<tr><td>7   </td><td>  12</td></tr>\n",
       "\t<tr><td>8   </td><td>  12</td></tr>\n",
       "</tbody>\n",
       "</table>\n"
      ],
      "text/latex": [
       "\\begin{tabular}{r|ll}\n",
       " hhveh & count\\\\\n",
       "\\hline\n",
       "\t 0    &  347\\\\\n",
       "\t 1    & 1990\\\\\n",
       "\t 2    & 2554\\\\\n",
       "\t 3    & 1042\\\\\n",
       "\t 4    &  343\\\\\n",
       "\t 5    &  106\\\\\n",
       "\t 6    &   43\\\\\n",
       "\t 7    &   12\\\\\n",
       "\t 8    &   12\\\\\n",
       "\\end{tabular}\n"
      ],
      "text/markdown": [
       "\n",
       "hhveh | count | \n",
       "|---|---|---|---|---|---|---|---|---|\n",
       "| 0    |  347 | \n",
       "| 1    | 1990 | \n",
       "| 2    | 2554 | \n",
       "| 3    | 1042 | \n",
       "| 4    |  343 | \n",
       "| 5    |  106 | \n",
       "| 6    |   43 | \n",
       "| 7    |   12 | \n",
       "| 8    |   12 | \n",
       "\n",
       "\n"
      ],
      "text/plain": [
       "  hhveh count\n",
       "1 0      347 \n",
       "2 1     1990 \n",
       "3 2     2554 \n",
       "4 3     1042 \n",
       "5 4      343 \n",
       "6 5      106 \n",
       "7 6       43 \n",
       "8 7       12 \n",
       "9 8       12 "
      ]
     },
     "metadata": {},
     "output_type": "display_data"
    }
   ],
   "source": [
    "print(\"Table 3. Frequency of Total Household Vehicles\")\n",
    "veh.group <- group_by(df, hhveh)\n",
    "veh.group.summary <- summarize(veh.group, count=n())\n",
    "veh.group.summary"
   ]
  },
  {
   "cell_type": "code",
   "execution_count": 100,
   "metadata": {},
   "outputs": [
    {
     "data": {},
     "metadata": {},
     "output_type": "display_data"
    },
    {
     "data": {
      "image/png": "[encoded data removed]",
      "text/plain": [
       "plot without title"
      ]
     },
     "metadata": {},
     "output_type": "display_data"
    }
   ],
   "source": [
    "veh.group.summary %>% \n",
    "    ggplot(aes(x=hhveh, y=count)) + \n",
    "    geom_bar(stat=\"identity\", fill=\"steelblue\") +\n",
    "    geom_text(aes(label=count), vjust=-0.3, color=\"black\", size=3.5) +\n",
    "    labs(title=\"Fig 2. Frequency of Total Household Vehicles\") +\n",
    "    theme_minimal()"
   ]
  },
  {
   "cell_type": "code",
   "execution_count": 101,
   "metadata": {},
   "outputs": [
    {
     "name": "stdout",
     "output_type": "stream",
     "text": [
      "[1] \"Table 4. Household Trips by Total Household Vehicles\"\n"
     ]
    },
    {
     "data": {
      "text/html": [
       "<table>\n",
       "<thead><tr><th scope=col>hhveh</th><th scope=col>count</th><th scope=col>htrips_avg</th></tr></thead>\n",
       "<tbody>\n",
       "\t<tr><td>0        </td><td> 347     </td><td> 7.925072</td></tr>\n",
       "\t<tr><td>1        </td><td>1990     </td><td> 6.988945</td></tr>\n",
       "\t<tr><td>2        </td><td>2554     </td><td>11.066562</td></tr>\n",
       "\t<tr><td>3        </td><td>1042     </td><td>11.666027</td></tr>\n",
       "\t<tr><td>4        </td><td> 343     </td><td>12.160350</td></tr>\n",
       "\t<tr><td>5        </td><td> 106     </td><td>12.377358</td></tr>\n",
       "\t<tr><td>6        </td><td>  43     </td><td>10.906977</td></tr>\n",
       "\t<tr><td>7        </td><td>  12     </td><td>13.416667</td></tr>\n",
       "\t<tr><td>8        </td><td>  12     </td><td> 8.916667</td></tr>\n",
       "</tbody>\n",
       "</table>\n"
      ],
      "text/latex": [
       "\\begin{tabular}{r|lll}\n",
       " hhveh & count & htrips\\_avg\\\\\n",
       "\\hline\n",
       "\t 0         &  347      &  7.925072\\\\\n",
       "\t 1         & 1990      &  6.988945\\\\\n",
       "\t 2         & 2554      & 11.066562\\\\\n",
       "\t 3         & 1042      & 11.666027\\\\\n",
       "\t 4         &  343      & 12.160350\\\\\n",
       "\t 5         &  106      & 12.377358\\\\\n",
       "\t 6         &   43      & 10.906977\\\\\n",
       "\t 7         &   12      & 13.416667\\\\\n",
       "\t 8         &   12      &  8.916667\\\\\n",
       "\\end{tabular}\n"
      ],
      "text/markdown": [
       "\n",
       "hhveh | count | htrips_avg | \n",
       "|---|---|---|---|---|---|---|---|---|\n",
       "| 0         |  347      |  7.925072 | \n",
       "| 1         | 1990      |  6.988945 | \n",
       "| 2         | 2554      | 11.066562 | \n",
       "| 3         | 1042      | 11.666027 | \n",
       "| 4         |  343      | 12.160350 | \n",
       "| 5         |  106      | 12.377358 | \n",
       "| 6         |   43      | 10.906977 | \n",
       "| 7         |   12      | 13.416667 | \n",
       "| 8         |   12      |  8.916667 | \n",
       "\n",
       "\n"
      ],
      "text/plain": [
       "  hhveh count htrips_avg\n",
       "1 0      347   7.925072 \n",
       "2 1     1990   6.988945 \n",
       "3 2     2554  11.066562 \n",
       "4 3     1042  11.666027 \n",
       "5 4      343  12.160350 \n",
       "6 5      106  12.377358 \n",
       "7 6       43  10.906977 \n",
       "8 7       12  13.416667 \n",
       "9 8       12   8.916667 "
      ]
     },
     "metadata": {},
     "output_type": "display_data"
    }
   ],
   "source": [
    "print(\"Table 4. Household Trips by Total Household Vehicles\")\n",
    "veh.group <- group_by(df, hhveh)\n",
    "veh.group.summary <- summarize(veh.group, count=n(), htrips_avg=mean(htrips))\n",
    "veh.group.summary"
   ]
  },
  {
   "cell_type": "code",
   "execution_count": 102,
   "metadata": {},
   "outputs": [
    {
     "data": {},
     "metadata": {},
     "output_type": "display_data"
    },
    {
     "data": {
      "image/png": "[encoded data removed]",
      "text/plain": [
       "plot without title"
      ]
     },
     "metadata": {},
     "output_type": "display_data"
    }
   ],
   "source": [
    "veh.group.summary %>% \n",
    "    ggplot(aes(x=hhveh, y=htrips_avg)) + \n",
    "    geom_bar(stat=\"identity\", fill=\"steelblue\") +\n",
    "    geom_text(aes(label=format(htrips_avg, digits = 3)), \n",
    "                                vjust=1.6, color=\"white\", size=3.5)+\n",
    "    labs(title=\"Fig 3. Average Trips by Total Number of Household Vehicles\") +\n",
    "    theme_minimal()"
   ]
  },
  {
   "cell_type": "code",
   "execution_count": 103,
   "metadata": {},
   "outputs": [
    {
     "name": "stdout",
     "output_type": "stream",
     "text": [
      "[1] \"Table 5. Household Trips by Income Group\"\n"
     ]
    },
    {
     "data": {
      "text/html": [
       "<table>\n",
       "<thead><tr><th scope=col>income</th><th scope=col>count</th><th scope=col>htrips_avg</th></tr></thead>\n",
       "<tbody>\n",
       "\t<tr><td>1        </td><td> 314     </td><td> 6.359873</td></tr>\n",
       "\t<tr><td>2        </td><td> 485     </td><td> 6.837113</td></tr>\n",
       "\t<tr><td>3        </td><td> 479     </td><td> 6.828810</td></tr>\n",
       "\t<tr><td>4        </td><td> 743     </td><td> 8.079408</td></tr>\n",
       "\t<tr><td>5        </td><td>1321     </td><td> 9.677517</td></tr>\n",
       "\t<tr><td>6        </td><td>1134     </td><td>11.241623</td></tr>\n",
       "\t<tr><td>7        </td><td>1013     </td><td>12.244817</td></tr>\n",
       "\t<tr><td>8        </td><td> 530     </td><td>12.622642</td></tr>\n",
       "</tbody>\n",
       "</table>\n"
      ],
      "text/latex": [
       "\\begin{tabular}{r|lll}\n",
       " income & count & htrips\\_avg\\\\\n",
       "\\hline\n",
       "\t 1         &  314      &  6.359873\\\\\n",
       "\t 2         &  485      &  6.837113\\\\\n",
       "\t 3         &  479      &  6.828810\\\\\n",
       "\t 4         &  743      &  8.079408\\\\\n",
       "\t 5         & 1321      &  9.677517\\\\\n",
       "\t 6         & 1134      & 11.241623\\\\\n",
       "\t 7         & 1013      & 12.244817\\\\\n",
       "\t 8         &  530      & 12.622642\\\\\n",
       "\\end{tabular}\n"
      ],
      "text/markdown": [
       "\n",
       "income | count | htrips_avg | \n",
       "|---|---|---|---|---|---|---|---|\n",
       "| 1         |  314      |  6.359873 | \n",
       "| 2         |  485      |  6.837113 | \n",
       "| 3         |  479      |  6.828810 | \n",
       "| 4         |  743      |  8.079408 | \n",
       "| 5         | 1321      |  9.677517 | \n",
       "| 6         | 1134      | 11.241623 | \n",
       "| 7         | 1013      | 12.244817 | \n",
       "| 8         |  530      | 12.622642 | \n",
       "\n",
       "\n"
      ],
      "text/plain": [
       "  income count htrips_avg\n",
       "1 1       314   6.359873 \n",
       "2 2       485   6.837113 \n",
       "3 3       479   6.828810 \n",
       "4 4       743   8.079408 \n",
       "5 5      1321   9.677517 \n",
       "6 6      1134  11.241623 \n",
       "7 7      1013  12.244817 \n",
       "8 8       530  12.622642 "
      ]
     },
     "metadata": {},
     "output_type": "display_data"
    }
   ],
   "source": [
    "print(\"Table 5. Household Trips by Income Group\")\n",
    "inc.group <- group_by(df, income)  %>%\n",
    "    filter(income != 99)\n",
    "inc.group.summary <- summarize(inc.group, count=n(), htrips_avg=mean(htrips))\n",
    "inc.group.summary"
   ]
  },
  {
   "cell_type": "code",
   "execution_count": 104,
   "metadata": {},
   "outputs": [
    {
     "data": {},
     "metadata": {},
     "output_type": "display_data"
    },
    {
     "data": {
      "image/png": "[encoded data removed]",
      "text/plain": [
       "plot without title"
      ]
     },
     "metadata": {},
     "output_type": "display_data"
    }
   ],
   "source": [
    "inc.group.summary %>% \n",
    "    ggplot(aes(x=income, y=htrips_avg)) + \n",
    "    geom_bar(stat=\"identity\", fill=\"steelblue\") +\n",
    "    geom_text(aes(label=format(htrips_avg, digits = 3)), \n",
    "                                vjust=1.6, color=\"white\", size=3.5)+\n",
    "    labs(title=\"Fig 4. Household Trips by Income Group\") +\n",
    "    theme_minimal()"
   ]
  },
  {
   "cell_type": "code",
   "execution_count": 105,
   "metadata": {},
   "outputs": [
    {
     "name": "stdout",
     "output_type": "stream",
     "text": [
      "[1] \"Table 6. Frequency of Inc_cat\"\n"
     ]
    },
    {
     "data": {
      "text/html": [
       "<table>\n",
       "<thead><tr><th scope=col>inc_cat</th><th scope=col>count</th></tr></thead>\n",
       "<tbody>\n",
       "\t<tr><td>1   </td><td> 799</td></tr>\n",
       "\t<tr><td>2   </td><td>1222</td></tr>\n",
       "\t<tr><td>3   </td><td>3998</td></tr>\n",
       "</tbody>\n",
       "</table>\n"
      ],
      "text/latex": [
       "\\begin{tabular}{r|ll}\n",
       " inc\\_cat & count\\\\\n",
       "\\hline\n",
       "\t 1    &  799\\\\\n",
       "\t 2    & 1222\\\\\n",
       "\t 3    & 3998\\\\\n",
       "\\end{tabular}\n"
      ],
      "text/markdown": [
       "\n",
       "inc_cat | count | \n",
       "|---|---|---|\n",
       "| 1    |  799 | \n",
       "| 2    | 1222 | \n",
       "| 3    | 3998 | \n",
       "\n",
       "\n"
      ],
      "text/plain": [
       "  inc_cat count\n",
       "1 1        799 \n",
       "2 2       1222 \n",
       "3 3       3998 "
      ]
     },
     "metadata": {},
     "output_type": "display_data"
    }
   ],
   "source": [
    "inc_cat <- ifelse(df$income <= 2 , 1, ifelse(\n",
    "    df$income >= 3 & df$income <= 4, 2, ifelse(\n",
    "        df$income >= 5 & df$income != 99, 3, ifelse(\n",
    "            df$income == 99, NA, df$income))))\n",
    "\n",
    "df$inc_cat <- inc_cat\n",
    "print(\"Table 6. Frequency of Inc_cat\")\n",
    "inc_cat.group <- group_by(df, inc_cat)  %>%\n",
    "    filter(complete.cases(inc_cat))\n",
    "inc_cat.group.summary <- summarize(inc_cat.group, count=n())\n",
    "inc_cat.group.summary"
   ]
  },
  {
   "cell_type": "code",
   "execution_count": 106,
   "metadata": {},
   "outputs": [
    {
     "data": {
      "text/html": [
       "<table>\n",
       "<thead><tr><th scope=col>inc_cat</th><th scope=col>htrips_avg</th></tr></thead>\n",
       "<tbody>\n",
       "\t<tr><td>1        </td><td> 6.649562</td></tr>\n",
       "\t<tr><td>2        </td><td> 7.589198</td></tr>\n",
       "\t<tr><td>3        </td><td>11.162081</td></tr>\n",
       "</tbody>\n",
       "</table>\n"
      ],
      "text/latex": [
       "\\begin{tabular}{r|ll}\n",
       " inc\\_cat & htrips\\_avg\\\\\n",
       "\\hline\n",
       "\t 1         &  6.649562\\\\\n",
       "\t 2         &  7.589198\\\\\n",
       "\t 3         & 11.162081\\\\\n",
       "\\end{tabular}\n"
      ],
      "text/markdown": [
       "\n",
       "inc_cat | htrips_avg | \n",
       "|---|---|---|\n",
       "| 1         |  6.649562 | \n",
       "| 2         |  7.589198 | \n",
       "| 3         | 11.162081 | \n",
       "\n",
       "\n"
      ],
      "text/plain": [
       "  inc_cat htrips_avg\n",
       "1 1        6.649562 \n",
       "2 2        7.589198 \n",
       "3 3       11.162081 "
      ]
     },
     "metadata": {},
     "output_type": "display_data"
    }
   ],
   "source": [
    "inc_cat.group <- group_by(df, inc_cat)  %>%\n",
    "    filter(complete.cases(inc_cat))\n",
    "inc_cat.group.summary <- summarize(inc_cat.group, htrips_avg=mean(htrips))\n",
    "inc_cat.group.summary"
   ]
  },
  {
   "cell_type": "code",
   "execution_count": 107,
   "metadata": {},
   "outputs": [
    {
     "name": "stdout",
     "output_type": "stream",
     "text": [
      "[1] \"Comparison of Income and INCVAL\"\n"
     ]
    },
    {
     "data": {
      "text/plain": [
       "     income          incval      \n",
       " Min.   : 1.00   Min.   :  7500  \n",
       " 1st Qu.: 4.00   1st Qu.: 42500  \n",
       " Median : 5.00   Median : 62500  \n",
       " Mean   :11.32   Mean   : 82890  \n",
       " 3rd Qu.: 7.00   3rd Qu.:125000  \n",
       " Max.   :99.00   Max.   :250000  \n",
       "                 NA's   :430     "
      ]
     },
     "metadata": {},
     "output_type": "display_data"
    },
    {
     "name": "stdout",
     "output_type": "stream",
     "text": [
      "[1] \"Standard Deviation of INCVAL:\"\n"
     ]
    },
    {
     "data": {
      "text/html": [
       "62390.2050005599"
      ],
      "text/latex": [
       "62390.2050005599"
      ],
      "text/markdown": [
       "62390.2050005599"
      ],
      "text/plain": [
       "[1] 62390.21"
      ]
     },
     "metadata": {},
     "output_type": "display_data"
    }
   ],
   "source": [
    "incval <- ifelse(df$income == 1 , ((14999-0)/2 + 0), ifelse(\n",
    "    df$income == 2, ((24999-15000)/2 + 15000), ifelse(\n",
    "        df$income == 3, ((34999-25000)/2 + 25000), ifelse(\n",
    "            df$income == 4, ((49999-35000)/2 + 35000), ifelse(\n",
    "                df$income == 5, ((74999-50000)/2 + 50000), ifelse(\n",
    "                    df$income == 6, ((99999-75000)/2 + 75000), ifelse(\n",
    "                        df$income == 7, ((149999-100000)/2 + 100000), ifelse(\n",
    "                            df$income == 8, 250000, ifelse(\n",
    "                                df$income == 99, NA, df$income)))))))))\n",
    "df$incval <- incval\n",
    "print(\"Comparison of Income and INCVAL\")\n",
    "df %>%\n",
    "    select(income, incval) %>%\n",
    "    summary()\n",
    "print(\"Standard Deviation of INCVAL:\")\n",
    "sd(df$incval, na.rm=TRUE)"
   ]
  },
  {
   "cell_type": "code",
   "execution_count": 108,
   "metadata": {},
   "outputs": [
    {
     "data": {
      "text/html": [
       "<table>\n",
       "<thead><tr><th scope=col>incval</th><th scope=col>count</th><th scope=col>avg_htrips</th></tr></thead>\n",
       "<tbody>\n",
       "\t<tr><td>  7499.5 </td><td> 314     </td><td> 6.359873</td></tr>\n",
       "\t<tr><td> 19999.5 </td><td> 485     </td><td> 6.837113</td></tr>\n",
       "\t<tr><td> 29999.5 </td><td> 479     </td><td> 6.828810</td></tr>\n",
       "\t<tr><td> 42499.5 </td><td> 743     </td><td> 8.079408</td></tr>\n",
       "\t<tr><td> 62499.5 </td><td>1321     </td><td> 9.677517</td></tr>\n",
       "\t<tr><td> 87499.5 </td><td>1134     </td><td>11.241623</td></tr>\n",
       "\t<tr><td>124999.5 </td><td>1013     </td><td>12.244817</td></tr>\n",
       "\t<tr><td>250000.0 </td><td> 530     </td><td>12.622642</td></tr>\n",
       "</tbody>\n",
       "</table>\n"
      ],
      "text/latex": [
       "\\begin{tabular}{r|lll}\n",
       " incval & count & avg\\_htrips\\\\\n",
       "\\hline\n",
       "\t   7499.5  &  314      &  6.359873\\\\\n",
       "\t  19999.5  &  485      &  6.837113\\\\\n",
       "\t  29999.5  &  479      &  6.828810\\\\\n",
       "\t  42499.5  &  743      &  8.079408\\\\\n",
       "\t  62499.5  & 1321      &  9.677517\\\\\n",
       "\t  87499.5  & 1134      & 11.241623\\\\\n",
       "\t 124999.5  & 1013      & 12.244817\\\\\n",
       "\t 250000.0  &  530      & 12.622642\\\\\n",
       "\\end{tabular}\n"
      ],
      "text/markdown": [
       "\n",
       "incval | count | avg_htrips | \n",
       "|---|---|---|---|---|---|---|---|\n",
       "|   7499.5  |  314      |  6.359873 | \n",
       "|  19999.5  |  485      |  6.837113 | \n",
       "|  29999.5  |  479      |  6.828810 | \n",
       "|  42499.5  |  743      |  8.079408 | \n",
       "|  62499.5  | 1321      |  9.677517 | \n",
       "|  87499.5  | 1134      | 11.241623 | \n",
       "| 124999.5  | 1013      | 12.244817 | \n",
       "| 250000.0  |  530      | 12.622642 | \n",
       "\n",
       "\n"
      ],
      "text/plain": [
       "  incval   count avg_htrips\n",
       "1   7499.5  314   6.359873 \n",
       "2  19999.5  485   6.837113 \n",
       "3  29999.5  479   6.828810 \n",
       "4  42499.5  743   8.079408 \n",
       "5  62499.5 1321   9.677517 \n",
       "6  87499.5 1134  11.241623 \n",
       "7 124999.5 1013  12.244817 \n",
       "8 250000.0  530  12.622642 "
      ]
     },
     "metadata": {},
     "output_type": "display_data"
    }
   ],
   "source": [
    "incval.group <- group_by(df, incval)  %>%\n",
    "    filter(complete.cases(incval))\n",
    "incval.group.summary <- summarize(incval.group, count=n(), \n",
    "                                  avg_htrips=mean(htrips))\n",
    "incval.group.summary"
   ]
  },
  {
   "cell_type": "code",
   "execution_count": 109,
   "metadata": {},
   "outputs": [
    {
     "data": {
      "text/html": [
       "0.227757539485971"
      ],
      "text/latex": [
       "0.227757539485971"
      ],
      "text/markdown": [
       "0.227757539485971"
      ],
      "text/plain": [
       "[1] 0.2277575"
      ]
     },
     "metadata": {},
     "output_type": "display_data"
    }
   ],
   "source": [
    "cor(df$incval, df$htrips, use=\"complete.obs\")"
   ]
  },
  {
   "cell_type": "code",
   "execution_count": 110,
   "metadata": {},
   "outputs": [
    {
     "data": {
      "text/html": [
       "-0.362133061719318"
      ],
      "text/latex": [
       "-0.362133061719318"
      ],
      "text/markdown": [
       "-0.362133061719318"
      ],
      "text/plain": [
       "[1] -0.3621331"
      ]
     },
     "metadata": {},
     "output_type": "display_data"
    }
   ],
   "source": [
    "cor(df$resty, df$hhveh, use=\"complete.obs\")"
   ]
  },
  {
   "cell_type": "code",
   "execution_count": 121,
   "metadata": {},
   "outputs": [
    {
     "data": {
      "text/html": [
       "<table>\n",
       "<thead><tr><th scope=col>resty</th><th scope=col>hhveh</th><th scope=col>count</th><th scope=col>avg_trips</th><th scope=col>grouping</th></tr></thead>\n",
       "<tbody>\n",
       "\t<tr><td>1        </td><td>0        </td><td>  90     </td><td> 8.222222</td><td>10       </td></tr>\n",
       "\t<tr><td>1        </td><td>1        </td><td>1203     </td><td> 7.142145</td><td>11       </td></tr>\n",
       "\t<tr><td>1        </td><td>2        </td><td>2351     </td><td>11.220757</td><td>12       </td></tr>\n",
       "\t<tr><td>1        </td><td>3        </td><td> 994     </td><td>11.749497</td><td>13       </td></tr>\n",
       "\t<tr><td>1        </td><td>4        </td><td> 333     </td><td>12.216216</td><td>14       </td></tr>\n",
       "\t<tr><td>1        </td><td>5        </td><td> 105     </td><td>12.342857</td><td>15       </td></tr>\n",
       "\t<tr><td>1        </td><td>6        </td><td>  42     </td><td>11.000000</td><td>16       </td></tr>\n",
       "\t<tr><td>1        </td><td>7        </td><td>  12     </td><td>13.416667</td><td>17       </td></tr>\n",
       "\t<tr><td>1        </td><td>8        </td><td>  12     </td><td> 8.916667</td><td>18       </td></tr>\n",
       "\t<tr><td>2        </td><td>0        </td><td>  26     </td><td>10.576923</td><td>20       </td></tr>\n",
       "\t<tr><td>2        </td><td>1        </td><td> 110     </td><td> 6.881818</td><td>21       </td></tr>\n",
       "\t<tr><td>2        </td><td>2        </td><td>  39     </td><td>11.153846</td><td>22       </td></tr>\n",
       "\t<tr><td>2        </td><td>3        </td><td>  11     </td><td>14.909091</td><td>23       </td></tr>\n",
       "\t<tr><td>2        </td><td>4        </td><td>   2     </td><td>18.500000</td><td>24       </td></tr>\n",
       "\t<tr><td>3        </td><td>0        </td><td> 219     </td><td> 7.716895</td><td>30       </td></tr>\n",
       "\t<tr><td>3        </td><td>1        </td><td> 613     </td><td> 6.905383</td><td>31       </td></tr>\n",
       "\t<tr><td>3        </td><td>2        </td><td> 141     </td><td> 9.241135</td><td>32       </td></tr>\n",
       "\t<tr><td>3        </td><td>3        </td><td>  21     </td><td> 9.619048</td><td>33       </td></tr>\n",
       "\t<tr><td>3        </td><td>4        </td><td>   5     </td><td> 9.800000</td><td>34       </td></tr>\n",
       "\t<tr><td>3        </td><td>6        </td><td>   1     </td><td> 7.000000</td><td>36       </td></tr>\n",
       "\t<tr><td>4        </td><td>0        </td><td>  10     </td><td> 4.200000</td><td>40       </td></tr>\n",
       "\t<tr><td>4        </td><td>1        </td><td>  61     </td><td> 5.213115</td><td>41       </td></tr>\n",
       "\t<tr><td>4        </td><td>2        </td><td>  21     </td><td> 6.428571</td><td>42       </td></tr>\n",
       "\t<tr><td>4        </td><td>3        </td><td>  12     </td><td> 6.750000</td><td>43       </td></tr>\n",
       "\t<tr><td>4        </td><td>4        </td><td>   2     </td><td> 6.500000</td><td>44       </td></tr>\n",
       "\t<tr><td>4        </td><td>5        </td><td>   1     </td><td>16.000000</td><td>45       </td></tr>\n",
       "\t<tr><td>7        </td><td>0        </td><td>   1     </td><td> 3.000000</td><td>70       </td></tr>\n",
       "\t<tr><td>7        </td><td>1        </td><td>   2     </td><td> 3.000000</td><td>71       </td></tr>\n",
       "\t<tr><td>7        </td><td>2        </td><td>   2     </td><td> 5.500000</td><td>72       </td></tr>\n",
       "\t<tr><td>7        </td><td>3        </td><td>   1     </td><td> 2.000000</td><td>73       </td></tr>\n",
       "\t<tr><td>7        </td><td>4        </td><td>   1     </td><td> 4.000000</td><td>74       </td></tr>\n",
       "</tbody>\n",
       "</table>\n"
      ],
      "text/latex": [
       "\\begin{tabular}{r|lllll}\n",
       " resty & hhveh & count & avg\\_trips & grouping\\\\\n",
       "\\hline\n",
       "\t 1         & 0         &   90      &  8.222222 & 10       \\\\\n",
       "\t 1         & 1         & 1203      &  7.142145 & 11       \\\\\n",
       "\t 1         & 2         & 2351      & 11.220757 & 12       \\\\\n",
       "\t 1         & 3         &  994      & 11.749497 & 13       \\\\\n",
       "\t 1         & 4         &  333      & 12.216216 & 14       \\\\\n",
       "\t 1         & 5         &  105      & 12.342857 & 15       \\\\\n",
       "\t 1         & 6         &   42      & 11.000000 & 16       \\\\\n",
       "\t 1         & 7         &   12      & 13.416667 & 17       \\\\\n",
       "\t 1         & 8         &   12      &  8.916667 & 18       \\\\\n",
       "\t 2         & 0         &   26      & 10.576923 & 20       \\\\\n",
       "\t 2         & 1         &  110      &  6.881818 & 21       \\\\\n",
       "\t 2         & 2         &   39      & 11.153846 & 22       \\\\\n",
       "\t 2         & 3         &   11      & 14.909091 & 23       \\\\\n",
       "\t 2         & 4         &    2      & 18.500000 & 24       \\\\\n",
       "\t 3         & 0         &  219      &  7.716895 & 30       \\\\\n",
       "\t 3         & 1         &  613      &  6.905383 & 31       \\\\\n",
       "\t 3         & 2         &  141      &  9.241135 & 32       \\\\\n",
       "\t 3         & 3         &   21      &  9.619048 & 33       \\\\\n",
       "\t 3         & 4         &    5      &  9.800000 & 34       \\\\\n",
       "\t 3         & 6         &    1      &  7.000000 & 36       \\\\\n",
       "\t 4         & 0         &   10      &  4.200000 & 40       \\\\\n",
       "\t 4         & 1         &   61      &  5.213115 & 41       \\\\\n",
       "\t 4         & 2         &   21      &  6.428571 & 42       \\\\\n",
       "\t 4         & 3         &   12      &  6.750000 & 43       \\\\\n",
       "\t 4         & 4         &    2      &  6.500000 & 44       \\\\\n",
       "\t 4         & 5         &    1      & 16.000000 & 45       \\\\\n",
       "\t 7         & 0         &    1      &  3.000000 & 70       \\\\\n",
       "\t 7         & 1         &    2      &  3.000000 & 71       \\\\\n",
       "\t 7         & 2         &    2      &  5.500000 & 72       \\\\\n",
       "\t 7         & 3         &    1      &  2.000000 & 73       \\\\\n",
       "\t 7         & 4         &    1      &  4.000000 & 74       \\\\\n",
       "\\end{tabular}\n"
      ],
      "text/markdown": [
       "\n",
       "resty | hhveh | count | avg_trips | grouping | \n",
       "|---|---|---|---|---|---|---|---|---|---|---|---|---|---|---|---|---|---|---|---|---|---|---|---|---|---|---|---|---|---|---|\n",
       "| 1         | 0         |   90      |  8.222222 | 10        | \n",
       "| 1         | 1         | 1203      |  7.142145 | 11        | \n",
       "| 1         | 2         | 2351      | 11.220757 | 12        | \n",
       "| 1         | 3         |  994      | 11.749497 | 13        | \n",
       "| 1         | 4         |  333      | 12.216216 | 14        | \n",
       "| 1         | 5         |  105      | 12.342857 | 15        | \n",
       "| 1         | 6         |   42      | 11.000000 | 16        | \n",
       "| 1         | 7         |   12      | 13.416667 | 17        | \n",
       "| 1         | 8         |   12      |  8.916667 | 18        | \n",
       "| 2         | 0         |   26      | 10.576923 | 20        | \n",
       "| 2         | 1         |  110      |  6.881818 | 21        | \n",
       "| 2         | 2         |   39      | 11.153846 | 22        | \n",
       "| 2         | 3         |   11      | 14.909091 | 23        | \n",
       "| 2         | 4         |    2      | 18.500000 | 24        | \n",
       "| 3         | 0         |  219      |  7.716895 | 30        | \n",
       "| 3         | 1         |  613      |  6.905383 | 31        | \n",
       "| 3         | 2         |  141      |  9.241135 | 32        | \n",
       "| 3         | 3         |   21      |  9.619048 | 33        | \n",
       "| 3         | 4         |    5      |  9.800000 | 34        | \n",
       "| 3         | 6         |    1      |  7.000000 | 36        | \n",
       "| 4         | 0         |   10      |  4.200000 | 40        | \n",
       "| 4         | 1         |   61      |  5.213115 | 41        | \n",
       "| 4         | 2         |   21      |  6.428571 | 42        | \n",
       "| 4         | 3         |   12      |  6.750000 | 43        | \n",
       "| 4         | 4         |    2      |  6.500000 | 44        | \n",
       "| 4         | 5         |    1      | 16.000000 | 45        | \n",
       "| 7         | 0         |    1      |  3.000000 | 70        | \n",
       "| 7         | 1         |    2      |  3.000000 | 71        | \n",
       "| 7         | 2         |    2      |  5.500000 | 72        | \n",
       "| 7         | 3         |    1      |  2.000000 | 73        | \n",
       "| 7         | 4         |    1      |  4.000000 | 74        | \n",
       "\n",
       "\n"
      ],
      "text/plain": [
       "   resty hhveh count avg_trips grouping\n",
       "1  1     0       90   8.222222 10      \n",
       "2  1     1     1203   7.142145 11      \n",
       "3  1     2     2351  11.220757 12      \n",
       "4  1     3      994  11.749497 13      \n",
       "5  1     4      333  12.216216 14      \n",
       "6  1     5      105  12.342857 15      \n",
       "7  1     6       42  11.000000 16      \n",
       "8  1     7       12  13.416667 17      \n",
       "9  1     8       12   8.916667 18      \n",
       "10 2     0       26  10.576923 20      \n",
       "11 2     1      110   6.881818 21      \n",
       "12 2     2       39  11.153846 22      \n",
       "13 2     3       11  14.909091 23      \n",
       "14 2     4        2  18.500000 24      \n",
       "15 3     0      219   7.716895 30      \n",
       "16 3     1      613   6.905383 31      \n",
       "17 3     2      141   9.241135 32      \n",
       "18 3     3       21   9.619048 33      \n",
       "19 3     4        5   9.800000 34      \n",
       "20 3     6        1   7.000000 36      \n",
       "21 4     0       10   4.200000 40      \n",
       "22 4     1       61   5.213115 41      \n",
       "23 4     2       21   6.428571 42      \n",
       "24 4     3       12   6.750000 43      \n",
       "25 4     4        2   6.500000 44      \n",
       "26 4     5        1  16.000000 45      \n",
       "27 7     0        1   3.000000 70      \n",
       "28 7     1        2   3.000000 71      \n",
       "29 7     2        2   5.500000 72      \n",
       "30 7     3        1   2.000000 73      \n",
       "31 7     4        1   4.000000 74      "
      ]
     },
     "metadata": {},
     "output_type": "display_data"
    }
   ],
   "source": [
    "df.xclass <- df %>%\n",
    "    select(resty, hhveh, htrips) %>%\n",
    "    filter(resty != 9) %>%\n",
    "    group_by(., resty, hhveh)  %>%  \n",
    "    summarize(., count=n(), avg_trips = mean(htrips)) %>%\n",
    "    mutate(grouping = paste0(resty, hhveh))\n",
    "df.xclass"
   ]
  },
  {
   "cell_type": "code",
   "execution_count": 122,
   "metadata": {},
   "outputs": [
    {
     "data": {},
     "metadata": {},
     "output_type": "display_data"
    },
    {
     "data": {
      "image/png": "[encoded data removed]",
      "text/plain": [
       "plot without title"
      ]
     },
     "metadata": {},
     "output_type": "display_data"
    }
   ],
   "source": [
    "df.xclass %>% \n",
    "    ggplot(aes(x=grouping, y=avg_trips)) + \n",
    "    geom_point(stat=\"identity\", color=\"steelblue\") +\n",
    "    geom_smooth(method=lm) +\n",
    "    labs(title=\"Fig 4. Household Vehicles by Resty\") +\n",
    "    theme_minimal()"
   ]
  },
  {
   "cell_type": "code",
   "execution_count": 124,
   "metadata": {},
   "outputs": [
    {
     "name": "stdout",
     "output_type": "stream",
     "text": [
      "\n",
      "Call:\n",
      "lm(formula = grouping ~ avg_trips, data = df.xclass)\n",
      "\n",
      "Residuals:\n",
      "    Min      1Q  Median      3Q     Max \n",
      "-28.052  -8.782  -3.520   6.601  35.098 \n",
      "\n",
      "Coefficients:\n",
      "            Estimate Std. Error t value Pr(>|t|)    \n",
      "(Intercept)  62.5551     6.8671   9.109 5.24e-10 ***\n",
      "avg_trips    -3.2908     0.7173  -4.588 7.97e-05 ***\n",
      "---\n",
      "Signif. codes:  0 '***' 0.001 '**' 0.01 '*' 0.05 '.' 0.1 ' ' 1\n",
      "\n",
      "Residual standard error: 15.55 on 29 degrees of freedom\n",
      "Multiple R-squared:  0.4205,\tAdjusted R-squared:  0.4006 \n",
      "F-statistic: 21.05 on 1 and 29 DF,  p-value: 7.965e-05\n",
      "\n",
      "       value \n",
      "7.965414e-05 \n"
     ]
    }
   ],
   "source": [
    "linearMod <- lm(formula = grouping ~ avg_trips, data=df.xclass)\n",
    "\n",
    "modelSummary <- summary(linearMod)  # capture model summary as an object\n",
    "modelCoeffs <- modelSummary$coefficients  # model coefficients\n",
    "beta.estimate <- modelCoeffs[\"avg_trips\", \"Estimate\"]  # get beta estimate for htrips\n",
    "std.error <- modelCoeffs[\"avg_trips\", \"Std. Error\"]  # get std.error for htrips\n",
    "t_value <- beta.estimate/std.error  # calc t statistic\n",
    "p_value <- 2*pt(-abs(t_value), df=nrow(df)-ncol(df))  # calc p Value\n",
    "f_statistic <- linearMod$fstatistic[0]  # fstatistic\n",
    "f <- summary(linearMod)$fstatistic  # parameters for model p-value calc\n",
    "model_p <- pf(f[1], f[2], f[3], lower=FALSE)\n",
    "\n",
    "print(modelSummary)\n",
    "print(model_p)"
   ]
  },
  {
   "cell_type": "code",
   "execution_count": null,
   "metadata": {},
   "outputs": [],
   "source": [
    "newdata = data.frame(resty=1, hhveh=3)\n",
    "predict(linearMod, newdata, interval=\"predict\") "
   ]
  },
  {
   "cell_type": "code",
   "execution_count": null,
   "metadata": {},
   "outputs": [],
   "source": [
    "t.test(df$resty, df$hhveh)"
   ]
  }
 ],
 "metadata": {
  "kernelspec": {
   "display_name": "R",
   "language": "R",
   "name": "ir"
  },
  "language_info": {
   "codemirror_mode": "r",
   "file_extension": ".r",
   "mimetype": "text/x-r-source",
   "name": "R",
   "pygments_lexer": "r",
   "version": "3.4.3"
  }
 },
 "nbformat": 4,
 "nbformat_minor": 2
}
