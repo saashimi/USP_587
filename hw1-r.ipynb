{
 "cells": [
  {
   "cell_type": "code",
   "execution_count": 68,
   "metadata": {},
   "outputs": [],
   "source": [
    "library(dplyr)\n",
    "library(ggplot2)\n",
    "\n",
    "df <- read.csv(paste(\"C:/Users/saavedrak/Desktop/\",\n",
    "                     \"USP_587_data/OHAS_v2/household.csv\", sep=\"\"))"
   ]
  },
  {
   "cell_type": "code",
   "execution_count": 69,
   "metadata": {},
   "outputs": [
    {
     "name": "stdout",
     "output_type": "stream",
     "text": [
      "[1] \"Table 1. Summary Statistics of Selected Columns\"\n"
     ]
    },
    {
     "data": {
      "text/plain": [
       "     resty           income          hhveh           htrips      \n",
       " Min.   :1.000   Min.   : 1.00   Min.   :0.000   Min.   : 0.000  \n",
       " 1st Qu.:1.000   1st Qu.: 4.00   1st Qu.:1.000   1st Qu.: 4.000  \n",
       " Median :1.000   Median : 5.00   Median :2.000   Median : 8.000  \n",
       " Mean   :1.402   Mean   :11.32   Mean   :1.948   Mean   : 9.815  \n",
       " 3rd Qu.:1.000   3rd Qu.: 7.00   3rd Qu.:2.000   3rd Qu.:14.000  \n",
       " Max.   :9.000   Max.   :99.00   Max.   :8.000   Max.   :81.000  "
      ]
     },
     "metadata": {},
     "output_type": "display_data"
    }
   ],
   "source": [
    "print(\"Table 1. Summary Statistics of Selected Columns\")\n",
    "\n",
    "df %>%\n",
    "    select(resty, income, hhveh, htrips) %>%\n",
    "    summary()"
   ]
  },
  {
   "cell_type": "code",
   "execution_count": 70,
   "metadata": {},
   "outputs": [
    {
     "name": "stdout",
     "output_type": "stream",
     "text": [
      "[1] \"Table 2. Household Trips by Income Group\"\n"
     ]
    },
    {
     "data": {
      "text/html": [
       "<table>\n",
       "<thead><tr><th scope=col>income</th><th scope=col>count</th><th scope=col>htrips_avg</th></tr></thead>\n",
       "<tbody>\n",
       "\t<tr><td>1        </td><td> 314     </td><td> 6.359873</td></tr>\n",
       "\t<tr><td>2        </td><td> 485     </td><td> 6.837113</td></tr>\n",
       "\t<tr><td>3        </td><td> 479     </td><td> 6.828810</td></tr>\n",
       "\t<tr><td>4        </td><td> 743     </td><td> 8.079408</td></tr>\n",
       "\t<tr><td>5        </td><td>1321     </td><td> 9.677517</td></tr>\n",
       "\t<tr><td>6        </td><td>1134     </td><td>11.241623</td></tr>\n",
       "\t<tr><td>7        </td><td>1013     </td><td>12.244817</td></tr>\n",
       "\t<tr><td>8        </td><td> 530     </td><td>12.622642</td></tr>\n",
       "</tbody>\n",
       "</table>\n"
      ],
      "text/latex": [
       "\\begin{tabular}{r|lll}\n",
       " income & count & htrips\\_avg\\\\\n",
       "\\hline\n",
       "\t 1         &  314      &  6.359873\\\\\n",
       "\t 2         &  485      &  6.837113\\\\\n",
       "\t 3         &  479      &  6.828810\\\\\n",
       "\t 4         &  743      &  8.079408\\\\\n",
       "\t 5         & 1321      &  9.677517\\\\\n",
       "\t 6         & 1134      & 11.241623\\\\\n",
       "\t 7         & 1013      & 12.244817\\\\\n",
       "\t 8         &  530      & 12.622642\\\\\n",
       "\\end{tabular}\n"
      ],
      "text/markdown": [
       "\n",
       "income | count | htrips_avg | \n",
       "|---|---|---|---|---|---|---|---|\n",
       "| 1         |  314      |  6.359873 | \n",
       "| 2         |  485      |  6.837113 | \n",
       "| 3         |  479      |  6.828810 | \n",
       "| 4         |  743      |  8.079408 | \n",
       "| 5         | 1321      |  9.677517 | \n",
       "| 6         | 1134      | 11.241623 | \n",
       "| 7         | 1013      | 12.244817 | \n",
       "| 8         |  530      | 12.622642 | \n",
       "\n",
       "\n"
      ],
      "text/plain": [
       "  income count htrips_avg\n",
       "1 1       314   6.359873 \n",
       "2 2       485   6.837113 \n",
       "3 3       479   6.828810 \n",
       "4 4       743   8.079408 \n",
       "5 5      1321   9.677517 \n",
       "6 6      1134  11.241623 \n",
       "7 7      1013  12.244817 \n",
       "8 8       530  12.622642 "
      ]
     },
     "metadata": {},
     "output_type": "display_data"
    }
   ],
   "source": [
    "print(\"Table 2. Household Trips by Income Group\")\n",
    "inc.group <- group_by(df, income)  %>%\n",
    "    filter(income != 99)\n",
    "inc.group.sum <- summarize(inc.group, count=n(), htrips_avg=mean(htrips))\n",
    "inc.group.sum"
   ]
  },
  {
   "cell_type": "code",
   "execution_count": 85,
   "metadata": {},
   "outputs": [
    {
     "data": {},
     "metadata": {},
     "output_type": "display_data"
    },
    {
     "data": {
      "image/png": "[encoded data removed]",
      "text/plain": [
       "plot without title"
      ]
     },
     "metadata": {},
     "output_type": "display_data"
    }
   ],
   "source": [
    "inc.group.sum %>% \n",
    "    ggplot(aes(x=income, y=count)) + \n",
    "    geom_bar(stat=\"identity\", fill=\"steelblue\") +\n",
    "    geom_text(aes(label=count), vjust=1.6, color=\"white\", size=3.5) +\n",
    "    labs(title=\"Frequency of Income Groups\") +\n",
    "    theme_minimal()"
   ]
  },
  {
   "cell_type": "code",
   "execution_count": null,
   "metadata": {
    "scrolled": true
   },
   "outputs": [],
   "source": []
  }
 ],
 "metadata": {
  "kernelspec": {
   "display_name": "R",
   "language": "R",
   "name": "ir"
  },
  "language_info": {
   "codemirror_mode": "r",
   "file_extension": ".r",
   "mimetype": "text/x-r-source",
   "name": "R",
   "pygments_lexer": "r",
   "version": "3.4.3"
  }
 },
 "nbformat": 4,
 "nbformat_minor": 2
}
