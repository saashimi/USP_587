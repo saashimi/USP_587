{
 "cells": [
  {
   "cell_type": "code",
   "execution_count": 8,
   "metadata": {},
   "outputs": [],
   "source": [
    "library(tidyverse)\n",
    "\n",
    "wd <- \"C:/Users/saavedrak/Desktop/USP_587_data/HW3/\""
   ]
  },
  {
   "cell_type": "markdown",
   "metadata": {},
   "source": [
    "# 2. Mode Choice Models"
   ]
  },
  {
   "cell_type": "code",
   "execution_count": 9,
   "metadata": {},
   "outputs": [
    {
     "data": {
      "text/html": [
       "<table>\n",
       "<thead><tr><th scope=col>alternative</th><th scope=col>available</th><th scope=col>chosen</th><th scope=col>proportion_mode</th><th scope=col>proportion_all</th></tr></thead>\n",
       "<tbody>\n",
       "\t<tr><td>Drive Alone   </td><td>2755          </td><td>3637          </td><td>1.32014519    </td><td>0.184872668   </td></tr>\n",
       "\t<tr><td>Shared Ride 2 </td><td>5029          </td><td> 517          </td><td>0.10280374    </td><td>0.026279673   </td></tr>\n",
       "\t<tr><td>Shared Ride 3+</td><td>5029          </td><td> 161          </td><td>0.03201432    </td><td>0.008183805   </td></tr>\n",
       "\t<tr><td>Transit       </td><td>4003          </td><td> 498          </td><td>0.12440669    </td><td>0.025313882   </td></tr>\n",
       "\t<tr><td>Bike          </td><td>1738          </td><td>  50          </td><td>0.02876870    </td><td>0.002541554   </td></tr>\n",
       "\t<tr><td>Walk          </td><td>1119          </td><td> 159          </td><td>0.14209115    </td><td>0.008082143   </td></tr>\n",
       "</tbody>\n",
       "</table>\n"
      ],
      "text/latex": [
       "\\begin{tabular}{r|lllll}\n",
       " alternative & available & chosen & proportion\\_mode & proportion\\_all\\\\\n",
       "\\hline\n",
       "\t Drive Alone    & 2755           & 3637           & 1.32014519     & 0.184872668   \\\\\n",
       "\t Shared Ride 2  & 5029           &  517           & 0.10280374     & 0.026279673   \\\\\n",
       "\t Shared Ride 3+ & 5029           &  161           & 0.03201432     & 0.008183805   \\\\\n",
       "\t Transit        & 4003           &  498           & 0.12440669     & 0.025313882   \\\\\n",
       "\t Bike           & 1738           &   50           & 0.02876870     & 0.002541554   \\\\\n",
       "\t Walk           & 1119           &  159           & 0.14209115     & 0.008082143   \\\\\n",
       "\\end{tabular}\n"
      ],
      "text/markdown": [
       "\n",
       "alternative | available | chosen | proportion_mode | proportion_all | \n",
       "|---|---|---|---|---|---|\n",
       "| Drive Alone    | 2755           | 3637           | 1.32014519     | 0.184872668    | \n",
       "| Shared Ride 2  | 5029           |  517           | 0.10280374     | 0.026279673    | \n",
       "| Shared Ride 3+ | 5029           |  161           | 0.03201432     | 0.008183805    | \n",
       "| Transit        | 4003           |  498           | 0.12440669     | 0.025313882    | \n",
       "| Bike           | 1738           |   50           | 0.02876870     | 0.002541554    | \n",
       "| Walk           | 1119           |  159           | 0.14209115     | 0.008082143    | \n",
       "\n",
       "\n"
      ],
      "text/plain": [
       "  alternative    available chosen proportion_mode proportion_all\n",
       "1 Drive Alone    2755      3637   1.32014519      0.184872668   \n",
       "2 Shared Ride 2  5029       517   0.10280374      0.026279673   \n",
       "3 Shared Ride 3+ 5029       161   0.03201432      0.008183805   \n",
       "4 Transit        4003       498   0.12440669      0.025313882   \n",
       "5 Bike           1738        50   0.02876870      0.002541554   \n",
       "6 Walk           1119       159   0.14209115      0.008082143   "
      ]
     },
     "metadata": {},
     "output_type": "display_data"
    }
   ],
   "source": [
    "df.mc <- read.csv(paste(wd, \"hw3_mode_choice.csv\", sep=\"\"))\n",
    "df.mc.model1 <- df.mc %>%\n",
    "    mutate(proportion_mode = chosen/available) %>%\n",
    "    mutate(proportion_all = chosen/sum(available))\n",
    "\n",
    "df.mc.model1"
   ]
  },
  {
   "cell_type": "code",
   "execution_count": 10,
   "metadata": {
    "scrolled": true
   },
   "outputs": [
    {
     "data": {
      "text/html": [
       "<table>\n",
       "<thead><tr><th scope=col>alternative</th><th scope=col>available</th><th scope=col>chosen</th><th scope=col>proportion_mode</th><th scope=col>proportion_all</th><th scope=col>MNL.prob</th></tr></thead>\n",
       "<tbody>\n",
       "\t<tr><td>Drive Alone   </td><td>2755          </td><td>3637          </td><td>1.32014519    </td><td>0.184872668   </td><td>0.66579934    </td></tr>\n",
       "\t<tr><td>Shared Ride 2 </td><td>5029          </td><td> 517          </td><td>0.10280374    </td><td>0.026279673   </td><td>0.07849134    </td></tr>\n",
       "\t<tr><td>Shared Ride 3+</td><td>5029          </td><td> 161          </td><td>0.03201432    </td><td>0.008183805   </td><td>0.02443431    </td></tr>\n",
       "\t<tr><td>Transit       </td><td>4003          </td><td> 498          </td><td>0.12440669    </td><td>0.025313882   </td><td>0.09453672    </td></tr>\n",
       "\t<tr><td>Bike          </td><td>1738          </td><td>  50          </td><td>0.02876870    </td><td>0.002541554   </td><td>0.02378341    </td></tr>\n",
       "\t<tr><td>Walk          </td><td>1119          </td><td> 159          </td><td>0.14209115    </td><td>0.008082143   </td><td>0.11295487    </td></tr>\n",
       "</tbody>\n",
       "</table>\n"
      ],
      "text/latex": [
       "\\begin{tabular}{r|llllll}\n",
       " alternative & available & chosen & proportion\\_mode & proportion\\_all & MNL.prob\\\\\n",
       "\\hline\n",
       "\t Drive Alone    & 2755           & 3637           & 1.32014519     & 0.184872668    & 0.66579934    \\\\\n",
       "\t Shared Ride 2  & 5029           &  517           & 0.10280374     & 0.026279673    & 0.07849134    \\\\\n",
       "\t Shared Ride 3+ & 5029           &  161           & 0.03201432     & 0.008183805    & 0.02443431    \\\\\n",
       "\t Transit        & 4003           &  498           & 0.12440669     & 0.025313882    & 0.09453672    \\\\\n",
       "\t Bike           & 1738           &   50           & 0.02876870     & 0.002541554    & 0.02378341    \\\\\n",
       "\t Walk           & 1119           &  159           & 0.14209115     & 0.008082143    & 0.11295487    \\\\\n",
       "\\end{tabular}\n"
      ],
      "text/markdown": [
       "\n",
       "alternative | available | chosen | proportion_mode | proportion_all | MNL.prob | \n",
       "|---|---|---|---|---|---|\n",
       "| Drive Alone    | 2755           | 3637           | 1.32014519     | 0.184872668    | 0.66579934     | \n",
       "| Shared Ride 2  | 5029           |  517           | 0.10280374     | 0.026279673    | 0.07849134     | \n",
       "| Shared Ride 3+ | 5029           |  161           | 0.03201432     | 0.008183805    | 0.02443431     | \n",
       "| Transit        | 4003           |  498           | 0.12440669     | 0.025313882    | 0.09453672     | \n",
       "| Bike           | 1738           |   50           | 0.02876870     | 0.002541554    | 0.02378341     | \n",
       "| Walk           | 1119           |  159           | 0.14209115     | 0.008082143    | 0.11295487     | \n",
       "\n",
       "\n"
      ],
      "text/plain": [
       "  alternative    available chosen proportion_mode proportion_all MNL.prob  \n",
       "1 Drive Alone    2755      3637   1.32014519      0.184872668    0.66579934\n",
       "2 Shared Ride 2  5029       517   0.10280374      0.026279673    0.07849134\n",
       "3 Shared Ride 3+ 5029       161   0.03201432      0.008183805    0.02443431\n",
       "4 Transit        4003       498   0.12440669      0.025313882    0.09453672\n",
       "5 Bike           1738        50   0.02876870      0.002541554    0.02378341\n",
       "6 Walk           1119       159   0.14209115      0.008082143    0.11295487"
      ]
     },
     "metadata": {},
     "output_type": "display_data"
    },
    {
     "data": {
      "text/html": [
       "<table>\n",
       "<thead><tr><th scope=col>alternative</th><th scope=col>available</th><th scope=col>chosen</th><th scope=col>proportion_mode</th><th scope=col>proportion_all</th><th scope=col>MNL.prob</th><th scope=col>MNL.prob.noWalk</th></tr></thead>\n",
       "<tbody>\n",
       "\t<tr><td>Drive Alone   </td><td>2755          </td><td>3637          </td><td>1.32014519    </td><td>0.196022421   </td><td>0.66579934    </td><td>0.66579934    </td></tr>\n",
       "\t<tr><td>Shared Ride 2 </td><td>5029          </td><td> 517          </td><td>0.10280374    </td><td>0.027864611   </td><td>0.07849134    </td><td>0.08848630    </td></tr>\n",
       "\t<tr><td>Shared Ride 3+</td><td>5029          </td><td> 161          </td><td>0.03201432    </td><td>0.008677374   </td><td>0.02443431    </td><td>0.02754574    </td></tr>\n",
       "\t<tr><td>Transit       </td><td>4003          </td><td> 498          </td><td>0.12440669    </td><td>0.026840573   </td><td>0.09453672    </td><td>0.10657487    </td></tr>\n",
       "\t<tr><td>Bike          </td><td>1738          </td><td>  50          </td><td>0.02876870    </td><td>0.002694837   </td><td>0.02378341    </td><td>0.02681195    </td></tr>\n",
       "</tbody>\n",
       "</table>\n"
      ],
      "text/latex": [
       "\\begin{tabular}{r|lllllll}\n",
       " alternative & available & chosen & proportion\\_mode & proportion\\_all & MNL.prob & MNL.prob.noWalk\\\\\n",
       "\\hline\n",
       "\t Drive Alone    & 2755           & 3637           & 1.32014519     & 0.196022421    & 0.66579934     & 0.66579934    \\\\\n",
       "\t Shared Ride 2  & 5029           &  517           & 0.10280374     & 0.027864611    & 0.07849134     & 0.08848630    \\\\\n",
       "\t Shared Ride 3+ & 5029           &  161           & 0.03201432     & 0.008677374    & 0.02443431     & 0.02754574    \\\\\n",
       "\t Transit        & 4003           &  498           & 0.12440669     & 0.026840573    & 0.09453672     & 0.10657487    \\\\\n",
       "\t Bike           & 1738           &   50           & 0.02876870     & 0.002694837    & 0.02378341     & 0.02681195    \\\\\n",
       "\\end{tabular}\n"
      ],
      "text/markdown": [
       "\n",
       "alternative | available | chosen | proportion_mode | proportion_all | MNL.prob | MNL.prob.noWalk | \n",
       "|---|---|---|---|---|\n",
       "| Drive Alone    | 2755           | 3637           | 1.32014519     | 0.196022421    | 0.66579934     | 0.66579934     | \n",
       "| Shared Ride 2  | 5029           |  517           | 0.10280374     | 0.027864611    | 0.07849134     | 0.08848630     | \n",
       "| Shared Ride 3+ | 5029           |  161           | 0.03201432     | 0.008677374    | 0.02443431     | 0.02754574     | \n",
       "| Transit        | 4003           |  498           | 0.12440669     | 0.026840573    | 0.09453672     | 0.10657487     | \n",
       "| Bike           | 1738           |   50           | 0.02876870     | 0.002694837    | 0.02378341     | 0.02681195     | \n",
       "\n",
       "\n"
      ],
      "text/plain": [
       "  alternative    available chosen proportion_mode proportion_all MNL.prob  \n",
       "1 Drive Alone    2755      3637   1.32014519      0.196022421    0.66579934\n",
       "2 Shared Ride 2  5029       517   0.10280374      0.027864611    0.07849134\n",
       "3 Shared Ride 3+ 5029       161   0.03201432      0.008677374    0.02443431\n",
       "4 Transit        4003       498   0.12440669      0.026840573    0.09453672\n",
       "5 Bike           1738        50   0.02876870      0.002694837    0.02378341\n",
       "  MNL.prob.noWalk\n",
       "1 0.66579934     \n",
       "2 0.08848630     \n",
       "3 0.02754574     \n",
       "4 0.10657487     \n",
       "5 0.02681195     "
      ]
     },
     "metadata": {},
     "output_type": "display_data"
    }
   ],
   "source": [
    "vCar <- 0\n",
    "vShared2 <- -2.138\n",
    "vShared3 <- -3.305\n",
    "vTransit <- -1.952\n",
    "vBike <- -3.332\n",
    "vWalk <- -1.774\n",
    "\n",
    "vAll <- (exp(vCar) + exp(vShared2) + exp(vShared3) + exp(vTransit)\n",
    "                      + exp(vBike) + exp(vWalk))\n",
    "\n",
    "# Calculate market shares model\n",
    "p.vCar <- exp(vCar) / vAll\n",
    "p.vShared2 <- exp(vShared2) / vAll\n",
    "p.vShared3 <- exp(vShared3) / vAll\n",
    "p.vTransit <- exp(vTransit) / vAll\n",
    "p.vBike <- exp(vBike) / vAll\n",
    "p.vWalk <- exp(vWalk) / vAll\n",
    "\n",
    "p.modes <- c(p.vCar, p.vShared2, p.vShared3, p.vTransit, p.vBike, p.vWalk)\n",
    "df.temp <- data.frame(\"MNL.prob\" = p.modes)\n",
    "\n",
    "df.mc.model1 <- df.mc.model1 %>%\n",
    "    bind_cols(df.mc.model1, df.temp) %>%\n",
    "    select(alternative, available, chosen, proportion_mode, proportion_all,\n",
    "           MNL.prob)\n",
    "\n",
    "df.mc.model1\n",
    "\n",
    "# Remove bike mode\n",
    "vAll.noWalk <- (exp(vCar) + exp(vShared2) + exp(vShared3) + exp(vTransit) \n",
    "                + exp(vBike))\n",
    "\n",
    "p.car <- exp(vCar) / vAll.noWalk\n",
    "p.vShared2 <- exp(vShared2) / vAll.noWalk\n",
    "p.vShared3 <- exp(vShared3) / vAll.noWalk\n",
    "p.vTransit <- exp(vTransit) / vAll.noWalk\n",
    "p.vBike <- exp(vBike) / vAll.noWalk\n",
    "\n",
    "p.modes <- c(p.vCar, p.vShared2, p.vShared3, p.vTransit, p.vBike, p.vWalk)\n",
    "df.temp <- data.frame(\"MNL.prob.noWalk\" = p.modes) \n",
    "\n",
    "df.mc.model1 <- df.mc.model1 %>%\n",
    "    bind_cols(df.mc.model1, df.temp) %>%\n",
    "    select(alternative, available, chosen, proportion_mode, proportion_all,\n",
    "           MNL.prob, MNL.prob.noWalk) %>%\n",
    "    filter(alternative != 'Walk') %>%\n",
    "    mutate(proportion_mode = chosen/available) %>%\n",
    "    mutate(proportion_all = chosen/sum(available)) \n",
    "    \n",
    "\n",
    "df.mc.model1\n"
   ]
  },
  {
   "cell_type": "code",
   "execution_count": 11,
   "metadata": {},
   "outputs": [
    {
     "data": {
      "text/html": [
       "16.6666666666667"
      ],
      "text/latex": [
       "16.6666666666667"
      ],
      "text/markdown": [
       "16.6666666666667"
      ],
      "text/plain": [
       "[1] 16.66667"
      ]
     },
     "metadata": {},
     "output_type": "display_data"
    }
   ],
   "source": [
    "df.mod2.cost <- (-.050 / 60) / (-.005 / 100)\n",
    "df.mod2.cost"
   ]
  },
  {
   "cell_type": "code",
   "execution_count": 12,
   "metadata": {},
   "outputs": [
    {
     "data": {
      "text/html": [
       "<table>\n",
       "<thead><tr><th scope=col>travel_time_min</th><th scope=col>coefficient</th><th scope=col>implied_VoT</th></tr></thead>\n",
       "<tbody>\n",
       "\t<tr><td>IVTT_car       </td><td>-0.004         </td><td> 1.333333      </td></tr>\n",
       "\t<tr><td>Walk           </td><td>-0.071         </td><td>23.666667      </td></tr>\n",
       "\t<tr><td>Bike           </td><td>-0.062         </td><td>20.666667      </td></tr>\n",
       "\t<tr><td>Waiting_Transit</td><td>-0.072         </td><td>24.000000      </td></tr>\n",
       "</tbody>\n",
       "</table>\n"
      ],
      "text/latex": [
       "\\begin{tabular}{r|lll}\n",
       " travel\\_time\\_min & coefficient & implied\\_VoT\\\\\n",
       "\\hline\n",
       "\t IVTT\\_car        & -0.004            &  1.333333        \\\\\n",
       "\t Walk            & -0.071          & 23.666667      \\\\\n",
       "\t Bike            & -0.062          & 20.666667      \\\\\n",
       "\t Waiting\\_Transit & -0.072            & 24.000000        \\\\\n",
       "\\end{tabular}\n"
      ],
      "text/markdown": [
       "\n",
       "travel_time_min | coefficient | implied_VoT | \n",
       "|---|---|---|---|\n",
       "| IVTT_car        | -0.004          |  1.333333       | \n",
       "| Walk            | -0.071          | 23.666667       | \n",
       "| Bike            | -0.062          | 20.666667       | \n",
       "| Waiting_Transit | -0.072          | 24.000000       | \n",
       "\n",
       "\n"
      ],
      "text/plain": [
       "  travel_time_min coefficient implied_VoT\n",
       "1 IVTT_car        -0.004       1.333333  \n",
       "2 Walk            -0.071      23.666667  \n",
       "3 Bike            -0.062      20.666667  \n",
       "4 Waiting_Transit -0.072      24.000000  "
      ]
     },
     "metadata": {},
     "output_type": "display_data"
    }
   ],
   "source": [
    "df.mod3.coeff <- data.frame(\"travel_time_min\" = c(\"IVTT_car\", \"Walk\", \"Bike\",\n",
    "                                                  \"Waiting_Transit\"),\n",
    "    \"coefficient\" = c(-.004, -.071, -.062, -.072))\n",
    "\n",
    "df.mod3.coeff %>%\n",
    "    mutate(implied_VoT = (coefficient / 60) / (-.005 / 100))\n"
   ]
  },
  {
   "cell_type": "code",
   "execution_count": 13,
   "metadata": {},
   "outputs": [
    {
     "data": {
      "text/html": [
       "<table>\n",
       "<thead><tr><th scope=col>MNL.prob</th></tr></thead>\n",
       "<tbody>\n",
       "\t<tr><td>0.51402550</td></tr>\n",
       "\t<tr><td>0.04256673</td></tr>\n",
       "\t<tr><td>0.04256673</td></tr>\n",
       "\t<tr><td>0.09793195</td></tr>\n",
       "\t<tr><td>0.02350640</td></tr>\n",
       "\t<tr><td>0.31052763</td></tr>\n",
       "</tbody>\n",
       "</table>\n"
      ],
      "text/latex": [
       "\\begin{tabular}{r|l}\n",
       " MNL.prob\\\\\n",
       "\\hline\n",
       "\t 0.51402550\\\\\n",
       "\t 0.04256673\\\\\n",
       "\t 0.04256673\\\\\n",
       "\t 0.09793195\\\\\n",
       "\t 0.02350640\\\\\n",
       "\t 0.31052763\\\\\n",
       "\\end{tabular}\n"
      ],
      "text/markdown": [
       "\n",
       "MNL.prob | \n",
       "|---|---|---|---|---|---|\n",
       "| 0.51402550 | \n",
       "| 0.04256673 | \n",
       "| 0.04256673 | \n",
       "| 0.09793195 | \n",
       "| 0.02350640 | \n",
       "| 0.31052763 | \n",
       "\n",
       "\n"
      ],
      "text/plain": [
       "  MNL.prob  \n",
       "1 0.51402550\n",
       "2 0.04256673\n",
       "3 0.04256673\n",
       "4 0.09793195\n",
       "5 0.02350640\n",
       "6 0.31052763"
      ]
     },
     "metadata": {},
     "output_type": "display_data"
    }
   ],
   "source": [
    "vCar <- 0 + -.053\n",
    "vShared2 <- -2.4912 + -.053\n",
    "vShared3 <- -3.805 + -.053\n",
    "vTransit <- -1.328 + -.053 + -.330\n",
    "vBike <- -3.113 + -.025\n",
    "vWalk <- -.478 + -.079\n",
    "\n",
    "vAll <- (exp(vCar) + exp(vShared2) + exp(vShared3) + exp(vTransit)\n",
    "                      + exp(vBike) + exp(vWalk))\n",
    "\n",
    "# Calculate market shares model\n",
    "p.vCar <- exp(vCar) / vAll\n",
    "p.vShared2 <- exp(vShared2) / vAll\n",
    "p.vShared3 <- exp(vShared2) / vAll\n",
    "p.vTransit <- exp(vTransit) / vAll\n",
    "p.vBike <- exp(vBike) / vAll\n",
    "p.vWalk <- exp(vWalk) / vAll\n",
    "\n",
    "p.modes <- c(p.vCar, p.vShared2, p.vShared3, p.vTransit, p.vBike, p.vWalk)\n",
    "df.temp <- data.frame(\"MNL.prob\" = p.modes)\n",
    "df.temp"
   ]
  }
 ],
 "metadata": {
  "kernelspec": {
   "display_name": "R",
   "language": "R",
   "name": "ir"
  },
  "language_info": {
   "codemirror_mode": "r",
   "file_extension": ".r",
   "mimetype": "text/x-r-source",
   "name": "R",
   "pygments_lexer": "r",
   "version": "3.4.3"
  }
 },
 "nbformat": 4,
 "nbformat_minor": 2
}
