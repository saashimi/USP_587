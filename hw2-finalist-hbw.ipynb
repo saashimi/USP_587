{
 "cells": [
  {
   "cell_type": "code",
   "execution_count": 29,
   "metadata": {},
   "outputs": [],
   "source": [
    "library(dplyr)\n",
    "library(ggplot2)\n",
    "\n",
    "df.hbw <- read.csv(paste(\"C:/Users/kevin/Desktop/\",\n",
    "                     \"USP_587_data/HW2/household_hbw.csv\", sep=\"\"))"
   ]
  },
  {
   "cell_type": "markdown",
   "metadata": {},
   "source": [
    "## Avg HBW Trips by Number of Workers"
   ]
  },
  {
   "cell_type": "code",
   "execution_count": 76,
   "metadata": {},
   "outputs": [
    {
     "data": {
      "text/html": [
       "<table>\n",
       "<thead><tr><th scope=col>hhwrk</th><th scope=col>avg_trips</th></tr></thead>\n",
       "<tbody>\n",
       "\t<tr><td>0        </td><td>0.0000000</td></tr>\n",
       "\t<tr><td>1        </td><td>0.5285321</td></tr>\n",
       "\t<tr><td>2        </td><td>1.1422638</td></tr>\n",
       "</tbody>\n",
       "</table>\n"
      ],
      "text/latex": [
       "\\begin{tabular}{r|ll}\n",
       " hhwrk & avg\\_trips\\\\\n",
       "\\hline\n",
       "\t 0         & 0.0000000\\\\\n",
       "\t 1         & 0.5285321\\\\\n",
       "\t 2         & 1.1422638\\\\\n",
       "\\end{tabular}\n"
      ],
      "text/markdown": [
       "\n",
       "hhwrk | avg_trips | \n",
       "|---|---|---|\n",
       "| 0         | 0.0000000 | \n",
       "| 1         | 0.5285321 | \n",
       "| 2         | 1.1422638 | \n",
       "\n",
       "\n"
      ],
      "text/plain": [
       "  hhwrk avg_trips\n",
       "1 0     0.0000000\n",
       "2 1     0.5285321\n",
       "3 2     1.1422638"
      ]
     },
     "metadata": {},
     "output_type": "display_data"
    },
    {
     "name": "stdout",
     "output_type": "stream",
     "text": [
      "[1] \"SSE = 3459.71101965155\"\n",
      "[1] \"SST = 4596.24158784308\"\n",
      "[1] \"R2 = 0.247273896828578\"\n",
      "[1] \"Adj R2 = 0.259275291665627\"\n",
      "[1] \"n = 6449\"\n"
     ]
    },
    {
     "data": {
      "text/plain": [
       "\n",
       "Call:\n",
       "lm(formula = hbw ~ factor(hhwrk), data = df.pers)\n",
       "\n",
       "Residuals:\n",
       "    Min      1Q  Median      3Q     Max \n",
       "-1.1423 -0.5285 -0.1423  0.4715  3.8577 \n",
       "\n",
       "Coefficients:\n",
       "                 Estimate Std. Error t value Pr(>|t|)    \n",
       "(Intercept)    -2.482e-16  2.295e-02    0.00        1    \n",
       "factor(hhwrk)1  5.285e-01  2.717e-02   19.46   <2e-16 ***\n",
       "factor(hhwrk)2  1.142e+00  2.669e-02   42.79   <2e-16 ***\n",
       "---\n",
       "Signif. codes:  0 '***' 0.001 '**' 0.01 '*' 0.05 '.' 0.1 ' ' 1\n",
       "\n",
       "Residual standard error: 0.7326 on 6446 degrees of freedom\n",
       "Multiple R-squared:  0.2473,\tAdjusted R-squared:  0.247 \n",
       "F-statistic:  1059 on 2 and 6446 DF,  p-value: < 2.2e-16\n"
      ]
     },
     "metadata": {},
     "output_type": "display_data"
    }
   ],
   "source": [
    "# HH Size only\n",
    "df.pers <- df.hbw %>%\n",
    "    select(hhwrk, hbw) %>%\n",
    "    mutate(hhwrk = recode(hhwrk, `0`=0, `1`=1, `2`=2, `3`=2, `4`=2, `5`=2)) %>%\n",
    "    group_by(hhwrk) %>%\n",
    "    mutate(avg_trips = mean(hbw))\n",
    "\n",
    "summarize(df.pers, avg_trips = mean(hbw))\n",
    "\n",
    "\n",
    "df.pers$ResError <- (df.pers$hbw - df.pers$avg_trips)^2\n",
    "df.pers$TotError <- (df.pers$hbw - mean(df.pers$hbw))^2\n",
    "SSE <- sum(df.pers$ResError)\n",
    "SST <- sum(df.pers$TotError)\n",
    "R2 <- 1 - (SSE/SST)\n",
    "\n",
    "print(paste(\"SSE =\", SSE, sep=\" \"))\n",
    "print(paste(\"SST =\", SST, sep=\" \"))\n",
    "print(paste(\"R2 =\", R2, sep=\" \"))\n",
    "print(paste(\"Adj R2 =\", adj.R2, sep=\" \"))\n",
    "\n",
    "k <- 3\n",
    "n <- nrow(df.pers)\n",
    "print(paste(\"n =\", n, sep=\" \"))\n",
    "adj.R2 <- R2 - ((1 - R2)*(k - 1) / (n - k - 1))\n",
    "\n",
    "pers.fit <- lm(hbw ~ factor(hhwrk), data=df.pers)\n",
    "summary(pers.fit)"
   ]
  },
  {
   "cell_type": "code",
   "execution_count": 78,
   "metadata": {},
   "outputs": [
    {
     "data": {},
     "metadata": {},
     "output_type": "display_data"
    },
    {
     "data": {
      "image/png": "[encoded data removed]",
      "text/plain": [
       "plot without title"
      ]
     },
     "metadata": {},
     "output_type": "display_data"
    }
   ],
   "source": [
    "# Graph Avg Trips by # Workers\n",
    "df.pers$hhwrk <- as.factor(df.pers$hhwrk)\n",
    "\n",
    "df.pers %>%\n",
    "    ggplot(aes(x=hhwrk, y=avg_trips, color=hhwrk)) + \n",
    "    theme_minimal() +\n",
    "    geom_point(size=2.5) +\n",
    "    stat_smooth(method=lm, se=FALSE, linetype=\"dashed\", aes(group=1), \n",
    "                size=2, color=\"gray\") +\n",
    "    labs(title= \"Avg HBW Trips Per HH Workers\") +\n",
    "    scale_color_brewer(palette=\"Dark2\")"
   ]
  },
  {
   "cell_type": "markdown",
   "metadata": {},
   "source": [
    "##  AVG TRIPS by Workers and Household Vehicles"
   ]
  },
  {
   "cell_type": "code",
   "execution_count": 67,
   "metadata": {},
   "outputs": [
    {
     "name": "stdout",
     "output_type": "stream",
     "text": [
      "[1] \"SSE = 3441.91042899859\"\n",
      "[1] \"SST = 4596.24158784308\"\n",
      "[1] \"R2 = 0.251146754752329\"\n",
      "[1] \"adj R2 = 0.250565527458595\"\n"
     ]
    },
    {
     "data": {
      "text/plain": [
       "\n",
       "Call:\n",
       "lm(formula = hbw ~ factor(hhwrk) * factor(hhveh), data = df.persveh)\n",
       "\n",
       "Residuals:\n",
       "    Min      1Q  Median      3Q     Max \n",
       "-1.1476 -0.5460 -0.1476  0.4540  3.8524 \n",
       "\n",
       "Coefficients:\n",
       "                                Estimate Std. Error t value Pr(>|t|)    \n",
       "(Intercept)                   -1.553e-16  6.008e-02   0.000  1.00000    \n",
       "factor(hhwrk)1                 2.716e-01  8.311e-02   3.268  0.00109 ** \n",
       "factor(hhwrk)2                 7.297e-01  1.343e-01   5.432 5.78e-08 ***\n",
       "factor(hhveh)1                -1.496e-18  6.498e-02   0.000  1.00000    \n",
       "factor(hhwrk)1:factor(hhveh)1  2.744e-01  8.801e-02   3.118  0.00183 ** \n",
       "factor(hhwrk)2:factor(hhveh)1  4.179e-01  1.373e-01   3.044  0.00235 ** \n",
       "---\n",
       "Signif. codes:  0 '***' 0.001 '**' 0.01 '*' 0.05 '.' 0.1 ' ' 1\n",
       "\n",
       "Residual standard error: 0.7309 on 6443 degrees of freedom\n",
       "Multiple R-squared:  0.2511,\tAdjusted R-squared:  0.2506 \n",
       "F-statistic: 432.2 on 5 and 6443 DF,  p-value: < 2.2e-16\n"
      ]
     },
     "metadata": {},
     "output_type": "display_data"
    }
   ],
   "source": [
    "df.persveh <- df.hbw %>%\n",
    "    select(hhwrk, hhveh, hbw) %>%\n",
    "    mutate(hhwrk = recode(hhwrk, `0`=0, `1`=1, `2`=2, `3`=2, `4`=2, `5`=2)) %>%\n",
    "    mutate(hhveh = recode(hhveh, `0`=0, `1`=1, `2`=1, `3`=1, `4`=1, `5`=1, \n",
    "                          `6`=1, `7`=1, `8`=1)) %>%\n",
    "    group_by(hhwrk, hhveh) %>%\n",
    "    mutate(avg_trips = mean(hbw))\n",
    "\n",
    "# Manual Error calcs\n",
    "df.persveh$ResError <- (df.persveh$hbw - \n",
    "                           df.persveh$avg_trips)^2\n",
    "df.persveh$TotError <- (df.persveh$hbw - \n",
    "                           mean(df.persveh$hbw))^2\n",
    "SSE <- sum(df.persveh$ResError)\n",
    "SST <- sum(df.persveh$TotError)\n",
    "R2 <- 1 - (SSE/SST)\n",
    "k <- 6\n",
    "n <- nrow(df.persveh)\n",
    "adj.R2 <- R2 - ((1 - R2) * (k - 1) / (n - k - 1))\n",
    "\n",
    "print(paste(\"SSE =\", SSE, sep=\" \"))\n",
    "print(paste(\"SST =\", SST, sep=\" \"))\n",
    "print(paste(\"R2 =\", R2, sep=\" \"))\n",
    "print(paste(\"adj R2 =\", adj.R2, sep=\" \"))\n",
    "\n",
    "df.persveh.fit <- lm(hbw ~ factor(hhwrk) * factor(hhveh), data=df.persveh)\n",
    "summary(df.persveh.fit)"
   ]
  },
  {
   "cell_type": "code",
   "execution_count": 68,
   "metadata": {},
   "outputs": [
    {
     "data": {},
     "metadata": {},
     "output_type": "display_data"
    },
    {
     "data": {
      "image/png": "[encoded data removed]",
      "text/plain": [
       "plot without title"
      ]
     },
     "metadata": {},
     "output_type": "display_data"
    }
   ],
   "source": [
    "df.persveh$hhveh <- as.factor(df.persveh$hhveh)\n",
    "df.persveh$hhwrk <- as.factor(df.persveh$hhwrk)\n",
    "\n",
    "df.persveh%>%\n",
    "    ggplot(aes(x=hhwrk, y=avg_trips, color=hhveh, group=hhveh)) + \n",
    "    theme_minimal() +\n",
    "    geom_point(size=2.5) +\n",
    "    geom_line(aes(x=hhwrk, y=avg_trips, color=hhveh), size=1) +\n",
    "    stat_smooth(method=lm, se=FALSE, linetype=\"dashed\", aes(group=1), \n",
    "                size=2, color=\"gray\") +\n",
    "    labs(title= \"Avg HBW Trips by # Workers and HH Vehicles\") +\n",
    "    scale_color_brewer(palette=\"Dark2\")"
   ]
  },
  {
   "cell_type": "code",
   "execution_count": 73,
   "metadata": {},
   "outputs": [
    {
     "name": "stdout",
     "output_type": "stream",
     "text": [
      "[1] \"SSE = 3400.32504731596\"\n",
      "[1] \"SST = 4596.24158784308\"\n",
      "[1] \"R2 = 0.260194447500383\"\n",
      "[1] \"adj R2 = 0.259275291665627\"\n"
     ]
    },
    {
     "data": {
      "text/plain": [
       "\n",
       "Call:\n",
       "lm(formula = hbw ~ factor(hhwrk) * factor(hhveh), data = df.persveh)\n",
       "\n",
       "Residuals:\n",
       "    Min      1Q  Median      3Q     Max \n",
       "-1.1912 -0.5044  0.0000  0.4956  4.1569 \n",
       "\n",
       "Coefficients:\n",
       "                                Estimate Std. Error t value Pr(>|t|)    \n",
       "(Intercept)                   -1.116e-16  5.973e-02   0.000 1.000000    \n",
       "factor(hhwrk)1                 2.716e-01  8.262e-02   3.287 0.001017 ** \n",
       "factor(hhwrk)2                 7.297e-01  1.336e-01   5.464 4.84e-08 ***\n",
       "factor(hhveh)1                 8.907e-17  6.801e-02   0.000 1.000000    \n",
       "factor(hhveh)2                 2.065e-16  7.062e-02   0.000 1.000000    \n",
       "factor(hhwrk)1:factor(hhveh)1  2.328e-01  9.138e-02   2.548 0.010869 *  \n",
       "factor(hhwrk)2:factor(hhveh)1  1.134e-01  1.427e-01   0.794 0.426934    \n",
       "factor(hhwrk)1:factor(hhveh)2  3.123e-01  9.311e-02   3.354 0.000800 ***\n",
       "factor(hhwrk)2:factor(hhveh)2  4.615e-01  1.395e-01   3.307 0.000948 ***\n",
       "---\n",
       "Signif. codes:  0 '***' 0.001 '**' 0.01 '*' 0.05 '.' 0.1 ' ' 1\n",
       "\n",
       "Residual standard error: 0.7266 on 6440 degrees of freedom\n",
       "Multiple R-squared:  0.2602,\tAdjusted R-squared:  0.2593 \n",
       "F-statistic: 283.1 on 8 and 6440 DF,  p-value: < 2.2e-16\n"
      ]
     },
     "metadata": {},
     "output_type": "display_data"
    }
   ],
   "source": [
    "df.persveh <- df.hbw %>%\n",
    "    select(hhwrk, hhveh, hbw) %>%\n",
    "    mutate(hhwrk = recode(hhwrk, `0`=0, `1`=1, `2`=2, `3`=2, `4`=2, `5`=2)) %>%\n",
    "    mutate(hhveh = recode(hhveh, `0`=0, `1`=1, `2`=2, `3`=2, `4`=2, `5`=2, \n",
    "                          `6`=2, `7`=2, `8`=2)) %>%\n",
    "    group_by(hhwrk, hhveh) %>%\n",
    "    mutate(avg_trips = mean(hbw))\n",
    "\n",
    "# Manual Error calcs\n",
    "df.persveh$ResError <- (df.persveh$hbw - \n",
    "                           df.persveh$avg_trips)^2\n",
    "df.persveh$TotError <- (df.persveh$hbw - \n",
    "                           mean(df.persveh$hbw))^2\n",
    "SSE <- sum(df.persveh$ResError)\n",
    "SST <- sum(df.persveh$TotError)\n",
    "R2 <- 1 - (SSE/SST)\n",
    "k <- 9\n",
    "n <- nrow(df.persveh)\n",
    "adj.R2 <- R2 - ((1 - R2) * (k - 1) / (n - k - 1))\n",
    "\n",
    "print(paste(\"SSE =\", SSE, sep=\" \"))\n",
    "print(paste(\"SST =\", SST, sep=\" \"))\n",
    "print(paste(\"R2 =\", R2, sep=\" \"))\n",
    "print(paste(\"adj R2 =\", adj.R2, sep=\" \"))\n",
    "\n",
    "df.persveh.fit <- lm(hbw ~ factor(hhwrk) * factor(hhveh), data=df.persveh)\n",
    "summary(df.persveh.fit)"
   ]
  },
  {
   "cell_type": "code",
   "execution_count": 74,
   "metadata": {},
   "outputs": [
    {
     "data": {},
     "metadata": {},
     "output_type": "display_data"
    },
    {
     "data": {
      "image/png": "[encoded data removed]",
      "text/plain": [
       "plot without title"
      ]
     },
     "metadata": {},
     "output_type": "display_data"
    }
   ],
   "source": [
    "df.persveh$hhveh <- as.factor(df.persveh$hhveh)\n",
    "df.persveh$hhwrk <- as.factor(df.persveh$hhwrk)\n",
    "\n",
    "df.persveh%>%\n",
    "    ggplot(aes(x=hhwrk, y=avg_trips, color=hhveh, group=hhveh)) + \n",
    "    theme_minimal() +\n",
    "    geom_point(size=2.5) +\n",
    "    geom_line(aes(x=hhwrk, y=avg_trips, color=hhveh), size=1) +\n",
    "    stat_smooth(method=lm, se=FALSE, linetype=\"dashed\", aes(group=1), \n",
    "                size=2, color=\"gray\") +\n",
    "    labs(title= \"Avg HBW Trips by # Workers and # HH Vehicles\") +\n",
    "    scale_color_brewer(palette=\"Dark2\")"
   ]
  },
  {
   "cell_type": "markdown",
   "metadata": {},
   "source": [
    "## HBW Trips by HHWrk and Presence of Licensed Drivers"
   ]
  },
  {
   "cell_type": "code",
   "execution_count": 62,
   "metadata": {},
   "outputs": [
    {
     "name": "stdout",
     "output_type": "stream",
     "text": [
      "[1] \"SSE = 3443.37200922528\"\n",
      "[1] \"SST = 4596.24158784308\"\n",
      "[1] \"R2 = 0.250828760104148\"\n",
      "[1] \"adj R2 = 0.250014443539044\"\n"
     ]
    },
    {
     "data": {
      "text/plain": [
       "\n",
       "Call:\n",
       "lm(formula = hbw ~ factor(hhwrk) * factor(hhlic), data = df.wrklic)\n",
       "\n",
       "Residuals:\n",
       "    Min      1Q  Median      3Q     Max \n",
       "-1.1442 -0.5396 -0.1442  0.4604  3.8558 \n",
       "\n",
       "Coefficients:\n",
       "                                Estimate Std. Error t value Pr(>|t|)    \n",
       "(Intercept)                    5.581e-16  7.347e-02   0.000  1.00000    \n",
       "factor(hhwrk)1                 1.795e-01  1.107e-01   1.622  0.10492    \n",
       "factor(hhwrk)2                -4.966e-15  3.351e-01   0.000  1.00000    \n",
       "factor(hhlic)1                -1.340e-16  7.733e-02   0.000  1.00000    \n",
       "factor(hhwrk)1:factor(hhlic)1  3.601e-01  1.142e-01   3.152  0.00163 ** \n",
       "factor(hhwrk)2:factor(hhlic)1  1.144e+00  3.362e-01   3.403  0.00067 ***\n",
       "---\n",
       "Signif. codes:  0 '***' 0.001 '**' 0.01 '*' 0.05 '.' 0.1 ' ' 1\n",
       "\n",
       "Residual standard error: 0.7311 on 6443 degrees of freedom\n",
       "Multiple R-squared:  0.2508,\tAdjusted R-squared:  0.2502 \n",
       "F-statistic: 431.4 on 5 and 6443 DF,  p-value: < 2.2e-16\n"
      ]
     },
     "metadata": {},
     "output_type": "display_data"
    }
   ],
   "source": [
    "df.wrklic <- df.hbw %>%\n",
    "    select(hhwrk, hhlic, hbw) %>%\n",
    "    mutate(hhwrk = recode(hhwrk, `0`=0, `1`=1, `2`=2, `3`=2, `4`=2, `5`=2)) %>%\n",
    "    mutate(hhlic = recode(hhlic, `0`=0, `1`=1, `2`=1, `3`=1, `4`=1, `5`=1, \n",
    "                          `6`=1, `7`=1)) %>%\n",
    "    group_by(hhwrk, hhlic) %>%\n",
    "    mutate(avg_trips = mean(hbw))\n",
    "\n",
    "# Manual Error calcs\n",
    "df.wrklic$ResError <- (df.wrklic$hbw - \n",
    "                           df.wrklic$avg_trips)^2\n",
    "df.wrklic$TotError <- (df.wrklic$hbw - \n",
    "                           mean(df.wrklic$hbw))^2\n",
    "SSE <- sum(df.wrklic$ResError)\n",
    "SST <- sum(df.wrklic$TotError)\n",
    "R2 <- 1 - (SSE/SST)\n",
    "k <- 8\n",
    "n <- nrow(df.wrklic)\n",
    "adj.R2 <- R2 - ((1 - R2) * (k - 1) / (n - k - 1))\n",
    "\n",
    "print(paste(\"SSE =\", SSE, sep=\" \"))\n",
    "print(paste(\"SST =\", SST, sep=\" \"))\n",
    "print(paste(\"R2 =\", R2, sep=\" \"))\n",
    "print(paste(\"adj R2 =\", adj.R2, sep=\" \"))\n",
    "\n",
    "df.wrklic.fit <- lm(hbw ~ factor(hhwrk) * factor(hhlic), data=df.wrklic)\n",
    "summary(df.wrklic.fit)"
   ]
  },
  {
   "cell_type": "code",
   "execution_count": 63,
   "metadata": {},
   "outputs": [
    {
     "data": {},
     "metadata": {},
     "output_type": "display_data"
    },
    {
     "data": {
      "image/png": "[encoded data removed]",
      "text/plain": [
       "plot without title"
      ]
     },
     "metadata": {},
     "output_type": "display_data"
    }
   ],
   "source": [
    "df.wrklic$hhwrk <- as.factor(df.wrklic$hhwrk)\n",
    "df.wrklic$hhlic <- as.factor(df.wrklic$hhlic)\n",
    "\n",
    "df.wrklic%>%\n",
    "    ggplot(aes(x=hhwrk, y=avg_trips, color=hhlic, group=hhlic)) + \n",
    "    theme_minimal() +\n",
    "    geom_point(size=2.5) +\n",
    "    geom_line(aes(x=hhwrk, y=avg_trips, color=hhlic), size=1) +\n",
    "    stat_smooth(method=lm, se=FALSE, linetype=\"dashed\", aes(group=1), \n",
    "                size=2, color=\"gray\") +\n",
    "    labs(title= \"Avg HBW Trips by HH Workers and Presence of Licensed Drivers\") +\n",
    "    scale_color_brewer(palette=\"Dark2\")"
   ]
  },
  {
   "cell_type": "code",
   "execution_count": 58,
   "metadata": {},
   "outputs": [
    {
     "name": "stdout",
     "output_type": "stream",
     "text": [
      "[1] \"SSE = 3426.62499260326\"\n",
      "[1] \"SST = 4596.24158784308\"\n",
      "[1] \"R2 = 0.254472392907593\"\n",
      "[1] \"adj R2 = 0.253546127826565\"\n"
     ]
    },
    {
     "data": {
      "text/plain": [
       "\n",
       "Call:\n",
       "lm(formula = hbw ~ factor(hhwrk) * factor(hhlic), data = df.wrklic)\n",
       "\n",
       "Residuals:\n",
       "    Min      1Q  Median      3Q     Max \n",
       "-1.1557 -0.5022  0.0000  0.4978  3.8443 \n",
       "\n",
       "Coefficients:\n",
       "                                Estimate Std. Error t value Pr(>|t|)    \n",
       "(Intercept)                   -8.174e-17  7.331e-02   0.000 1.000000    \n",
       "factor(hhwrk)1                 1.795e-01  1.104e-01   1.625 0.104157    \n",
       "factor(hhwrk)2                 1.656e-16  3.344e-01   0.000 1.000000    \n",
       "factor(hhlic)1                -2.112e-16  7.973e-02   0.000 1.000000    \n",
       "factor(hhlic)2                 5.462e-17  8.235e-02   0.000 1.000000    \n",
       "factor(hhwrk)1:factor(hhlic)1  3.228e-01  1.165e-01   2.770 0.005620 ** \n",
       "factor(hhwrk)2:factor(hhlic)1  7.619e-01  3.451e-01   2.208 0.027304 *  \n",
       "factor(hhwrk)1:factor(hhlic)2  4.047e-01  1.186e-01   3.411 0.000652 ***\n",
       "factor(hhwrk)2:factor(hhlic)2  1.156e+00  3.367e-01   3.432 0.000603 ***\n",
       "---\n",
       "Signif. codes:  0 '***' 0.001 '**' 0.01 '*' 0.05 '.' 0.1 ' ' 1\n",
       "\n",
       "Residual standard error: 0.7294 on 6440 degrees of freedom\n",
       "Multiple R-squared:  0.2545,\tAdjusted R-squared:  0.2535 \n",
       "F-statistic: 274.8 on 8 and 6440 DF,  p-value: < 2.2e-16\n"
      ]
     },
     "metadata": {},
     "output_type": "display_data"
    }
   ],
   "source": [
    "df.wrklic <- df.hbw %>%\n",
    "    select(hhwrk, hhlic, hbw) %>%\n",
    "    mutate(hhwrk = recode(hhwrk, `0`=0, `1`=1, `2`=2, `3`=2, `4`=2, `5`=2)) %>%\n",
    "    mutate(hhlic = recode(hhlic, `0`=0, `1`=1, `2`=2, `3`=2, `4`=2, `5`=2, \n",
    "                          `6`=2, `7`=2)) %>%\n",
    "    group_by(hhwrk, hhlic) %>%\n",
    "    mutate(avg_trips = mean(hbw))\n",
    "\n",
    "# Manual Error calcs\n",
    "df.wrklic$ResError <- (df.wrklic$hbw - \n",
    "                           df.wrklic$avg_trips)^2\n",
    "df.wrklic$TotError <- (df.wrklic$hbw - \n",
    "                           mean(df.wrklic$hbw))^2\n",
    "SSE <- sum(df.wrklic$ResError)\n",
    "SST <- sum(df.wrklic$TotError)\n",
    "R2 <- 1 - (SSE/SST)\n",
    "k <- 9\n",
    "n <- nrow(df.wrklic)\n",
    "adj.R2 <- R2 - ((1 - R2) * (k - 1) / (n - k - 1))\n",
    "\n",
    "print(paste(\"SSE =\", SSE, sep=\" \"))\n",
    "print(paste(\"SST =\", SST, sep=\" \"))\n",
    "print(paste(\"R2 =\", R2, sep=\" \"))\n",
    "print(paste(\"adj R2 =\", adj.R2, sep=\" \"))\n",
    "\n",
    "df.wrklic.fit <- lm(hbw ~ factor(hhwrk) * factor(hhlic), data=df.wrklic)\n",
    "summary(df.wrklic.fit)"
   ]
  },
  {
   "cell_type": "code",
   "execution_count": 64,
   "metadata": {},
   "outputs": [
    {
     "data": {},
     "metadata": {},
     "output_type": "display_data"
    },
    {
     "data": {
      "image/png": "[encoded data removed]",
      "text/plain": [
       "plot without title"
      ]
     },
     "metadata": {},
     "output_type": "display_data"
    }
   ],
   "source": [
    "df.wrklic$hhwrk <- as.factor(df.wrklic$hhwrk)\n",
    "df.wrklic$hhlic <- as.factor(df.wrklic$hhlic)\n",
    "\n",
    "df.wrklic%>%\n",
    "    ggplot(aes(x=hhwrk, y=avg_trips, color=hhlic, group=hhlic)) + \n",
    "    theme_minimal() +\n",
    "    geom_point(size=2.5) +\n",
    "    geom_line(aes(x=hhwrk, y=avg_trips, color=hhlic), size=1) +\n",
    "    stat_smooth(method=lm, se=FALSE, linetype=\"dashed\", aes(group=1), \n",
    "                size=2, color=\"gray\") +\n",
    "    labs(title= \"Avg Trips by # Workers and # Licensed Drivers\") +\n",
    "    scale_color_brewer(palette=\"Dark2\")"
   ]
  },
  {
   "cell_type": "code",
   "execution_count": 66,
   "metadata": {},
   "outputs": [
    {
     "name": "stdout",
     "output_type": "stream",
     "text": [
      "[1] \"SSE = 3400.32504731596\"\n",
      "[1] \"SST = 4596.24158784308\"\n",
      "[1] \"R2 = 0.260194447500383\"\n",
      "[1] \"adj R2 = 0.259275291665627\"\n"
     ]
    },
    {
     "data": {
      "text/plain": [
       "\n",
       "Call:\n",
       "lm(formula = hbw ~ factor(hhwrk) * factor(hhveh), data = df.persveh)\n",
       "\n",
       "Residuals:\n",
       "    Min      1Q  Median      3Q     Max \n",
       "-1.1912 -0.5044  0.0000  0.4956  4.1569 \n",
       "\n",
       "Coefficients:\n",
       "                                Estimate Std. Error t value Pr(>|t|)    \n",
       "(Intercept)                   -1.116e-16  5.973e-02   0.000 1.000000    \n",
       "factor(hhwrk)1                 2.716e-01  8.262e-02   3.287 0.001017 ** \n",
       "factor(hhwrk)2                 7.297e-01  1.336e-01   5.464 4.84e-08 ***\n",
       "factor(hhveh)1                 8.907e-17  6.801e-02   0.000 1.000000    \n",
       "factor(hhveh)2                 2.065e-16  7.062e-02   0.000 1.000000    \n",
       "factor(hhwrk)1:factor(hhveh)1  2.328e-01  9.138e-02   2.548 0.010869 *  \n",
       "factor(hhwrk)2:factor(hhveh)1  1.134e-01  1.427e-01   0.794 0.426934    \n",
       "factor(hhwrk)1:factor(hhveh)2  3.123e-01  9.311e-02   3.354 0.000800 ***\n",
       "factor(hhwrk)2:factor(hhveh)2  4.615e-01  1.395e-01   3.307 0.000948 ***\n",
       "---\n",
       "Signif. codes:  0 '***' 0.001 '**' 0.01 '*' 0.05 '.' 0.1 ' ' 1\n",
       "\n",
       "Residual standard error: 0.7266 on 6440 degrees of freedom\n",
       "Multiple R-squared:  0.2602,\tAdjusted R-squared:  0.2593 \n",
       "F-statistic: 283.1 on 8 and 6440 DF,  p-value: < 2.2e-16\n"
      ]
     },
     "metadata": {},
     "output_type": "display_data"
    }
   ],
   "source": [
    "df.persveh <- df.hbw %>%\n",
    "    select(hhwrk, hhveh, hbw) %>%\n",
    "    mutate(hhwrk = recode(hhwrk, `0`=0, `1`=1, `2`=2, `3`=2, `4`=2, `5`=2)) %>%\n",
    "    mutate(hhveh = recode(hhveh, `0`=0, `1`=1, `2`=2, `3`=2, `4`=2, `5`=2, \n",
    "                          `6`=2, `7`=2, `8`=2)) %>%\n",
    "    group_by(hhwrk, hhveh) %>%\n",
    "    mutate(avg_trips = mean(hbw))\n",
    "\n",
    "# Manual Error calcs\n",
    "df.persveh$ResError <- (df.persveh$hbw - \n",
    "                           df.persveh$avg_trips)^2\n",
    "df.persveh$TotError <- (df.persveh$hbw - \n",
    "                           mean(df.persveh$hbw))^2\n",
    "SSE <- sum(df.persveh$ResError)\n",
    "SST <- sum(df.persveh$TotError)\n",
    "R2 <- 1 - (SSE/SST)\n",
    "k <- 9\n",
    "n <- nrow(df.persveh)\n",
    "adj.R2 <- R2 - ((1 - R2) * (k - 1) / (n - k - 1))\n",
    "\n",
    "print(paste(\"SSE =\", SSE, sep=\" \"))\n",
    "print(paste(\"SST =\", SST, sep=\" \"))\n",
    "print(paste(\"R2 =\", R2, sep=\" \"))\n",
    "print(paste(\"adj R2 =\", adj.R2, sep=\" \"))\n",
    "\n",
    "df.persveh.fit <- lm(hbw ~ factor(hhwrk) * factor(hhveh), data=df.persveh)\n",
    "summary(df.persveh.fit)"
   ]
  },
  {
   "cell_type": "code",
   "execution_count": 75,
   "metadata": {},
   "outputs": [
    {
     "data": {
      "text/html": [
       "26.2587026634904"
      ],
      "text/latex": [
       "26.2587026634904"
      ],
      "text/markdown": [
       "26.2587026634904"
      ],
      "text/plain": [
       "[1] 26.2587"
      ]
     },
     "metadata": {},
     "output_type": "display_data"
    }
   ],
   "source": [
    "((3441.9 - 3400.3)/ (9-6)) / (3400.3/(6449-9-1))"
   ]
  }
 ],
 "metadata": {
  "kernelspec": {
   "display_name": "R",
   "language": "R",
   "name": "ir"
  },
  "language_info": {
   "codemirror_mode": "r",
   "file_extension": ".r",
   "mimetype": "text/x-r-source",
   "name": "R",
   "pygments_lexer": "r",
   "version": "3.4.3"
  }
 },
 "nbformat": 4,
 "nbformat_minor": 2
}
