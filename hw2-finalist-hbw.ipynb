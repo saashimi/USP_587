{
 "cells": [
  {
   "cell_type": "code",
   "execution_count": 135,
   "metadata": {},
   "outputs": [],
   "source": [
    "library(dplyr)\n",
    "library(ggplot2)\n",
    "\n",
    "df.hbw <- read.csv(paste(\"C:/Users/kevin/Desktop/\",\n",
    "                     \"USP_587_data/HW2/household_hbw.csv\", sep=\"\"))"
   ]
  },
  {
   "cell_type": "markdown",
   "metadata": {},
   "source": [
    "## Avg HBW Trips by HHWork and Licensed Drivers"
   ]
  },
  {
   "cell_type": "code",
   "execution_count": 234,
   "metadata": {},
   "outputs": [
    {
     "data": {
      "text/html": [
       "<table>\n",
       "<thead><tr><th scope=col>hhwrk</th><th scope=col>hhlic</th><th scope=col>avg_trips</th></tr></thead>\n",
       "<tbody>\n",
       "\t<tr><td>1        </td><td>1        </td><td>0.5022388</td></tr>\n",
       "\t<tr><td>1        </td><td>2        </td><td>0.5830904</td></tr>\n",
       "\t<tr><td>1        </td><td>3        </td><td>0.6000000</td></tr>\n",
       "\t<tr><td>1        </td><td>4        </td><td>0.5714286</td></tr>\n",
       "\t<tr><td>2        </td><td>1        </td><td>0.7654321</td></tr>\n",
       "\t<tr><td>2        </td><td>2        </td><td>1.0701999</td></tr>\n",
       "\t<tr><td>2        </td><td>3        </td><td>1.2298851</td></tr>\n",
       "\t<tr><td>2        </td><td>4        </td><td>1.2272727</td></tr>\n",
       "\t<tr><td>3        </td><td>1        </td><td>0.6666667</td></tr>\n",
       "\t<tr><td>3        </td><td>2        </td><td>1.1538462</td></tr>\n",
       "\t<tr><td>3        </td><td>3        </td><td>1.6035242</td></tr>\n",
       "\t<tr><td>3        </td><td>4        </td><td>1.8620690</td></tr>\n",
       "</tbody>\n",
       "</table>\n"
      ],
      "text/latex": [
       "\\begin{tabular}{r|lll}\n",
       " hhwrk & hhlic & avg\\_trips\\\\\n",
       "\\hline\n",
       "\t 1         & 1         & 0.5022388\\\\\n",
       "\t 1         & 2         & 0.5830904\\\\\n",
       "\t 1         & 3         & 0.6000000\\\\\n",
       "\t 1         & 4         & 0.5714286\\\\\n",
       "\t 2         & 1         & 0.7654321\\\\\n",
       "\t 2         & 2         & 1.0701999\\\\\n",
       "\t 2         & 3         & 1.2298851\\\\\n",
       "\t 2         & 4         & 1.2272727\\\\\n",
       "\t 3         & 1         & 0.6666667\\\\\n",
       "\t 3         & 2         & 1.1538462\\\\\n",
       "\t 3         & 3         & 1.6035242\\\\\n",
       "\t 3         & 4         & 1.8620690\\\\\n",
       "\\end{tabular}\n"
      ],
      "text/markdown": [
       "\n",
       "hhwrk | hhlic | avg_trips | \n",
       "|---|---|---|---|---|---|---|---|---|---|---|---|\n",
       "| 1         | 1         | 0.5022388 | \n",
       "| 1         | 2         | 0.5830904 | \n",
       "| 1         | 3         | 0.6000000 | \n",
       "| 1         | 4         | 0.5714286 | \n",
       "| 2         | 1         | 0.7654321 | \n",
       "| 2         | 2         | 1.0701999 | \n",
       "| 2         | 3         | 1.2298851 | \n",
       "| 2         | 4         | 1.2272727 | \n",
       "| 3         | 1         | 0.6666667 | \n",
       "| 3         | 2         | 1.1538462 | \n",
       "| 3         | 3         | 1.6035242 | \n",
       "| 3         | 4         | 1.8620690 | \n",
       "\n",
       "\n"
      ],
      "text/plain": [
       "   hhwrk hhlic avg_trips\n",
       "1  1     1     0.5022388\n",
       "2  1     2     0.5830904\n",
       "3  1     3     0.6000000\n",
       "4  1     4     0.5714286\n",
       "5  2     1     0.7654321\n",
       "6  2     2     1.0701999\n",
       "7  2     3     1.2298851\n",
       "8  2     4     1.2272727\n",
       "9  3     1     0.6666667\n",
       "10 3     2     1.1538462\n",
       "11 3     3     1.6035242\n",
       "12 3     4     1.8620690"
      ]
     },
     "metadata": {},
     "output_type": "display_data"
    },
    {
     "name": "stdout",
     "output_type": "stream",
     "text": [
      "[1] \"SSE = 3308.87909007614\"\n",
      "[1] \"SST = 3917.58631008042\"\n",
      "[1] \"R2 = 0.155378126178867\"\n",
      "[1] \"Adj R2 = 0.154270529116906\"\n",
      "[1] \"n = 5347\"\n"
     ]
    },
    {
     "data": {
      "text/plain": [
       "\n",
       "Call:\n",
       "lm(formula = hbw ~ factor(hhwrk) * factor(hhlic), data = df.wrklic)\n",
       "\n",
       "Residuals:\n",
       "    Min      1Q  Median      3Q     Max \n",
       "-1.8621 -0.5831 -0.0702  0.4978  3.9298 \n",
       "\n",
       "Coefficients:\n",
       "                              Estimate Std. Error t value Pr(>|t|)    \n",
       "(Intercept)                    0.50224    0.02151  23.345  < 2e-16 ***\n",
       "factor(hhwrk)2                 0.26319    0.09011   2.921  0.00351 ** \n",
       "factor(hhwrk)3                 0.16443    0.45520   0.361  0.71795    \n",
       "factor(hhlic)2                 0.08085    0.03264   2.477  0.01329 *  \n",
       "factor(hhlic)3                 0.09776    0.09064   1.079  0.28083    \n",
       "factor(hhlic)4                 0.06919    0.21158   0.327  0.74366    \n",
       "factor(hhwrk)2:factor(hhlic)2  0.22392    0.09493   2.359  0.01837 *  \n",
       "factor(hhwrk)3:factor(hhlic)2  0.40633    0.46876   0.867  0.38608    \n",
       "factor(hhwrk)2:factor(hhlic)3  0.36669    0.13509   2.714  0.00666 ** \n",
       "factor(hhwrk)3:factor(hhlic)3  0.83910    0.46657   1.798  0.07216 .  \n",
       "factor(hhwrk)2:factor(hhlic)4  0.39265    0.28392   1.383  0.16674    \n",
       "factor(hhwrk)3:factor(hhlic)4  1.12621    0.50856   2.215  0.02684 *  \n",
       "---\n",
       "Signif. codes:  0 '***' 0.001 '**' 0.01 '*' 0.05 '.' 0.1 ' ' 1\n",
       "\n",
       "Residual standard error: 0.7875 on 5335 degrees of freedom\n",
       "Multiple R-squared:  0.1554,\tAdjusted R-squared:  0.1536 \n",
       "F-statistic: 89.22 on 11 and 5335 DF,  p-value: < 2.2e-16\n"
      ]
     },
     "metadata": {},
     "output_type": "display_data"
    }
   ],
   "source": [
    "# HH Size only\n",
    "df.wrklic <- df.hbw %>%\n",
    "    select(hhlic, hhwrk, hbw) %>%\n",
    "    mutate(hhwrk = recode(hhwrk, `0`=0, `1`=1, `2`=2, `3`=3, `4`=3, `5`=3)) %>%\n",
    "    mutate(hhlic = recode(hhlic, `0`=0, `1`=1, `2`=2, `3`=3, `4`=4, `5`=4, `6`=4, `7`=4)) %>%\n",
    "    filter(hhwrk > 0 & hhlic > 0) %>%\n",
    "    group_by(hhwrk, hhlic) %>%\n",
    "    mutate(avg_trips = mean(hbw))\n",
    "\n",
    "summarize(df.wrklic, avg_trips = mean(hbw))\n",
    "\n",
    "df.wrklic$ResError <- (df.wrklic$hbw - df.wrklic$avg_trips)^2\n",
    "df.wrklic$TotError <- (df.wrklic$hbw - mean(df.wrklic$hbw))^2\n",
    "SSE <- sum(df.wrklic$ResError)\n",
    "SST <- sum(df.wrklic$TotError)\n",
    "R2 <- 1 - (SSE/SST)\n",
    "\n",
    "print(paste(\"SSE =\", SSE, sep=\" \"))\n",
    "print(paste(\"SST =\", SST, sep=\" \"))\n",
    "print(paste(\"R2 =\", R2, sep=\" \"))\n",
    "print(paste(\"Adj R2 =\", adj.R2, sep=\" \"))\n",
    "\n",
    "k <- 8\n",
    "n <- nrow(df.wrklic)\n",
    "print(paste(\"n =\", n, sep=\" \"))\n",
    "adj.R2 <- R2 - ((1 - R2)*(k - 1) / (n - k - 1))\n",
    "\n",
    "pers.fit <- lm(hbw ~ factor(hhwrk) * factor(hhlic), data=df.wrklic)\n",
    "summary(pers.fit)"
   ]
  },
  {
   "cell_type": "code",
   "execution_count": 235,
   "metadata": {},
   "outputs": [
    {
     "data": {},
     "metadata": {},
     "output_type": "display_data"
    },
    {
     "data": {
      "image/png": "[encoded data removed]",
      "text/plain": [
       "plot without title"
      ]
     },
     "metadata": {},
     "output_type": "display_data"
    }
   ],
   "source": [
    "# Graph Avg Trips by # Workers\n",
    "df.wrklic$hhwrk <- as.factor(df.wrklic$hhwrk)\n",
    "df.wrklic$hhlic <- as.factor(df.wrklic$hhlic)\n",
    "\n",
    "\n",
    "df.wrklic %>%\n",
    "    ggplot(aes(x=hhwrk, y=avg_trips, color=hhlic)) + \n",
    "    theme_minimal() +\n",
    "    geom_line(aes(x=hhwrk, y=avg_trips, color=hhlic, group=hhlic), size=1) +\n",
    "    geom_point(size=2.5) +\n",
    "    stat_smooth(method=lm, se=FALSE, linetype=\"dashed\", aes(group=1), \n",
    "                size=2, color=\"gray\") +\n",
    "    labs(title= \"Avg HBW Trips Per HH Size and HH Workers\") +\n",
    "    scale_color_brewer(palette=\"Dark2\")"
   ]
  },
  {
   "cell_type": "markdown",
   "metadata": {},
   "source": [
    "##  AVG TRIPS by HH Size Presence of Non-workers"
   ]
  },
  {
   "cell_type": "code",
   "execution_count": 180,
   "metadata": {},
   "outputs": [
    {
     "data": {
      "text/html": [
       "<table>\n",
       "<thead><tr><th scope=col>hhsiz</th><th scope=col>nonwrk</th><th scope=col>avg_trips</th></tr></thead>\n",
       "<tbody>\n",
       "\t<tr><td>1        </td><td>0        </td><td>0.5025381</td></tr>\n",
       "\t<tr><td>2        </td><td>0        </td><td>1.0689115</td></tr>\n",
       "\t<tr><td>2        </td><td>1        </td><td>0.5240964</td></tr>\n",
       "\t<tr><td>3        </td><td>0        </td><td>1.5786164</td></tr>\n",
       "\t<tr><td>3        </td><td>1        </td><td>0.9001350</td></tr>\n",
       "\t<tr><td>4        </td><td>0        </td><td>1.9000000</td></tr>\n",
       "\t<tr><td>4        </td><td>1        </td><td>1.0520231</td></tr>\n",
       "</tbody>\n",
       "</table>\n"
      ],
      "text/latex": [
       "\\begin{tabular}{r|lll}\n",
       " hhsiz & nonwrk & avg\\_trips\\\\\n",
       "\\hline\n",
       "\t 1         & 0         & 0.5025381\\\\\n",
       "\t 2         & 0         & 1.0689115\\\\\n",
       "\t 2         & 1         & 0.5240964\\\\\n",
       "\t 3         & 0         & 1.5786164\\\\\n",
       "\t 3         & 1         & 0.9001350\\\\\n",
       "\t 4         & 0         & 1.9000000\\\\\n",
       "\t 4         & 1         & 1.0520231\\\\\n",
       "\\end{tabular}\n"
      ],
      "text/markdown": [
       "\n",
       "hhsiz | nonwrk | avg_trips | \n",
       "|---|---|---|---|---|---|---|\n",
       "| 1         | 0         | 0.5025381 | \n",
       "| 2         | 0         | 1.0689115 | \n",
       "| 2         | 1         | 0.5240964 | \n",
       "| 3         | 0         | 1.5786164 | \n",
       "| 3         | 1         | 0.9001350 | \n",
       "| 4         | 0         | 1.9000000 | \n",
       "| 4         | 1         | 1.0520231 | \n",
       "\n",
       "\n"
      ],
      "text/plain": [
       "  hhsiz nonwrk avg_trips\n",
       "1 1     0      0.5025381\n",
       "2 2     0      1.0689115\n",
       "3 2     1      0.5240964\n",
       "4 3     0      1.5786164\n",
       "5 3     1      0.9001350\n",
       "6 4     0      1.9000000\n",
       "7 4     1      1.0520231"
      ]
     },
     "metadata": {},
     "output_type": "display_data"
    },
    {
     "name": "stdout",
     "output_type": "stream",
     "text": [
      "[1] \"SSE = 3508.24607053155\"\n",
      "[1] \"SST = 3968.93572744015\"\n",
      "[1] \"R2 = 0.116073851668474\"\n",
      "[1] \"Adj R2 = 0.115258872737687\"\n",
      "[1] \"n = 5430\"\n"
     ]
    },
    {
     "data": {
      "text/plain": [
       "\n",
       "Call:\n",
       "lm(formula = hbw ~ factor(nonwrk) * factor(hhsiz), data = df.nonwrk)\n",
       "\n",
       "Residuals:\n",
       "    Min      1Q  Median      3Q     Max \n",
       "-1.9000 -0.5241 -0.0520  0.4975  4.0999 \n",
       "\n",
       "Coefficients: (1 not defined because of singularities)\n",
       "                               Estimate Std. Error t value Pr(>|t|)    \n",
       "(Intercept)                     0.50254    0.02339  21.481  < 2e-16 ***\n",
       "factor(nonwrk)1                -0.84798    0.14865  -5.704 1.23e-08 ***\n",
       "factor(hhsiz)2                  0.56637    0.03246  17.446  < 2e-16 ***\n",
       "factor(hhsiz)3                  1.07608    0.06794  15.838  < 2e-16 ***\n",
       "factor(hhsiz)4                  1.39746    0.14870   9.398  < 2e-16 ***\n",
       "factor(nonwrk)1:factor(hhsiz)2  0.30316    0.15292   1.982   0.0475 *  \n",
       "factor(nonwrk)1:factor(hhsiz)3  0.16950    0.16444   1.031   0.3027    \n",
       "factor(nonwrk)1:factor(hhsiz)4       NA         NA      NA       NA    \n",
       "---\n",
       "Signif. codes:  0 '***' 0.001 '**' 0.01 '*' 0.05 '.' 0.1 ' ' 1\n",
       "\n",
       "Residual standard error: 0.8043 on 5423 degrees of freedom\n",
       "Multiple R-squared:  0.1161,\tAdjusted R-squared:  0.1151 \n",
       "F-statistic: 118.7 on 6 and 5423 DF,  p-value: < 2.2e-16\n"
      ]
     },
     "metadata": {},
     "output_type": "display_data"
    }
   ],
   "source": [
    "# HH Size only\n",
    "df.nonwrk <- df.hbw %>%\n",
    "    select(hhsiz, hhwrk, hbw) %>%\n",
    "    mutate(nonwrk = ifelse(hhsiz > hhwrk, 1, 0)) %>%\n",
    "    mutate(hhsiz = recode(hhsiz, `1`=1, `2`=2, `3`=3, `4`=4, `5`=4, `6`=4, `7`=4, `8`=4)) %>%\n",
    "    filter(hhwrk > 0) %>%\n",
    "    group_by(hhsiz, nonwrk) %>%\n",
    "    mutate(avg_trips = mean(hbw))\n",
    "\n",
    "summarize(df.nonwrk, avg_trips = mean(hbw))\n",
    "\n",
    "df.nonwrk$ResError <- (df.nonwrk$hbw - df.nonwrk$avg_trips)^2\n",
    "df.nonwrk$TotError <- (df.nonwrk$hbw - mean(df.nonwrk$hbw))^2\n",
    "SSE <- sum(df.nonwrk$ResError)\n",
    "SST <- sum(df.nonwrk$TotError)\n",
    "R2 <- 1 - (SSE/SST)\n",
    "\n",
    "print(paste(\"SSE =\", SSE, sep=\" \"))\n",
    "print(paste(\"SST =\", SST, sep=\" \"))\n",
    "print(paste(\"R2 =\", R2, sep=\" \"))\n",
    "print(paste(\"Adj R2 =\", adj.R2, sep=\" \"))\n",
    "\n",
    "k <- 6\n",
    "n <- nrow(df.nonwrk)\n",
    "print(paste(\"n =\", n, sep=\" \"))\n",
    "adj.R2 <- R2 - ((1 - R2)*(k - 1) / (n - k - 1))\n",
    "\n",
    "pers.fit <- lm(hbw ~ factor(nonwrk) * factor(hhsiz), data=df.nonwrk)\n",
    "summary(pers.fit)"
   ]
  },
  {
   "cell_type": "code",
   "execution_count": 184,
   "metadata": {},
   "outputs": [
    {
     "data": {},
     "metadata": {},
     "output_type": "display_data"
    },
    {
     "data": {
      "image/png": "[encoded data removed]",
      "text/plain": [
       "plot without title"
      ]
     },
     "metadata": {},
     "output_type": "display_data"
    }
   ],
   "source": [
    "df.nonwrk$hhwrk <- as.factor(df.nonwrk$hhwrk)\n",
    "df.nonwrk$nonwrk <- as.factor(df.nonwrk$nonwrk)\n",
    "\n",
    "\n",
    "df.nonwrk %>%\n",
    "    ggplot(aes(x=hhsiz, y=avg_trips, color=nonwrk)) + \n",
    "    theme_minimal() +\n",
    "    geom_line(aes(x=hhsiz, y=avg_trips, color=nonwrk, group=nonwrk), size=1) +\n",
    "    geom_point(size=2.5) +\n",
    "    stat_smooth(method=lm, se=FALSE, linetype=\"dashed\", aes(group=1), \n",
    "                size=2, color=\"gray\") +\n",
    "    labs(title= \"Avg HBW Trips Per HH Size and Presence of Non-workers\") +\n",
    "    scale_color_brewer(palette=\"Dark2\")"
   ]
  },
  {
   "cell_type": "markdown",
   "metadata": {},
   "source": [
    "##  AVG TRIPS by Workers and Household Vehicles"
   ]
  },
  {
   "cell_type": "code",
   "execution_count": 209,
   "metadata": {
    "scrolled": true
   },
   "outputs": [
    {
     "data": {
      "text/html": [
       "<table>\n",
       "<thead><tr><th scope=col>hhwrk</th><th scope=col>hhveh</th><th scope=col>avg_trips</th></tr></thead>\n",
       "<tbody>\n",
       "\t<tr><td>1        </td><td>0        </td><td>0.2716049</td></tr>\n",
       "\t<tr><td>1        </td><td>1        </td><td>0.5460277</td></tr>\n",
       "\t<tr><td>2        </td><td>0        </td><td>0.7222222</td></tr>\n",
       "\t<tr><td>2        </td><td>1        </td><td>1.0813205</td></tr>\n",
       "\t<tr><td>3        </td><td>0        </td><td>1.0000000</td></tr>\n",
       "\t<tr><td>3        </td><td>1        </td><td>1.5951087</td></tr>\n",
       "</tbody>\n",
       "</table>\n"
      ],
      "text/latex": [
       "\\begin{tabular}{r|lll}\n",
       " hhwrk & hhveh & avg\\_trips\\\\\n",
       "\\hline\n",
       "\t 1         & 0         & 0.2716049\\\\\n",
       "\t 1         & 1         & 0.5460277\\\\\n",
       "\t 2         & 0         & 0.7222222\\\\\n",
       "\t 2         & 1         & 1.0813205\\\\\n",
       "\t 3         & 0         & 1.0000000\\\\\n",
       "\t 3         & 1         & 1.5951087\\\\\n",
       "\\end{tabular}\n"
      ],
      "text/markdown": [
       "\n",
       "hhwrk | hhveh | avg_trips | \n",
       "|---|---|---|---|---|---|\n",
       "| 1         | 0         | 0.2716049 | \n",
       "| 1         | 1         | 0.5460277 | \n",
       "| 2         | 0         | 0.7222222 | \n",
       "| 2         | 1         | 1.0813205 | \n",
       "| 3         | 0         | 1.0000000 | \n",
       "| 3         | 1         | 1.5951087 | \n",
       "\n",
       "\n"
      ],
      "text/plain": [
       "  hhwrk hhveh avg_trips\n",
       "1 1     0     0.2716049\n",
       "2 1     1     0.5460277\n",
       "3 2     0     0.7222222\n",
       "4 2     1     1.0813205\n",
       "5 3     0     1.0000000\n",
       "6 3     1     1.5951087"
      ]
     },
     "metadata": {},
     "output_type": "display_data"
    },
    {
     "name": "stdout",
     "output_type": "stream",
     "text": [
      "[1] \"SSE = 3357.22603168052\"\n",
      "[1] \"SST = 3968.93572744015\"\n",
      "[1] \"R2 = 0.154124364254738\"\n",
      "[1] \"adj R2 = 0.153344467854456\"\n",
      "[1] \"n = 5430\"\n"
     ]
    },
    {
     "data": {
      "text/plain": [
       "\n",
       "Call:\n",
       "lm(formula = hbw ~ factor(hhwrk) * factor(hhveh), data = df.persveh)\n",
       "\n",
       "Residuals:\n",
       "    Min      1Q  Median      3Q     Max \n",
       "-1.5951 -0.5460 -0.0813  0.4540  3.9187 \n",
       "\n",
       "Coefficients:\n",
       "                              Estimate Std. Error t value Pr(>|t|)    \n",
       "(Intercept)                    0.27160    0.06181   4.394 1.13e-05 ***\n",
       "factor(hhwrk)2                 0.45062    0.14496   3.109  0.00189 ** \n",
       "factor(hhwrk)3                 0.72840    0.78916   0.923  0.35605    \n",
       "factor(hhveh)1                 0.27442    0.06388   4.296 1.77e-05 ***\n",
       "factor(hhwrk)2:factor(hhveh)1  0.08468    0.14671   0.577  0.56385    \n",
       "factor(hhwrk)3:factor(hhveh)1  0.32069    0.79039   0.406  0.68496    \n",
       "---\n",
       "Signif. codes:  0 '***' 0.001 '**' 0.01 '*' 0.05 '.' 0.1 ' ' 1\n",
       "\n",
       "Residual standard error: 0.7867 on 5424 degrees of freedom\n",
       "Multiple R-squared:  0.1541,\tAdjusted R-squared:  0.1533 \n",
       "F-statistic: 197.7 on 5 and 5424 DF,  p-value: < 2.2e-16\n"
      ]
     },
     "metadata": {},
     "output_type": "display_data"
    }
   ],
   "source": [
    "df.persveh <- df.hbw %>%\n",
    "    select(hhwrk, hhveh, hbw) %>%\n",
    "    mutate(hhwrk = recode(hhwrk, `0`=0, `1`=1, `2`=2, `3`=3, `4`=3, `5`=3)) %>%\n",
    "    mutate(hhveh = recode(hhveh, `0`=0, `1`=1, `2`=1, `3`=1, `4`=1, `5`=1, \n",
    "                          `6`=1, `7`=1, `8`=1)) %>%\n",
    "    filter(hhwrk > 0) %>%\n",
    "    group_by(hhwrk, hhveh) %>%\n",
    "    mutate(avg_trips = mean(hbw))\n",
    "\n",
    "summarize(df.persveh, avg_trips = mean(hbw))\n",
    "\n",
    "# Manual Error calcs\n",
    "df.persveh$ResError <- (df.persveh$hbw - \n",
    "                           df.persveh$avg_trips)^2\n",
    "df.persveh$TotError <- (df.persveh$hbw - \n",
    "                           mean(df.persveh$hbw))^2\n",
    "SSE <- sum(df.persveh$ResError)\n",
    "SST <- sum(df.persveh$TotError)\n",
    "R2 <- 1 - (SSE/SST)\n",
    "k <- 6\n",
    "n <- nrow(df.persveh)\n",
    "adj.R2 <- R2 - ((1 - R2) * (k - 1) / (n - k - 1))\n",
    "\n",
    "print(paste(\"SSE =\", SSE, sep=\" \"))\n",
    "print(paste(\"SST =\", SST, sep=\" \"))\n",
    "print(paste(\"R2 =\", R2, sep=\" \"))\n",
    "print(paste(\"adj R2 =\", adj.R2, sep=\" \"))\n",
    "print(paste(\"n =\", n, sep=\" \"))\n",
    "\n",
    "df.persveh.fit <- lm(hbw ~ factor(hhwrk) * factor(hhveh), data=df.persveh)\n",
    "summary(df.persveh.fit)"
   ]
  },
  {
   "cell_type": "code",
   "execution_count": 161,
   "metadata": {},
   "outputs": [
    {
     "data": {},
     "metadata": {},
     "output_type": "display_data"
    },
    {
     "data": {
      "image/png": "[encoded data removed]",
      "text/plain": [
       "plot without title"
      ]
     },
     "metadata": {},
     "output_type": "display_data"
    }
   ],
   "source": [
    "df.persveh$hhveh <- as.factor(df.persveh$hhveh)\n",
    "df.persveh$hhwrk <- as.factor(df.persveh$hhwrk)\n",
    "\n",
    "\n",
    "df.persveh %>%\n",
    "    ggplot(aes(x=hhwrk, y=avg_trips, color=hhveh)) + \n",
    "    theme_minimal() +\n",
    "    geom_line(aes(x=hhwrk, y=avg_trips, color=hhveh, group=hhveh), size=1) +\n",
    "    geom_point(size=2.5) +\n",
    "    stat_smooth(method=lm, se=FALSE, linetype=\"dashed\", aes(group=1), \n",
    "                size=2, color=\"gray\") +\n",
    "    labs(title= \"Avg HBW Trips By HH Workers and HH Vehicles\") +\n",
    "    scale_color_brewer(palette=\"Dark2\")"
   ]
  },
  {
   "cell_type": "code",
   "execution_count": 160,
   "metadata": {},
   "outputs": [
    {
     "data": {
      "text/html": [
       "<table>\n",
       "<thead><tr><th scope=col>hhwrk</th><th scope=col>hhveh</th><th scope=col>avg_trips</th></tr></thead>\n",
       "<tbody>\n",
       "\t<tr><td>1        </td><td>0        </td><td>0.2716049</td></tr>\n",
       "\t<tr><td>1        </td><td>1        </td><td>0.5060554</td></tr>\n",
       "\t<tr><td>1        </td><td>2        </td><td>0.5838103</td></tr>\n",
       "\t<tr><td>2        </td><td>0        </td><td>0.7222222</td></tr>\n",
       "\t<tr><td>2        </td><td>1        </td><td>0.8817204</td></tr>\n",
       "\t<tr><td>2        </td><td>2        </td><td>1.1164773</td></tr>\n",
       "\t<tr><td>3        </td><td>0        </td><td>1.0000000</td></tr>\n",
       "\t<tr><td>3        </td><td>1        </td><td>1.3448276</td></tr>\n",
       "\t<tr><td>3        </td><td>2        </td><td>1.6165192</td></tr>\n",
       "</tbody>\n",
       "</table>\n"
      ],
      "text/latex": [
       "\\begin{tabular}{r|lll}\n",
       " hhwrk & hhveh & avg\\_trips\\\\\n",
       "\\hline\n",
       "\t 1         & 0         & 0.2716049\\\\\n",
       "\t 1         & 1         & 0.5060554\\\\\n",
       "\t 1         & 2         & 0.5838103\\\\\n",
       "\t 2         & 0         & 0.7222222\\\\\n",
       "\t 2         & 1         & 0.8817204\\\\\n",
       "\t 2         & 2         & 1.1164773\\\\\n",
       "\t 3         & 0         & 1.0000000\\\\\n",
       "\t 3         & 1         & 1.3448276\\\\\n",
       "\t 3         & 2         & 1.6165192\\\\\n",
       "\\end{tabular}\n"
      ],
      "text/markdown": [
       "\n",
       "hhwrk | hhveh | avg_trips | \n",
       "|---|---|---|---|---|---|---|---|---|\n",
       "| 1         | 0         | 0.2716049 | \n",
       "| 1         | 1         | 0.5060554 | \n",
       "| 1         | 2         | 0.5838103 | \n",
       "| 2         | 0         | 0.7222222 | \n",
       "| 2         | 1         | 0.8817204 | \n",
       "| 2         | 2         | 1.1164773 | \n",
       "| 3         | 0         | 1.0000000 | \n",
       "| 3         | 1         | 1.3448276 | \n",
       "| 3         | 2         | 1.6165192 | \n",
       "\n",
       "\n"
      ],
      "text/plain": [
       "  hhwrk hhveh avg_trips\n",
       "1 1     0     0.2716049\n",
       "2 1     1     0.5060554\n",
       "3 1     2     0.5838103\n",
       "4 2     0     0.7222222\n",
       "5 2     1     0.8817204\n",
       "6 2     2     1.1164773\n",
       "7 3     0     1.0000000\n",
       "8 3     1     1.3448276\n",
       "9 3     2     1.6165192"
      ]
     },
     "metadata": {},
     "output_type": "display_data"
    },
    {
     "name": "stdout",
     "output_type": "stream",
     "text": [
      "[1] \"SSE = 3334.23016798233\"\n",
      "[1] \"SST = 3968.93572744015\"\n",
      "[1] \"R2 = 0.159918326484764\"\n",
      "[1] \"adj R2 = 0.158678353534926\"\n"
     ]
    },
    {
     "data": {
      "text/plain": [
       "\n",
       "Call:\n",
       "lm(formula = hbw ~ factor(hhwrk) * factor(hhveh), data = df.persveh)\n",
       "\n",
       "Residuals:\n",
       "    Min      1Q  Median      3Q     Max \n",
       "-1.6165 -0.5838 -0.1165  0.4939  4.1183 \n",
       "\n",
       "Coefficients:\n",
       "                              Estimate Std. Error t value Pr(>|t|)    \n",
       "(Intercept)                    0.27160    0.06162   4.408 1.06e-05 ***\n",
       "factor(hhwrk)2                 0.45062    0.14450   3.118 0.001828 ** \n",
       "factor(hhwrk)3                 0.72840    0.78667   0.926 0.354530    \n",
       "factor(hhveh)1                 0.23445    0.06579   3.563 0.000369 ***\n",
       "factor(hhveh)2                 0.31221    0.06557   4.761 1.97e-06 ***\n",
       "factor(hhwrk)2:factor(hhveh)1 -0.07495    0.15188  -0.494 0.621678    \n",
       "factor(hhwrk)3:factor(hhveh)1  0.11038    0.80037   0.138 0.890319    \n",
       "factor(hhwrk)2:factor(hhveh)2  0.08205    0.14723   0.557 0.577345    \n",
       "factor(hhwrk)3:factor(hhveh)2  0.30431    0.78814   0.386 0.699427    \n",
       "---\n",
       "Signif. codes:  0 '***' 0.001 '**' 0.01 '*' 0.05 '.' 0.1 ' ' 1\n",
       "\n",
       "Residual standard error: 0.7843 on 5421 degrees of freedom\n",
       "Multiple R-squared:  0.1599,\tAdjusted R-squared:  0.1587 \n",
       "F-statistic:   129 on 8 and 5421 DF,  p-value: < 2.2e-16\n"
      ]
     },
     "metadata": {},
     "output_type": "display_data"
    }
   ],
   "source": [
    "df.persveh <- df.hbw %>%\n",
    "    select(hhwrk, hhveh, hbw) %>%\n",
    "    mutate(hhwrk = recode(hhwrk, `0`=0, `1`=1, `2`=2, `3`=3, `4`=3, `5`=3)) %>%\n",
    "    mutate(hhveh = recode(hhveh, `0`=0, `1`=1, `2`=2, `3`=2, `4`=2, `5`=2, \n",
    "                          `6`=1, `7`=1, `8`=1)) %>%\n",
    "    filter(hhwrk > 0) %>%\n",
    "    group_by(hhwrk, hhveh) %>%\n",
    "    mutate(avg_trips = mean(hbw))\n",
    "\n",
    "summarize(df.persveh, avg_trips = mean(hbw))\n",
    "\n",
    "# Manual Error calcs\n",
    "df.persveh$ResError <- (df.persveh$hbw - \n",
    "                           df.persveh$avg_trips)^2\n",
    "df.persveh$TotError <- (df.persveh$hbw - \n",
    "                           mean(df.persveh$hbw))^2\n",
    "SSE <- sum(df.persveh$ResError)\n",
    "SST <- sum(df.persveh$TotError)\n",
    "R2 <- 1 - (SSE/SST)\n",
    "k <- 9\n",
    "n <- nrow(df.persveh)\n",
    "adj.R2 <- R2 - ((1 - R2) * (k - 1) / (n - k - 1))\n",
    "\n",
    "print(paste(\"SSE =\", SSE, sep=\" \"))\n",
    "print(paste(\"SST =\", SST, sep=\" \"))\n",
    "print(paste(\"R2 =\", R2, sep=\" \"))\n",
    "print(paste(\"adj R2 =\", adj.R2, sep=\" \"))\n",
    "\n",
    "df.persveh.fit <- lm(hbw ~ factor(hhwrk) * factor(hhveh), data=df.persveh)\n",
    "summary(df.persveh.fit)"
   ]
  },
  {
   "cell_type": "code",
   "execution_count": 159,
   "metadata": {},
   "outputs": [
    {
     "data": {},
     "metadata": {},
     "output_type": "display_data"
    },
    {
     "data": {
      "image/png": "[encoded data removed]",
      "text/plain": [
       "plot without title"
      ]
     },
     "metadata": {},
     "output_type": "display_data"
    }
   ],
   "source": [
    "df.persveh$hhveh <- as.factor(df.persveh$hhveh)\n",
    "df.persveh$hhwrk <- as.factor(df.persveh$hhwrk)\n",
    "\n",
    "\n",
    "df.persveh %>%\n",
    "    ggplot(aes(x=hhwrk, y=avg_trips, color=hhveh)) + \n",
    "    theme_minimal() +\n",
    "    geom_line(aes(x=hhwrk, y=avg_trips, color=hhveh, group=hhveh), size=1) +\n",
    "    geom_point(size=2.5) +\n",
    "    stat_smooth(method=lm, se=FALSE, linetype=\"dashed\", aes(group=1), \n",
    "                size=2, color=\"gray\") +\n",
    "    labs(title= \"Avg HBW Trips By HH Workers and HH Vehicles\") +\n",
    "    scale_color_brewer(palette=\"Dark2\")"
   ]
  },
  {
   "cell_type": "code",
   "execution_count": null,
   "metadata": {},
   "outputs": [],
   "source": [
    "((3441.9 - 3400.3)/ (9-6)) / (3400.3/(6449-9-1))"
   ]
  }
 ],
 "metadata": {
  "kernelspec": {
   "display_name": "R",
   "language": "R",
   "name": "ir"
  },
  "language_info": {
   "codemirror_mode": "r",
   "file_extension": ".r",
   "mimetype": "text/x-r-source",
   "name": "R",
   "pygments_lexer": "r",
   "version": "3.4.3"
  }
 },
 "nbformat": 4,
 "nbformat_minor": 2
}
